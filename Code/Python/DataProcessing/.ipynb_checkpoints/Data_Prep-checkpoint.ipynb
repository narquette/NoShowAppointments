{
 "cells": [
  {
   "cell_type": "code",
   "execution_count": 1,
   "metadata": {
    "ExecuteTime": {
     "end_time": "2020-03-16T17:00:01.427202Z",
     "start_time": "2020-03-16T16:59:59.218949Z"
    },
    "colab": {},
    "colab_type": "code",
    "id": "t9YkEUA37DT-"
   },
   "outputs": [],
   "source": [
    "#import modules\n",
    "import pandas as pd\n",
    "import numpy as np\n",
    "import seaborn as sns\n",
    "import matplotlib.pyplot as plt\n",
    "import datetime\n",
    "import unicodedata\n",
    "import os\n",
    "import warnings\n",
    "from pandas_profiling import ProfileReport\n",
    "from helperFunctions import *\n",
    "\n",
    "#hide warnings\n",
    "warnings.filterwarnings('ignore')"
   ]
  },
  {
   "cell_type": "code",
   "execution_count": 2,
   "metadata": {
    "ExecuteTime": {
     "end_time": "2020-03-16T17:00:02.311912Z",
     "start_time": "2020-03-16T17:00:01.429335Z"
    },
    "colab": {
     "base_uri": "https://localhost:8080/",
     "height": 343
    },
    "colab_type": "code",
    "id": "Hfe__OFe8X4X",
    "outputId": "9fe75fd7-d53f-4a1e-9726-51da25aa3b9c"
   },
   "outputs": [],
   "source": [
    "#get local directory\n",
    "filePath = os.path.join('Data', 'Preprocessing',\n",
    "                        'NoShowAppointments_Kaggle_May2016.csv')\n",
    "appt_data = pd.read_csv(filePath,\n",
    "                        parse_dates=['ScheduledDay', 'AppointmentDay'])"
   ]
  },
  {
   "cell_type": "code",
   "execution_count": 3,
   "metadata": {
    "ExecuteTime": {
     "end_time": "2020-03-16T17:00:02.350520Z",
     "start_time": "2020-03-16T17:00:02.314172Z"
    },
    "colab": {
     "base_uri": "https://localhost:8080/",
     "height": 391
    },
    "colab_type": "code",
    "id": "440WJL21EgGU",
    "outputId": "f4842b88-add1-4f3b-edcf-428c27c6a93b"
   },
   "outputs": [
    {
     "name": "stdout",
     "output_type": "stream",
     "text": [
      "<class 'pandas.core.frame.DataFrame'>\n",
      "RangeIndex: 110527 entries, 0 to 110526\n",
      "Data columns (total 14 columns):\n",
      "PatientId         110527 non-null float64\n",
      "AppointmentID     110527 non-null int64\n",
      "Gender            110527 non-null object\n",
      "ScheduledDay      110527 non-null datetime64[ns, UTC]\n",
      "AppointmentDay    110527 non-null datetime64[ns, UTC]\n",
      "Age               110527 non-null int64\n",
      "Neighbourhood     110527 non-null object\n",
      "Scholarship       110527 non-null int64\n",
      "Hipertension      110527 non-null int64\n",
      "Diabetes          110527 non-null int64\n",
      "Alcoholism        110527 non-null int64\n",
      "Handcap           110527 non-null int64\n",
      "SMS_received      110527 non-null int64\n",
      "No-show           110527 non-null object\n",
      "dtypes: datetime64[ns, UTC](2), float64(1), int64(8), object(3)\n",
      "memory usage: 11.8+ MB\n"
     ]
    }
   ],
   "source": [
    "#explore data\n",
    "appt_data.info()"
   ]
  },
  {
   "cell_type": "code",
   "execution_count": 4,
   "metadata": {
    "ExecuteTime": {
     "end_time": "2020-03-16T17:00:02.490404Z",
     "start_time": "2020-03-16T17:00:02.354386Z"
    },
    "colab": {
     "base_uri": "https://localhost:8080/",
     "height": 317
    },
    "colab_type": "code",
    "id": "qB1Yb9kDiHHX",
    "outputId": "8429e25f-6f86-4682-9e89-bac95075a634"
   },
   "outputs": [
    {
     "data": {
      "text/html": [
       "<div>\n",
       "<style scoped>\n",
       "    .dataframe tbody tr th:only-of-type {\n",
       "        vertical-align: middle;\n",
       "    }\n",
       "\n",
       "    .dataframe tbody tr th {\n",
       "        vertical-align: top;\n",
       "    }\n",
       "\n",
       "    .dataframe thead th {\n",
       "        text-align: right;\n",
       "    }\n",
       "</style>\n",
       "<table border=\"1\" class=\"dataframe\">\n",
       "  <thead>\n",
       "    <tr style=\"text-align: right;\">\n",
       "      <th></th>\n",
       "      <th>PatientId</th>\n",
       "      <th>AppointmentID</th>\n",
       "      <th>Age</th>\n",
       "      <th>Scholarship</th>\n",
       "      <th>Hipertension</th>\n",
       "      <th>Diabetes</th>\n",
       "      <th>Alcoholism</th>\n",
       "      <th>Handcap</th>\n",
       "      <th>SMS_received</th>\n",
       "    </tr>\n",
       "  </thead>\n",
       "  <tbody>\n",
       "    <tr>\n",
       "      <th>count</th>\n",
       "      <td>1.105270e+05</td>\n",
       "      <td>1.105270e+05</td>\n",
       "      <td>110527.000000</td>\n",
       "      <td>110527.000000</td>\n",
       "      <td>110527.000000</td>\n",
       "      <td>110527.000000</td>\n",
       "      <td>110527.000000</td>\n",
       "      <td>110527.000000</td>\n",
       "      <td>110527.000000</td>\n",
       "    </tr>\n",
       "    <tr>\n",
       "      <th>mean</th>\n",
       "      <td>1.474963e+14</td>\n",
       "      <td>5.675305e+06</td>\n",
       "      <td>37.088874</td>\n",
       "      <td>0.098266</td>\n",
       "      <td>0.197246</td>\n",
       "      <td>0.071865</td>\n",
       "      <td>0.030400</td>\n",
       "      <td>0.022248</td>\n",
       "      <td>0.321026</td>\n",
       "    </tr>\n",
       "    <tr>\n",
       "      <th>std</th>\n",
       "      <td>2.560949e+14</td>\n",
       "      <td>7.129575e+04</td>\n",
       "      <td>23.110205</td>\n",
       "      <td>0.297675</td>\n",
       "      <td>0.397921</td>\n",
       "      <td>0.258265</td>\n",
       "      <td>0.171686</td>\n",
       "      <td>0.161543</td>\n",
       "      <td>0.466873</td>\n",
       "    </tr>\n",
       "    <tr>\n",
       "      <th>min</th>\n",
       "      <td>3.921784e+04</td>\n",
       "      <td>5.030230e+06</td>\n",
       "      <td>-1.000000</td>\n",
       "      <td>0.000000</td>\n",
       "      <td>0.000000</td>\n",
       "      <td>0.000000</td>\n",
       "      <td>0.000000</td>\n",
       "      <td>0.000000</td>\n",
       "      <td>0.000000</td>\n",
       "    </tr>\n",
       "    <tr>\n",
       "      <th>25%</th>\n",
       "      <td>4.172614e+12</td>\n",
       "      <td>5.640286e+06</td>\n",
       "      <td>18.000000</td>\n",
       "      <td>0.000000</td>\n",
       "      <td>0.000000</td>\n",
       "      <td>0.000000</td>\n",
       "      <td>0.000000</td>\n",
       "      <td>0.000000</td>\n",
       "      <td>0.000000</td>\n",
       "    </tr>\n",
       "    <tr>\n",
       "      <th>50%</th>\n",
       "      <td>3.173184e+13</td>\n",
       "      <td>5.680573e+06</td>\n",
       "      <td>37.000000</td>\n",
       "      <td>0.000000</td>\n",
       "      <td>0.000000</td>\n",
       "      <td>0.000000</td>\n",
       "      <td>0.000000</td>\n",
       "      <td>0.000000</td>\n",
       "      <td>0.000000</td>\n",
       "    </tr>\n",
       "    <tr>\n",
       "      <th>75%</th>\n",
       "      <td>9.439172e+13</td>\n",
       "      <td>5.725524e+06</td>\n",
       "      <td>55.000000</td>\n",
       "      <td>0.000000</td>\n",
       "      <td>0.000000</td>\n",
       "      <td>0.000000</td>\n",
       "      <td>0.000000</td>\n",
       "      <td>0.000000</td>\n",
       "      <td>1.000000</td>\n",
       "    </tr>\n",
       "    <tr>\n",
       "      <th>max</th>\n",
       "      <td>9.999816e+14</td>\n",
       "      <td>5.790484e+06</td>\n",
       "      <td>115.000000</td>\n",
       "      <td>1.000000</td>\n",
       "      <td>1.000000</td>\n",
       "      <td>1.000000</td>\n",
       "      <td>1.000000</td>\n",
       "      <td>4.000000</td>\n",
       "      <td>1.000000</td>\n",
       "    </tr>\n",
       "  </tbody>\n",
       "</table>\n",
       "</div>"
      ],
      "text/plain": [
       "          PatientId  AppointmentID            Age    Scholarship  \\\n",
       "count  1.105270e+05   1.105270e+05  110527.000000  110527.000000   \n",
       "mean   1.474963e+14   5.675305e+06      37.088874       0.098266   \n",
       "std    2.560949e+14   7.129575e+04      23.110205       0.297675   \n",
       "min    3.921784e+04   5.030230e+06      -1.000000       0.000000   \n",
       "25%    4.172614e+12   5.640286e+06      18.000000       0.000000   \n",
       "50%    3.173184e+13   5.680573e+06      37.000000       0.000000   \n",
       "75%    9.439172e+13   5.725524e+06      55.000000       0.000000   \n",
       "max    9.999816e+14   5.790484e+06     115.000000       1.000000   \n",
       "\n",
       "        Hipertension       Diabetes     Alcoholism        Handcap  \\\n",
       "count  110527.000000  110527.000000  110527.000000  110527.000000   \n",
       "mean        0.197246       0.071865       0.030400       0.022248   \n",
       "std         0.397921       0.258265       0.171686       0.161543   \n",
       "min         0.000000       0.000000       0.000000       0.000000   \n",
       "25%         0.000000       0.000000       0.000000       0.000000   \n",
       "50%         0.000000       0.000000       0.000000       0.000000   \n",
       "75%         0.000000       0.000000       0.000000       0.000000   \n",
       "max         1.000000       1.000000       1.000000       4.000000   \n",
       "\n",
       "        SMS_received  \n",
       "count  110527.000000  \n",
       "mean        0.321026  \n",
       "std         0.466873  \n",
       "min         0.000000  \n",
       "25%         0.000000  \n",
       "50%         0.000000  \n",
       "75%         1.000000  \n",
       "max         1.000000  "
      ]
     },
     "execution_count": 4,
     "metadata": {},
     "output_type": "execute_result"
    }
   ],
   "source": [
    "#review data information for each numeric column\n",
    "appt_data.describe()  "
   ]
  },
  {
   "cell_type": "code",
   "execution_count": 5,
   "metadata": {
    "ExecuteTime": {
     "end_time": "2020-03-16T17:00:02.568008Z",
     "start_time": "2020-03-16T17:00:02.492845Z"
    },
    "colab": {
     "base_uri": "https://localhost:8080/",
     "height": 309
    },
    "colab_type": "code",
    "id": "6tw6E3zDE5Fu",
    "outputId": "f4b935f2-58a4-4f05-846f-9caccf96d8eb"
   },
   "outputs": [
    {
     "data": {
      "text/html": [
       "<div>\n",
       "<style scoped>\n",
       "    .dataframe tbody tr th:only-of-type {\n",
       "        vertical-align: middle;\n",
       "    }\n",
       "\n",
       "    .dataframe tbody tr th {\n",
       "        vertical-align: top;\n",
       "    }\n",
       "\n",
       "    .dataframe thead th {\n",
       "        text-align: right;\n",
       "    }\n",
       "</style>\n",
       "<table border=\"1\" class=\"dataframe\">\n",
       "  <thead>\n",
       "    <tr style=\"text-align: right;\">\n",
       "      <th></th>\n",
       "      <th>PatientId</th>\n",
       "      <th>AppointmentID</th>\n",
       "      <th>Gender</th>\n",
       "      <th>ScheduledDay</th>\n",
       "      <th>AppointmentDay</th>\n",
       "      <th>Age</th>\n",
       "      <th>Neighborhood</th>\n",
       "      <th>Scholarship</th>\n",
       "      <th>Hypertension</th>\n",
       "      <th>Diabetes</th>\n",
       "      <th>Alcoholism</th>\n",
       "      <th>Handicap</th>\n",
       "      <th>SMSReceived</th>\n",
       "      <th>NoShow</th>\n",
       "    </tr>\n",
       "  </thead>\n",
       "  <tbody>\n",
       "    <tr>\n",
       "      <th>0</th>\n",
       "      <td>2.987250e+13</td>\n",
       "      <td>5642903</td>\n",
       "      <td>F</td>\n",
       "      <td>2016-04-29 18:38:08+00:00</td>\n",
       "      <td>2016-04-29 00:00:00+00:00</td>\n",
       "      <td>62</td>\n",
       "      <td>JARDIM DA PENHA</td>\n",
       "      <td>0</td>\n",
       "      <td>1</td>\n",
       "      <td>0</td>\n",
       "      <td>0</td>\n",
       "      <td>0</td>\n",
       "      <td>0</td>\n",
       "      <td>No</td>\n",
       "    </tr>\n",
       "    <tr>\n",
       "      <th>1</th>\n",
       "      <td>5.589978e+14</td>\n",
       "      <td>5642503</td>\n",
       "      <td>M</td>\n",
       "      <td>2016-04-29 16:08:27+00:00</td>\n",
       "      <td>2016-04-29 00:00:00+00:00</td>\n",
       "      <td>56</td>\n",
       "      <td>JARDIM DA PENHA</td>\n",
       "      <td>0</td>\n",
       "      <td>0</td>\n",
       "      <td>0</td>\n",
       "      <td>0</td>\n",
       "      <td>0</td>\n",
       "      <td>0</td>\n",
       "      <td>No</td>\n",
       "    </tr>\n",
       "    <tr>\n",
       "      <th>2</th>\n",
       "      <td>4.262962e+12</td>\n",
       "      <td>5642549</td>\n",
       "      <td>F</td>\n",
       "      <td>2016-04-29 16:19:04+00:00</td>\n",
       "      <td>2016-04-29 00:00:00+00:00</td>\n",
       "      <td>62</td>\n",
       "      <td>MATA DA PRAIA</td>\n",
       "      <td>0</td>\n",
       "      <td>0</td>\n",
       "      <td>0</td>\n",
       "      <td>0</td>\n",
       "      <td>0</td>\n",
       "      <td>0</td>\n",
       "      <td>No</td>\n",
       "    </tr>\n",
       "    <tr>\n",
       "      <th>3</th>\n",
       "      <td>8.679512e+11</td>\n",
       "      <td>5642828</td>\n",
       "      <td>F</td>\n",
       "      <td>2016-04-29 17:29:31+00:00</td>\n",
       "      <td>2016-04-29 00:00:00+00:00</td>\n",
       "      <td>8</td>\n",
       "      <td>PONTAL DE CAMBURI</td>\n",
       "      <td>0</td>\n",
       "      <td>0</td>\n",
       "      <td>0</td>\n",
       "      <td>0</td>\n",
       "      <td>0</td>\n",
       "      <td>0</td>\n",
       "      <td>No</td>\n",
       "    </tr>\n",
       "    <tr>\n",
       "      <th>4</th>\n",
       "      <td>8.841186e+12</td>\n",
       "      <td>5642494</td>\n",
       "      <td>F</td>\n",
       "      <td>2016-04-29 16:07:23+00:00</td>\n",
       "      <td>2016-04-29 00:00:00+00:00</td>\n",
       "      <td>56</td>\n",
       "      <td>JARDIM DA PENHA</td>\n",
       "      <td>0</td>\n",
       "      <td>1</td>\n",
       "      <td>1</td>\n",
       "      <td>0</td>\n",
       "      <td>0</td>\n",
       "      <td>0</td>\n",
       "      <td>No</td>\n",
       "    </tr>\n",
       "  </tbody>\n",
       "</table>\n",
       "</div>"
      ],
      "text/plain": [
       "      PatientId  AppointmentID Gender              ScheduledDay  \\\n",
       "0  2.987250e+13        5642903      F 2016-04-29 18:38:08+00:00   \n",
       "1  5.589978e+14        5642503      M 2016-04-29 16:08:27+00:00   \n",
       "2  4.262962e+12        5642549      F 2016-04-29 16:19:04+00:00   \n",
       "3  8.679512e+11        5642828      F 2016-04-29 17:29:31+00:00   \n",
       "4  8.841186e+12        5642494      F 2016-04-29 16:07:23+00:00   \n",
       "\n",
       "             AppointmentDay  Age       Neighborhood  Scholarship  \\\n",
       "0 2016-04-29 00:00:00+00:00   62    JARDIM DA PENHA            0   \n",
       "1 2016-04-29 00:00:00+00:00   56    JARDIM DA PENHA            0   \n",
       "2 2016-04-29 00:00:00+00:00   62      MATA DA PRAIA            0   \n",
       "3 2016-04-29 00:00:00+00:00    8  PONTAL DE CAMBURI            0   \n",
       "4 2016-04-29 00:00:00+00:00   56    JARDIM DA PENHA            0   \n",
       "\n",
       "   Hypertension  Diabetes  Alcoholism  Handicap  SMSReceived NoShow  \n",
       "0             1         0           0         0            0     No  \n",
       "1             0         0           0         0            0     No  \n",
       "2             0         0           0         0            0     No  \n",
       "3             0         0           0         0            0     No  \n",
       "4             1         1           0         0            0     No  "
      ]
     },
     "execution_count": 5,
     "metadata": {},
     "output_type": "execute_result"
    }
   ],
   "source": [
    "#change column name\n",
    "appt_data.rename(columns={\n",
    "    \"Hipertension\": \"Hypertension\",\n",
    "    \"SMS_received\": \"SMSReceived\",\n",
    "    \"No-show\": \"NoShow\",\n",
    "    \"Neighbourhood\": \"Neighborhood\",\n",
    "    \"Handcap\": \"Handicap\"\n",
    "},\n",
    "                 inplace=True)\n",
    "appt_data.head()"
   ]
  },
  {
   "cell_type": "code",
   "execution_count": 6,
   "metadata": {
    "ExecuteTime": {
     "end_time": "2020-03-16T17:00:02.616995Z",
     "start_time": "2020-03-16T17:00:02.572709Z"
    }
   },
   "outputs": [],
   "source": [
    "#reorder column names (put feature first)\n",
    "appt_data = appt_data[[\n",
    "    'NoShow', 'PatientId', 'AppointmentID', 'Gender', 'ScheduledDay',\n",
    "    'AppointmentDay', 'Age', 'Neighborhood', 'Scholarship', 'Hypertension','Diabetes',\n",
    "    'Alcoholism', 'Handicap', 'SMSReceived'\n",
    "]]"
   ]
  },
  {
   "cell_type": "code",
   "execution_count": 7,
   "metadata": {
    "ExecuteTime": {
     "end_time": "2020-03-16T17:00:02.703469Z",
     "start_time": "2020-03-16T17:00:02.660043Z"
    }
   },
   "outputs": [
    {
     "data": {
      "text/plain": [
       "0    108286\n",
       "1      2042\n",
       "2       183\n",
       "3        13\n",
       "4         3\n",
       "Name: Handicap, dtype: int64"
      ]
     },
     "execution_count": 7,
     "metadata": {},
     "output_type": "execute_result"
    }
   ],
   "source": [
    "#show handicap counts\n",
    "appt_data['Handicap'].value_counts()"
   ]
  },
  {
   "cell_type": "code",
   "execution_count": 8,
   "metadata": {
    "ExecuteTime": {
     "end_time": "2020-03-16T17:00:02.771444Z",
     "start_time": "2020-03-16T17:00:02.730308Z"
    }
   },
   "outputs": [],
   "source": [
    "#change all handicap values greater than 1 to 1\n",
    "appt_data['Handicap'].replace(2,1,inplace=True)\n",
    "appt_data['Handicap'].replace(3,1,inplace=True)\n",
    "appt_data['Handicap'].replace(4,1,inplace=True)"
   ]
  },
  {
   "cell_type": "code",
   "execution_count": 9,
   "metadata": {
    "ExecuteTime": {
     "end_time": "2020-03-16T17:00:02.833973Z",
     "start_time": "2020-03-16T17:00:02.773460Z"
    }
   },
   "outputs": [
    {
     "data": {
      "text/plain": [
       "0    108286\n",
       "1      2241\n",
       "Name: Handicap, dtype: int64"
      ]
     },
     "execution_count": 9,
     "metadata": {},
     "output_type": "execute_result"
    }
   ],
   "source": [
    "#show handicap counts\n",
    "appt_data['Handicap'].value_counts()"
   ]
  },
  {
   "cell_type": "code",
   "execution_count": 10,
   "metadata": {
    "ExecuteTime": {
     "end_time": "2020-03-16T17:00:02.914955Z",
     "start_time": "2020-03-16T17:00:02.861225Z"
    },
    "colab": {},
    "colab_type": "code",
    "id": "dnTUIrTLiWMG"
   },
   "outputs": [],
   "source": [
    "# Get patients less than an age of zero\n",
    "indexNames = appt_data[ appt_data['Age'] < 0 ].index\n",
    "# Delete these row indexes from dataFrame\n",
    "appt_data.drop(indexNames , inplace=True)"
   ]
  },
  {
   "cell_type": "code",
   "execution_count": 11,
   "metadata": {
    "ExecuteTime": {
     "end_time": "2020-03-16T17:00:02.984949Z",
     "start_time": "2020-03-16T17:00:02.917339Z"
    }
   },
   "outputs": [],
   "source": [
    "# cut age groups into categories\n",
    "category = pd.cut(appt_data.Age,bins=[0,2,17,65,appt_data.Age.max()],labels=['Toddler/baby','Child','Adult','Elderly'])\n",
    "appt_data.insert(5,'Age Group',category)"
   ]
  },
  {
   "cell_type": "code",
   "execution_count": 12,
   "metadata": {
    "ExecuteTime": {
     "end_time": "2020-03-16T17:00:03.069897Z",
     "start_time": "2020-03-16T17:00:02.987619Z"
    }
   },
   "outputs": [
    {
     "data": {
      "text/plain": [
       "Adult           69846\n",
       "Child           19949\n",
       "Elderly         13301\n",
       "Toddler/baby     3891\n",
       "Name: Age Group, dtype: int64"
      ]
     },
     "execution_count": 12,
     "metadata": {},
     "output_type": "execute_result"
    }
   ],
   "source": [
    "#show age group value counts\n",
    "appt_data['Age Group'].value_counts()"
   ]
  },
  {
   "cell_type": "code",
   "execution_count": 13,
   "metadata": {
    "ExecuteTime": {
     "end_time": "2020-03-16T17:00:03.125541Z",
     "start_time": "2020-03-16T17:00:03.074021Z"
    },
    "colab": {
     "base_uri": "https://localhost:8080/",
     "height": 119
    },
    "colab_type": "code",
    "id": "7IimMA4lFkzB",
    "outputId": "58cdeee9-a602-4214-9575-8179ea385b18"
   },
   "outputs": [
    {
     "data": {
      "text/plain": [
       "0    2.987250e+13\n",
       "1    5.589978e+14\n",
       "2    4.262962e+12\n",
       "3    8.679512e+11\n",
       "4    8.841186e+12\n",
       "Name: PatientId, dtype: float64"
      ]
     },
     "execution_count": 13,
     "metadata": {},
     "output_type": "execute_result"
    }
   ],
   "source": [
    "#show patientid\n",
    "appt_data['PatientId'].head()"
   ]
  },
  {
   "cell_type": "code",
   "execution_count": 14,
   "metadata": {
    "ExecuteTime": {
     "end_time": "2020-03-16T17:00:03.253164Z",
     "start_time": "2020-03-16T17:00:03.129032Z"
    },
    "colab": {
     "base_uri": "https://localhost:8080/",
     "height": 102
    },
    "colab_type": "code",
    "id": "F7G6dD5O8uEe",
    "outputId": "5c567c6d-cdae-4d84-be01-0ac667df77c9"
   },
   "outputs": [
    {
     "data": {
      "text/plain": [
       "NoShow          0\n",
       "Gender          0\n",
       "Neighborhood    0\n",
       "dtype: int64"
      ]
     },
     "execution_count": 14,
     "metadata": {},
     "output_type": "execute_result"
    }
   ],
   "source": [
    "#explore missing values for object data types\n",
    "appt_data.select_dtypes(include='object').isnull().sum()"
   ]
  },
  {
   "cell_type": "code",
   "execution_count": 15,
   "metadata": {
    "ExecuteTime": {
     "end_time": "2020-03-16T17:00:03.359941Z",
     "start_time": "2020-03-16T17:00:03.255750Z"
    },
    "colab": {
     "base_uri": "https://localhost:8080/",
     "height": 221
    },
    "colab_type": "code",
    "id": "_Wn2bvp-GcUB",
    "outputId": "a8037c9e-02aa-4aca-f59c-3148e52ddbe0"
   },
   "outputs": [
    {
     "data": {
      "text/plain": [
       "NoShow           0\n",
       "PatientId        0\n",
       "AppointmentID    0\n",
       "Age              0\n",
       "Scholarship      0\n",
       "Hypertension     0\n",
       "Diabetes         0\n",
       "Alcoholism       0\n",
       "Handicap         0\n",
       "SMSReceived      0\n",
       "dtype: int64"
      ]
     },
     "execution_count": 15,
     "metadata": {},
     "output_type": "execute_result"
    }
   ],
   "source": [
    "#set NoShow to a number value\n",
    "appt_data['NoShow'].replace('No',0,inplace=True)\n",
    "appt_data['NoShow'].replace('Yes',1,inplace=True)\n",
    "\n",
    "#explore missing values for object data types\n",
    "appt_data.select_dtypes(include='number').isnull().sum()"
   ]
  },
  {
   "cell_type": "code",
   "execution_count": 16,
   "metadata": {
    "ExecuteTime": {
     "end_time": "2020-03-16T17:00:03.418466Z",
     "start_time": "2020-03-16T17:00:03.362262Z"
    },
    "colab": {
     "base_uri": "https://localhost:8080/",
     "height": 68
    },
    "colab_type": "code",
    "id": "BJ7LuePqGgyk",
    "outputId": "a9001cdc-09a7-4894-f8d8-d589d8fdb92d"
   },
   "outputs": [
    {
     "data": {
      "text/plain": [
       "F    71839\n",
       "M    38687\n",
       "Name: Gender, dtype: int64"
      ]
     },
     "execution_count": 16,
     "metadata": {},
     "output_type": "execute_result"
    }
   ],
   "source": [
    "#look at gender counts\n",
    "appt_data['Gender'].value_counts()"
   ]
  },
  {
   "cell_type": "code",
   "execution_count": 17,
   "metadata": {
    "ExecuteTime": {
     "end_time": "2020-03-16T17:00:03.510473Z",
     "start_time": "2020-03-16T17:00:03.456658Z"
    },
    "colab": {
     "base_uri": "https://localhost:8080/",
     "height": 221
    },
    "colab_type": "code",
    "id": "ZawN9YKyGq_Q",
    "outputId": "3048ab73-6215-449e-9c20-121f86c48562"
   },
   "outputs": [
    {
     "data": {
      "text/plain": [
       "0      3539\n",
       "1      2273\n",
       "52     1746\n",
       "49     1652\n",
       "53     1651\n",
       "       ... \n",
       "98        6\n",
       "115       5\n",
       "100       4\n",
       "102       2\n",
       "99        1\n",
       "Name: Age, Length: 103, dtype: int64"
      ]
     },
     "execution_count": 17,
     "metadata": {},
     "output_type": "execute_result"
    }
   ],
   "source": [
    "#show age value counts\n",
    "appt_data['Age'].value_counts()"
   ]
  },
  {
   "cell_type": "code",
   "execution_count": 18,
   "metadata": {
    "ExecuteTime": {
     "end_time": "2020-03-16T17:00:03.589957Z",
     "start_time": "2020-03-16T17:00:03.546092Z"
    },
    "colab": {
     "base_uri": "https://localhost:8080/",
     "height": 221
    },
    "colab_type": "code",
    "id": "Ck1WKxpfG55P",
    "outputId": "ccc12858-4dd1-444c-c633-1e097a5bd9d0"
   },
   "outputs": [
    {
     "data": {
      "text/plain": [
       "JARDIM CAMBURI                 7717\n",
       "MARIA ORTIZ                    5805\n",
       "RESISTÊNCIA                    4431\n",
       "JARDIM DA PENHA                3877\n",
       "ITARARÉ                        3514\n",
       "                               ... \n",
       "ILHA DO BOI                      35\n",
       "ILHA DO FRADE                    10\n",
       "AEROPORTO                         8\n",
       "ILHAS OCEÂNICAS DE TRINDADE       2\n",
       "PARQUE INDUSTRIAL                 1\n",
       "Name: Neighborhood, Length: 81, dtype: int64"
      ]
     },
     "execution_count": 18,
     "metadata": {},
     "output_type": "execute_result"
    }
   ],
   "source": [
    "#show neighborhood counts\n",
    "appt_data['Neighborhood'].value_counts()"
   ]
  },
  {
   "cell_type": "code",
   "execution_count": 19,
   "metadata": {
    "ExecuteTime": {
     "end_time": "2020-03-16T17:00:16.334266Z",
     "start_time": "2020-03-16T17:00:03.632676Z"
    }
   },
   "outputs": [],
   "source": [
    "# population a new column for the scheduled time of the day\n",
    "appt_data['Neighborhood'] = appt_data.apply(lambda x: remove_neighborhood_accent(x['Neighborhood']),axis=1)"
   ]
  },
  {
   "cell_type": "code",
   "execution_count": 20,
   "metadata": {
    "ExecuteTime": {
     "end_time": "2020-03-16T17:00:16.359569Z",
     "start_time": "2020-03-16T17:00:16.336076Z"
    }
   },
   "outputs": [
    {
     "data": {
      "text/plain": [
       "JARDIM CAMBURI                 7717\n",
       "MARIA ORTIZ                    5805\n",
       "RESISTENCIA                    4431\n",
       "JARDIM DA PENHA                3877\n",
       "ITARARE                        3514\n",
       "                               ... \n",
       "ILHA DO BOI                      35\n",
       "ILHA DO FRADE                    10\n",
       "AEROPORTO                         8\n",
       "ILHAS OCEANICAS DE TRINDADE       2\n",
       "PARQUE INDUSTRIAL                 1\n",
       "Name: Neighborhood, Length: 81, dtype: int64"
      ]
     },
     "execution_count": 20,
     "metadata": {},
     "output_type": "execute_result"
    }
   ],
   "source": [
    "# show neighborhood counts\n",
    "appt_data['Neighborhood'].value_counts()"
   ]
  },
  {
   "cell_type": "code",
   "execution_count": 21,
   "metadata": {
    "ExecuteTime": {
     "end_time": "2020-03-16T17:00:16.445571Z",
     "start_time": "2020-03-16T17:00:16.361991Z"
    },
    "colab": {
     "base_uri": "https://localhost:8080/",
     "height": 34
    },
    "colab_type": "code",
    "id": "QUcoS3pKMEE7",
    "outputId": "13d217ba-2b6c-4981-df28-92b3134b54f5"
   },
   "outputs": [
    {
     "data": {
      "text/plain": [
       "81"
      ]
     },
     "execution_count": 21,
     "metadata": {},
     "output_type": "execute_result"
    }
   ],
   "source": [
    "#get unique Neighborhood values\n",
    "len(appt_data['Neighborhood'].unique())"
   ]
  },
  {
   "cell_type": "code",
   "execution_count": 22,
   "metadata": {
    "ExecuteTime": {
     "end_time": "2020-03-16T17:00:16.513548Z",
     "start_time": "2020-03-16T17:00:16.448019Z"
    },
    "colab": {
     "base_uri": "https://localhost:8080/",
     "height": 450
    },
    "colab_type": "code",
    "id": "yWl58D9LHShO",
    "outputId": "5ca7d958-164e-4da1-d0d6-018ecaa4cf16"
   },
   "outputs": [
    {
     "data": {
      "text/html": [
       "<div>\n",
       "<style scoped>\n",
       "    .dataframe tbody tr th:only-of-type {\n",
       "        vertical-align: middle;\n",
       "    }\n",
       "\n",
       "    .dataframe tbody tr th {\n",
       "        vertical-align: top;\n",
       "    }\n",
       "\n",
       "    .dataframe thead th {\n",
       "        text-align: right;\n",
       "    }\n",
       "</style>\n",
       "<table border=\"1\" class=\"dataframe\">\n",
       "  <thead>\n",
       "    <tr style=\"text-align: right;\">\n",
       "      <th></th>\n",
       "      <th>NoShow</th>\n",
       "    </tr>\n",
       "    <tr>\n",
       "      <th>PatientId</th>\n",
       "      <th></th>\n",
       "    </tr>\n",
       "  </thead>\n",
       "  <tbody>\n",
       "    <tr>\n",
       "      <th>5.628261e+06</th>\n",
       "      <td>1</td>\n",
       "    </tr>\n",
       "    <tr>\n",
       "      <th>6.485121e+07</th>\n",
       "      <td>1</td>\n",
       "    </tr>\n",
       "    <tr>\n",
       "      <th>8.799645e+07</th>\n",
       "      <td>1</td>\n",
       "    </tr>\n",
       "    <tr>\n",
       "      <th>1.224513e+08</th>\n",
       "      <td>2</td>\n",
       "    </tr>\n",
       "    <tr>\n",
       "      <th>1.421333e+08</th>\n",
       "      <td>1</td>\n",
       "    </tr>\n",
       "    <tr>\n",
       "      <th>...</th>\n",
       "      <td>...</td>\n",
       "    </tr>\n",
       "    <tr>\n",
       "      <th>9.988130e+14</th>\n",
       "      <td>1</td>\n",
       "    </tr>\n",
       "    <tr>\n",
       "      <th>9.994717e+14</th>\n",
       "      <td>1</td>\n",
       "    </tr>\n",
       "    <tr>\n",
       "      <th>9.994792e+14</th>\n",
       "      <td>2</td>\n",
       "    </tr>\n",
       "    <tr>\n",
       "      <th>9.996275e+14</th>\n",
       "      <td>1</td>\n",
       "    </tr>\n",
       "    <tr>\n",
       "      <th>9.996585e+14</th>\n",
       "      <td>1</td>\n",
       "    </tr>\n",
       "  </tbody>\n",
       "</table>\n",
       "<p>17663 rows × 1 columns</p>\n",
       "</div>"
      ],
      "text/plain": [
       "              NoShow\n",
       "PatientId           \n",
       "5.628261e+06       1\n",
       "6.485121e+07       1\n",
       "8.799645e+07       1\n",
       "1.224513e+08       2\n",
       "1.421333e+08       1\n",
       "...              ...\n",
       "9.988130e+14       1\n",
       "9.994717e+14       1\n",
       "9.994792e+14       2\n",
       "9.996275e+14       1\n",
       "9.996585e+14       1\n",
       "\n",
       "[17663 rows x 1 columns]"
      ]
     },
     "execution_count": 22,
     "metadata": {},
     "output_type": "execute_result"
    }
   ],
   "source": [
    "# making boolean series for a team name \n",
    "no_show = appt_data['NoShow']==1\n",
    "\n",
    "# group data by no show \n",
    "appt_data[no_show].groupby('PatientId').sum()[['NoShow']]\n"
   ]
  },
  {
   "cell_type": "code",
   "execution_count": 23,
   "metadata": {
    "ExecuteTime": {
     "end_time": "2020-03-16T17:01:05.007439Z",
     "start_time": "2020-03-16T17:00:16.516174Z"
    },
    "colab": {},
    "colab_type": "code",
    "id": "pyTZx41YMUVu"
   },
   "outputs": [],
   "source": [
    "# run same_day_appt function against ScheduledDay and AppointmentDay\n",
    "appt_data['SameDayAppointment'] = appt_data.apply(lambda x: same_day_appt(x['ScheduledDay'],x['AppointmentDay']),axis=1)\n",
    "\n",
    "# run another apply statement to determine the day of the week\n",
    "appt_data['AppointmentDayOfWeek'] = appt_data.apply(lambda x: appt_day_name(x['AppointmentDay']),axis=1)\n",
    "\n",
    "# population a new column for the scheduled time of the day\n",
    "appt_data['ScheduledTimeOfDay'] = appt_data.apply(lambda x: scheduled_time_of_day(x['ScheduledDay']),axis=1)\n"
   ]
  },
  {
   "cell_type": "code",
   "execution_count": 24,
   "metadata": {
    "ExecuteTime": {
     "end_time": "2020-03-16T17:01:05.021565Z",
     "start_time": "2020-03-16T17:01:05.010080Z"
    },
    "colab": {
     "base_uri": "https://localhost:8080/",
     "height": 204
    },
    "colab_type": "code",
    "id": "pXiyHEgQRT8N",
    "outputId": "86b17199-9012-45ab-e47b-021d06d911e0"
   },
   "outputs": [
    {
     "data": {
      "text/plain": [
       "0      Evening\n",
       "1      Evening\n",
       "2      Evening\n",
       "3      Evening\n",
       "4      Evening\n",
       "5      Morning\n",
       "6    Afternoon\n",
       "7    Afternoon\n",
       "8      Morning\n",
       "9    Afternoon\n",
       "Name: ScheduledTimeOfDay, dtype: object"
      ]
     },
     "execution_count": 24,
     "metadata": {},
     "output_type": "execute_result"
    }
   ],
   "source": [
    "# view Same Day Appointment Data\n",
    "appt_data['ScheduledTimeOfDay'].head(10)"
   ]
  },
  {
   "cell_type": "code",
   "execution_count": 25,
   "metadata": {
    "ExecuteTime": {
     "end_time": "2020-03-16T17:01:05.127536Z",
     "start_time": "2020-03-16T17:01:05.024798Z"
    },
    "colab": {
     "base_uri": "https://localhost:8080/",
     "height": 85
    },
    "colab_type": "code",
    "id": "XAXd7ViWRPOT",
    "outputId": "60714c4a-f41b-4a3d-8af1-1cfb5b3b2e36"
   },
   "outputs": [
    {
     "data": {
      "text/plain": [
       "Morning      68480\n",
       "Afternoon    31664\n",
       "Evening      10382\n",
       "Name: ScheduledTimeOfDay, dtype: int64"
      ]
     },
     "execution_count": 25,
     "metadata": {},
     "output_type": "execute_result"
    }
   ],
   "source": [
    "# see scheduled time of day\n",
    "appt_data['ScheduledTimeOfDay'].value_counts()"
   ]
  },
  {
   "cell_type": "code",
   "execution_count": 26,
   "metadata": {
    "ExecuteTime": {
     "end_time": "2020-03-16T17:01:30.661675Z",
     "start_time": "2020-03-16T17:01:05.168978Z"
    }
   },
   "outputs": [
    {
     "data": {
      "text/html": [
       "<div>\n",
       "<style scoped>\n",
       "    .dataframe tbody tr th:only-of-type {\n",
       "        vertical-align: middle;\n",
       "    }\n",
       "\n",
       "    .dataframe tbody tr th {\n",
       "        vertical-align: top;\n",
       "    }\n",
       "\n",
       "    .dataframe thead th {\n",
       "        text-align: right;\n",
       "    }\n",
       "</style>\n",
       "<table border=\"1\" class=\"dataframe\">\n",
       "  <thead>\n",
       "    <tr style=\"text-align: right;\">\n",
       "      <th></th>\n",
       "      <th>NoShow</th>\n",
       "      <th>PatientId</th>\n",
       "      <th>AppointmentID</th>\n",
       "      <th>Gender</th>\n",
       "      <th>ScheduledDay</th>\n",
       "      <th>Age Group</th>\n",
       "      <th>AppointmentDay</th>\n",
       "      <th>Age</th>\n",
       "      <th>Neighborhood</th>\n",
       "      <th>Scholarship</th>\n",
       "      <th>Hypertension</th>\n",
       "      <th>Diabetes</th>\n",
       "      <th>Alcoholism</th>\n",
       "      <th>Handicap</th>\n",
       "      <th>SMSReceived</th>\n",
       "      <th>SameDayAppointment</th>\n",
       "      <th>AppointmentDayOfWeek</th>\n",
       "      <th>ScheduledTimeOfDay</th>\n",
       "      <th>RainClassification</th>\n",
       "      <th>NormalVersusActualTempAverage</th>\n",
       "    </tr>\n",
       "  </thead>\n",
       "  <tbody>\n",
       "    <tr>\n",
       "      <th>0</th>\n",
       "      <td>0</td>\n",
       "      <td>2.987250e+13</td>\n",
       "      <td>5642903</td>\n",
       "      <td>F</td>\n",
       "      <td>2016-04-29 18:38:08+00:00</td>\n",
       "      <td>Adult</td>\n",
       "      <td>2016-04-29 00:00:00+00:00</td>\n",
       "      <td>62</td>\n",
       "      <td>JARDIM DA PENHA</td>\n",
       "      <td>0</td>\n",
       "      <td>1</td>\n",
       "      <td>0</td>\n",
       "      <td>0</td>\n",
       "      <td>0</td>\n",
       "      <td>0</td>\n",
       "      <td>1</td>\n",
       "      <td>Friday</td>\n",
       "      <td>Evening</td>\n",
       "      <td>1</td>\n",
       "      <td>below</td>\n",
       "    </tr>\n",
       "    <tr>\n",
       "      <th>1</th>\n",
       "      <td>0</td>\n",
       "      <td>5.589978e+14</td>\n",
       "      <td>5642503</td>\n",
       "      <td>M</td>\n",
       "      <td>2016-04-29 16:08:27+00:00</td>\n",
       "      <td>Adult</td>\n",
       "      <td>2016-04-29 00:00:00+00:00</td>\n",
       "      <td>56</td>\n",
       "      <td>JARDIM DA PENHA</td>\n",
       "      <td>0</td>\n",
       "      <td>0</td>\n",
       "      <td>0</td>\n",
       "      <td>0</td>\n",
       "      <td>0</td>\n",
       "      <td>0</td>\n",
       "      <td>1</td>\n",
       "      <td>Friday</td>\n",
       "      <td>Evening</td>\n",
       "      <td>1</td>\n",
       "      <td>below</td>\n",
       "    </tr>\n",
       "    <tr>\n",
       "      <th>2</th>\n",
       "      <td>0</td>\n",
       "      <td>4.262962e+12</td>\n",
       "      <td>5642549</td>\n",
       "      <td>F</td>\n",
       "      <td>2016-04-29 16:19:04+00:00</td>\n",
       "      <td>Adult</td>\n",
       "      <td>2016-04-29 00:00:00+00:00</td>\n",
       "      <td>62</td>\n",
       "      <td>MATA DA PRAIA</td>\n",
       "      <td>0</td>\n",
       "      <td>0</td>\n",
       "      <td>0</td>\n",
       "      <td>0</td>\n",
       "      <td>0</td>\n",
       "      <td>0</td>\n",
       "      <td>1</td>\n",
       "      <td>Friday</td>\n",
       "      <td>Evening</td>\n",
       "      <td>1</td>\n",
       "      <td>below</td>\n",
       "    </tr>\n",
       "    <tr>\n",
       "      <th>3</th>\n",
       "      <td>0</td>\n",
       "      <td>8.679512e+11</td>\n",
       "      <td>5642828</td>\n",
       "      <td>F</td>\n",
       "      <td>2016-04-29 17:29:31+00:00</td>\n",
       "      <td>Child</td>\n",
       "      <td>2016-04-29 00:00:00+00:00</td>\n",
       "      <td>8</td>\n",
       "      <td>PONTAL DE CAMBURI</td>\n",
       "      <td>0</td>\n",
       "      <td>0</td>\n",
       "      <td>0</td>\n",
       "      <td>0</td>\n",
       "      <td>0</td>\n",
       "      <td>0</td>\n",
       "      <td>1</td>\n",
       "      <td>Friday</td>\n",
       "      <td>Evening</td>\n",
       "      <td>1</td>\n",
       "      <td>below</td>\n",
       "    </tr>\n",
       "    <tr>\n",
       "      <th>4</th>\n",
       "      <td>0</td>\n",
       "      <td>8.841186e+12</td>\n",
       "      <td>5642494</td>\n",
       "      <td>F</td>\n",
       "      <td>2016-04-29 16:07:23+00:00</td>\n",
       "      <td>Adult</td>\n",
       "      <td>2016-04-29 00:00:00+00:00</td>\n",
       "      <td>56</td>\n",
       "      <td>JARDIM DA PENHA</td>\n",
       "      <td>0</td>\n",
       "      <td>1</td>\n",
       "      <td>1</td>\n",
       "      <td>0</td>\n",
       "      <td>0</td>\n",
       "      <td>0</td>\n",
       "      <td>1</td>\n",
       "      <td>Friday</td>\n",
       "      <td>Evening</td>\n",
       "      <td>1</td>\n",
       "      <td>below</td>\n",
       "    </tr>\n",
       "    <tr>\n",
       "      <th>...</th>\n",
       "      <td>...</td>\n",
       "      <td>...</td>\n",
       "      <td>...</td>\n",
       "      <td>...</td>\n",
       "      <td>...</td>\n",
       "      <td>...</td>\n",
       "      <td>...</td>\n",
       "      <td>...</td>\n",
       "      <td>...</td>\n",
       "      <td>...</td>\n",
       "      <td>...</td>\n",
       "      <td>...</td>\n",
       "      <td>...</td>\n",
       "      <td>...</td>\n",
       "      <td>...</td>\n",
       "      <td>...</td>\n",
       "      <td>...</td>\n",
       "      <td>...</td>\n",
       "      <td>...</td>\n",
       "      <td>...</td>\n",
       "    </tr>\n",
       "    <tr>\n",
       "      <th>110522</th>\n",
       "      <td>0</td>\n",
       "      <td>2.572134e+12</td>\n",
       "      <td>5651768</td>\n",
       "      <td>F</td>\n",
       "      <td>2016-05-03 09:15:35+00:00</td>\n",
       "      <td>Adult</td>\n",
       "      <td>2016-06-07 00:00:00+00:00</td>\n",
       "      <td>56</td>\n",
       "      <td>MARIA ORTIZ</td>\n",
       "      <td>0</td>\n",
       "      <td>0</td>\n",
       "      <td>0</td>\n",
       "      <td>0</td>\n",
       "      <td>0</td>\n",
       "      <td>1</td>\n",
       "      <td>0</td>\n",
       "      <td>Tuesday</td>\n",
       "      <td>Morning</td>\n",
       "      <td>1</td>\n",
       "      <td>above</td>\n",
       "    </tr>\n",
       "    <tr>\n",
       "      <th>110523</th>\n",
       "      <td>0</td>\n",
       "      <td>3.596266e+12</td>\n",
       "      <td>5650093</td>\n",
       "      <td>F</td>\n",
       "      <td>2016-05-03 07:27:33+00:00</td>\n",
       "      <td>Adult</td>\n",
       "      <td>2016-06-07 00:00:00+00:00</td>\n",
       "      <td>51</td>\n",
       "      <td>MARIA ORTIZ</td>\n",
       "      <td>0</td>\n",
       "      <td>0</td>\n",
       "      <td>0</td>\n",
       "      <td>0</td>\n",
       "      <td>0</td>\n",
       "      <td>1</td>\n",
       "      <td>0</td>\n",
       "      <td>Tuesday</td>\n",
       "      <td>Morning</td>\n",
       "      <td>1</td>\n",
       "      <td>above</td>\n",
       "    </tr>\n",
       "    <tr>\n",
       "      <th>110524</th>\n",
       "      <td>0</td>\n",
       "      <td>1.557663e+13</td>\n",
       "      <td>5630692</td>\n",
       "      <td>F</td>\n",
       "      <td>2016-04-27 16:03:52+00:00</td>\n",
       "      <td>Adult</td>\n",
       "      <td>2016-06-07 00:00:00+00:00</td>\n",
       "      <td>21</td>\n",
       "      <td>MARIA ORTIZ</td>\n",
       "      <td>0</td>\n",
       "      <td>0</td>\n",
       "      <td>0</td>\n",
       "      <td>0</td>\n",
       "      <td>0</td>\n",
       "      <td>1</td>\n",
       "      <td>0</td>\n",
       "      <td>Tuesday</td>\n",
       "      <td>Evening</td>\n",
       "      <td>1</td>\n",
       "      <td>above</td>\n",
       "    </tr>\n",
       "    <tr>\n",
       "      <th>110525</th>\n",
       "      <td>0</td>\n",
       "      <td>9.213493e+13</td>\n",
       "      <td>5630323</td>\n",
       "      <td>F</td>\n",
       "      <td>2016-04-27 15:09:23+00:00</td>\n",
       "      <td>Adult</td>\n",
       "      <td>2016-06-07 00:00:00+00:00</td>\n",
       "      <td>38</td>\n",
       "      <td>MARIA ORTIZ</td>\n",
       "      <td>0</td>\n",
       "      <td>0</td>\n",
       "      <td>0</td>\n",
       "      <td>0</td>\n",
       "      <td>0</td>\n",
       "      <td>1</td>\n",
       "      <td>0</td>\n",
       "      <td>Tuesday</td>\n",
       "      <td>Afternoon</td>\n",
       "      <td>1</td>\n",
       "      <td>above</td>\n",
       "    </tr>\n",
       "    <tr>\n",
       "      <th>110526</th>\n",
       "      <td>0</td>\n",
       "      <td>3.775115e+14</td>\n",
       "      <td>5629448</td>\n",
       "      <td>F</td>\n",
       "      <td>2016-04-27 13:30:56+00:00</td>\n",
       "      <td>Adult</td>\n",
       "      <td>2016-06-07 00:00:00+00:00</td>\n",
       "      <td>54</td>\n",
       "      <td>MARIA ORTIZ</td>\n",
       "      <td>0</td>\n",
       "      <td>0</td>\n",
       "      <td>0</td>\n",
       "      <td>0</td>\n",
       "      <td>0</td>\n",
       "      <td>1</td>\n",
       "      <td>0</td>\n",
       "      <td>Tuesday</td>\n",
       "      <td>Afternoon</td>\n",
       "      <td>1</td>\n",
       "      <td>above</td>\n",
       "    </tr>\n",
       "  </tbody>\n",
       "</table>\n",
       "<p>110526 rows × 20 columns</p>\n",
       "</div>"
      ],
      "text/plain": [
       "        NoShow     PatientId  AppointmentID Gender              ScheduledDay  \\\n",
       "0            0  2.987250e+13        5642903      F 2016-04-29 18:38:08+00:00   \n",
       "1            0  5.589978e+14        5642503      M 2016-04-29 16:08:27+00:00   \n",
       "2            0  4.262962e+12        5642549      F 2016-04-29 16:19:04+00:00   \n",
       "3            0  8.679512e+11        5642828      F 2016-04-29 17:29:31+00:00   \n",
       "4            0  8.841186e+12        5642494      F 2016-04-29 16:07:23+00:00   \n",
       "...        ...           ...            ...    ...                       ...   \n",
       "110522       0  2.572134e+12        5651768      F 2016-05-03 09:15:35+00:00   \n",
       "110523       0  3.596266e+12        5650093      F 2016-05-03 07:27:33+00:00   \n",
       "110524       0  1.557663e+13        5630692      F 2016-04-27 16:03:52+00:00   \n",
       "110525       0  9.213493e+13        5630323      F 2016-04-27 15:09:23+00:00   \n",
       "110526       0  3.775115e+14        5629448      F 2016-04-27 13:30:56+00:00   \n",
       "\n",
       "       Age Group            AppointmentDay  Age       Neighborhood  \\\n",
       "0          Adult 2016-04-29 00:00:00+00:00   62    JARDIM DA PENHA   \n",
       "1          Adult 2016-04-29 00:00:00+00:00   56    JARDIM DA PENHA   \n",
       "2          Adult 2016-04-29 00:00:00+00:00   62      MATA DA PRAIA   \n",
       "3          Child 2016-04-29 00:00:00+00:00    8  PONTAL DE CAMBURI   \n",
       "4          Adult 2016-04-29 00:00:00+00:00   56    JARDIM DA PENHA   \n",
       "...          ...                       ...  ...                ...   \n",
       "110522     Adult 2016-06-07 00:00:00+00:00   56        MARIA ORTIZ   \n",
       "110523     Adult 2016-06-07 00:00:00+00:00   51        MARIA ORTIZ   \n",
       "110524     Adult 2016-06-07 00:00:00+00:00   21        MARIA ORTIZ   \n",
       "110525     Adult 2016-06-07 00:00:00+00:00   38        MARIA ORTIZ   \n",
       "110526     Adult 2016-06-07 00:00:00+00:00   54        MARIA ORTIZ   \n",
       "\n",
       "        Scholarship  Hypertension  Diabetes  Alcoholism  Handicap  \\\n",
       "0                 0             1         0           0         0   \n",
       "1                 0             0         0           0         0   \n",
       "2                 0             0         0           0         0   \n",
       "3                 0             0         0           0         0   \n",
       "4                 0             1         1           0         0   \n",
       "...             ...           ...       ...         ...       ...   \n",
       "110522            0             0         0           0         0   \n",
       "110523            0             0         0           0         0   \n",
       "110524            0             0         0           0         0   \n",
       "110525            0             0         0           0         0   \n",
       "110526            0             0         0           0         0   \n",
       "\n",
       "        SMSReceived  SameDayAppointment AppointmentDayOfWeek  \\\n",
       "0                 0                   1               Friday   \n",
       "1                 0                   1               Friday   \n",
       "2                 0                   1               Friday   \n",
       "3                 0                   1               Friday   \n",
       "4                 0                   1               Friday   \n",
       "...             ...                 ...                  ...   \n",
       "110522            1                   0              Tuesday   \n",
       "110523            1                   0              Tuesday   \n",
       "110524            1                   0              Tuesday   \n",
       "110525            1                   0              Tuesday   \n",
       "110526            1                   0              Tuesday   \n",
       "\n",
       "       ScheduledTimeOfDay  RainClassification NormalVersusActualTempAverage  \n",
       "0                 Evening                   1                         below  \n",
       "1                 Evening                   1                         below  \n",
       "2                 Evening                   1                         below  \n",
       "3                 Evening                   1                         below  \n",
       "4                 Evening                   1                         below  \n",
       "...                   ...                 ...                           ...  \n",
       "110522            Morning                   1                         above  \n",
       "110523            Morning                   1                         above  \n",
       "110524            Evening                   1                         above  \n",
       "110525          Afternoon                   1                         above  \n",
       "110526          Afternoon                   1                         above  \n",
       "\n",
       "[110526 rows x 20 columns]"
      ]
     },
     "execution_count": 26,
     "metadata": {},
     "output_type": "execute_result"
    }
   ],
   "source": [
    "# add weather data to appointments\n",
    "# notice the last two columns \n",
    "add_weather_data(appt_data)"
   ]
  },
  {
   "cell_type": "code",
   "execution_count": 27,
   "metadata": {
    "ExecuteTime": {
     "end_time": "2020-03-16T17:01:30.674696Z",
     "start_time": "2020-03-16T17:01:30.664123Z"
    }
   },
   "outputs": [
    {
     "data": {
      "text/plain": [
       "1    93555\n",
       "2    12577\n",
       "3     4394\n",
       "Name: RainClassification, dtype: int64"
      ]
     },
     "execution_count": 27,
     "metadata": {},
     "output_type": "execute_result"
    }
   ],
   "source": [
    "#show the counts by rain classification\n",
    "#rainclassification = 1 is no rain, anything higher than 1 means rain\n",
    "appt_data['RainClassification'].value_counts()"
   ]
  },
  {
   "cell_type": "code",
   "execution_count": 28,
   "metadata": {
    "ExecuteTime": {
     "end_time": "2020-03-16T17:01:30.753652Z",
     "start_time": "2020-03-16T17:01:30.677104Z"
    }
   },
   "outputs": [
    {
     "data": {
      "text/plain": [
       "above    53051\n",
       "same     29238\n",
       "below    28237\n",
       "Name: NormalVersusActualTempAverage, dtype: int64"
      ]
     },
     "execution_count": 28,
     "metadata": {},
     "output_type": "execute_result"
    }
   ],
   "source": [
    "#show the counts by normal versus actual temp average\n",
    "appt_data['NormalVersusActualTempAverage'].value_counts()"
   ]
  },
  {
   "cell_type": "code",
   "execution_count": 29,
   "metadata": {
    "ExecuteTime": {
     "end_time": "2020-03-16T17:01:30.862691Z",
     "start_time": "2020-03-16T17:01:30.792643Z"
    }
   },
   "outputs": [],
   "source": [
    "#drop columns with co-linearity \n",
    "appt_data.drop(['ScheduledDay','AppointmentDay','Age'],axis=1,inplace=True)"
   ]
  },
  {
   "cell_type": "code",
   "execution_count": 30,
   "metadata": {
    "ExecuteTime": {
     "end_time": "2020-03-16T17:01:30.917690Z",
     "start_time": "2020-03-16T17:01:30.865659Z"
    }
   },
   "outputs": [
    {
     "data": {
      "text/plain": [
       "JARDIM CAMBURI                 7717\n",
       "MARIA ORTIZ                    5805\n",
       "RESISTENCIA                    4431\n",
       "JARDIM DA PENHA                3877\n",
       "ITARARE                        3514\n",
       "CENTRO                         3334\n",
       "TABUAZEIRO                     3132\n",
       "SANTA MARTHA                   3131\n",
       "JESUS DE NAZARETH              2853\n",
       "BONFIM                         2773\n",
       "SANTO ANTONIO                  2746\n",
       "SANTO ANDRE                    2571\n",
       "CARATOIRA                      2565\n",
       "JABOUR                         2509\n",
       "SAO PEDRO                      2448\n",
       "ILHA DO PRINCIPE               2266\n",
       "NOVA PALESTINA                 2264\n",
       "ANDORINHAS                     2262\n",
       "DA PENHA                       2217\n",
       "ROMAO                          2214\n",
       "GURIGICA                       2018\n",
       "SAO JOSE                       1977\n",
       "BELA VISTA                     1907\n",
       "MARUIPE                        1902\n",
       "FORTE SAO JOAO                 1889\n",
       "ILHA DE SANTA MARIA            1885\n",
       "SAO CRISTOVAO                  1836\n",
       "REDENCAO                       1553\n",
       "SAO BENEDITO                   1439\n",
       "JOANA DARC                     1427\n",
       "CRUZAMENTO                     1398\n",
       "CONSOLACAO                     1376\n",
       "SANTA TEREZA                   1332\n",
       "PRAIA DO SUA                   1288\n",
       "SANTOS DUMONT                  1276\n",
       "GRANDE VITORIA                 1071\n",
       "ILHA DAS CAIEIRAS              1071\n",
       "INHANGUETA                     1057\n",
       "PRAIA DO CANTO                 1035\n",
       "BENTO FERREIRA                  858\n",
       "VILA RUBIM                      851\n",
       "CONQUISTA                       849\n",
       "DO QUADRO                       849\n",
       "REPUBLICA                       835\n",
       "MONTE BELO                      824\n",
       "PARQUE MOSCOSO                  802\n",
       "GOIABEIRAS                      700\n",
       "JUCUTUQUARA                     694\n",
       "FONTE GRANDE                    682\n",
       "MATA DA PRAIA                   644\n",
       "DO CABRAL                       560\n",
       "SANTOS REIS                     547\n",
       "ESTRELINHA                      538\n",
       "SANTA CLARA                     506\n",
       "SOLON BORGES                    469\n",
       "PIEDADE                         452\n",
       "SANTA CECILIA                   448\n",
       "SANTA LUCIA                     438\n",
       "SANTA LUIZA                     428\n",
       "BARRO VERMELHO                  423\n",
       "DO MOSCOSO                      413\n",
       "MARIO CYPRESTE                  371\n",
       "BOA VISTA                       312\n",
       "COMDUSA                         310\n",
       "DE LOURDES                      305\n",
       "ARIOVALDO FAVALESSA             282\n",
       "ANTONIO HONORIO                 271\n",
       "FRADINHOS                       258\n",
       "ENSEADA DO SUA                  235\n",
       "SANTA HELENA                    178\n",
       "HORTO                           175\n",
       "UNIVERSITARIO                   152\n",
       "SEGURANCA DO LAR                145\n",
       "NAZARETH                        135\n",
       "MORADA DE CAMBURI                96\n",
       "PONTAL DE CAMBURI                69\n",
       "ILHA DO BOI                      35\n",
       "ILHA DO FRADE                    10\n",
       "AEROPORTO                         8\n",
       "ILHAS OCEANICAS DE TRINDADE       2\n",
       "PARQUE INDUSTRIAL                 1\n",
       "Name: Neighborhood, dtype: int64"
      ]
     },
     "execution_count": 30,
     "metadata": {},
     "output_type": "execute_result"
    }
   ],
   "source": [
    "pd.options.display.max_rows = 999\n",
    "data = appt_data['Neighborhood'].value_counts()\n",
    "data.sort_values(ascending=False)\n"
   ]
  },
  {
   "cell_type": "code",
   "execution_count": 31,
   "metadata": {
    "ExecuteTime": {
     "end_time": "2020-03-16T17:01:30.992282Z",
     "start_time": "2020-03-16T17:01:30.956046Z"
    }
   },
   "outputs": [],
   "source": [
    "#set max display back to default (15)\n",
    "pd.options.display.max_rows = 15"
   ]
  },
  {
   "cell_type": "code",
   "execution_count": null,
   "metadata": {
    "ExecuteTime": {
     "start_time": "2020-03-16T16:59:59.303Z"
    }
   },
   "outputs": [],
   "source": [
    "#create profile before one hot encoding data\n",
    "profile = ProfileReport(appt_data, title='Pandas Profiling Report', html={'style':{'full_width':True}})\n",
    "\n",
    "#add profile to file\n",
    "profile.to_file(output_file=os.path.join('Visualizations','Appt_Data_Report.html'))"
   ]
  },
  {
   "cell_type": "code",
   "execution_count": null,
   "metadata": {
    "ExecuteTime": {
     "start_time": "2020-03-16T16:59:59.312Z"
    }
   },
   "outputs": [],
   "source": [
    "profile.to_notebook_iframe()"
   ]
  },
  {
   "cell_type": "code",
   "execution_count": null,
   "metadata": {
    "ExecuteTime": {
     "start_time": "2020-03-16T16:59:59.314Z"
    },
    "colab": {},
    "colab_type": "code",
    "id": "CNwTKJOITVOt"
   },
   "outputs": [],
   "source": [
    "#create dummy classifications (e.g. one hot encoding)\n",
    "#columns with classification values will get multiple columns created\n",
    "appt_data = pd.get_dummies(appt_data)"
   ]
  },
  {
   "cell_type": "code",
   "execution_count": null,
   "metadata": {
    "ExecuteTime": {
     "start_time": "2020-03-16T16:59:59.316Z"
    },
    "colab": {
     "base_uri": "https://localhost:8080/",
     "height": 153
    },
    "colab_type": "code",
    "id": "Rt8rYFw_ToYu",
    "outputId": "4933c4cd-27c5-4eff-99c3-c330a964c939"
   },
   "outputs": [],
   "source": [
    "appt_data.columns"
   ]
  },
  {
   "cell_type": "code",
   "execution_count": null,
   "metadata": {
    "ExecuteTime": {
     "start_time": "2020-03-16T16:59:59.318Z"
    }
   },
   "outputs": [],
   "source": [
    "#show no show count by patient itd\n",
    "appt_data['NoShowSum'] = appt_data.groupby('PatientId')['NoShow'].transform('sum')"
   ]
  },
  {
   "cell_type": "code",
   "execution_count": null,
   "metadata": {
    "ExecuteTime": {
     "start_time": "2020-03-16T16:59:59.323Z"
    }
   },
   "outputs": [],
   "source": [
    "#see those with no show sum over 1\n",
    "appt_data[appt_data['NoShowSum']>1]"
   ]
  },
  {
   "cell_type": "code",
   "execution_count": null,
   "metadata": {
    "ExecuteTime": {
     "start_time": "2020-03-16T16:59:59.326Z"
    }
   },
   "outputs": [],
   "source": [
    "plt.figure(figsize=(20,12))\n",
    "col = 'Hypertension'\n",
    "sns.countplot(appt_data[col])\n",
    "plt.savefig(os.path.join('Visualizations',f\"{col}_Count.png\"))"
   ]
  },
  {
   "cell_type": "code",
   "execution_count": null,
   "metadata": {
    "ExecuteTime": {
     "start_time": "2020-03-16T16:59:59.329Z"
    }
   },
   "outputs": [],
   "source": [
    "plt.figure(figsize=(20,12))\n",
    "col = 'Diabetes'\n",
    "sns.countplot(appt_data[col])\n",
    "plt.savefig(os.path.join('Visualizations',f\"{col}_Count.png\"))"
   ]
  },
  {
   "cell_type": "code",
   "execution_count": null,
   "metadata": {
    "ExecuteTime": {
     "start_time": "2020-03-16T16:59:59.331Z"
    }
   },
   "outputs": [],
   "source": [
    "plt.figure(figsize=(20,12))\n",
    "col = 'Alcoholism'\n",
    "sns.countplot(appt_data[col])\n",
    "plt.savefig(os.path.join('Visualizations',f\"{col}_Count.png\"))"
   ]
  },
  {
   "cell_type": "code",
   "execution_count": null,
   "metadata": {
    "ExecuteTime": {
     "start_time": "2020-03-16T16:59:59.334Z"
    }
   },
   "outputs": [],
   "source": [
    "plt.figure(figsize=(20,12))\n",
    "col = 'Handicap'\n",
    "sns.countplot(appt_data[col])\n",
    "plt.savefig(os.path.join('Visualizations',f\"{col}_Count.png\"))\n"
   ]
  },
  {
   "cell_type": "code",
   "execution_count": null,
   "metadata": {
    "ExecuteTime": {
     "start_time": "2020-03-16T16:59:59.337Z"
    }
   },
   "outputs": [],
   "source": [
    "plt.figure(figsize=(20,12))\n",
    "col = 'NoShowSum'\n",
    "sns.countplot(appt_data[col])\n",
    "plt.savefig(os.path.join('Visualizations',f\"{col}_Count.png\"))"
   ]
  },
  {
   "cell_type": "code",
   "execution_count": null,
   "metadata": {
    "ExecuteTime": {
     "start_time": "2020-03-16T16:59:59.339Z"
    }
   },
   "outputs": [],
   "source": [
    "plt.figure(figsize=(20,12))\n",
    "col = 'NormalVersusActualTempAverage_below'\n",
    "sns.countplot(appt_data[col])\n",
    "plt.savefig(os.path.join('Visualizations',f\"{col}_Count.png\"))"
   ]
  },
  {
   "cell_type": "code",
   "execution_count": null,
   "metadata": {
    "ExecuteTime": {
     "start_time": "2020-03-16T16:59:59.341Z"
    }
   },
   "outputs": [],
   "source": [
    "plt.figure(figsize=(20,12))\n",
    "cols = [ a for a in appt_data.columns.to_list() if 'AppointmentDayOf' in a ]\n",
    "\n",
    "for c in cols:\n",
    "    sns.countplot(appt_data[c])\n",
    "    plt.savefig(os.path.join('Visualizations',f\"{c}_Count.png\"))"
   ]
  },
  {
   "cell_type": "code",
   "execution_count": null,
   "metadata": {
    "ExecuteTime": {
     "start_time": "2020-03-16T16:59:59.344Z"
    }
   },
   "outputs": [],
   "source": [
    "plt.figure(figsize=(20,12))\n",
    "col = 'NormalVersusActualTempAverage_same'\n",
    "sns.countplot(appt_data[col])\n",
    "plt.savefig(os.path.join('Visualizations',f\"{col}_Count.png\"))"
   ]
  },
  {
   "cell_type": "code",
   "execution_count": null,
   "metadata": {
    "ExecuteTime": {
     "start_time": "2020-03-16T16:59:59.346Z"
    }
   },
   "outputs": [],
   "source": [
    "#add cleaned appointment data to stage folder\n",
    "filePath = os.path.join('Data','Stage','NoShowAppointments_cleaned.csv')\n",
    "appt_data.to_csv(filePath,index=False)"
   ]
  },
  {
   "cell_type": "code",
   "execution_count": null,
   "metadata": {
    "ExecuteTime": {
     "start_time": "2020-03-16T16:59:59.348Z"
    }
   },
   "outputs": [],
   "source": [
    "#remove data from memory\n",
    "del appt_data"
   ]
  },
  {
   "cell_type": "code",
   "execution_count": null,
   "metadata": {},
   "outputs": [],
   "source": []
  },
  {
   "cell_type": "code",
   "execution_count": null,
   "metadata": {},
   "outputs": [],
   "source": []
  }
 ],
 "metadata": {
  "colab": {
   "collapsed_sections": [],
   "name": "Data_Prep.ipynb",
   "provenance": [],
   "toc_visible": true
  },
  "kernelspec": {
   "display_name": "Python (captstone)",
   "language": "python",
   "name": "capstone"
  },
  "language_info": {
   "codemirror_mode": {
    "name": "ipython",
    "version": 3
   },
   "file_extension": ".py",
   "mimetype": "text/x-python",
   "name": "python",
   "nbconvert_exporter": "python",
   "pygments_lexer": "ipython3",
   "version": "3.7.5"
  },
  "toc": {
   "base_numbering": 1,
   "nav_menu": {},
   "number_sections": true,
   "sideBar": true,
   "skip_h1_title": false,
   "title_cell": "Table of Contents",
   "title_sidebar": "Contents",
   "toc_cell": false,
   "toc_position": {},
   "toc_section_display": true,
   "toc_window_display": false
  }
 },
 "nbformat": 4,
 "nbformat_minor": 1
}
