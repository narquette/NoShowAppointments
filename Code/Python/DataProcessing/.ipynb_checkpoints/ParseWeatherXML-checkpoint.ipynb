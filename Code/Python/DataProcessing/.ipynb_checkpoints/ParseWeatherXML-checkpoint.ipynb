{
 "cells": [
  {
   "cell_type": "markdown",
   "metadata": {},
   "source": [
    "# Requires a premium accuweather account (14 day trial available)"
   ]
  },
  {
   "cell_type": "code",
   "execution_count": 1,
   "metadata": {},
   "outputs": [],
   "source": [
    "# load modules\n",
    "import requests\n",
    "from requests.auth import HTTPBasicAuth\n",
    "import lxml.html as lh\n",
    "import xml.etree.ElementTree as ET\n",
    "import json\n",
    "import itertools\n",
    "import pandas as pd"
   ]
  },
  {
   "cell_type": "code",
   "execution_count": 2,
   "metadata": {},
   "outputs": [
    {
     "name": "stdout",
     "output_type": "stream",
     "text": [
      "········\n"
     ]
    }
   ],
   "source": [
    "# import getpass module to enter password information\n",
    "import getpass\n",
    "password = getpass.getpass()"
   ]
  },
  {
   "cell_type": "code",
   "execution_count": 3,
   "metadata": {},
   "outputs": [],
   "source": [
    "# set payload information to login\n",
    "payload = {\n",
    "    'username': 'narquette',\n",
    "    'password' : password\n",
    "}\n",
    "\n",
    "# store login url  \n",
    "login_url = \"https://wwwl.accuweather.com/authenticate.php\"\n",
    "\n",
    "# create a login session\n",
    "with requests.Session() as session:\n",
    "    post = session.post(login_url, data=payload)"
   ]
  },
  {
   "cell_type": "code",
   "execution_count": 4,
   "metadata": {
    "scrolled": true
   },
   "outputs": [],
   "source": [
    "# store all of the columns for the dataframe\n",
    "columns = [\n",
    "    'WeatherYear', 'WeatherMonth', 'WeatherDay', 'Actual High', 'Actual Low',\n",
    "    'Actual Avg', 'Normal High', 'Normal Low', 'Normal Avg',\n",
    "    'Actual - Normal Avg Difference', 'Rec High', 'Rec Year', 'Rec Low',\n",
    "    'Rec Year', 'Precipitation Amount', 'Snow Amount', 'Snow Ground',\n",
    "    'Heat Degree Day', 'Cool Degree Day'\n",
    "]\n",
    "\n",
    "# store all of the parsed and cleaned data\n",
    "data_clean_all = []\n",
    "\n",
    "# specific city to use in the historical weather search\n",
    "city = 'ILHA+DAS+CAIEIRAS'\n",
    "\n",
    "# loop through years from 2016 to 2019\n",
    "for year in range(2016, 2020):\n",
    "\n",
    "    # loop through months 1 (Jan) to 12 (Dec)\n",
    "    for month in range(1, 13):\n",
    "\n",
    "        # build url for getting historical data\n",
    "        requests_url = f\"https://premiuma.accuweather.com/pro/past-months.asp?display=0&month_select={month}&year_select={year}&location={city}\"\n",
    "\n",
    "        # get the session for the url\n",
    "        r = session.get(requests_url)\n",
    "\n",
    "        # get the root information\n",
    "        root = lh.fromstring(r.content)\n",
    "\n",
    "        # loop through the dataTable html\n",
    "        for t in root.findall(\".//*[@id='dataTable']\"):\n",
    "\n",
    "            # get the number of child nodes in the table\n",
    "            length = len(t.getchildren())\n",
    "\n",
    "            # get the data for each rown\n",
    "            for i in range(1, length):\n",
    "                col_length = len(t[i].getchildren())  # get the column length\n",
    "                data = [t[i][n].text for n in range(0, col_length - 1)\n",
    "                        ]  # get all of the text and store it in a list\n",
    "                data_clean = list(map(lambda s: s.strip(),\n",
    "                                      data))  # strip out the next line returns\n",
    "                data_clean.insert(0, month)  # add the month data to list\n",
    "                data_clean.insert(0, year)  # add the year data to the list\n",
    "                data_clean_all.append(\n",
    "                    data_clean\n",
    "                )  # append each table row (data_clean) to a list (data_clean_all)\n",
    "\n",
    "# add all of the list data (data_clean_all) to a dataframe\n",
    "df = pd.DataFrame.from_records(data_clean_all, columns=columns)\n",
    "\n",
    "#drop meaningless columns\n",
    "df = df.drop([\n",
    "    'Rec High', 'Rec Year', 'Rec Low', 'Rec Year', 'Snow Amount', 'Snow Ground'\n",
    "],\n",
    "             axis=1)\n",
    "\n",
    "#add columns to classify 12-hour rain amounts\n",
    "#https://www.weather.gov/jetstream/mos_max\n",
    "#0 - No accumulation\n",
    "#1 - 0.01\" to 0.09\" (0.3 mm to 2 mm)\n",
    "#2 - 0.10\" to 0.24\" (3 mm to 6 mm)\n",
    "#3 - 0.25\" to 0.49\" (6 mm to 12 mm)\n",
    "#4 - 0.50\" to 0.99\" (13 mm to 25 mm)\n",
    "#5 - 1.00\" to 1.99\" (25 mm to 50 mm)\n",
    "#6 - ≥2.00\" (≥51 mm)\n",
    "\n",
    "\n",
    "def rain_classify(rain_amount):\n",
    "    if rain_amount <= .09:\n",
    "        rain_type = 1\n",
    "    elif rain_amount <= .24:\n",
    "        rain_type = 2\n",
    "    elif rain_amount <= .49:\n",
    "        rain_type = 3\n",
    "    elif rain_amount <= .99:\n",
    "        rain_type = 4\n",
    "    elif rain_amount <= 1.99:\n",
    "        rain_type = 5\n",
    "    else:\n",
    "        rain_type = 6\n",
    "    return rain_type\n",
    "\n",
    "\n",
    "#add rain classification column to the dataframe\n",
    "df['Rain Classification'] = df.apply(\n",
    "    lambda x: rain_classify(float(x['Precipitation Amount'])), axis=1)\n",
    "\n",
    "#add dataframe to a file\n",
    "df.to_csv(\n",
    "    os.path.join('../',\n",
    "                 '../',\n",
    "                 '../',\n",
    "                 'Data',\n",
    "                 'Preprocessing',\n",
    "                 '\"BrazilWeatherData_Vitario_2016_2019.csv',\n",
    "                 sep='|',\n",
    "                 index=False))"
   ]
  }
 ],
 "metadata": {
  "kernelspec": {
   "display_name": "Python (captstone)",
   "language": "python",
   "name": "capstone"
  },
  "language_info": {
   "codemirror_mode": {
    "name": "ipython",
    "version": 3
   },
   "file_extension": ".py",
   "mimetype": "text/x-python",
   "name": "python",
   "nbconvert_exporter": "python",
   "pygments_lexer": "ipython3",
   "version": "3.7.5"
  },
  "toc": {
   "base_numbering": 1,
   "nav_menu": {},
   "number_sections": true,
   "sideBar": true,
   "skip_h1_title": false,
   "title_cell": "Table of Contents",
   "title_sidebar": "Contents",
   "toc_cell": false,
   "toc_position": {},
   "toc_section_display": true,
   "toc_window_display": false
  }
 },
 "nbformat": 4,
 "nbformat_minor": 2
}
