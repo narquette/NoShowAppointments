{
 "cells": [
  {
   "cell_type": "markdown",
   "metadata": {},
   "source": [
    "# Make sure that PredictNoShowAPI.py is running"
   ]
  },
  {
   "cell_type": "code",
   "execution_count": 1,
   "metadata": {
    "ExecuteTime": {
     "end_time": "2020-03-19T19:52:08.159384Z",
     "start_time": "2020-03-19T19:52:06.635694Z"
    }
   },
   "outputs": [],
   "source": [
    "#load libraries\n",
    "import requests\n",
    "import pandas as pd\n",
    "import os\n",
    "import json"
   ]
  },
  {
   "cell_type": "code",
   "execution_count": 2,
   "metadata": {
    "ExecuteTime": {
     "end_time": "2020-03-19T19:52:09.986164Z",
     "start_time": "2020-03-19T19:52:08.161438Z"
    }
   },
   "outputs": [],
   "source": [
    "#load sample data\n",
    "filePath = os.path.join('../','../','../''Data','Stage','NoShowAppointments_cleaned.csv')\n",
    "df = pd.read_csv(filePath,low_memory=False)\n",
    "\n",
    "#generate a sample dictionary item needed for the post method below\n",
    "cols = [c for c in df.columns if c not in ['NoShow','PatientId','AppointmentID']]\n",
    "sample_data = df.iloc[0][3:]\n",
    "sample_data = sample_data.astype(int)\n",
    "sample_dict = dict(zip(cols,sample_data))\n",
    "sample_dict = json.dumps(sample_dict)\n",
    "sample_json = json.loads(sample_dict)\n"
   ]
  },
  {
   "cell_type": "code",
   "execution_count": 3,
   "metadata": {
    "ExecuteTime": {
     "end_time": "2020-03-19T19:52:11.775989Z",
     "start_time": "2020-03-19T19:52:11.544682Z"
    }
   },
   "outputs": [],
   "source": [
    "# post data to API\n",
    "r = requests.post(\"http://127.0.0.1:5000/api/apptnoshow\",json=sample_json)"
   ]
  },
  {
   "cell_type": "code",
   "execution_count": 4,
   "metadata": {
    "ExecuteTime": {
     "end_time": "2020-03-19T19:52:13.449959Z",
     "start_time": "2020-03-19T19:52:13.445063Z"
    }
   },
   "outputs": [
    {
     "name": "stdout",
     "output_type": "stream",
     "text": [
      "Success: 0\n",
      "\n"
     ]
    }
   ],
   "source": [
    "# if status code is successful post the text\n",
    "if r.status_code == 200:\n",
    "    print(f\"Success: {r.text}\")\n",
    "else:\n",
    "    print(f\"Failure: {r.text}\")"
   ]
  },
  {
   "cell_type": "code",
   "execution_count": null,
   "metadata": {},
   "outputs": [],
   "source": []
  }
 ],
 "metadata": {
  "kernelspec": {
   "display_name": "Python (captstone)",
   "language": "python",
   "name": "capstone"
  },
  "language_info": {
   "codemirror_mode": {
    "name": "ipython",
    "version": 3
   },
   "file_extension": ".py",
   "mimetype": "text/x-python",
   "name": "python",
   "nbconvert_exporter": "python",
   "pygments_lexer": "ipython3",
   "version": "3.7.5"
  },
  "toc": {
   "base_numbering": 1,
   "nav_menu": {},
   "number_sections": true,
   "sideBar": true,
   "skip_h1_title": false,
   "title_cell": "Table of Contents",
   "title_sidebar": "Contents",
   "toc_cell": false,
   "toc_position": {},
   "toc_section_display": true,
   "toc_window_display": false
  }
 },
 "nbformat": 4,
 "nbformat_minor": 2
}
