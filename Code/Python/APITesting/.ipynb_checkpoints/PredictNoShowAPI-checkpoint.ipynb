{
 "cells": [
  {
   "cell_type": "markdown",
   "metadata": {},
   "source": [
    "# Make sure that basicapp.py is running"
   ]
  },
  {
   "cell_type": "code",
   "execution_count": 11,
   "metadata": {
    "ExecuteTime": {
     "end_time": "2020-03-28T13:46:55.192705Z",
     "start_time": "2020-03-28T13:46:55.188449Z"
    }
   },
   "outputs": [],
   "source": [
    "#load libraries\n",
    "import requests\n",
    "import pandas as pd\n",
    "import os\n",
    "import json"
   ]
  },
  {
   "cell_type": "code",
   "execution_count": 12,
   "metadata": {
    "ExecuteTime": {
     "end_time": "2020-03-28T13:46:57.418788Z",
     "start_time": "2020-03-28T13:46:55.821209Z"
    }
   },
   "outputs": [],
   "source": [
    "#load sample data\n",
    "filePath = os.path.join('../','../','../''Data','Stage','NoShowAppointments_cleaned.csv')\n",
    "df = pd.read_csv(filePath,low_memory=False)\n",
    "\n",
    "#generate a sample dictionary item needed for the post method below\n",
    "cols = [c for c in df.columns if c not in ['NoShow','PatientId','AppointmentID']]\n",
    "sample_data = df.iloc[0][3:]\n",
    "sample_data = sample_data.astype(int)\n",
    "sample_dict = dict(zip(cols,sample_data))\n",
    "sample_dict = json.dumps(sample_dict)\n",
    "sample_json = json.loads(sample_dict)\n"
   ]
  },
  {
   "cell_type": "code",
   "execution_count": 13,
   "metadata": {
    "ExecuteTime": {
     "end_time": "2020-03-28T13:46:57.429638Z",
     "start_time": "2020-03-28T13:46:57.420521Z"
    }
   },
   "outputs": [
    {
     "data": {
      "text/plain": [
       "NoShow                                      0.000000e+00\n",
       "PatientId                                   2.987250e+13\n",
       "AppointmentID                               5.642903e+06\n",
       "Scholarship                                 0.000000e+00\n",
       "Hypertension                                1.000000e+00\n",
       "Diabetes                                    0.000000e+00\n",
       "Alcoholism                                  0.000000e+00\n",
       "Handicap                                    0.000000e+00\n",
       "SMSReceived                                 0.000000e+00\n",
       "SameDayAppointment                          1.000000e+00\n",
       "Gender_F                                    1.000000e+00\n",
       "Gender_M                                    0.000000e+00\n",
       "Age Group_Toddler/baby                      0.000000e+00\n",
       "Age Group_Child                             0.000000e+00\n",
       "Age Group_Adult                             1.000000e+00\n",
       "Age Group_Elderly                           0.000000e+00\n",
       "Neighborhood_AEROPORTO                      0.000000e+00\n",
       "Neighborhood_ANDORINHAS                     0.000000e+00\n",
       "Neighborhood_ANTONIO HONORIO                0.000000e+00\n",
       "Neighborhood_ARIOVALDO FAVALESSA            0.000000e+00\n",
       "Neighborhood_BARRO VERMELHO                 0.000000e+00\n",
       "Neighborhood_BELA VISTA                     0.000000e+00\n",
       "Neighborhood_BENTO FERREIRA                 0.000000e+00\n",
       "Neighborhood_BOA VISTA                      0.000000e+00\n",
       "Neighborhood_BONFIM                         0.000000e+00\n",
       "Neighborhood_CARATOIRA                      0.000000e+00\n",
       "Neighborhood_CENTRO                         0.000000e+00\n",
       "Neighborhood_COMDUSA                        0.000000e+00\n",
       "Neighborhood_CONQUISTA                      0.000000e+00\n",
       "Neighborhood_CONSOLACAO                     0.000000e+00\n",
       "Neighborhood_CRUZAMENTO                     0.000000e+00\n",
       "Neighborhood_DA PENHA                       0.000000e+00\n",
       "Neighborhood_DE LOURDES                     0.000000e+00\n",
       "Neighborhood_DO CABRAL                      0.000000e+00\n",
       "Neighborhood_DO MOSCOSO                     0.000000e+00\n",
       "Neighborhood_DO QUADRO                      0.000000e+00\n",
       "Neighborhood_ENSEADA DO SUA                 0.000000e+00\n",
       "Neighborhood_ESTRELINHA                     0.000000e+00\n",
       "Neighborhood_FONTE GRANDE                   0.000000e+00\n",
       "Neighborhood_FORTE SAO JOAO                 0.000000e+00\n",
       "Neighborhood_FRADINHOS                      0.000000e+00\n",
       "Neighborhood_GOIABEIRAS                     0.000000e+00\n",
       "Neighborhood_GRANDE VITORIA                 0.000000e+00\n",
       "Neighborhood_GURIGICA                       0.000000e+00\n",
       "Neighborhood_HORTO                          0.000000e+00\n",
       "Neighborhood_ILHA DAS CAIEIRAS              0.000000e+00\n",
       "Neighborhood_ILHA DE SANTA MARIA            0.000000e+00\n",
       "Neighborhood_ILHA DO BOI                    0.000000e+00\n",
       "Neighborhood_ILHA DO FRADE                  0.000000e+00\n",
       "Neighborhood_ILHA DO PRINCIPE               0.000000e+00\n",
       "Neighborhood_ILHAS OCEANICAS DE TRINDADE    0.000000e+00\n",
       "Neighborhood_INHANGUETA                     0.000000e+00\n",
       "Neighborhood_ITARARE                        0.000000e+00\n",
       "Neighborhood_JABOUR                         0.000000e+00\n",
       "Neighborhood_JARDIM CAMBURI                 0.000000e+00\n",
       "Neighborhood_JARDIM DA PENHA                1.000000e+00\n",
       "Neighborhood_JESUS DE NAZARETH              0.000000e+00\n",
       "Neighborhood_JOANA DARC                     0.000000e+00\n",
       "Neighborhood_JUCUTUQUARA                    0.000000e+00\n",
       "Neighborhood_MARIA ORTIZ                    0.000000e+00\n",
       "Neighborhood_MARIO CYPRESTE                 0.000000e+00\n",
       "Neighborhood_MARUIPE                        0.000000e+00\n",
       "Neighborhood_MATA DA PRAIA                  0.000000e+00\n",
       "Neighborhood_MONTE BELO                     0.000000e+00\n",
       "Neighborhood_MORADA DE CAMBURI              0.000000e+00\n",
       "Neighborhood_NAZARETH                       0.000000e+00\n",
       "Neighborhood_NOVA PALESTINA                 0.000000e+00\n",
       "Neighborhood_PARQUE INDUSTRIAL              0.000000e+00\n",
       "Neighborhood_PARQUE MOSCOSO                 0.000000e+00\n",
       "Neighborhood_PIEDADE                        0.000000e+00\n",
       "Neighborhood_PONTAL DE CAMBURI              0.000000e+00\n",
       "Neighborhood_PRAIA DO CANTO                 0.000000e+00\n",
       "Neighborhood_PRAIA DO SUA                   0.000000e+00\n",
       "Neighborhood_REDENCAO                       0.000000e+00\n",
       "Neighborhood_REPUBLICA                      0.000000e+00\n",
       "Neighborhood_RESISTENCIA                    0.000000e+00\n",
       "Neighborhood_ROMAO                          0.000000e+00\n",
       "Neighborhood_SANTA CECILIA                  0.000000e+00\n",
       "Neighborhood_SANTA CLARA                    0.000000e+00\n",
       "Neighborhood_SANTA HELENA                   0.000000e+00\n",
       "Neighborhood_SANTA LUCIA                    0.000000e+00\n",
       "Neighborhood_SANTA LUIZA                    0.000000e+00\n",
       "Neighborhood_SANTA MARTHA                   0.000000e+00\n",
       "Neighborhood_SANTA TEREZA                   0.000000e+00\n",
       "Neighborhood_SANTO ANDRE                    0.000000e+00\n",
       "Neighborhood_SANTO ANTONIO                  0.000000e+00\n",
       "Neighborhood_SANTOS DUMONT                  0.000000e+00\n",
       "Neighborhood_SANTOS REIS                    0.000000e+00\n",
       "Neighborhood_SAO BENEDITO                   0.000000e+00\n",
       "Neighborhood_SAO CRISTOVAO                  0.000000e+00\n",
       "Neighborhood_SAO JOSE                       0.000000e+00\n",
       "Neighborhood_SAO PEDRO                      0.000000e+00\n",
       "Neighborhood_SEGURANCA DO LAR               0.000000e+00\n",
       "Neighborhood_SOLON BORGES                   0.000000e+00\n",
       "Neighborhood_TABUAZEIRO                     0.000000e+00\n",
       "Neighborhood_UNIVERSITARIO                  0.000000e+00\n",
       "Neighborhood_VILA RUBIM                     0.000000e+00\n",
       "AppointmentDayOfWeek_Friday                 1.000000e+00\n",
       "AppointmentDayOfWeek_Monday                 0.000000e+00\n",
       "AppointmentDayOfWeek_Saturday               0.000000e+00\n",
       "AppointmentDayOfWeek_Thursday               0.000000e+00\n",
       "AppointmentDayOfWeek_Tuesday                0.000000e+00\n",
       "AppointmentDayOfWeek_Wednesday              0.000000e+00\n",
       "ScheduledTimeOfDay_Afternoon                0.000000e+00\n",
       "ScheduledTimeOfDay_Evening                  1.000000e+00\n",
       "ScheduledTimeOfDay_Morning                  0.000000e+00\n",
       "RainClassification_1                        1.000000e+00\n",
       "RainClassification_2                        0.000000e+00\n",
       "RainClassification_3                        0.000000e+00\n",
       "NormalVersusActualTempAverage_above         0.000000e+00\n",
       "NormalVersusActualTempAverage_below         1.000000e+00\n",
       "NormalVersusActualTempAverage_same          0.000000e+00\n",
       "NoShowSum                                   0.000000e+00\n",
       "Name: 0, dtype: float64"
      ]
     },
     "execution_count": 13,
     "metadata": {},
     "output_type": "execute_result"
    }
   ],
   "source": [
    "pd.options.display.max_rows = 999\n",
    "df.iloc[0]"
   ]
  },
  {
   "cell_type": "code",
   "execution_count": 14,
   "metadata": {
    "ExecuteTime": {
     "end_time": "2020-03-28T13:47:02.915425Z",
     "start_time": "2020-03-28T13:47:02.631402Z"
    }
   },
   "outputs": [],
   "source": [
    "# post data to API\n",
    "r = requests.post(\"http://127.0.0.1:5000/api/apptnoshow\",json=sample_json)"
   ]
  },
  {
   "cell_type": "code",
   "execution_count": 15,
   "metadata": {
    "ExecuteTime": {
     "end_time": "2020-03-28T13:47:10.256454Z",
     "start_time": "2020-03-28T13:47:10.248317Z"
    }
   },
   "outputs": [
    {
     "name": "stdout",
     "output_type": "stream",
     "text": [
      "Success: \"0 which is No\"\n",
      "\n"
     ]
    }
   ],
   "source": [
    "# if status code is successful post the text\n",
    "if r.status_code == 200:\n",
    "    print(f\"Success: {r.text}\")\n",
    "else:\n",
    "    print(f\"Failure: {r.text}\")"
   ]
  },
  {
   "cell_type": "code",
   "execution_count": null,
   "metadata": {},
   "outputs": [],
   "source": []
  }
 ],
 "metadata": {
  "kernelspec": {
   "display_name": "Python (captstone)",
   "language": "python",
   "name": "capstone"
  },
  "language_info": {
   "codemirror_mode": {
    "name": "ipython",
    "version": 3
   },
   "file_extension": ".py",
   "mimetype": "text/x-python",
   "name": "python",
   "nbconvert_exporter": "python",
   "pygments_lexer": "ipython3",
   "version": "3.7.5"
  },
  "toc": {
   "base_numbering": 1,
   "nav_menu": {},
   "number_sections": true,
   "sideBar": true,
   "skip_h1_title": false,
   "title_cell": "Table of Contents",
   "title_sidebar": "Contents",
   "toc_cell": false,
   "toc_position": {},
   "toc_section_display": true,
   "toc_window_display": false
  }
 },
 "nbformat": 4,
 "nbformat_minor": 2
}
