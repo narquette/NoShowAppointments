{
 "cells": [
  {
   "cell_type": "markdown",
   "metadata": {},
   "source": [
    "# Import Modules"
   ]
  },
  {
   "cell_type": "code",
   "execution_count": 1,
   "metadata": {
    "ExecuteTime": {
     "end_time": "2020-03-19T17:05:53.584647Z",
     "start_time": "2020-03-19T17:05:51.668977Z"
    }
   },
   "outputs": [],
   "source": [
    "import pandas as pd\n",
    "import numpy as np\n",
    "import collections\n",
    "import seaborn as sns\n",
    "import os\n",
    "from sklearn import metrics\n",
    "from sklearn.model_selection import train_test_split\n",
    "from sklearn.feature_selection import RFE\n",
    "import matplotlib.pyplot as plt\n",
    "from sklearn import svm"
   ]
  },
  {
   "cell_type": "markdown",
   "metadata": {},
   "source": [
    "# Store Model Information"
   ]
  },
  {
   "cell_type": "code",
   "execution_count": 2,
   "metadata": {
    "ExecuteTime": {
     "end_time": "2020-03-19T17:05:55.257020Z",
     "start_time": "2020-03-19T17:05:55.250119Z"
    }
   },
   "outputs": [],
   "source": [
    "model_cols = ['ModelName','Accuracy','Precision','Recall','Mean Squared Error']\n",
    "model_info = pd.DataFrame(columns=model_cols)"
   ]
  },
  {
   "cell_type": "markdown",
   "metadata": {},
   "source": [
    "# Load Cleaned Data"
   ]
  },
  {
   "cell_type": "code",
   "execution_count": 3,
   "metadata": {
    "ExecuteTime": {
     "end_time": "2020-03-19T17:05:58.068109Z",
     "start_time": "2020-03-19T17:05:56.212691Z"
    }
   },
   "outputs": [],
   "source": [
    "filePath = os.path.join('../','../','../','Data','Stage','NoShowAppointments_cleaned.csv')\n",
    "df = pd.read_csv(filePath,low_memory=False)"
   ]
  },
  {
   "cell_type": "markdown",
   "metadata": {},
   "source": [
    "# Build data to model"
   ]
  },
  {
   "cell_type": "code",
   "execution_count": 4,
   "metadata": {
    "ExecuteTime": {
     "end_time": "2020-03-19T17:06:02.639307Z",
     "start_time": "2020-03-19T17:06:02.442010Z"
    }
   },
   "outputs": [],
   "source": [
    "X = df.drop(['NoShow','AppointmentID','PatientId'], axis=1)\n",
    "y = df['NoShow']\n",
    "X_train, X_test, y_train, y_test = train_test_split(X, y, test_size=0.33, random_state=42)"
   ]
  },
  {
   "cell_type": "markdown",
   "metadata": {},
   "source": [
    "# TensorFlow"
   ]
  },
  {
   "cell_type": "code",
   "execution_count": 7,
   "metadata": {
    "ExecuteTime": {
     "end_time": "2020-03-19T17:06:24.584545Z",
     "start_time": "2020-03-19T17:06:21.493300Z"
    }
   },
   "outputs": [],
   "source": [
    "import tensorflow\n",
    "from tensorflow.keras.models import Sequential\n",
    "from tensorflow.keras.layers import Dense, Activation,Dropout\n",
    "from tensorflow.keras.callbacks import EarlyStopping\n",
    "from sklearn.model_selection import train_test_split\n",
    "from sklearn.preprocessing import MinMaxScaler"
   ]
  },
  {
   "cell_type": "code",
   "execution_count": 8,
   "metadata": {
    "ExecuteTime": {
     "end_time": "2020-03-19T17:06:25.151664Z",
     "start_time": "2020-03-19T17:06:24.586908Z"
    }
   },
   "outputs": [],
   "source": [
    "X = df.drop(['NoShow','AppointmentID','PatientId'],axis=1).values\n",
    "y = df['NoShow'].values\n",
    "X_train, X_test, y_train, y_test = train_test_split(X,y,test_size=0.25,random_state=101)"
   ]
  },
  {
   "cell_type": "code",
   "execution_count": 9,
   "metadata": {
    "ExecuteTime": {
     "end_time": "2020-03-19T17:06:25.159642Z",
     "start_time": "2020-03-19T17:06:25.155523Z"
    }
   },
   "outputs": [],
   "source": [
    "scaler = MinMaxScaler()"
   ]
  },
  {
   "cell_type": "code",
   "execution_count": 10,
   "metadata": {
    "ExecuteTime": {
     "end_time": "2020-03-19T17:06:25.401251Z",
     "start_time": "2020-03-19T17:06:25.162829Z"
    }
   },
   "outputs": [
    {
     "data": {
      "text/plain": [
       "MinMaxScaler(copy=True, feature_range=(0, 1))"
      ]
     },
     "execution_count": 10,
     "metadata": {},
     "output_type": "execute_result"
    }
   ],
   "source": [
    "scaler.fit(X_train)"
   ]
  },
  {
   "cell_type": "code",
   "execution_count": 11,
   "metadata": {
    "ExecuteTime": {
     "end_time": "2020-03-19T17:06:30.211650Z",
     "start_time": "2020-03-19T17:06:30.060112Z"
    }
   },
   "outputs": [],
   "source": [
    "X_train = scaler.transform(X_train)\n",
    "X_test = scaler.transform(X_test)"
   ]
  },
  {
   "cell_type": "code",
   "execution_count": 10,
   "metadata": {
    "ExecuteTime": {
     "end_time": "2020-03-19T16:44:15.437043Z",
     "start_time": "2020-03-19T16:44:15.416071Z"
    }
   },
   "outputs": [],
   "source": [
    "model = Sequential()\n",
    "\n",
    "# https://stats.stackexchange.com/questions/181/how-to-choose-the-number-of-hidden-layers-and-nodes-in-a-feedforward-neural-netw\n",
    "\n",
    "model.add(Dense(units=110,activation='relu'))\n",
    "model.add(Dropout(0.5))\n",
    "model.add(Dense(units=50,activation='relu'))\n",
    "model.add(Dropout(0.5))\n",
    "model.add(Dense(units=25,activation='relu'))\n",
    "model.add(Dropout(0.5))\n",
    "model.add(Dense(units=1,activation='sigmoid'))\n",
    "\n",
    "# For a binary classification problem\n",
    "model.compile(loss='binary_crossentropy', optimizer='adam')"
   ]
  },
  {
   "cell_type": "code",
   "execution_count": 11,
   "metadata": {
    "ExecuteTime": {
     "end_time": "2020-03-19T16:44:15.506514Z",
     "start_time": "2020-03-19T16:44:15.440363Z"
    }
   },
   "outputs": [],
   "source": [
    "early_stop = EarlyStopping(monitor='val_loss', mode='min', verbose=1, patience=25)"
   ]
  },
  {
   "cell_type": "code",
   "execution_count": 12,
   "metadata": {
    "ExecuteTime": {
     "end_time": "2020-03-19T16:49:39.413635Z",
     "start_time": "2020-03-19T16:44:15.512131Z"
    }
   },
   "outputs": [
    {
     "name": "stdout",
     "output_type": "stream",
     "text": [
      "Train on 82894 samples, validate on 27632 samples\n",
      "Epoch 1/600\n",
      "82894/82894 [==============================] - 8s 92us/sample - loss: 0.4243 - val_loss: 0.2678\n",
      "Epoch 2/600\n",
      "82894/82894 [==============================] - 9s 113us/sample - loss: 0.2675 - val_loss: 0.2372\n",
      "Epoch 3/600\n",
      "82894/82894 [==============================] - 9s 103us/sample - loss: 0.2478 - val_loss: 0.2394\n",
      "Epoch 4/600\n",
      "82894/82894 [==============================] - 9s 106us/sample - loss: 0.2438 - val_loss: 0.2357\n",
      "Epoch 5/600\n",
      "82894/82894 [==============================] - 6s 78us/sample - loss: 0.2425 - val_loss: 0.2341\n",
      "Epoch 6/600\n",
      "82894/82894 [==============================] - 7s 82us/sample - loss: 0.2409 - val_loss: 0.2344\n",
      "Epoch 7/600\n",
      "82894/82894 [==============================] - 8s 91us/sample - loss: 0.2403 - val_loss: 0.2333\n",
      "Epoch 8/600\n",
      "82894/82894 [==============================] - 7s 84us/sample - loss: 0.2394 - val_loss: 0.2334\n",
      "Epoch 9/600\n",
      "82894/82894 [==============================] - 6s 74us/sample - loss: 0.2376 - val_loss: 0.2332\n",
      "Epoch 10/600\n",
      "82894/82894 [==============================] - 6s 75us/sample - loss: 0.2380 - val_loss: 0.2326\n",
      "Epoch 11/600\n",
      "82894/82894 [==============================] - 6s 75us/sample - loss: 0.2377 - val_loss: 0.2336\n",
      "Epoch 12/600\n",
      "82894/82894 [==============================] - 6s 76us/sample - loss: 0.2366 - val_loss: 0.2326\n",
      "Epoch 13/600\n",
      "82894/82894 [==============================] - 6s 76us/sample - loss: 0.2365 - val_loss: 0.2333\n",
      "Epoch 14/600\n",
      "82894/82894 [==============================] - 6s 75us/sample - loss: 0.2355 - val_loss: 0.2323\n",
      "Epoch 15/600\n",
      "82894/82894 [==============================] - 6s 75us/sample - loss: 0.2357 - val_loss: 0.2325\n",
      "Epoch 16/600\n",
      "82894/82894 [==============================] - 6s 76us/sample - loss: 0.2351 - val_loss: 0.2325\n",
      "Epoch 17/600\n",
      "82894/82894 [==============================] - 6s 76us/sample - loss: 0.2352 - val_loss: 0.2321\n",
      "Epoch 18/600\n",
      "82894/82894 [==============================] - 6s 75us/sample - loss: 0.2347 - val_loss: 0.2322\n",
      "Epoch 19/600\n",
      "82894/82894 [==============================] - 6s 75us/sample - loss: 0.2343 - val_loss: 0.2324\n",
      "Epoch 20/600\n",
      "82894/82894 [==============================] - 6s 75us/sample - loss: 0.2338 - val_loss: 0.2324\n",
      "Epoch 21/600\n",
      "82894/82894 [==============================] - 6s 78us/sample - loss: 0.2331 - val_loss: 0.2318\n",
      "Epoch 22/600\n",
      "82894/82894 [==============================] - 6s 75us/sample - loss: 0.2336 - val_loss: 0.2321\n",
      "Epoch 23/600\n",
      "82894/82894 [==============================] - 6s 76us/sample - loss: 0.2330 - val_loss: 0.2330\n",
      "Epoch 24/600\n",
      "82894/82894 [==============================] - 6s 76us/sample - loss: 0.2335 - val_loss: 0.2316\n",
      "Epoch 25/600\n",
      "82894/82894 [==============================] - 6s 76us/sample - loss: 0.2321 - val_loss: 0.2339\n",
      "Epoch 26/600\n",
      "82894/82894 [==============================] - 6s 76us/sample - loss: 0.2317 - val_loss: 0.2319\n",
      "Epoch 27/600\n",
      "82894/82894 [==============================] - 6s 76us/sample - loss: 0.2317 - val_loss: 0.2325\n",
      "Epoch 28/600\n",
      "82894/82894 [==============================] - 6s 76us/sample - loss: 0.2312 - val_loss: 0.2360\n",
      "Epoch 29/600\n",
      "82894/82894 [==============================] - 6s 75us/sample - loss: 0.2317 - val_loss: 0.2323\n",
      "Epoch 30/600\n",
      "82894/82894 [==============================] - 6s 75us/sample - loss: 0.2307 - val_loss: 0.2324\n",
      "Epoch 31/600\n",
      "82894/82894 [==============================] - 6s 77us/sample - loss: 0.2308 - val_loss: 0.2343\n",
      "Epoch 32/600\n",
      "82894/82894 [==============================] - 6s 75us/sample - loss: 0.2313 - val_loss: 0.2330\n",
      "Epoch 33/600\n",
      "82894/82894 [==============================] - 6s 78us/sample - loss: 0.2303 - val_loss: 0.2327\n",
      "Epoch 34/600\n",
      "82894/82894 [==============================] - 6s 75us/sample - loss: 0.2301 - val_loss: 0.2324\n",
      "Epoch 35/600\n",
      "82894/82894 [==============================] - 6s 75us/sample - loss: 0.2294 - val_loss: 0.2342\n",
      "Epoch 36/600\n",
      "82894/82894 [==============================] - 7s 80us/sample - loss: 0.2290 - val_loss: 0.2335\n",
      "Epoch 37/600\n",
      "82894/82894 [==============================] - 7s 86us/sample - loss: 0.2292 - val_loss: 0.2333\n",
      "Epoch 38/600\n",
      "82894/82894 [==============================] - 6s 78us/sample - loss: 0.2288 - val_loss: 0.2332\n",
      "Epoch 39/600\n",
      "82894/82894 [==============================] - 7s 81us/sample - loss: 0.2282 - val_loss: 0.2342\n",
      "Epoch 40/600\n",
      "82894/82894 [==============================] - 8s 97us/sample - loss: 0.2286 - val_loss: 0.2335\n",
      "Epoch 41/600\n",
      "82894/82894 [==============================] - 6s 77us/sample - loss: 0.2286 - val_loss: 0.2334\n",
      "Epoch 42/600\n",
      "82894/82894 [==============================] - 6s 78us/sample - loss: 0.2269 - val_loss: 0.2332\n",
      "Epoch 43/600\n",
      "82894/82894 [==============================] - 6s 76us/sample - loss: 0.2277 - val_loss: 0.2336\n",
      "Epoch 44/600\n",
      "82894/82894 [==============================] - 6s 75us/sample - loss: 0.2261 - val_loss: 0.2335\n",
      "Epoch 45/600\n",
      "82894/82894 [==============================] - 6s 77us/sample - loss: 0.2278 - val_loss: 0.2342\n",
      "Epoch 46/600\n",
      "82894/82894 [==============================] - 6s 77us/sample - loss: 0.2269 - val_loss: 0.2340\n",
      "Epoch 47/600\n",
      "82894/82894 [==============================] - 6s 76us/sample - loss: 0.2275 - val_loss: 0.2339\n",
      "Epoch 48/600\n",
      "82894/82894 [==============================] - 6s 76us/sample - loss: 0.2264 - val_loss: 0.2390\n",
      "Epoch 49/600\n",
      "82894/82894 [==============================] - 6s 75us/sample - loss: 0.2264 - val_loss: 0.2343\n",
      "Epoch 00049: early stopping\n"
     ]
    },
    {
     "data": {
      "text/plain": [
       "<tensorflow.python.keras.callbacks.History at 0x7ff260e7c710>"
      ]
     },
     "execution_count": 12,
     "metadata": {},
     "output_type": "execute_result"
    }
   ],
   "source": [
    "model.fit(x=X_train, \n",
    "          y=y_train, \n",
    "          epochs=600,\n",
    "          validation_data=(X_test, y_test), verbose=1,\n",
    "          callbacks=[early_stop]\n",
    "          )"
   ]
  },
  {
   "cell_type": "code",
   "execution_count": 13,
   "metadata": {
    "ExecuteTime": {
     "end_time": "2020-03-19T16:49:39.682800Z",
     "start_time": "2020-03-19T16:49:39.416285Z"
    }
   },
   "outputs": [
    {
     "data": {
      "text/plain": [
       "<matplotlib.axes._subplots.AxesSubplot at 0x7ff254bcf350>"
      ]
     },
     "execution_count": 13,
     "metadata": {},
     "output_type": "execute_result"
    },
    {
     "data": {
      "image/png": "[encoded data removed]",
      "text/plain": [
       "<Figure size 432x288 with 1 Axes>"
      ]
     },
     "metadata": {
      "needs_background": "light"
     },
     "output_type": "display_data"
    }
   ],
   "source": [
    "model_loss = pd.DataFrame(model.history.history)\n",
    "model_loss.plot()"
   ]
  },
  {
   "cell_type": "code",
   "execution_count": 14,
   "metadata": {
    "ExecuteTime": {
     "end_time": "2020-03-19T16:49:40.579532Z",
     "start_time": "2020-03-19T16:49:39.686926Z"
    }
   },
   "outputs": [],
   "source": [
    "predictions = model.predict_classes(X_test)"
   ]
  },
  {
   "cell_type": "code",
   "execution_count": 15,
   "metadata": {
    "ExecuteTime": {
     "end_time": "2020-03-19T16:49:40.585242Z",
     "start_time": "2020-03-19T16:49:40.581747Z"
    }
   },
   "outputs": [],
   "source": [
    "from sklearn.metrics import classification_report,confusion_matrix"
   ]
  },
  {
   "cell_type": "code",
   "execution_count": 16,
   "metadata": {
    "ExecuteTime": {
     "end_time": "2020-03-19T16:49:40.690276Z",
     "start_time": "2020-03-19T16:49:40.589244Z"
    }
   },
   "outputs": [
    {
     "name": "stdout",
     "output_type": "stream",
     "text": [
      "[[19211  2960]\n",
      " [  521  4940]]\n"
     ]
    }
   ],
   "source": [
    "print(confusion_matrix(y_test,predictions))"
   ]
  },
  {
   "cell_type": "code",
   "execution_count": 17,
   "metadata": {
    "ExecuteTime": {
     "end_time": "2020-03-19T16:49:40.773470Z",
     "start_time": "2020-03-19T16:49:40.694236Z"
    }
   },
   "outputs": [
    {
     "name": "stdout",
     "output_type": "stream",
     "text": [
      "Accuracy: 0.8740228720324261\n",
      "Precision: 0.6253164556962025\n",
      "Recall: 0.9045962277971068\n"
     ]
    }
   ],
   "source": [
    "print(\"Accuracy:\",metrics.accuracy_score(y_test, predictions))\n",
    "print(\"Precision:\",metrics.precision_score(y_test, predictions))\n",
    "print(\"Recall:\",metrics.recall_score(y_test, predictions))"
   ]
  },
  {
   "cell_type": "code",
   "execution_count": 18,
   "metadata": {
    "ExecuteTime": {
     "end_time": "2020-03-19T16:49:40.830652Z",
     "start_time": "2020-03-19T16:49:40.776815Z"
    }
   },
   "outputs": [],
   "source": [
    "name = 'Artificial Neural Network (ANN)'\n",
    "accuracy = metrics.accuracy_score(y_test, predictions)\n",
    "precision = metrics.precision_score(y_test, predictions)\n",
    "recall = metrics.recall_score(y_test, predictions)\n",
    "msqe = metrics.mean_squared_error(y_test, predictions)\n",
    "model_info = model_info.append(\n",
    "    {\n",
    "        'ModelName': name,\n",
    "        'Accuracy': accuracy,\n",
    "        'Precision': precision,\n",
    "        'Recall': recall,\n",
    "        'Mean Squared Error': msqe        \n",
    "    },\n",
    "    ignore_index=True)"
   ]
  },
  {
   "cell_type": "code",
   "execution_count": 19,
   "metadata": {
    "ExecuteTime": {
     "end_time": "2020-03-19T16:49:40.940587Z",
     "start_time": "2020-03-19T16:49:40.833890Z"
    }
   },
   "outputs": [],
   "source": [
    "#save model\n",
    "model.save(os.path.join('../','FinalModel','final_apptnoshow_model.h5'))"
   ]
  },
  {
   "cell_type": "markdown",
   "metadata": {},
   "source": [
    "# Show Table Metrics"
   ]
  },
  {
   "cell_type": "code",
   "execution_count": 20,
   "metadata": {
    "ExecuteTime": {
     "end_time": "2020-03-19T16:49:40.997803Z",
     "start_time": "2020-03-19T16:49:40.944553Z"
    }
   },
   "outputs": [
    {
     "data": {
      "text/html": [
       "<div>\n",
       "<style scoped>\n",
       "    .dataframe tbody tr th:only-of-type {\n",
       "        vertical-align: middle;\n",
       "    }\n",
       "\n",
       "    .dataframe tbody tr th {\n",
       "        vertical-align: top;\n",
       "    }\n",
       "\n",
       "    .dataframe thead th {\n",
       "        text-align: right;\n",
       "    }\n",
       "</style>\n",
       "<table border=\"1\" class=\"dataframe\">\n",
       "  <thead>\n",
       "    <tr style=\"text-align: right;\">\n",
       "      <th></th>\n",
       "      <th>ModelName</th>\n",
       "      <th>Accuracy</th>\n",
       "      <th>Precision</th>\n",
       "      <th>Recall</th>\n",
       "      <th>Mean Squared Error</th>\n",
       "    </tr>\n",
       "  </thead>\n",
       "  <tbody>\n",
       "    <tr>\n",
       "      <th>0</th>\n",
       "      <td>Artificial Neural Network (ANN)</td>\n",
       "      <td>0.874023</td>\n",
       "      <td>0.625316</td>\n",
       "      <td>0.904596</td>\n",
       "      <td>0.125977</td>\n",
       "    </tr>\n",
       "  </tbody>\n",
       "</table>\n",
       "</div>"
      ],
      "text/plain": [
       "                         ModelName  Accuracy  Precision    Recall  \\\n",
       "0  Artificial Neural Network (ANN)  0.874023   0.625316  0.904596   \n",
       "\n",
       "   Mean Squared Error  \n",
       "0            0.125977  "
      ]
     },
     "execution_count": 20,
     "metadata": {},
     "output_type": "execute_result"
    }
   ],
   "source": [
    "model_info"
   ]
  },
  {
   "cell_type": "markdown",
   "metadata": {},
   "source": [
    "# Save Scaler"
   ]
  },
  {
   "cell_type": "code",
   "execution_count": 12,
   "metadata": {
    "ExecuteTime": {
     "end_time": "2020-03-19T17:06:34.719661Z",
     "start_time": "2020-03-19T17:06:34.717145Z"
    }
   },
   "outputs": [],
   "source": [
    "import joblib"
   ]
  },
  {
   "cell_type": "code",
   "execution_count": 13,
   "metadata": {
    "ExecuteTime": {
     "end_time": "2020-03-19T17:06:35.202817Z",
     "start_time": "2020-03-19T17:06:35.194821Z"
    }
   },
   "outputs": [
    {
     "data": {
      "text/plain": [
       "['apptnoshow_scaler.pkl']"
      ]
     },
     "execution_count": 13,
     "metadata": {},
     "output_type": "execute_result"
    }
   ],
   "source": [
    "joblib.dump(scaler,os.path.join('../','FinalModel','apptnoshow_scaler.pkl'))"
   ]
  }
 ],
 "metadata": {
  "kernelspec": {
   "display_name": "Python (captstone)",
   "language": "python",
   "name": "capstone"
  },
  "language_info": {
   "codemirror_mode": {
    "name": "ipython",
    "version": 3
   },
   "file_extension": ".py",
   "mimetype": "text/x-python",
   "name": "python",
   "nbconvert_exporter": "python",
   "pygments_lexer": "ipython3",
   "version": "3.7.5"
  },
  "toc": {
   "base_numbering": 1,
   "nav_menu": {},
   "number_sections": true,
   "sideBar": true,
   "skip_h1_title": false,
   "title_cell": "Table of Contents",
   "title_sidebar": "Contents",
   "toc_cell": false,
   "toc_position": {
    "height": "calc(100% - 180px)",
    "left": "10px",
    "top": "150px",
    "width": "369px"
   },
   "toc_section_display": true,
   "toc_window_display": true
  }
 },
 "nbformat": 4,
 "nbformat_minor": 2
}
