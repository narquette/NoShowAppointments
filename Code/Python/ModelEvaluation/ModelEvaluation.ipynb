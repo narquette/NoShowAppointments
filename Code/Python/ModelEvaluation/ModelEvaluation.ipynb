{
 "cells": [
  {
   "cell_type": "markdown",
   "metadata": {},
   "source": [
    "# Import Modules"
   ]
  },
  {
   "cell_type": "code",
   "execution_count": 1,
   "metadata": {
    "ExecuteTime": {
     "end_time": "2020-04-03T02:32:43.594575Z",
     "start_time": "2020-04-03T02:32:41.955784Z"
    }
   },
   "outputs": [],
   "source": [
    "import pandas as pd\n",
    "import numpy as np\n",
    "import collections\n",
    "import seaborn as sns\n",
    "import os\n",
    "from sklearn import metrics\n",
    "from sklearn.model_selection import train_test_split\n",
    "from sklearn.feature_selection import RFE\n",
    "import matplotlib.pyplot as plt\n",
    "from sklearn import svm"
   ]
  },
  {
   "cell_type": "markdown",
   "metadata": {},
   "source": [
    "# Store Model Information"
   ]
  },
  {
   "cell_type": "code",
   "execution_count": 2,
   "metadata": {
    "ExecuteTime": {
     "end_time": "2020-04-03T02:32:43.604271Z",
     "start_time": "2020-04-03T02:32:43.597081Z"
    }
   },
   "outputs": [],
   "source": [
    "model_cols = ['ModelName','Accuracy','Precision','Recall','Mean Squared Error']\n",
    "model_info = pd.DataFrame(columns=model_cols)"
   ]
  },
  {
   "cell_type": "markdown",
   "metadata": {},
   "source": [
    "# Load Cleaned Data"
   ]
  },
  {
   "cell_type": "code",
   "execution_count": 3,
   "metadata": {
    "ExecuteTime": {
     "end_time": "2020-04-03T02:32:45.202128Z",
     "start_time": "2020-04-03T02:32:43.607861Z"
    }
   },
   "outputs": [],
   "source": [
    "filePath = os.path.join('../','../','../','Data','Stage','NoShowAppointments_cleaned.csv')\n",
    "df = pd.read_csv(filePath,low_memory=False)"
   ]
  },
  {
   "cell_type": "markdown",
   "metadata": {},
   "source": [
    "# Build data to model"
   ]
  },
  {
   "cell_type": "code",
   "execution_count": 4,
   "metadata": {
    "ExecuteTime": {
     "end_time": "2020-04-03T02:32:45.452666Z",
     "start_time": "2020-04-03T02:32:45.203841Z"
    }
   },
   "outputs": [],
   "source": [
    "X = df.drop(['NoShow','AppointmentID','PatientId'], axis=1)\n",
    "y = df['NoShow']\n",
    "X_train, X_test, y_train, y_test = train_test_split(X, y, test_size=0.33, random_state=42)"
   ]
  },
  {
   "cell_type": "markdown",
   "metadata": {},
   "source": [
    "# Logistic Regression"
   ]
  },
  {
   "cell_type": "code",
   "execution_count": 5,
   "metadata": {
    "ExecuteTime": {
     "end_time": "2020-04-03T02:32:50.146295Z",
     "start_time": "2020-04-03T02:32:45.454555Z"
    }
   },
   "outputs": [
    {
     "name": "stderr",
     "output_type": "stream",
     "text": [
      "[Parallel(n_jobs=1)]: Using backend SequentialBackend with 1 concurrent workers.\n",
      "[Parallel(n_jobs=1)]: Done   1 out of   1 | elapsed:    4.4s finished\n"
     ]
    },
    {
     "data": {
      "text/plain": [
       "82.78"
      ]
     },
     "execution_count": 5,
     "metadata": {},
     "output_type": "execute_result"
    }
   ],
   "source": [
    "from sklearn.linear_model import LogisticRegression\n",
    "\n",
    "#instantiate mode\n",
    "logmodel = LogisticRegression(verbose=True,max_iter=1000)\n",
    "\n",
    "#fit the model with data\n",
    "logmodel.fit(X_train,y_train)\n",
    "\n",
    "#Use model to predict\n",
    "y_pred = logmodel.predict(X_test)\n",
    "\n",
    "#Evaluate accuracy of the model\n",
    "acc_log = round(logmodel.score(X_test, y_test) * 100, 2)\n",
    "acc_log"
   ]
  },
  {
   "cell_type": "code",
   "execution_count": 6,
   "metadata": {
    "ExecuteTime": {
     "end_time": "2020-04-03T02:32:50.223366Z",
     "start_time": "2020-04-03T02:32:50.149901Z"
    }
   },
   "outputs": [
    {
     "data": {
      "text/plain": [
       "array([[27752,  1449],\n",
       "       [ 4831,  2442]])"
      ]
     },
     "execution_count": 6,
     "metadata": {},
     "output_type": "execute_result"
    }
   ],
   "source": [
    "cnf_matrix = metrics.confusion_matrix(y_test, y_pred)\n",
    "cnf_matrix"
   ]
  },
  {
   "cell_type": "code",
   "execution_count": 7,
   "metadata": {
    "ExecuteTime": {
     "end_time": "2020-04-03T02:32:50.370723Z",
     "start_time": "2020-04-03T02:32:50.226112Z"
    }
   },
   "outputs": [
    {
     "name": "stdout",
     "output_type": "stream",
     "text": [
      "              precision    recall  f1-score   support\n",
      "\n",
      "           0       0.85      0.95      0.90     29201\n",
      "           1       0.63      0.34      0.44      7273\n",
      "\n",
      "    accuracy                           0.83     36474\n",
      "   macro avg       0.74      0.64      0.67     36474\n",
      "weighted avg       0.81      0.83      0.81     36474\n",
      "\n"
     ]
    }
   ],
   "source": [
    "print(metrics.classification_report(y_test, logmodel.predict(X_test)))"
   ]
  },
  {
   "cell_type": "code",
   "execution_count": 8,
   "metadata": {
    "ExecuteTime": {
     "end_time": "2020-04-03T02:32:50.642856Z",
     "start_time": "2020-04-03T02:32:50.375338Z"
    }
   },
   "outputs": [
    {
     "data": {
      "image/png": "[encoded data removed]",
      "text/plain": [
       "<Figure size 576x576 with 1 Axes>"
      ]
     },
     "metadata": {
      "needs_background": "light"
     },
     "output_type": "display_data"
    }
   ],
   "source": [
    "cm = metrics.confusion_matrix(y_test, logmodel.predict(X_test))\n",
    "\n",
    "fig, ax = plt.subplots(figsize=(8, 8))\n",
    "ax.imshow(cm)\n",
    "ax.grid(False)\n",
    "ax.xaxis.set(ticks=(0, 1), ticklabels=('Predicted 0s', 'Predicted 1s'))\n",
    "ax.yaxis.set(ticks=(0, 1), ticklabels=('Actual 0s', 'Actual 1s'))\n",
    "ax.set_ylim(1.5, -0.5)\n",
    "for i in range(2):\n",
    "    for j in range(2):\n",
    "        ax.text(j, i, cm[i, j], ha='center', va='center', color='red')\n",
    "plt.show()"
   ]
  },
  {
   "cell_type": "code",
   "execution_count": 9,
   "metadata": {
    "ExecuteTime": {
     "end_time": "2020-04-03T02:32:50.725887Z",
     "start_time": "2020-04-03T02:32:50.647109Z"
    }
   },
   "outputs": [
    {
     "name": "stdout",
     "output_type": "stream",
     "text": [
      "Accuracy: 0.8278225585348468\n",
      "Precision: 0.6276021588280648\n",
      "Recall: 0.3357624089096659\n"
     ]
    }
   ],
   "source": [
    "print(\"Accuracy:\",metrics.accuracy_score(y_test, y_pred))\n",
    "print(\"Precision:\",metrics.precision_score(y_test, y_pred))\n",
    "print(\"Recall:\",metrics.recall_score(y_test, y_pred))"
   ]
  },
  {
   "cell_type": "code",
   "execution_count": 10,
   "metadata": {
    "ExecuteTime": {
     "end_time": "2020-04-03T02:32:50.797382Z",
     "start_time": "2020-04-03T02:32:50.729051Z"
    }
   },
   "outputs": [],
   "source": [
    "name = 'Logistic'\n",
    "accuracy = metrics.accuracy_score(y_test, y_pred)\n",
    "precision = metrics.precision_score(y_test, y_pred)\n",
    "msqe = metrics.mean_squared_error(y_test, y_pred)\n",
    "recall = metrics.recall_score(y_test, y_pred)"
   ]
  },
  {
   "cell_type": "code",
   "execution_count": 11,
   "metadata": {
    "ExecuteTime": {
     "end_time": "2020-04-03T02:32:50.846852Z",
     "start_time": "2020-04-03T02:32:50.800951Z"
    }
   },
   "outputs": [],
   "source": [
    "model_info = model_info.append(\n",
    "    {\n",
    "        'ModelName': name,\n",
    "        'Accuracy': accuracy,\n",
    "        'Precision': precision,\n",
    "        'Recall': recall,\n",
    "        'Mean Squared Error': msqe\n",
    "    },\n",
    "    ignore_index=True)"
   ]
  },
  {
   "cell_type": "markdown",
   "metadata": {},
   "source": [
    "# Feature Importance"
   ]
  },
  {
   "cell_type": "code",
   "execution_count": 12,
   "metadata": {
    "ExecuteTime": {
     "end_time": "2020-04-03T02:36:38.701941Z",
     "start_time": "2020-04-03T02:32:50.850982Z"
    }
   },
   "outputs": [
    {
     "name": "stderr",
     "output_type": "stream",
     "text": [
      "[Parallel(n_jobs=1)]: Using backend SequentialBackend with 1 concurrent workers.\n",
      "[Parallel(n_jobs=1)]: Done   1 out of   1 | elapsed:    4.8s finished\n",
      "[Parallel(n_jobs=1)]: Using backend SequentialBackend with 1 concurrent workers.\n",
      "[Parallel(n_jobs=1)]: Done   1 out of   1 | elapsed:    4.3s finished\n",
      "[Parallel(n_jobs=1)]: Using backend SequentialBackend with 1 concurrent workers.\n",
      "[Parallel(n_jobs=1)]: Done   1 out of   1 | elapsed:    4.3s finished\n",
      "[Parallel(n_jobs=1)]: Using backend SequentialBackend with 1 concurrent workers.\n",
      "[Parallel(n_jobs=1)]: Done   1 out of   1 | elapsed:    4.7s finished\n",
      "[Parallel(n_jobs=1)]: Using backend SequentialBackend with 1 concurrent workers.\n",
      "[Parallel(n_jobs=1)]: Done   1 out of   1 | elapsed:    4.3s finished\n",
      "[Parallel(n_jobs=1)]: Using backend SequentialBackend with 1 concurrent workers.\n",
      "[Parallel(n_jobs=1)]: Done   1 out of   1 | elapsed:    4.1s finished\n",
      "[Parallel(n_jobs=1)]: Using backend SequentialBackend with 1 concurrent workers.\n",
      "[Parallel(n_jobs=1)]: Done   1 out of   1 | elapsed:    4.6s finished\n",
      "[Parallel(n_jobs=1)]: Using backend SequentialBackend with 1 concurrent workers.\n",
      "[Parallel(n_jobs=1)]: Done   1 out of   1 | elapsed:    3.7s finished\n",
      "[Parallel(n_jobs=1)]: Using backend SequentialBackend with 1 concurrent workers.\n",
      "[Parallel(n_jobs=1)]: Done   1 out of   1 | elapsed:    3.8s finished\n",
      "[Parallel(n_jobs=1)]: Using backend SequentialBackend with 1 concurrent workers.\n",
      "[Parallel(n_jobs=1)]: Done   1 out of   1 | elapsed:    3.6s finished\n",
      "[Parallel(n_jobs=1)]: Using backend SequentialBackend with 1 concurrent workers.\n",
      "[Parallel(n_jobs=1)]: Done   1 out of   1 | elapsed:    3.2s finished\n",
      "[Parallel(n_jobs=1)]: Using backend SequentialBackend with 1 concurrent workers.\n",
      "[Parallel(n_jobs=1)]: Done   1 out of   1 | elapsed:    4.0s finished\n",
      "[Parallel(n_jobs=1)]: Using backend SequentialBackend with 1 concurrent workers.\n",
      "[Parallel(n_jobs=1)]: Done   1 out of   1 | elapsed:    3.7s finished\n",
      "[Parallel(n_jobs=1)]: Using backend SequentialBackend with 1 concurrent workers.\n",
      "[Parallel(n_jobs=1)]: Done   1 out of   1 | elapsed:    3.9s finished\n",
      "[Parallel(n_jobs=1)]: Using backend SequentialBackend with 1 concurrent workers.\n",
      "[Parallel(n_jobs=1)]: Done   1 out of   1 | elapsed:    3.6s finished\n",
      "[Parallel(n_jobs=1)]: Using backend SequentialBackend with 1 concurrent workers.\n",
      "[Parallel(n_jobs=1)]: Done   1 out of   1 | elapsed:    3.8s finished\n",
      "[Parallel(n_jobs=1)]: Using backend SequentialBackend with 1 concurrent workers.\n",
      "[Parallel(n_jobs=1)]: Done   1 out of   1 | elapsed:    3.5s finished\n",
      "[Parallel(n_jobs=1)]: Using backend SequentialBackend with 1 concurrent workers.\n",
      "[Parallel(n_jobs=1)]: Done   1 out of   1 | elapsed:    3.9s finished\n",
      "[Parallel(n_jobs=1)]: Using backend SequentialBackend with 1 concurrent workers.\n",
      "[Parallel(n_jobs=1)]: Done   1 out of   1 | elapsed:    3.4s finished\n",
      "[Parallel(n_jobs=1)]: Using backend SequentialBackend with 1 concurrent workers.\n",
      "[Parallel(n_jobs=1)]: Done   1 out of   1 | elapsed:    3.2s finished\n",
      "[Parallel(n_jobs=1)]: Using backend SequentialBackend with 1 concurrent workers.\n",
      "[Parallel(n_jobs=1)]: Done   1 out of   1 | elapsed:    3.9s finished\n",
      "[Parallel(n_jobs=1)]: Using backend SequentialBackend with 1 concurrent workers.\n",
      "[Parallel(n_jobs=1)]: Done   1 out of   1 | elapsed:    3.6s finished\n",
      "[Parallel(n_jobs=1)]: Using backend SequentialBackend with 1 concurrent workers.\n",
      "[Parallel(n_jobs=1)]: Done   1 out of   1 | elapsed:    3.7s finished\n",
      "[Parallel(n_jobs=1)]: Using backend SequentialBackend with 1 concurrent workers.\n",
      "[Parallel(n_jobs=1)]: Done   1 out of   1 | elapsed:    3.0s finished\n",
      "[Parallel(n_jobs=1)]: Using backend SequentialBackend with 1 concurrent workers.\n",
      "[Parallel(n_jobs=1)]: Done   1 out of   1 | elapsed:    2.8s finished\n",
      "[Parallel(n_jobs=1)]: Using backend SequentialBackend with 1 concurrent workers.\n",
      "[Parallel(n_jobs=1)]: Done   1 out of   1 | elapsed:    2.6s finished\n",
      "[Parallel(n_jobs=1)]: Using backend SequentialBackend with 1 concurrent workers.\n",
      "[Parallel(n_jobs=1)]: Done   1 out of   1 | elapsed:    3.0s finished\n",
      "[Parallel(n_jobs=1)]: Using backend SequentialBackend with 1 concurrent workers.\n",
      "[Parallel(n_jobs=1)]: Done   1 out of   1 | elapsed:    2.5s finished\n",
      "[Parallel(n_jobs=1)]: Using backend SequentialBackend with 1 concurrent workers.\n",
      "[Parallel(n_jobs=1)]: Done   1 out of   1 | elapsed:    3.0s finished\n",
      "[Parallel(n_jobs=1)]: Using backend SequentialBackend with 1 concurrent workers.\n",
      "[Parallel(n_jobs=1)]: Done   1 out of   1 | elapsed:    2.5s finished\n",
      "[Parallel(n_jobs=1)]: Using backend SequentialBackend with 1 concurrent workers.\n",
      "[Parallel(n_jobs=1)]: Done   1 out of   1 | elapsed:    2.6s finished\n",
      "[Parallel(n_jobs=1)]: Using backend SequentialBackend with 1 concurrent workers.\n",
      "[Parallel(n_jobs=1)]: Done   1 out of   1 | elapsed:    2.3s finished\n",
      "[Parallel(n_jobs=1)]: Using backend SequentialBackend with 1 concurrent workers.\n",
      "[Parallel(n_jobs=1)]: Done   1 out of   1 | elapsed:    2.2s finished\n",
      "[Parallel(n_jobs=1)]: Using backend SequentialBackend with 1 concurrent workers.\n",
      "[Parallel(n_jobs=1)]: Done   1 out of   1 | elapsed:    1.9s finished\n",
      "[Parallel(n_jobs=1)]: Using backend SequentialBackend with 1 concurrent workers.\n",
      "[Parallel(n_jobs=1)]: Done   1 out of   1 | elapsed:    2.2s finished\n",
      "[Parallel(n_jobs=1)]: Using backend SequentialBackend with 1 concurrent workers.\n",
      "[Parallel(n_jobs=1)]: Done   1 out of   1 | elapsed:    1.9s finished\n",
      "[Parallel(n_jobs=1)]: Using backend SequentialBackend with 1 concurrent workers.\n",
      "[Parallel(n_jobs=1)]: Done   1 out of   1 | elapsed:    1.8s finished\n",
      "[Parallel(n_jobs=1)]: Using backend SequentialBackend with 1 concurrent workers.\n",
      "[Parallel(n_jobs=1)]: Done   1 out of   1 | elapsed:    1.7s finished\n",
      "[Parallel(n_jobs=1)]: Using backend SequentialBackend with 1 concurrent workers.\n",
      "[Parallel(n_jobs=1)]: Done   1 out of   1 | elapsed:    1.9s finished\n",
      "[Parallel(n_jobs=1)]: Using backend SequentialBackend with 1 concurrent workers.\n",
      "[Parallel(n_jobs=1)]: Done   1 out of   1 | elapsed:    1.9s finished\n",
      "[Parallel(n_jobs=1)]: Using backend SequentialBackend with 1 concurrent workers.\n",
      "[Parallel(n_jobs=1)]: Done   1 out of   1 | elapsed:    1.5s finished\n",
      "[Parallel(n_jobs=1)]: Using backend SequentialBackend with 1 concurrent workers.\n",
      "[Parallel(n_jobs=1)]: Done   1 out of   1 | elapsed:    1.6s finished\n",
      "[Parallel(n_jobs=1)]: Using backend SequentialBackend with 1 concurrent workers.\n",
      "[Parallel(n_jobs=1)]: Done   1 out of   1 | elapsed:    1.9s finished\n",
      "[Parallel(n_jobs=1)]: Using backend SequentialBackend with 1 concurrent workers.\n",
      "[Parallel(n_jobs=1)]: Done   1 out of   1 | elapsed:    1.8s finished\n",
      "[Parallel(n_jobs=1)]: Using backend SequentialBackend with 1 concurrent workers.\n",
      "[Parallel(n_jobs=1)]: Done   1 out of   1 | elapsed:    1.9s finished\n",
      "[Parallel(n_jobs=1)]: Using backend SequentialBackend with 1 concurrent workers.\n",
      "[Parallel(n_jobs=1)]: Done   1 out of   1 | elapsed:    1.8s finished\n",
      "[Parallel(n_jobs=1)]: Using backend SequentialBackend with 1 concurrent workers.\n",
      "[Parallel(n_jobs=1)]: Done   1 out of   1 | elapsed:    1.8s finished\n",
      "[Parallel(n_jobs=1)]: Using backend SequentialBackend with 1 concurrent workers.\n",
      "[Parallel(n_jobs=1)]: Done   1 out of   1 | elapsed:    1.6s finished\n",
      "[Parallel(n_jobs=1)]: Using backend SequentialBackend with 1 concurrent workers.\n",
      "[Parallel(n_jobs=1)]: Done   1 out of   1 | elapsed:    1.7s finished\n",
      "[Parallel(n_jobs=1)]: Using backend SequentialBackend with 1 concurrent workers.\n",
      "[Parallel(n_jobs=1)]: Done   1 out of   1 | elapsed:    1.8s finished\n",
      "[Parallel(n_jobs=1)]: Using backend SequentialBackend with 1 concurrent workers.\n",
      "[Parallel(n_jobs=1)]: Done   1 out of   1 | elapsed:    1.9s finished\n",
      "[Parallel(n_jobs=1)]: Using backend SequentialBackend with 1 concurrent workers.\n",
      "[Parallel(n_jobs=1)]: Done   1 out of   1 | elapsed:    1.7s finished\n",
      "[Parallel(n_jobs=1)]: Using backend SequentialBackend with 1 concurrent workers.\n",
      "[Parallel(n_jobs=1)]: Done   1 out of   1 | elapsed:    1.6s finished\n",
      "[Parallel(n_jobs=1)]: Using backend SequentialBackend with 1 concurrent workers.\n",
      "[Parallel(n_jobs=1)]: Done   1 out of   1 | elapsed:    1.8s finished\n",
      "[Parallel(n_jobs=1)]: Using backend SequentialBackend with 1 concurrent workers.\n"
     ]
    },
    {
     "name": "stderr",
     "output_type": "stream",
     "text": [
      "[Parallel(n_jobs=1)]: Done   1 out of   1 | elapsed:    1.8s finished\n",
      "[Parallel(n_jobs=1)]: Using backend SequentialBackend with 1 concurrent workers.\n",
      "[Parallel(n_jobs=1)]: Done   1 out of   1 | elapsed:    1.5s finished\n",
      "[Parallel(n_jobs=1)]: Using backend SequentialBackend with 1 concurrent workers.\n",
      "[Parallel(n_jobs=1)]: Done   1 out of   1 | elapsed:    1.6s finished\n",
      "[Parallel(n_jobs=1)]: Using backend SequentialBackend with 1 concurrent workers.\n",
      "[Parallel(n_jobs=1)]: Done   1 out of   1 | elapsed:    1.5s finished\n",
      "[Parallel(n_jobs=1)]: Using backend SequentialBackend with 1 concurrent workers.\n",
      "[Parallel(n_jobs=1)]: Done   1 out of   1 | elapsed:    1.5s finished\n",
      "[Parallel(n_jobs=1)]: Using backend SequentialBackend with 1 concurrent workers.\n",
      "[Parallel(n_jobs=1)]: Done   1 out of   1 | elapsed:    1.5s finished\n",
      "[Parallel(n_jobs=1)]: Using backend SequentialBackend with 1 concurrent workers.\n",
      "[Parallel(n_jobs=1)]: Done   1 out of   1 | elapsed:    1.5s finished\n",
      "[Parallel(n_jobs=1)]: Using backend SequentialBackend with 1 concurrent workers.\n",
      "[Parallel(n_jobs=1)]: Done   1 out of   1 | elapsed:    1.3s finished\n",
      "[Parallel(n_jobs=1)]: Using backend SequentialBackend with 1 concurrent workers.\n",
      "[Parallel(n_jobs=1)]: Done   1 out of   1 | elapsed:    1.2s finished\n",
      "[Parallel(n_jobs=1)]: Using backend SequentialBackend with 1 concurrent workers.\n",
      "[Parallel(n_jobs=1)]: Done   1 out of   1 | elapsed:    1.4s finished\n",
      "[Parallel(n_jobs=1)]: Using backend SequentialBackend with 1 concurrent workers.\n",
      "[Parallel(n_jobs=1)]: Done   1 out of   1 | elapsed:    1.4s finished\n",
      "[Parallel(n_jobs=1)]: Using backend SequentialBackend with 1 concurrent workers.\n",
      "[Parallel(n_jobs=1)]: Done   1 out of   1 | elapsed:    1.4s finished\n",
      "[Parallel(n_jobs=1)]: Using backend SequentialBackend with 1 concurrent workers.\n",
      "[Parallel(n_jobs=1)]: Done   1 out of   1 | elapsed:    1.4s finished\n",
      "[Parallel(n_jobs=1)]: Using backend SequentialBackend with 1 concurrent workers.\n",
      "[Parallel(n_jobs=1)]: Done   1 out of   1 | elapsed:    1.3s finished\n",
      "[Parallel(n_jobs=1)]: Using backend SequentialBackend with 1 concurrent workers.\n",
      "[Parallel(n_jobs=1)]: Done   1 out of   1 | elapsed:    1.5s finished\n",
      "[Parallel(n_jobs=1)]: Using backend SequentialBackend with 1 concurrent workers.\n",
      "[Parallel(n_jobs=1)]: Done   1 out of   1 | elapsed:    1.4s finished\n",
      "[Parallel(n_jobs=1)]: Using backend SequentialBackend with 1 concurrent workers.\n",
      "[Parallel(n_jobs=1)]: Done   1 out of   1 | elapsed:    1.6s finished\n",
      "[Parallel(n_jobs=1)]: Using backend SequentialBackend with 1 concurrent workers.\n",
      "[Parallel(n_jobs=1)]: Done   1 out of   1 | elapsed:    1.3s finished\n",
      "[Parallel(n_jobs=1)]: Using backend SequentialBackend with 1 concurrent workers.\n",
      "[Parallel(n_jobs=1)]: Done   1 out of   1 | elapsed:    1.3s finished\n",
      "[Parallel(n_jobs=1)]: Using backend SequentialBackend with 1 concurrent workers.\n",
      "[Parallel(n_jobs=1)]: Done   1 out of   1 | elapsed:    1.3s finished\n",
      "[Parallel(n_jobs=1)]: Using backend SequentialBackend with 1 concurrent workers.\n",
      "[Parallel(n_jobs=1)]: Done   1 out of   1 | elapsed:    1.3s finished\n",
      "[Parallel(n_jobs=1)]: Using backend SequentialBackend with 1 concurrent workers.\n",
      "[Parallel(n_jobs=1)]: Done   1 out of   1 | elapsed:    1.4s finished\n",
      "[Parallel(n_jobs=1)]: Using backend SequentialBackend with 1 concurrent workers.\n",
      "[Parallel(n_jobs=1)]: Done   1 out of   1 | elapsed:    1.3s finished\n",
      "[Parallel(n_jobs=1)]: Using backend SequentialBackend with 1 concurrent workers.\n",
      "[Parallel(n_jobs=1)]: Done   1 out of   1 | elapsed:    1.5s finished\n",
      "[Parallel(n_jobs=1)]: Using backend SequentialBackend with 1 concurrent workers.\n",
      "[Parallel(n_jobs=1)]: Done   1 out of   1 | elapsed:    1.5s finished\n",
      "[Parallel(n_jobs=1)]: Using backend SequentialBackend with 1 concurrent workers.\n",
      "[Parallel(n_jobs=1)]: Done   1 out of   1 | elapsed:    1.2s finished\n",
      "[Parallel(n_jobs=1)]: Using backend SequentialBackend with 1 concurrent workers.\n",
      "[Parallel(n_jobs=1)]: Done   1 out of   1 | elapsed:    1.1s finished\n",
      "[Parallel(n_jobs=1)]: Using backend SequentialBackend with 1 concurrent workers.\n",
      "[Parallel(n_jobs=1)]: Done   1 out of   1 | elapsed:    1.3s finished\n",
      "[Parallel(n_jobs=1)]: Using backend SequentialBackend with 1 concurrent workers.\n",
      "[Parallel(n_jobs=1)]: Done   1 out of   1 | elapsed:    1.1s finished\n",
      "[Parallel(n_jobs=1)]: Using backend SequentialBackend with 1 concurrent workers.\n",
      "[Parallel(n_jobs=1)]: Done   1 out of   1 | elapsed:    1.0s finished\n",
      "[Parallel(n_jobs=1)]: Using backend SequentialBackend with 1 concurrent workers.\n",
      "[Parallel(n_jobs=1)]: Done   1 out of   1 | elapsed:    1.3s finished\n",
      "[Parallel(n_jobs=1)]: Using backend SequentialBackend with 1 concurrent workers.\n",
      "[Parallel(n_jobs=1)]: Done   1 out of   1 | elapsed:    1.2s finished\n",
      "[Parallel(n_jobs=1)]: Using backend SequentialBackend with 1 concurrent workers.\n",
      "[Parallel(n_jobs=1)]: Done   1 out of   1 | elapsed:    0.9s finished\n",
      "[Parallel(n_jobs=1)]: Using backend SequentialBackend with 1 concurrent workers.\n",
      "[Parallel(n_jobs=1)]: Done   1 out of   1 | elapsed:    0.9s finished\n",
      "[Parallel(n_jobs=1)]: Using backend SequentialBackend with 1 concurrent workers.\n",
      "[Parallel(n_jobs=1)]: Done   1 out of   1 | elapsed:    1.2s finished\n",
      "[Parallel(n_jobs=1)]: Using backend SequentialBackend with 1 concurrent workers.\n",
      "[Parallel(n_jobs=1)]: Done   1 out of   1 | elapsed:    1.0s finished\n",
      "[Parallel(n_jobs=1)]: Using backend SequentialBackend with 1 concurrent workers.\n",
      "[Parallel(n_jobs=1)]: Done   1 out of   1 | elapsed:    1.0s finished\n",
      "[Parallel(n_jobs=1)]: Using backend SequentialBackend with 1 concurrent workers.\n",
      "[Parallel(n_jobs=1)]: Done   1 out of   1 | elapsed:    1.0s finished\n",
      "[Parallel(n_jobs=1)]: Using backend SequentialBackend with 1 concurrent workers.\n",
      "[Parallel(n_jobs=1)]: Done   1 out of   1 | elapsed:    0.9s finished\n",
      "[Parallel(n_jobs=1)]: Using backend SequentialBackend with 1 concurrent workers.\n",
      "[Parallel(n_jobs=1)]: Done   1 out of   1 | elapsed:    0.9s finished\n",
      "[Parallel(n_jobs=1)]: Using backend SequentialBackend with 1 concurrent workers.\n",
      "[Parallel(n_jobs=1)]: Done   1 out of   1 | elapsed:    0.9s finished\n",
      "[Parallel(n_jobs=1)]: Using backend SequentialBackend with 1 concurrent workers.\n",
      "[Parallel(n_jobs=1)]: Done   1 out of   1 | elapsed:    0.8s finished\n",
      "[Parallel(n_jobs=1)]: Using backend SequentialBackend with 1 concurrent workers.\n",
      "[Parallel(n_jobs=1)]: Done   1 out of   1 | elapsed:    0.8s finished\n",
      "[Parallel(n_jobs=1)]: Using backend SequentialBackend with 1 concurrent workers.\n",
      "[Parallel(n_jobs=1)]: Done   1 out of   1 | elapsed:    0.9s finished\n",
      "[Parallel(n_jobs=1)]: Using backend SequentialBackend with 1 concurrent workers.\n",
      "[Parallel(n_jobs=1)]: Done   1 out of   1 | elapsed:    0.9s finished\n",
      "[Parallel(n_jobs=1)]: Using backend SequentialBackend with 1 concurrent workers.\n",
      "[Parallel(n_jobs=1)]: Done   1 out of   1 | elapsed:    0.7s finished\n",
      "[Parallel(n_jobs=1)]: Using backend SequentialBackend with 1 concurrent workers.\n",
      "[Parallel(n_jobs=1)]: Done   1 out of   1 | elapsed:    0.7s finished\n",
      "[Parallel(n_jobs=1)]: Using backend SequentialBackend with 1 concurrent workers.\n",
      "[Parallel(n_jobs=1)]: Done   1 out of   1 | elapsed:    0.6s finished\n",
      "[Parallel(n_jobs=1)]: Using backend SequentialBackend with 1 concurrent workers.\n",
      "[Parallel(n_jobs=1)]: Done   1 out of   1 | elapsed:    0.6s finished\n",
      "[Parallel(n_jobs=1)]: Using backend SequentialBackend with 1 concurrent workers.\n",
      "[Parallel(n_jobs=1)]: Done   1 out of   1 | elapsed:    0.5s finished\n",
      "[Parallel(n_jobs=1)]: Using backend SequentialBackend with 1 concurrent workers.\n",
      "[Parallel(n_jobs=1)]: Done   1 out of   1 | elapsed:    0.5s finished\n",
      "[Parallel(n_jobs=1)]: Using backend SequentialBackend with 1 concurrent workers.\n",
      "[Parallel(n_jobs=1)]: Done   1 out of   1 | elapsed:    0.3s finished\n",
      "[Parallel(n_jobs=1)]: Using backend SequentialBackend with 1 concurrent workers.\n",
      "[Parallel(n_jobs=1)]: Done   1 out of   1 | elapsed:    0.3s finished\n",
      "[Parallel(n_jobs=1)]: Using backend SequentialBackend with 1 concurrent workers.\n",
      "[Parallel(n_jobs=1)]: Done   1 out of   1 | elapsed:    0.2s finished\n",
      "[Parallel(n_jobs=1)]: Using backend SequentialBackend with 1 concurrent workers.\n",
      "[Parallel(n_jobs=1)]: Done   1 out of   1 | elapsed:    0.1s finished\n",
      "[Parallel(n_jobs=1)]: Using backend SequentialBackend with 1 concurrent workers.\n",
      "[Parallel(n_jobs=1)]: Done   1 out of   1 | elapsed:    0.1s finished\n"
     ]
    }
   ],
   "source": [
    "#get feature importance\n",
    "predictors = X_train\n",
    "selector = RFE(logmodel, n_features_to_select = 1)\n",
    "selector = selector.fit(predictors, y_train)"
   ]
  },
  {
   "cell_type": "code",
   "execution_count": 13,
   "metadata": {
    "ExecuteTime": {
     "end_time": "2020-04-03T02:36:38.715388Z",
     "start_time": "2020-04-03T02:36:38.704678Z"
    }
   },
   "outputs": [
    {
     "data": {
      "text/plain": [
       "array([ 47,  52,  79,  73,  11,  91,   1,  92, 110,   8,  82,  31,  19,\n",
       "        27,  42,  71,  12,  16,  39,  41,  72,  77,  35,  49,   3,  75,\n",
       "        37,  66,  48,  24,   7,  83,  25,   6,  33, 108,  10,   9,  43,\n",
       "        44,  38,   5,  26,  65,  51,  34,  46,   4,  97,  14,  45,  63,\n",
       "        98,  81,  93,  60,  36,  23,  84,  94,  64,  28,  95,  69, 105,\n",
       "        22,  86,  30,  89,  29,  62,  15, 107,  21,  40,  50,  32,  78,\n",
       "        20,  76,  59,  18, 106,  13,  58,  74,  96,  17,  67,  54,  68,\n",
       "        99,  61,  85, 102,  70, 100, 103,  90,  55, 109,  53, 101,  88,\n",
       "        87,  56, 104,  80,  57,   2])"
      ]
     },
     "execution_count": 13,
     "metadata": {},
     "output_type": "execute_result"
    }
   ],
   "source": [
    "#look at the ranking\n",
    "order = selector.ranking_\n",
    "order"
   ]
  },
  {
   "cell_type": "code",
   "execution_count": 14,
   "metadata": {
    "ExecuteTime": {
     "end_time": "2020-04-03T02:36:38.807772Z",
     "start_time": "2020-04-03T02:36:38.718308Z"
    }
   },
   "outputs": [],
   "source": [
    "cols = [c for c in df.columns if c not in ['NoShow', 'PatientId', 'AppointmentID']]"
   ]
  },
  {
   "cell_type": "code",
   "execution_count": 15,
   "metadata": {
    "ExecuteTime": {
     "end_time": "2020-04-03T02:36:38.998178Z",
     "start_time": "2020-04-03T02:36:38.813278Z"
    },
    "code_folding": []
   },
   "outputs": [
    {
     "name": "stdout",
     "output_type": "stream",
     "text": [
      "1 SameDayAppointment\n",
      "2 NoShowSum\n",
      "3 Neighborhood_COMDUSA\n",
      "4 Neighborhood_ILHAS OCEANICAS DE TRINDADE\n",
      "5 Neighborhood_HORTO\n",
      "6 Neighborhood_ENSEADA DO SUA\n",
      "7 Neighborhood_DO CABRAL\n",
      "8 Age Group_Toddler/baby\n",
      "9 Neighborhood_FRADINHOS\n",
      "10 Neighborhood_FORTE SAO JOAO\n",
      "11 Handicap\n",
      "12 Neighborhood_ARIOVALDO FAVALESSA\n",
      "13 Neighborhood_SANTOS DUMONT\n",
      "14 Neighborhood_ITARARE\n",
      "15 Neighborhood_REPUBLICA\n",
      "16 Neighborhood_BARRO VERMELHO\n",
      "17 Neighborhood_SAO JOSE\n",
      "18 Neighborhood_SANTO ANDRE\n",
      "19 Age Group_Elderly\n",
      "20 Neighborhood_SANTA LUIZA\n",
      "21 Neighborhood_ROMAO\n",
      "22 Neighborhood_PARQUE MOSCOSO\n",
      "23 Neighborhood_MARIO CYPRESTE\n",
      "24 Neighborhood_DE LOURDES\n",
      "25 Neighborhood_DO QUADRO\n",
      "26 Neighborhood_ILHA DAS CAIEIRAS\n",
      "27 Neighborhood_AEROPORTO\n",
      "28 Neighborhood_MORADA DE CAMBURI\n",
      "29 Neighborhood_PRAIA DO SUA\n",
      "30 Neighborhood_PONTAL DE CAMBURI\n",
      "31 Age Group_Adult\n",
      "32 Neighborhood_SANTA HELENA\n",
      "33 Neighborhood_ESTRELINHA\n",
      "34 Neighborhood_ILHA DO FRADE\n",
      "35 Neighborhood_CARATOIRA\n",
      "36 Neighborhood_MARIA ORTIZ\n",
      "37 Neighborhood_CONSOLACAO\n",
      "38 Neighborhood_GURIGICA\n",
      "39 Neighborhood_BELA VISTA\n",
      "40 Neighborhood_SANTA CECILIA\n",
      "41 Neighborhood_BENTO FERREIRA\n",
      "42 Neighborhood_ANDORINHAS\n",
      "43 Neighborhood_GOIABEIRAS\n",
      "44 Neighborhood_GRANDE VITORIA\n",
      "45 Neighborhood_JABOUR\n",
      "46 Neighborhood_ILHA DO PRINCIPE\n",
      "47 Scholarship\n",
      "48 Neighborhood_DA PENHA\n",
      "49 Neighborhood_CENTRO\n",
      "50 Neighborhood_SANTA CLARA\n",
      "51 Neighborhood_ILHA DO BOI\n",
      "52 Hypertension\n",
      "53 ScheduledTimeOfDay_Evening\n",
      "54 Neighborhood_SEGURANCA DO LAR\n",
      "55 AppointmentDayOfWeek_Wednesday\n",
      "56 RainClassification_3\n",
      "57 NormalVersusActualTempAverage_same\n",
      "58 Neighborhood_SANTOS REIS\n",
      "59 Neighborhood_SANTA TEREZA\n",
      "60 Neighborhood_JUCUTUQUARA\n",
      "61 Neighborhood_UNIVERSITARIO\n",
      "62 Neighborhood_REDENCAO\n",
      "63 Neighborhood_JARDIM CAMBURI\n",
      "64 Neighborhood_MONTE BELO\n",
      "65 Neighborhood_ILHA DE SANTA MARIA\n",
      "66 Neighborhood_CRUZAMENTO\n",
      "67 Neighborhood_SAO PEDRO\n",
      "68 Neighborhood_SOLON BORGES\n",
      "69 Neighborhood_NOVA PALESTINA\n",
      "70 AppointmentDayOfWeek_Monday\n",
      "71 Neighborhood_ANTONIO HONORIO\n",
      "72 Neighborhood_BOA VISTA\n",
      "73 Alcoholism\n",
      "74 Neighborhood_SAO BENEDITO\n",
      "75 Neighborhood_CONQUISTA\n",
      "76 Neighborhood_SANTA MARTHA\n",
      "77 Neighborhood_BONFIM\n",
      "78 Neighborhood_SANTA LUCIA\n",
      "79 Diabetes\n",
      "80 NormalVersusActualTempAverage_below\n",
      "81 Neighborhood_JESUS DE NAZARETH\n",
      "82 Age Group_Child\n",
      "83 Neighborhood_DO MOSCOSO\n",
      "84 Neighborhood_MARUIPE\n",
      "85 Neighborhood_VILA RUBIM\n",
      "86 Neighborhood_PIEDADE\n",
      "87 RainClassification_2\n",
      "88 RainClassification_1\n",
      "89 Neighborhood_PRAIA DO CANTO\n",
      "90 AppointmentDayOfWeek_Tuesday\n",
      "91 SMSReceived\n",
      "92 Gender_F\n",
      "93 Neighborhood_JOANA DARC\n",
      "94 Neighborhood_MATA DA PRAIA\n",
      "95 Neighborhood_NAZARETH\n",
      "96 Neighborhood_SAO CRISTOVAO\n",
      "97 Neighborhood_INHANGUETA\n",
      "98 Neighborhood_JARDIM DA PENHA\n",
      "99 Neighborhood_TABUAZEIRO\n",
      "100 AppointmentDayOfWeek_Saturday\n",
      "101 ScheduledTimeOfDay_Morning\n",
      "102 AppointmentDayOfWeek_Friday\n",
      "103 AppointmentDayOfWeek_Thursday\n",
      "104 NormalVersusActualTempAverage_above\n",
      "105 Neighborhood_PARQUE INDUSTRIAL\n",
      "106 Neighborhood_SANTO ANTONIO\n",
      "107 Neighborhood_RESISTENCIA\n",
      "108 Neighborhood_FONTE GRANDE\n",
      "109 ScheduledTimeOfDay_Afternoon\n",
      "110 Gender_M\n"
     ]
    }
   ],
   "source": [
    "#get the detail(name of column) behind the rank\n",
    "feature_rank = dict(zip(order,cols))\n",
    "for f in sorted(feature_rank):\n",
    "    print(f,feature_rank[f])\n"
   ]
  },
  {
   "cell_type": "code",
   "execution_count": 16,
   "metadata": {
    "ExecuteTime": {
     "end_time": "2020-04-03T02:36:39.045866Z",
     "start_time": "2020-04-03T02:36:39.000785Z"
    }
   },
   "outputs": [
    {
     "name": "stdout",
     "output_type": "stream",
     "text": [
      "[0.19940231 0.62760216 1.        ]\n"
     ]
    }
   ],
   "source": [
    "# show AUC\n",
    "metrics.roc_auc_score(y_test, y_pred)\n",
    "\n",
    "# calculate precision-recall curve\n",
    "precision, recall, thresholds = metrics.precision_recall_curve(y_test, y_pred)\n",
    "\n",
    "print(precision)"
   ]
  },
  {
   "cell_type": "code",
   "execution_count": 17,
   "metadata": {
    "ExecuteTime": {
     "end_time": "2020-04-03T02:36:39.082793Z",
     "start_time": "2020-04-03T02:36:39.049531Z"
    }
   },
   "outputs": [
    {
     "name": "stdout",
     "output_type": "stream",
     "text": [
      "[1.         0.33576241 0.        ]\n"
     ]
    }
   ],
   "source": [
    "print(recall)"
   ]
  },
  {
   "cell_type": "code",
   "execution_count": 18,
   "metadata": {
    "ExecuteTime": {
     "end_time": "2020-04-03T02:36:39.154995Z",
     "start_time": "2020-04-03T02:36:39.087989Z"
    }
   },
   "outputs": [
    {
     "name": "stdout",
     "output_type": "stream",
     "text": [
      "[0 1]\n"
     ]
    }
   ],
   "source": [
    "print(thresholds)"
   ]
  },
  {
   "cell_type": "code",
   "execution_count": 19,
   "metadata": {
    "ExecuteTime": {
     "end_time": "2020-04-03T02:36:39.284042Z",
     "start_time": "2020-04-03T02:36:39.161468Z"
    }
   },
   "outputs": [
    {
     "data": {
      "text/plain": [
       "0.34317572537899155"
      ]
     },
     "execution_count": 19,
     "metadata": {},
     "output_type": "execute_result"
    }
   ],
   "source": [
    "metrics.average_precision_score(y_test, y_pred)"
   ]
  },
  {
   "cell_type": "markdown",
   "metadata": {
    "ExecuteTime": {
     "end_time": "2020-03-17T02:28:13.774891Z",
     "start_time": "2020-03-17T02:28:13.762068Z"
    }
   },
   "source": [
    "# Decision Tree"
   ]
  },
  {
   "cell_type": "code",
   "execution_count": 20,
   "metadata": {
    "ExecuteTime": {
     "end_time": "2020-04-03T02:36:40.308622Z",
     "start_time": "2020-04-03T02:36:39.287965Z"
    }
   },
   "outputs": [
    {
     "data": {
      "text/plain": [
       "85.12"
      ]
     },
     "execution_count": 20,
     "metadata": {},
     "output_type": "execute_result"
    }
   ],
   "source": [
    "# Decision Tree\n",
    "#########\n",
    "from sklearn.tree import DecisionTreeClassifier\n",
    "dtree = DecisionTreeClassifier()\n",
    "dtree.fit(X_train, y_train)\n",
    "\n",
    "#Use model to predict\n",
    "y_pred = dtree.predict(X_test)\n",
    "\n",
    "#Evaluate accuracy of the model\n",
    "acc_dtree = round(dtree.score(X_test, y_test) * 100, 2)\n",
    "acc_dtree"
   ]
  },
  {
   "cell_type": "code",
   "execution_count": 21,
   "metadata": {
    "ExecuteTime": {
     "end_time": "2020-04-03T02:36:40.367475Z",
     "start_time": "2020-04-03T02:36:40.311000Z"
    }
   },
   "outputs": [
    {
     "name": "stdout",
     "output_type": "stream",
     "text": [
      "Accuracy: 0.8511542468607776\n",
      "Precision: 0.6303733031674208\n",
      "Recall: 0.6129520142994638\n"
     ]
    }
   ],
   "source": [
    "# Model Accuracy, how often is the classifier correct?\n",
    "print(\"Accuracy:\",metrics.accuracy_score(y_test, y_pred))\n",
    "print(\"Precision:\",metrics.precision_score(y_test, y_pred))\n",
    "print(\"Recall:\",metrics.recall_score(y_test, y_pred))"
   ]
  },
  {
   "cell_type": "code",
   "execution_count": 22,
   "metadata": {
    "ExecuteTime": {
     "end_time": "2020-04-03T02:36:40.418930Z",
     "start_time": "2020-04-03T02:36:40.369358Z"
    }
   },
   "outputs": [],
   "source": [
    "name = 'Decision Tree'\n",
    "accuracy = metrics.accuracy_score(y_test, y_pred)\n",
    "precision = metrics.precision_score(y_test, y_pred)\n",
    "recall = metrics.recall_score(y_test, y_pred)\n",
    "msqe = metrics.mean_squared_error(y_test, y_pred)"
   ]
  },
  {
   "cell_type": "code",
   "execution_count": 23,
   "metadata": {
    "ExecuteTime": {
     "end_time": "2020-04-03T02:36:40.445555Z",
     "start_time": "2020-04-03T02:36:40.425429Z"
    }
   },
   "outputs": [],
   "source": [
    "model_info = model_info.append(\n",
    "    {\n",
    "        'ModelName': name,\n",
    "        'Accuracy': accuracy,\n",
    "        'Precision': precision,\n",
    "        'Recall': recall,\n",
    "        'Mean Squared Error': msqe\n",
    "    },\n",
    "    ignore_index=True)"
   ]
  },
  {
   "cell_type": "markdown",
   "metadata": {},
   "source": [
    "# Random Forest"
   ]
  },
  {
   "cell_type": "code",
   "execution_count": 24,
   "metadata": {
    "ExecuteTime": {
     "end_time": "2020-04-03T02:36:49.617771Z",
     "start_time": "2020-04-03T02:36:40.450285Z"
    }
   },
   "outputs": [],
   "source": [
    "# Random Forest\n",
    "#########\n",
    "from sklearn.ensemble import RandomForestClassifier\n",
    "rfc = RandomForestClassifier(n_estimators=200, random_state=101, n_jobs=-1)\n",
    "rfc.fit(X_train, y_train)\n",
    "\n",
    "#Use model to predict\n",
    "y_pred = rfc.predict(X_test)\n"
   ]
  },
  {
   "cell_type": "code",
   "execution_count": 25,
   "metadata": {
    "ExecuteTime": {
     "end_time": "2020-04-03T02:36:49.706017Z",
     "start_time": "2020-04-03T02:36:49.624310Z"
    }
   },
   "outputs": [
    {
     "name": "stdout",
     "output_type": "stream",
     "text": [
      "Accuracy: 0.8648626418818884\n",
      "Precision: 0.6440157286802655\n",
      "Recall: 0.7206104771071085\n"
     ]
    }
   ],
   "source": [
    "print(\"Accuracy:\",metrics.accuracy_score(y_test, y_pred))\n",
    "print(\"Precision:\",metrics.precision_score(y_test, y_pred))\n",
    "print(\"Recall:\",metrics.recall_score(y_test, y_pred))"
   ]
  },
  {
   "cell_type": "code",
   "execution_count": 26,
   "metadata": {
    "ExecuteTime": {
     "end_time": "2020-04-03T02:36:49.772118Z",
     "start_time": "2020-04-03T02:36:49.708425Z"
    }
   },
   "outputs": [],
   "source": [
    "name = 'Random Forest'\n",
    "accuracy = metrics.accuracy_score(y_test, y_pred)\n",
    "precision = metrics.precision_score(y_test, y_pred)\n",
    "recall = metrics.recall_score(y_test, y_pred)\n",
    "msqe = metrics.mean_squared_error(y_test, y_pred)\n",
    "model_info = model_info.append(\n",
    "    {\n",
    "        'ModelName': name,\n",
    "        'Accuracy': accuracy,\n",
    "        'Precision': precision,\n",
    "        'Recall': recall,\n",
    "        'Mean Squared Error': msqe\n",
    "    },\n",
    "    ignore_index=True)"
   ]
  },
  {
   "cell_type": "code",
   "execution_count": 27,
   "metadata": {
    "ExecuteTime": {
     "end_time": "2020-04-03T02:36:51.231215Z",
     "start_time": "2020-04-03T02:36:49.775743Z"
    }
   },
   "outputs": [
    {
     "data": {
      "image/png": "[encoded data removed]",
      "text/plain": [
       "<Figure size 1440x864 with 1 Axes>"
      ]
     },
     "metadata": {
      "needs_background": "light"
     },
     "output_type": "display_data"
    }
   ],
   "source": [
    "#Evaluate feature importance\n",
    "importances = rfc.feature_importances_\n",
    "std = np.std([importances for tree in rfc.estimators_], axis=0)\n",
    "indices = np.argsort(importances)[::-1]\n",
    "\n",
    "feature_importances = pd.DataFrame(rfc.feature_importances_, index = X_train.columns, columns=['importance']).sort_values('importance', ascending=False)\n",
    "feature_importances.sort_values('importance', ascending=False)\n",
    "\n",
    "plt.figure(figsize=(20,12))\n",
    "plt.title(\"Feature importances\")\n",
    "plt.bar(range(X_train.shape[1]), importances[indices], yerr=std[indices], align=\"center\")\n",
    "plt.xticks(range(X_train.shape[1]), indices)\n",
    "plt.xlim([-1, X_train.shape[1]])\n",
    "plt.show()"
   ]
  },
  {
   "cell_type": "markdown",
   "metadata": {},
   "source": [
    "# Light GBM"
   ]
  },
  {
   "cell_type": "code",
   "execution_count": 28,
   "metadata": {
    "ExecuteTime": {
     "end_time": "2020-04-03T02:36:52.123279Z",
     "start_time": "2020-04-03T02:36:51.233612Z"
    }
   },
   "outputs": [
    {
     "name": "stdout",
     "output_type": "stream",
     "text": [
      "[1]\tvalid_0's l1: 0.313524\tvalid_0's rmse: 0.389455\tvalid_0's l2: 0.151675\n",
      "Training until validation scores don't improve for 5 rounds\n",
      "[2]\tvalid_0's l1: 0.305919\tvalid_0's rmse: 0.380182\tvalid_0's l2: 0.144538\n",
      "[3]\tvalid_0's l1: 0.300009\tvalid_0's rmse: 0.373226\tvalid_0's l2: 0.139298\n",
      "[4]\tvalid_0's l1: 0.293102\tvalid_0's rmse: 0.365296\tvalid_0's l2: 0.133441\n",
      "[5]\tvalid_0's l1: 0.286541\tvalid_0's rmse: 0.35802\tvalid_0's l2: 0.128178\n",
      "[6]\tvalid_0's l1: 0.2803\tvalid_0's rmse: 0.351308\tvalid_0's l2: 0.123417\n",
      "[7]\tvalid_0's l1: 0.27437\tvalid_0's rmse: 0.345155\tvalid_0's l2: 0.119132\n",
      "[8]\tvalid_0's l1: 0.268739\tvalid_0's rmse: 0.339531\tvalid_0's l2: 0.115281\n",
      "[9]\tvalid_0's l1: 0.263381\tvalid_0's rmse: 0.33438\tvalid_0's l2: 0.11181\n",
      "[10]\tvalid_0's l1: 0.258284\tvalid_0's rmse: 0.329666\tvalid_0's l2: 0.10868\n",
      "[11]\tvalid_0's l1: 0.253433\tvalid_0's rmse: 0.325319\tvalid_0's l2: 0.105833\n",
      "[12]\tvalid_0's l1: 0.248823\tvalid_0's rmse: 0.321357\tvalid_0's l2: 0.10327\n",
      "[13]\tvalid_0's l1: 0.244437\tvalid_0's rmse: 0.317732\tvalid_0's l2: 0.100954\n",
      "[14]\tvalid_0's l1: 0.243284\tvalid_0's rmse: 0.316812\tvalid_0's l2: 0.10037\n",
      "[15]\tvalid_0's l1: 0.239185\tvalid_0's rmse: 0.313616\tvalid_0's l2: 0.0983549\n",
      "[16]\tvalid_0's l1: 0.235277\tvalid_0's rmse: 0.310706\tvalid_0's l2: 0.096538\n",
      "[17]\tvalid_0's l1: 0.231563\tvalid_0's rmse: 0.308049\tvalid_0's l2: 0.0948943\n",
      "[18]\tvalid_0's l1: 0.228037\tvalid_0's rmse: 0.30565\tvalid_0's l2: 0.0934218\n",
      "[19]\tvalid_0's l1: 0.224687\tvalid_0's rmse: 0.303467\tvalid_0's l2: 0.0920923\n",
      "[20]\tvalid_0's l1: 0.22186\tvalid_0's rmse: 0.301692\tvalid_0's l2: 0.0910182\n",
      "Did not meet early stopping. Best iteration is:\n",
      "[20]\tvalid_0's l1: 0.22186\tvalid_0's rmse: 0.301692\tvalid_0's l2: 0.0910182\n"
     ]
    }
   ],
   "source": [
    "#########\n",
    "# lightGBM (LGBM)\n",
    "#########\n",
    "import lightgbm as lgb\n",
    "#create dataset for lightgbm\n",
    "lgb_train = lgb.Dataset(X_train, y_train)\n",
    "lgb_eval = lgb.Dataset(X_test, y_test, reference=lgb_train)\n",
    "\n",
    "#specify your configurations as a dict\n",
    "params = {\n",
    "    'boosting_type': 'gbdt',\n",
    "    'objective': 'binary',\n",
    "    'metric': {'l2', 'l1', 'rmse'},\n",
    "    'num_leaves': 31,\n",
    "    'learning_rate': 0.05,\n",
    "    'feature_fraction': 0.9,\n",
    "    'bagging_fraction': 0.8,\n",
    "    'bagging_freq': 5,\n",
    "    'verbose': 0\n",
    "}\n",
    "\n",
    "#train\n",
    "gbm = lgb.train(params,\n",
    "                lgb_train,\n",
    "                num_boost_round=20,\n",
    "                valid_sets=lgb_eval,\n",
    "                early_stopping_rounds=5)\n",
    "\n",
    "#save model to file\n",
    "gbm.save_model('model.txt')\n",
    "\n",
    "#predict\n",
    "y_pred = gbm.predict(X_test, num_iteration=gbm.best_iteration)\n",
    "\n"
   ]
  },
  {
   "cell_type": "code",
   "execution_count": 29,
   "metadata": {
    "ExecuteTime": {
     "end_time": "2020-04-03T02:36:52.140508Z",
     "start_time": "2020-04-03T02:36:52.125925Z"
    }
   },
   "outputs": [
    {
     "data": {
      "text/plain": [
       "array([ 14,  14,   4,   8,   5,   2,  18,  16,  13,  17,  28,  10,   5,\n",
       "         0,   3,   0,   1,   2,   5,   0,   0,   4,   0,   2,  11,   0,\n",
       "         2,   2,   7,   2,   4,   1,   0,   0,   0,   1,  12,   0,   0,\n",
       "         1,  10,   0,  10,   1,   0,   0,   4,   0,   0,  19,   0,   1,\n",
       "         1,  10,   0,   1,   9,   1,   0,   1,   0,   0,   0,   1,   0,\n",
       "         2,   0,   0,   1,   0,   0,   1,   3,   8,   1,   0,   0,   0,\n",
       "         2,   2,   1,   5,   0,  20,   0,   0,   0,   5,  18,   0,   1,\n",
       "         0,   0,   1,  22,  10,   0,   4,  12,  11,  11,   9,   6,   4,\n",
       "         4,   2,   2,  23,   5, 121], dtype=int32)"
      ]
     },
     "execution_count": 29,
     "metadata": {},
     "output_type": "execute_result"
    }
   ],
   "source": [
    "gbm.feature_importance()"
   ]
  },
  {
   "cell_type": "code",
   "execution_count": 30,
   "metadata": {
    "ExecuteTime": {
     "end_time": "2020-04-03T02:36:52.453321Z",
     "start_time": "2020-04-03T02:36:52.195857Z"
    }
   },
   "outputs": [
    {
     "name": "stdout",
     "output_type": "stream",
     "text": [
      "Accuracy: 0.8200087733728135\n",
      "Precision: 0.7418032786885246\n",
      "Recall: 0.1493194005224804\n"
     ]
    }
   ],
   "source": [
    "predictions = [round(value) for value in y_pred]\n",
    "print(\"Accuracy:\",metrics.accuracy_score(y_test, predictions))\n",
    "print(\"Precision:\",metrics.precision_score(y_test, predictions))\n",
    "print(\"Recall:\",metrics.recall_score(y_test, predictions))"
   ]
  },
  {
   "cell_type": "code",
   "execution_count": 31,
   "metadata": {
    "ExecuteTime": {
     "end_time": "2020-04-03T02:36:52.587861Z",
     "start_time": "2020-04-03T02:36:52.457146Z"
    }
   },
   "outputs": [],
   "source": [
    "name = 'Light GBM'\n",
    "accuracy = metrics.accuracy_score(y_test, predictions)\n",
    "precision = metrics.precision_score(y_test, predictions)\n",
    "recall = metrics.recall_score(y_test, predictions)\n",
    "msqe = metrics.mean_squared_error(y_test, y_pred)\n",
    "model_info = model_info.append(\n",
    "    {\n",
    "        'ModelName': name,\n",
    "        'Accuracy': accuracy,\n",
    "        'Precision': precision,\n",
    "        'Recall': recall,\n",
    "        'Mean Squared Error': msqe\n",
    "    },\n",
    "    ignore_index=True)"
   ]
  },
  {
   "cell_type": "markdown",
   "metadata": {},
   "source": [
    "# XGBOOST"
   ]
  },
  {
   "cell_type": "code",
   "execution_count": 32,
   "metadata": {
    "ExecuteTime": {
     "end_time": "2020-04-03T02:37:23.093433Z",
     "start_time": "2020-04-03T02:36:52.590623Z"
    }
   },
   "outputs": [],
   "source": [
    "#########\n",
    "# XGBoost\n",
    "#########\n",
    "import xgboost as xgb\n",
    "\n",
    "xg_log = xgb.XGBClassifier(objective ='binary:logistic', colsample_bytree = 0.3, learning_rate = 0.1,\n",
    "                max_depth = 5, alpha = 10, n_estimators = 1000)\n",
    "\n",
    "xg_log.fit(X_train,y_train)\n",
    "\n",
    "preds = xg_log.predict(X_test)"
   ]
  },
  {
   "cell_type": "code",
   "execution_count": 33,
   "metadata": {
    "ExecuteTime": {
     "end_time": "2020-04-03T02:37:23.349129Z",
     "start_time": "2020-04-03T02:37:23.097082Z"
    }
   },
   "outputs": [
    {
     "name": "stdout",
     "output_type": "stream",
     "text": [
      "Accuracy: 0.8748697702472994\n",
      "Precision: 0.6271711576377805\n",
      "Recall: 0.9184655575415922\n",
      "RMSE: 0.353738\n"
     ]
    }
   ],
   "source": [
    "rmse = np.sqrt(metrics.mean_squared_error(y_test, preds))\n",
    "predictions = [round(value) for value in preds]\n",
    "\n",
    "print(\"Accuracy:\",metrics.accuracy_score(y_test, predictions))\n",
    "print(\"Precision:\",metrics.precision_score(y_test, predictions))\n",
    "print(\"Recall:\",metrics.recall_score(y_test, predictions))\n",
    "print(\"RMSE: %f\" % (rmse))"
   ]
  },
  {
   "cell_type": "code",
   "execution_count": 34,
   "metadata": {
    "ExecuteTime": {
     "end_time": "2020-04-03T02:37:23.499138Z",
     "start_time": "2020-04-03T02:37:23.353357Z"
    }
   },
   "outputs": [],
   "source": [
    "name = 'XgBoost'\n",
    "accuracy = metrics.accuracy_score(y_test, predictions)\n",
    "precision = metrics.precision_score(y_test, predictions)\n",
    "recall = metrics.recall_score(y_test, predictions)\n",
    "msqe = metrics.mean_squared_error(y_test, predictions)\n",
    "model_info = model_info.append(\n",
    "    {\n",
    "        'ModelName': name,\n",
    "        'Accuracy': accuracy,\n",
    "        'Precision': precision,\n",
    "        'Recall': recall,\n",
    "        'Mean Squared Error': msqe\n",
    "    },\n",
    "    ignore_index=True)"
   ]
  },
  {
   "cell_type": "markdown",
   "metadata": {},
   "source": [
    "# XGBOOST Cross Validation"
   ]
  },
  {
   "cell_type": "code",
   "execution_count": 35,
   "metadata": {
    "ExecuteTime": {
     "end_time": "2020-04-03T02:37:44.719822Z",
     "start_time": "2020-04-03T02:37:23.503385Z"
    }
   },
   "outputs": [
    {
     "data": {
      "text/html": [
       "<div>\n",
       "<style scoped>\n",
       "    .dataframe tbody tr th:only-of-type {\n",
       "        vertical-align: middle;\n",
       "    }\n",
       "\n",
       "    .dataframe tbody tr th {\n",
       "        vertical-align: top;\n",
       "    }\n",
       "\n",
       "    .dataframe thead th {\n",
       "        text-align: right;\n",
       "    }\n",
       "</style>\n",
       "<table border=\"1\" class=\"dataframe\">\n",
       "  <thead>\n",
       "    <tr style=\"text-align: right;\">\n",
       "      <th></th>\n",
       "      <th>train-rmse-mean</th>\n",
       "      <th>train-rmse-std</th>\n",
       "      <th>test-rmse-mean</th>\n",
       "      <th>test-rmse-std</th>\n",
       "    </tr>\n",
       "  </thead>\n",
       "  <tbody>\n",
       "    <tr>\n",
       "      <th>0</th>\n",
       "      <td>0.482813</td>\n",
       "      <td>0.000053</td>\n",
       "      <td>0.482814</td>\n",
       "      <td>0.000090</td>\n",
       "    </tr>\n",
       "    <tr>\n",
       "      <th>1</th>\n",
       "      <td>0.465055</td>\n",
       "      <td>0.006392</td>\n",
       "      <td>0.465046</td>\n",
       "      <td>0.006597</td>\n",
       "    </tr>\n",
       "    <tr>\n",
       "      <th>2</th>\n",
       "      <td>0.452204</td>\n",
       "      <td>0.006337</td>\n",
       "      <td>0.452211</td>\n",
       "      <td>0.006618</td>\n",
       "    </tr>\n",
       "    <tr>\n",
       "      <th>3</th>\n",
       "      <td>0.439403</td>\n",
       "      <td>0.007370</td>\n",
       "      <td>0.439415</td>\n",
       "      <td>0.007479</td>\n",
       "    </tr>\n",
       "    <tr>\n",
       "      <th>4</th>\n",
       "      <td>0.427698</td>\n",
       "      <td>0.011867</td>\n",
       "      <td>0.427692</td>\n",
       "      <td>0.012188</td>\n",
       "    </tr>\n",
       "  </tbody>\n",
       "</table>\n",
       "</div>"
      ],
      "text/plain": [
       "   train-rmse-mean  train-rmse-std  test-rmse-mean  test-rmse-std\n",
       "0         0.482813        0.000053        0.482814       0.000090\n",
       "1         0.465055        0.006392        0.465046       0.006597\n",
       "2         0.452204        0.006337        0.452211       0.006618\n",
       "3         0.439403        0.007370        0.439415       0.007479\n",
       "4         0.427698        0.011867        0.427692       0.012188"
      ]
     },
     "execution_count": 35,
     "metadata": {},
     "output_type": "execute_result"
    }
   ],
   "source": [
    "data_dmatrix = xgb.DMatrix(data=X, label=y)\n",
    "\n",
    "params = {\n",
    "    \"objective\": \"binary:logistic\",\n",
    "    'colsample_bytree': 0.3,\n",
    "    'learning_rate': 0.1,\n",
    "    'max_depth': 5,\n",
    "    'alpha': 10\n",
    "}\n",
    "\n",
    "cv_results = xgb.cv(dtrain=data_dmatrix,\n",
    "                    params=params,\n",
    "                    nfold=5,\n",
    "                    num_boost_round=50,\n",
    "                    early_stopping_rounds=10,\n",
    "                    metrics=\"rmse\",\n",
    "                    as_pandas=True,\n",
    "                    seed=123)\n",
    "\n",
    "cv_results.head()"
   ]
  },
  {
   "cell_type": "code",
   "execution_count": 36,
   "metadata": {
    "ExecuteTime": {
     "end_time": "2020-04-03T02:37:45.005330Z",
     "start_time": "2020-04-03T02:37:44.722916Z"
    }
   },
   "outputs": [
    {
     "data": {
      "text/html": [
       "<div>\n",
       "<style scoped>\n",
       "    .dataframe tbody tr th:only-of-type {\n",
       "        vertical-align: middle;\n",
       "    }\n",
       "\n",
       "    .dataframe tbody tr th {\n",
       "        vertical-align: top;\n",
       "    }\n",
       "\n",
       "    .dataframe thead th {\n",
       "        text-align: right;\n",
       "    }\n",
       "</style>\n",
       "<table border=\"1\" class=\"dataframe\">\n",
       "  <thead>\n",
       "    <tr style=\"text-align: right;\">\n",
       "      <th></th>\n",
       "      <th>ModelName</th>\n",
       "      <th>Accuracy</th>\n",
       "      <th>Precision</th>\n",
       "      <th>Recall</th>\n",
       "      <th>Mean Squared Error</th>\n",
       "    </tr>\n",
       "  </thead>\n",
       "  <tbody>\n",
       "    <tr>\n",
       "      <th>0</th>\n",
       "      <td>Logistic</td>\n",
       "      <td>0.827823</td>\n",
       "      <td>0.627602</td>\n",
       "      <td>0.335762</td>\n",
       "      <td>0.172177</td>\n",
       "    </tr>\n",
       "    <tr>\n",
       "      <th>1</th>\n",
       "      <td>Decision Tree</td>\n",
       "      <td>0.851154</td>\n",
       "      <td>0.630373</td>\n",
       "      <td>0.612952</td>\n",
       "      <td>0.148846</td>\n",
       "    </tr>\n",
       "    <tr>\n",
       "      <th>2</th>\n",
       "      <td>Random Forest</td>\n",
       "      <td>0.864863</td>\n",
       "      <td>0.644016</td>\n",
       "      <td>0.720610</td>\n",
       "      <td>0.135137</td>\n",
       "    </tr>\n",
       "    <tr>\n",
       "      <th>3</th>\n",
       "      <td>Light GBM</td>\n",
       "      <td>0.820009</td>\n",
       "      <td>0.741803</td>\n",
       "      <td>0.149319</td>\n",
       "      <td>0.091018</td>\n",
       "    </tr>\n",
       "    <tr>\n",
       "      <th>4</th>\n",
       "      <td>XgBoost</td>\n",
       "      <td>0.874870</td>\n",
       "      <td>0.627171</td>\n",
       "      <td>0.918466</td>\n",
       "      <td>0.125130</td>\n",
       "    </tr>\n",
       "    <tr>\n",
       "      <th>5</th>\n",
       "      <td>XgBoost With CrossValidation</td>\n",
       "      <td>0.874870</td>\n",
       "      <td>0.627171</td>\n",
       "      <td>0.918466</td>\n",
       "      <td>0.125130</td>\n",
       "    </tr>\n",
       "  </tbody>\n",
       "</table>\n",
       "</div>"
      ],
      "text/plain": [
       "                      ModelName  Accuracy  Precision    Recall  \\\n",
       "0                      Logistic  0.827823   0.627602  0.335762   \n",
       "1                 Decision Tree  0.851154   0.630373  0.612952   \n",
       "2                 Random Forest  0.864863   0.644016  0.720610   \n",
       "3                     Light GBM  0.820009   0.741803  0.149319   \n",
       "4                       XgBoost  0.874870   0.627171  0.918466   \n",
       "5  XgBoost With CrossValidation  0.874870   0.627171  0.918466   \n",
       "\n",
       "   Mean Squared Error  \n",
       "0            0.172177  \n",
       "1            0.148846  \n",
       "2            0.135137  \n",
       "3            0.091018  \n",
       "4            0.125130  \n",
       "5            0.125130  "
      ]
     },
     "execution_count": 36,
     "metadata": {},
     "output_type": "execute_result"
    }
   ],
   "source": [
    "name = 'XgBoost With CrossValidation'\n",
    "accuracy = metrics.accuracy_score(y_test, predictions)\n",
    "precision = metrics.precision_score(y_test, predictions)\n",
    "msqe = metrics.mean_squared_error(y_test, predictions)\n",
    "recall = metrics.recall_score(y_test, predictions)\n",
    "model_info = model_info.append(\n",
    "    {\n",
    "        'ModelName': name,\n",
    "        'Accuracy': accuracy,\n",
    "        'Precision': precision,\n",
    "        'Recall': recall,\n",
    "        'Mean Squared Error': msqe\n",
    "    },\n",
    "    ignore_index=True)\n",
    "model_info"
   ]
  },
  {
   "cell_type": "code",
   "execution_count": 37,
   "metadata": {
    "ExecuteTime": {
     "end_time": "2020-04-03T02:37:45.017939Z",
     "start_time": "2020-04-03T02:37:45.009758Z"
    }
   },
   "outputs": [
    {
     "name": "stdout",
     "output_type": "stream",
     "text": [
      "49    0.295221\n",
      "Name: test-rmse-mean, dtype: float64\n"
     ]
    }
   ],
   "source": [
    "print((cv_results[\"test-rmse-mean\"]).tail(1))"
   ]
  },
  {
   "cell_type": "markdown",
   "metadata": {},
   "source": [
    "# XGBOOST Feature Importance"
   ]
  },
  {
   "cell_type": "code",
   "execution_count": 38,
   "metadata": {
    "ExecuteTime": {
     "end_time": "2020-04-03T02:37:48.154023Z",
     "start_time": "2020-04-03T02:37:45.094439Z"
    }
   },
   "outputs": [
    {
     "data": {
      "image/png": "[encoded data removed]",
      "text/plain": [
       "<Figure size 432x288 with 1 Axes>"
      ]
     },
     "metadata": {
      "needs_background": "light"
     },
     "output_type": "display_data"
    }
   ],
   "source": [
    "xg_log = xgb.train(params=params, dtrain=data_dmatrix, num_boost_round=10)\n",
    "xgb.plot_importance(xg_log)\n",
    "plt.rcParams['figure.figsize'] = [40, 12]\n",
    "plt.show()\n"
   ]
  },
  {
   "cell_type": "markdown",
   "metadata": {},
   "source": [
    "# TensorFlow"
   ]
  },
  {
   "cell_type": "code",
   "execution_count": 39,
   "metadata": {
    "ExecuteTime": {
     "end_time": "2020-04-03T02:37:54.349372Z",
     "start_time": "2020-04-03T02:37:48.156473Z"
    }
   },
   "outputs": [],
   "source": [
    "import tensorflow\n",
    "from tensorflow.keras.models import Sequential\n",
    "from tensorflow.keras.layers import Dense, Activation,Dropout\n",
    "from tensorflow.keras.callbacks import EarlyStopping\n",
    "from sklearn.model_selection import train_test_split\n",
    "from sklearn.preprocessing import MinMaxScaler"
   ]
  },
  {
   "cell_type": "code",
   "execution_count": 40,
   "metadata": {
    "ExecuteTime": {
     "end_time": "2020-04-03T02:37:55.268590Z",
     "start_time": "2020-04-03T02:37:54.351738Z"
    }
   },
   "outputs": [],
   "source": [
    "X = df.drop('NoShow',axis=1).values\n",
    "y = df['NoShow'].values\n",
    "X_train, X_test, y_train, y_test = train_test_split(X,y,test_size=0.25,random_state=101)"
   ]
  },
  {
   "cell_type": "code",
   "execution_count": 41,
   "metadata": {
    "ExecuteTime": {
     "end_time": "2020-04-03T02:37:55.275203Z",
     "start_time": "2020-04-03T02:37:55.271011Z"
    }
   },
   "outputs": [],
   "source": [
    "scaler = MinMaxScaler()"
   ]
  },
  {
   "cell_type": "code",
   "execution_count": 42,
   "metadata": {
    "ExecuteTime": {
     "end_time": "2020-04-03T02:37:55.367081Z",
     "start_time": "2020-04-03T02:37:55.279372Z"
    }
   },
   "outputs": [
    {
     "data": {
      "text/plain": [
       "MinMaxScaler(copy=True, feature_range=(0, 1))"
      ]
     },
     "execution_count": 42,
     "metadata": {},
     "output_type": "execute_result"
    }
   ],
   "source": [
    "scaler.fit(X_train)"
   ]
  },
  {
   "cell_type": "code",
   "execution_count": 43,
   "metadata": {
    "ExecuteTime": {
     "end_time": "2020-04-03T02:37:55.536539Z",
     "start_time": "2020-04-03T02:37:55.368979Z"
    }
   },
   "outputs": [],
   "source": [
    "X_train = scaler.transform(X_train)\n",
    "X_test = scaler.transform(X_test)"
   ]
  },
  {
   "cell_type": "code",
   "execution_count": 44,
   "metadata": {
    "ExecuteTime": {
     "end_time": "2020-04-03T02:37:55.597141Z",
     "start_time": "2020-04-03T02:37:55.538489Z"
    }
   },
   "outputs": [],
   "source": [
    "model = Sequential()\n",
    "\n",
    "# https://stats.stackexchange.com/questions/181/how-to-choose-the-number-of-hidden-layers-and-nodes-in-a-feedforward-neural-netw\n",
    "\n",
    "model.add(Dense(units=110,activation='relu'))\n",
    "model.add(Dropout(0.5))\n",
    "model.add(Dense(units=50,activation='relu'))\n",
    "model.add(Dropout(0.5))\n",
    "model.add(Dense(units=25,activation='relu'))\n",
    "model.add(Dropout(0.5))\n",
    "model.add(Dense(units=1,activation='sigmoid'))\n",
    "\n",
    "# For a binary classification problem\n",
    "model.compile(loss='binary_crossentropy', optimizer='adam')"
   ]
  },
  {
   "cell_type": "code",
   "execution_count": 45,
   "metadata": {
    "ExecuteTime": {
     "end_time": "2020-04-03T02:37:55.637000Z",
     "start_time": "2020-04-03T02:37:55.600499Z"
    }
   },
   "outputs": [],
   "source": [
    "early_stop = EarlyStopping(monitor='val_loss', mode='min', verbose=1, patience=25)"
   ]
  },
  {
   "cell_type": "code",
   "execution_count": 46,
   "metadata": {
    "ExecuteTime": {
     "end_time": "2020-04-03T02:43:19.445876Z",
     "start_time": "2020-04-03T02:37:55.640907Z"
    }
   },
   "outputs": [
    {
     "name": "stdout",
     "output_type": "stream",
     "text": [
      "Train on 82894 samples, validate on 27632 samples\n",
      "Epoch 1/600\n",
      "82894/82894 [==============================] - 8s 95us/sample - loss: 0.4258 - val_loss: 0.2799\n",
      "Epoch 2/600\n",
      "82894/82894 [==============================] - 7s 87us/sample - loss: 0.2714 - val_loss: 0.2361\n",
      "Epoch 3/600\n",
      "82894/82894 [==============================] - 7s 82us/sample - loss: 0.2475 - val_loss: 0.2355\n",
      "Epoch 4/600\n",
      "82894/82894 [==============================] - 6s 76us/sample - loss: 0.2438 - val_loss: 0.2335\n",
      "Epoch 5/600\n",
      "82894/82894 [==============================] - 6s 77us/sample - loss: 0.2421 - val_loss: 0.2344\n",
      "Epoch 6/600\n",
      "82894/82894 [==============================] - 6s 76us/sample - loss: 0.2418 - val_loss: 0.2331\n",
      "Epoch 7/600\n",
      "82894/82894 [==============================] - 6s 76us/sample - loss: 0.2401 - val_loss: 0.2341\n",
      "Epoch 8/600\n",
      "82894/82894 [==============================] - 6s 76us/sample - loss: 0.2390 - val_loss: 0.2350\n",
      "Epoch 9/600\n",
      "82894/82894 [==============================] - 6s 76us/sample - loss: 0.2390 - val_loss: 0.2338\n",
      "Epoch 10/600\n",
      "82894/82894 [==============================] - 6s 77us/sample - loss: 0.2384 - val_loss: 0.2317\n",
      "Epoch 11/600\n",
      "82894/82894 [==============================] - 6s 77us/sample - loss: 0.2375 - val_loss: 0.2327\n",
      "Epoch 12/600\n",
      "82894/82894 [==============================] - 6s 76us/sample - loss: 0.2375 - val_loss: 0.2322\n",
      "Epoch 13/600\n",
      "82894/82894 [==============================] - 7s 84us/sample - loss: 0.2355 - val_loss: 0.2315\n",
      "Epoch 14/600\n",
      "82894/82894 [==============================] - 6s 75us/sample - loss: 0.2353 - val_loss: 0.2321\n",
      "Epoch 15/600\n",
      "82894/82894 [==============================] - 6s 76us/sample - loss: 0.2362 - val_loss: 0.2311\n",
      "Epoch 16/600\n",
      "82894/82894 [==============================] - 6s 77us/sample - loss: 0.2350 - val_loss: 0.2314\n",
      "Epoch 17/600\n",
      "82894/82894 [==============================] - 6s 76us/sample - loss: 0.2343 - val_loss: 0.2321\n",
      "Epoch 18/600\n",
      "82894/82894 [==============================] - 6s 78us/sample - loss: 0.2329 - val_loss: 0.2315\n",
      "Epoch 19/600\n",
      "82894/82894 [==============================] - 7s 86us/sample - loss: 0.2329 - val_loss: 0.2308\n",
      "Epoch 20/600\n",
      "82894/82894 [==============================] - 7s 83us/sample - loss: 0.2332 - val_loss: 0.2325\n",
      "Epoch 21/600\n",
      "82894/82894 [==============================] - 7s 89us/sample - loss: 0.2322 - val_loss: 0.2311\n",
      "Epoch 22/600\n",
      "82894/82894 [==============================] - 7s 82us/sample - loss: 0.2318 - val_loss: 0.2308\n",
      "Epoch 23/600\n",
      "82894/82894 [==============================] - 7s 89us/sample - loss: 0.2317 - val_loss: 0.2314\n",
      "Epoch 24/600\n",
      "82894/82894 [==============================] - 9s 110us/sample - loss: 0.2317 - val_loss: 0.2314\n",
      "Epoch 25/600\n",
      "82894/82894 [==============================] - 7s 88us/sample - loss: 0.2304 - val_loss: 0.2317\n",
      "Epoch 26/600\n",
      "82894/82894 [==============================] - 7s 82us/sample - loss: 0.2305 - val_loss: 0.2315\n",
      "Epoch 27/600\n",
      "82894/82894 [==============================] - 7s 84us/sample - loss: 0.2304 - val_loss: 0.2323\n",
      "Epoch 28/600\n",
      "82894/82894 [==============================] - 7s 82us/sample - loss: 0.2295 - val_loss: 0.2312\n",
      "Epoch 29/600\n",
      "82894/82894 [==============================] - 8s 92us/sample - loss: 0.2280 - val_loss: 0.2341\n",
      "Epoch 30/600\n",
      "82894/82894 [==============================] - 7s 84us/sample - loss: 0.2298 - val_loss: 0.2320\n",
      "Epoch 31/600\n",
      "82894/82894 [==============================] - 8s 99us/sample - loss: 0.2303 - val_loss: 0.2321\n",
      "Epoch 32/600\n",
      "82894/82894 [==============================] - 7s 88us/sample - loss: 0.2280 - val_loss: 0.2311\n",
      "Epoch 33/600\n",
      "82894/82894 [==============================] - 7s 85us/sample - loss: 0.2284 - val_loss: 0.2342\n",
      "Epoch 34/600\n",
      "82894/82894 [==============================] - 7s 80us/sample - loss: 0.2283 - val_loss: 0.2311\n",
      "Epoch 35/600\n",
      "82894/82894 [==============================] - 7s 83us/sample - loss: 0.2276 - val_loss: 0.2325\n",
      "Epoch 36/600\n",
      "82894/82894 [==============================] - 7s 85us/sample - loss: 0.2277 - val_loss: 0.2319\n",
      "Epoch 37/600\n",
      "82894/82894 [==============================] - 7s 82us/sample - loss: 0.2277 - val_loss: 0.2331\n",
      "Epoch 38/600\n",
      "82894/82894 [==============================] - 7s 81us/sample - loss: 0.2275 - val_loss: 0.2329\n",
      "Epoch 39/600\n",
      "82894/82894 [==============================] - 7s 81us/sample - loss: 0.2275 - val_loss: 0.2320\n",
      "Epoch 40/600\n",
      "82894/82894 [==============================] - 7s 81us/sample - loss: 0.2269 - val_loss: 0.2349\n",
      "Epoch 41/600\n",
      "82894/82894 [==============================] - 7s 82us/sample - loss: 0.2263 - val_loss: 0.2328\n",
      "Epoch 42/600\n",
      "82894/82894 [==============================] - 7s 82us/sample - loss: 0.2271 - val_loss: 0.2319\n",
      "Epoch 43/600\n",
      "82894/82894 [==============================] - 7s 81us/sample - loss: 0.2262 - val_loss: 0.2322\n",
      "Epoch 44/600\n",
      "82894/82894 [==============================] - 7s 86us/sample - loss: 0.2252 - val_loss: 0.2324\n",
      "Epoch 45/600\n",
      "82894/82894 [==============================] - 7s 83us/sample - loss: 0.2258 - val_loss: 0.2325\n",
      "Epoch 46/600\n",
      "82894/82894 [==============================] - 8s 91us/sample - loss: 0.2263 - val_loss: 0.2339\n",
      "Epoch 47/600\n",
      "82894/82894 [==============================] - 7s 82us/sample - loss: 0.2261 - val_loss: 0.2326\n",
      "Epoch 00047: early stopping\n"
     ]
    },
    {
     "data": {
      "text/plain": [
       "<tensorflow.python.keras.callbacks.History at 0x7ff816aaf890>"
      ]
     },
     "execution_count": 46,
     "metadata": {},
     "output_type": "execute_result"
    }
   ],
   "source": [
    "model.fit(x=X_train, \n",
    "          y=y_train, \n",
    "          epochs=600,\n",
    "          validation_data=(X_test, y_test), verbose=1,\n",
    "          callbacks=[early_stop]\n",
    "          )"
   ]
  },
  {
   "cell_type": "code",
   "execution_count": 47,
   "metadata": {
    "ExecuteTime": {
     "end_time": "2020-04-03T02:43:19.921613Z",
     "start_time": "2020-04-03T02:43:19.448361Z"
    }
   },
   "outputs": [
    {
     "data": {
      "text/plain": [
       "<matplotlib.axes._subplots.AxesSubplot at 0x7ff78a177050>"
      ]
     },
     "execution_count": 47,
     "metadata": {},
     "output_type": "execute_result"
    },
    {
     "data": {
      "image/png": "[encoded data removed]",
      "text/plain": [
       "<Figure size 2880x864 with 1 Axes>"
      ]
     },
     "metadata": {
      "needs_background": "light"
     },
     "output_type": "display_data"
    }
   ],
   "source": [
    "model_loss = pd.DataFrame(model.history.history)\n",
    "model_loss.plot()"
   ]
  },
  {
   "cell_type": "code",
   "execution_count": 48,
   "metadata": {
    "ExecuteTime": {
     "end_time": "2020-04-03T02:43:20.801851Z",
     "start_time": "2020-04-03T02:43:19.923458Z"
    }
   },
   "outputs": [],
   "source": [
    "predictions = model.predict_classes(X_test)"
   ]
  },
  {
   "cell_type": "code",
   "execution_count": 49,
   "metadata": {
    "ExecuteTime": {
     "end_time": "2020-04-03T02:43:20.807851Z",
     "start_time": "2020-04-03T02:43:20.804433Z"
    }
   },
   "outputs": [],
   "source": [
    "from sklearn.metrics import classification_report,confusion_matrix"
   ]
  },
  {
   "cell_type": "code",
   "execution_count": 50,
   "metadata": {
    "ExecuteTime": {
     "end_time": "2020-04-03T02:43:20.912895Z",
     "start_time": "2020-04-03T02:43:20.811404Z"
    }
   },
   "outputs": [
    {
     "name": "stdout",
     "output_type": "stream",
     "text": [
      "[[19335  2836]\n",
      " [  610  4851]]\n"
     ]
    }
   ],
   "source": [
    "print(confusion_matrix(y_test,predictions))"
   ]
  },
  {
   "cell_type": "code",
   "execution_count": 51,
   "metadata": {
    "ExecuteTime": {
     "end_time": "2020-04-03T02:43:21.000257Z",
     "start_time": "2020-04-03T02:43:20.916400Z"
    }
   },
   "outputs": [
    {
     "name": "stdout",
     "output_type": "stream",
     "text": [
      "Accuracy: 0.8752895193977996\n",
      "Precision: 0.6310654351502537\n",
      "Recall: 0.8882988463651346\n"
     ]
    }
   ],
   "source": [
    "print(\"Accuracy:\",metrics.accuracy_score(y_test, predictions))\n",
    "print(\"Precision:\",metrics.precision_score(y_test, predictions))\n",
    "print(\"Recall:\",metrics.recall_score(y_test, predictions))"
   ]
  },
  {
   "cell_type": "code",
   "execution_count": 52,
   "metadata": {
    "ExecuteTime": {
     "end_time": "2020-04-03T02:43:21.055291Z",
     "start_time": "2020-04-03T02:43:21.002442Z"
    }
   },
   "outputs": [],
   "source": [
    "name = 'Artificial Neural Network (ANN)'\n",
    "accuracy = metrics.accuracy_score(y_test, predictions)\n",
    "precision = metrics.precision_score(y_test, predictions)\n",
    "recall = metrics.recall_score(y_test, predictions)\n",
    "msqe = metrics.mean_squared_error(y_test, predictions)\n",
    "model_info = model_info.append(\n",
    "    {\n",
    "        'ModelName': name,\n",
    "        'Accuracy': accuracy,\n",
    "        'Precision': precision,\n",
    "        'Recall': recall,\n",
    "        'Mean Squared Error': msqe        \n",
    "    },\n",
    "    ignore_index=True)"
   ]
  },
  {
   "cell_type": "markdown",
   "metadata": {},
   "source": [
    "# Show Table Metrics"
   ]
  },
  {
   "cell_type": "code",
   "execution_count": 53,
   "metadata": {
    "ExecuteTime": {
     "end_time": "2020-04-03T02:43:21.098655Z",
     "start_time": "2020-04-03T02:43:21.058409Z"
    }
   },
   "outputs": [
    {
     "data": {
      "text/html": [
       "<div>\n",
       "<style scoped>\n",
       "    .dataframe tbody tr th:only-of-type {\n",
       "        vertical-align: middle;\n",
       "    }\n",
       "\n",
       "    .dataframe tbody tr th {\n",
       "        vertical-align: top;\n",
       "    }\n",
       "\n",
       "    .dataframe thead th {\n",
       "        text-align: right;\n",
       "    }\n",
       "</style>\n",
       "<table border=\"1\" class=\"dataframe\">\n",
       "  <thead>\n",
       "    <tr style=\"text-align: right;\">\n",
       "      <th></th>\n",
       "      <th>ModelName</th>\n",
       "      <th>Accuracy</th>\n",
       "      <th>Precision</th>\n",
       "      <th>Recall</th>\n",
       "      <th>Mean Squared Error</th>\n",
       "    </tr>\n",
       "  </thead>\n",
       "  <tbody>\n",
       "    <tr>\n",
       "      <th>0</th>\n",
       "      <td>Logistic</td>\n",
       "      <td>0.827823</td>\n",
       "      <td>0.627602</td>\n",
       "      <td>0.335762</td>\n",
       "      <td>0.172177</td>\n",
       "    </tr>\n",
       "    <tr>\n",
       "      <th>1</th>\n",
       "      <td>Decision Tree</td>\n",
       "      <td>0.851154</td>\n",
       "      <td>0.630373</td>\n",
       "      <td>0.612952</td>\n",
       "      <td>0.148846</td>\n",
       "    </tr>\n",
       "    <tr>\n",
       "      <th>2</th>\n",
       "      <td>Random Forest</td>\n",
       "      <td>0.864863</td>\n",
       "      <td>0.644016</td>\n",
       "      <td>0.720610</td>\n",
       "      <td>0.135137</td>\n",
       "    </tr>\n",
       "    <tr>\n",
       "      <th>3</th>\n",
       "      <td>Light GBM</td>\n",
       "      <td>0.820009</td>\n",
       "      <td>0.741803</td>\n",
       "      <td>0.149319</td>\n",
       "      <td>0.091018</td>\n",
       "    </tr>\n",
       "    <tr>\n",
       "      <th>4</th>\n",
       "      <td>XgBoost</td>\n",
       "      <td>0.874870</td>\n",
       "      <td>0.627171</td>\n",
       "      <td>0.918466</td>\n",
       "      <td>0.125130</td>\n",
       "    </tr>\n",
       "    <tr>\n",
       "      <th>5</th>\n",
       "      <td>XgBoost With CrossValidation</td>\n",
       "      <td>0.874870</td>\n",
       "      <td>0.627171</td>\n",
       "      <td>0.918466</td>\n",
       "      <td>0.125130</td>\n",
       "    </tr>\n",
       "    <tr>\n",
       "      <th>6</th>\n",
       "      <td>Artificial Neural Network (ANN)</td>\n",
       "      <td>0.875290</td>\n",
       "      <td>0.631065</td>\n",
       "      <td>0.888299</td>\n",
       "      <td>0.124710</td>\n",
       "    </tr>\n",
       "  </tbody>\n",
       "</table>\n",
       "</div>"
      ],
      "text/plain": [
       "                         ModelName  Accuracy  Precision    Recall  \\\n",
       "0                         Logistic  0.827823   0.627602  0.335762   \n",
       "1                    Decision Tree  0.851154   0.630373  0.612952   \n",
       "2                    Random Forest  0.864863   0.644016  0.720610   \n",
       "3                        Light GBM  0.820009   0.741803  0.149319   \n",
       "4                          XgBoost  0.874870   0.627171  0.918466   \n",
       "5     XgBoost With CrossValidation  0.874870   0.627171  0.918466   \n",
       "6  Artificial Neural Network (ANN)  0.875290   0.631065  0.888299   \n",
       "\n",
       "   Mean Squared Error  \n",
       "0            0.172177  \n",
       "1            0.148846  \n",
       "2            0.135137  \n",
       "3            0.091018  \n",
       "4            0.125130  \n",
       "5            0.125130  \n",
       "6            0.124710  "
      ]
     },
     "execution_count": 53,
     "metadata": {},
     "output_type": "execute_result"
    }
   ],
   "source": [
    "model_info"
   ]
  }
 ],
 "metadata": {
  "kernelspec": {
   "display_name": "Python (captstone)",
   "language": "python",
   "name": "capstone"
  },
  "language_info": {
   "codemirror_mode": {
    "name": "ipython",
    "version": 3
   },
   "file_extension": ".py",
   "mimetype": "text/x-python",
   "name": "python",
   "nbconvert_exporter": "python",
   "pygments_lexer": "ipython3",
   "version": "3.7.5"
  },
  "toc": {
   "base_numbering": 1,
   "nav_menu": {},
   "number_sections": true,
   "sideBar": true,
   "skip_h1_title": false,
   "title_cell": "Table of Contents",
   "title_sidebar": "Contents",
   "toc_cell": false,
   "toc_position": {
    "height": "calc(100% - 180px)",
    "left": "10px",
    "top": "150px",
    "width": "369px"
   },
   "toc_section_display": true,
   "toc_window_display": true
  }
 },
 "nbformat": 4,
 "nbformat_minor": 2
}
