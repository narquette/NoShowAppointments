{
 "cells": [
  {
   "cell_type": "markdown",
   "metadata": {},
   "source": [
    "# Import Modules"
   ]
  },
  {
   "cell_type": "code",
   "execution_count": 2,
   "metadata": {
    "ExecuteTime": {
     "end_time": "2020-03-18T13:11:02.454452Z",
     "start_time": "2020-03-18T13:10:59.905829Z"
    }
   },
   "outputs": [],
   "source": [
    "import pandas as pd\n",
    "import numpy as np\n",
    "import collections\n",
    "import seaborn as sns\n",
    "import os\n",
    "from sklearn import metrics\n",
    "from sklearn.model_selection import train_test_split\n",
    "from sklearn.feature_selection import RFE\n",
    "import matplotlib.pyplot as plt\n",
    "from sklearn import svm"
   ]
  },
  {
   "cell_type": "markdown",
   "metadata": {},
   "source": [
    "# Store Model Information"
   ]
  },
  {
   "cell_type": "code",
   "execution_count": 3,
   "metadata": {
    "ExecuteTime": {
     "end_time": "2020-03-18T13:11:02.463152Z",
     "start_time": "2020-03-18T13:11:02.457032Z"
    }
   },
   "outputs": [],
   "source": [
    "model_cols = ['ModelName','Accuracy','Precision','Recall','Mean Squared Error']\n",
    "model_info = pd.DataFrame(columns=model_cols)"
   ]
  },
  {
   "cell_type": "markdown",
   "metadata": {},
   "source": [
    "# Load Cleaned Data"
   ]
  },
  {
   "cell_type": "code",
   "execution_count": 4,
   "metadata": {
    "ExecuteTime": {
     "end_time": "2020-03-18T13:11:04.046893Z",
     "start_time": "2020-03-18T13:11:02.466311Z"
    }
   },
   "outputs": [],
   "source": [
    "filePath = os.path.join('Data','Stage','NoShowAppointments_cleaned.csv')\n",
    "df = pd.read_csv(filePath,low_memory=False)"
   ]
  },
  {
   "cell_type": "markdown",
   "metadata": {},
   "source": [
    "# Build data to model"
   ]
  },
  {
   "cell_type": "code",
   "execution_count": 5,
   "metadata": {
    "ExecuteTime": {
     "end_time": "2020-03-18T13:11:07.057828Z",
     "start_time": "2020-03-18T13:11:06.863074Z"
    }
   },
   "outputs": [],
   "source": [
    "X = df.drop(['NoShow','AppointmentID','PatientId'], axis=1)\n",
    "y = df['NoShow']\n",
    "X_train, X_test, y_train, y_test = train_test_split(X, y, test_size=0.33, random_state=42)"
   ]
  },
  {
   "cell_type": "markdown",
   "metadata": {},
   "source": [
    "# Logistic Regression"
   ]
  },
  {
   "cell_type": "code",
   "execution_count": 5,
   "metadata": {
    "ExecuteTime": {
     "end_time": "2020-03-18T01:00:03.539277Z",
     "start_time": "2020-03-18T00:59:59.037993Z"
    }
   },
   "outputs": [
    {
     "name": "stderr",
     "output_type": "stream",
     "text": [
      "[Parallel(n_jobs=1)]: Using backend SequentialBackend with 1 concurrent workers.\n",
      "[Parallel(n_jobs=1)]: Done   1 out of   1 | elapsed:    4.2s finished\n"
     ]
    },
    {
     "data": {
      "text/plain": [
       "82.77"
      ]
     },
     "execution_count": 5,
     "metadata": {},
     "output_type": "execute_result"
    }
   ],
   "source": [
    "from sklearn.linear_model import LogisticRegression\n",
    "\n",
    "#instantiate mode\n",
    "logmodel = LogisticRegression(verbose=True,max_iter=1000)\n",
    "\n",
    "#fit the model with data\n",
    "logmodel.fit(X_train,y_train)\n",
    "\n",
    "#Use model to predict\n",
    "y_pred = logmodel.predict(X_test)\n",
    "\n",
    "#Evaluate accuracy of the model\n",
    "acc_log = round(logmodel.score(X_test, y_test) * 100, 2)\n",
    "acc_log"
   ]
  },
  {
   "cell_type": "code",
   "execution_count": 6,
   "metadata": {
    "ExecuteTime": {
     "end_time": "2020-03-18T01:00:03.611776Z",
     "start_time": "2020-03-18T01:00:03.542916Z"
    }
   },
   "outputs": [
    {
     "data": {
      "text/plain": [
       "array([[27746,  1455],\n",
       "       [ 4829,  2444]])"
      ]
     },
     "execution_count": 6,
     "metadata": {},
     "output_type": "execute_result"
    }
   ],
   "source": [
    "cnf_matrix = metrics.confusion_matrix(y_test, y_pred)\n",
    "cnf_matrix"
   ]
  },
  {
   "cell_type": "code",
   "execution_count": 7,
   "metadata": {
    "ExecuteTime": {
     "end_time": "2020-03-18T01:00:03.752919Z",
     "start_time": "2020-03-18T01:00:03.619115Z"
    }
   },
   "outputs": [
    {
     "name": "stdout",
     "output_type": "stream",
     "text": [
      "              precision    recall  f1-score   support\n",
      "\n",
      "           0       0.85      0.95      0.90     29201\n",
      "           1       0.63      0.34      0.44      7273\n",
      "\n",
      "    accuracy                           0.83     36474\n",
      "   macro avg       0.74      0.64      0.67     36474\n",
      "weighted avg       0.81      0.83      0.81     36474\n",
      "\n"
     ]
    }
   ],
   "source": [
    "print(metrics.classification_report(y_test, logmodel.predict(X_test)))"
   ]
  },
  {
   "cell_type": "code",
   "execution_count": 8,
   "metadata": {
    "ExecuteTime": {
     "end_time": "2020-03-18T01:00:04.082572Z",
     "start_time": "2020-03-18T01:00:03.783583Z"
    }
   },
   "outputs": [
    {
     "data": {
      "image/png": "[encoded data removed]",
      "text/plain": [
       "<Figure size 576x576 with 1 Axes>"
      ]
     },
     "metadata": {
      "needs_background": "light"
     },
     "output_type": "display_data"
    }
   ],
   "source": [
    "cm = metrics.confusion_matrix(y_test, logmodel.predict(X_test))\n",
    "\n",
    "fig, ax = plt.subplots(figsize=(8, 8))\n",
    "ax.imshow(cm)\n",
    "ax.grid(False)\n",
    "ax.xaxis.set(ticks=(0, 1), ticklabels=('Predicted 0s', 'Predicted 1s'))\n",
    "ax.yaxis.set(ticks=(0, 1), ticklabels=('Actual 0s', 'Actual 1s'))\n",
    "ax.set_ylim(1.5, -0.5)\n",
    "for i in range(2):\n",
    "    for j in range(2):\n",
    "        ax.text(j, i, cm[i, j], ha='center', va='center', color='red')\n",
    "plt.show()"
   ]
  },
  {
   "cell_type": "code",
   "execution_count": 9,
   "metadata": {
    "ExecuteTime": {
     "end_time": "2020-03-18T01:00:04.160436Z",
     "start_time": "2020-03-18T01:00:04.085775Z"
    }
   },
   "outputs": [
    {
     "name": "stdout",
     "output_type": "stream",
     "text": [
      "Accuracy: 0.8277128913746779\n",
      "Precision: 0.6268273916388818\n",
      "Recall: 0.3360373985975526\n"
     ]
    }
   ],
   "source": [
    "print(\"Accuracy:\",metrics.accuracy_score(y_test, y_pred))\n",
    "print(\"Precision:\",metrics.precision_score(y_test, y_pred))\n",
    "print(\"Recall:\",metrics.recall_score(y_test, y_pred))"
   ]
  },
  {
   "cell_type": "code",
   "execution_count": 10,
   "metadata": {
    "ExecuteTime": {
     "end_time": "2020-03-18T01:00:04.249767Z",
     "start_time": "2020-03-18T01:00:04.163541Z"
    }
   },
   "outputs": [],
   "source": [
    "name = 'Logistic'\n",
    "accuracy = metrics.accuracy_score(y_test, y_pred)\n",
    "precision = metrics.precision_score(y_test, y_pred)\n",
    "msqe = metrics.mean_squared_error(y_test, y_pred)\n",
    "recall = metrics.recall_score(y_test, y_pred)"
   ]
  },
  {
   "cell_type": "code",
   "execution_count": 11,
   "metadata": {
    "ExecuteTime": {
     "end_time": "2020-03-18T01:00:04.293741Z",
     "start_time": "2020-03-18T01:00:04.253841Z"
    }
   },
   "outputs": [],
   "source": [
    "model_info = model_info.append(\n",
    "    {\n",
    "        'ModelName': name,\n",
    "        'Accuracy': accuracy,\n",
    "        'Precision': precision,\n",
    "        'Recall': recall,\n",
    "        'Mean Squared Error': msqe\n",
    "    },\n",
    "    ignore_index=True)"
   ]
  },
  {
   "cell_type": "markdown",
   "metadata": {},
   "source": [
    "# Recursive Feature Elimination"
   ]
  },
  {
   "cell_type": "markdown",
   "metadata": {},
   "source": [
    "# Feature Importance"
   ]
  },
  {
   "cell_type": "code",
   "execution_count": 12,
   "metadata": {
    "ExecuteTime": {
     "end_time": "2020-03-18T01:08:30.502150Z",
     "start_time": "2020-03-18T01:00:04.296698Z"
    }
   },
   "outputs": [
    {
     "name": "stderr",
     "output_type": "stream",
     "text": [
      "[Parallel(n_jobs=1)]: Using backend SequentialBackend with 1 concurrent workers.\n",
      "[Parallel(n_jobs=1)]: Done   1 out of   1 | elapsed:    4.3s finished\n",
      "[Parallel(n_jobs=1)]: Using backend SequentialBackend with 1 concurrent workers.\n",
      "[Parallel(n_jobs=1)]: Done   1 out of   1 | elapsed:    4.1s finished\n",
      "[Parallel(n_jobs=1)]: Using backend SequentialBackend with 1 concurrent workers.\n",
      "[Parallel(n_jobs=1)]: Done   1 out of   1 | elapsed:    4.0s finished\n",
      "[Parallel(n_jobs=1)]: Using backend SequentialBackend with 1 concurrent workers.\n",
      "[Parallel(n_jobs=1)]: Done   1 out of   1 | elapsed:    3.7s finished\n",
      "[Parallel(n_jobs=1)]: Using backend SequentialBackend with 1 concurrent workers.\n",
      "[Parallel(n_jobs=1)]: Done   1 out of   1 | elapsed:    3.9s finished\n",
      "[Parallel(n_jobs=1)]: Using backend SequentialBackend with 1 concurrent workers.\n",
      "[Parallel(n_jobs=1)]: Done   1 out of   1 | elapsed:    4.0s finished\n",
      "[Parallel(n_jobs=1)]: Using backend SequentialBackend with 1 concurrent workers.\n",
      "[Parallel(n_jobs=1)]: Done   1 out of   1 | elapsed:    3.2s finished\n",
      "[Parallel(n_jobs=1)]: Using backend SequentialBackend with 1 concurrent workers.\n",
      "[Parallel(n_jobs=1)]: Done   1 out of   1 | elapsed:    3.6s finished\n",
      "[Parallel(n_jobs=1)]: Using backend SequentialBackend with 1 concurrent workers.\n",
      "[Parallel(n_jobs=1)]: Done   1 out of   1 | elapsed:    3.3s finished\n",
      "[Parallel(n_jobs=1)]: Using backend SequentialBackend with 1 concurrent workers.\n",
      "[Parallel(n_jobs=1)]: Done   1 out of   1 | elapsed:    3.2s finished\n",
      "[Parallel(n_jobs=1)]: Using backend SequentialBackend with 1 concurrent workers.\n",
      "[Parallel(n_jobs=1)]: Done   1 out of   1 | elapsed:    2.4s finished\n",
      "[Parallel(n_jobs=1)]: Using backend SequentialBackend with 1 concurrent workers.\n",
      "[Parallel(n_jobs=1)]: Done   1 out of   1 | elapsed:    2.1s finished\n",
      "[Parallel(n_jobs=1)]: Using backend SequentialBackend with 1 concurrent workers.\n",
      "[Parallel(n_jobs=1)]: Done   1 out of   1 | elapsed:    2.3s finished\n",
      "[Parallel(n_jobs=1)]: Using backend SequentialBackend with 1 concurrent workers.\n",
      "[Parallel(n_jobs=1)]: Done   1 out of   1 | elapsed:    2.2s finished\n",
      "[Parallel(n_jobs=1)]: Using backend SequentialBackend with 1 concurrent workers.\n",
      "[Parallel(n_jobs=1)]: Done   1 out of   1 | elapsed:    2.2s finished\n",
      "[Parallel(n_jobs=1)]: Using backend SequentialBackend with 1 concurrent workers.\n",
      "[Parallel(n_jobs=1)]: Done   1 out of   1 | elapsed:    2.2s finished\n",
      "[Parallel(n_jobs=1)]: Using backend SequentialBackend with 1 concurrent workers.\n",
      "[Parallel(n_jobs=1)]: Done   1 out of   1 | elapsed:    2.2s finished\n",
      "[Parallel(n_jobs=1)]: Using backend SequentialBackend with 1 concurrent workers.\n",
      "[Parallel(n_jobs=1)]: Done   1 out of   1 | elapsed:    2.2s finished\n",
      "[Parallel(n_jobs=1)]: Using backend SequentialBackend with 1 concurrent workers.\n",
      "[Parallel(n_jobs=1)]: Done   1 out of   1 | elapsed:    2.1s finished\n",
      "[Parallel(n_jobs=1)]: Using backend SequentialBackend with 1 concurrent workers.\n",
      "[Parallel(n_jobs=1)]: Done   1 out of   1 | elapsed:    2.0s finished\n",
      "[Parallel(n_jobs=1)]: Using backend SequentialBackend with 1 concurrent workers.\n",
      "[Parallel(n_jobs=1)]: Done   1 out of   1 | elapsed:    2.1s finished\n",
      "[Parallel(n_jobs=1)]: Using backend SequentialBackend with 1 concurrent workers.\n",
      "[Parallel(n_jobs=1)]: Done   1 out of   1 | elapsed:    2.1s finished\n",
      "[Parallel(n_jobs=1)]: Using backend SequentialBackend with 1 concurrent workers.\n",
      "[Parallel(n_jobs=1)]: Done   1 out of   1 | elapsed:    2.0s finished\n",
      "[Parallel(n_jobs=1)]: Using backend SequentialBackend with 1 concurrent workers.\n",
      "[Parallel(n_jobs=1)]: Done   1 out of   1 | elapsed:    1.8s finished\n",
      "[Parallel(n_jobs=1)]: Using backend SequentialBackend with 1 concurrent workers.\n",
      "[Parallel(n_jobs=1)]: Done   1 out of   1 | elapsed:    1.9s finished\n",
      "[Parallel(n_jobs=1)]: Using backend SequentialBackend with 1 concurrent workers.\n",
      "[Parallel(n_jobs=1)]: Done   1 out of   1 | elapsed:    1.8s finished\n",
      "[Parallel(n_jobs=1)]: Using backend SequentialBackend with 1 concurrent workers.\n",
      "[Parallel(n_jobs=1)]: Done   1 out of   1 | elapsed:    1.8s finished\n",
      "[Parallel(n_jobs=1)]: Using backend SequentialBackend with 1 concurrent workers.\n",
      "[Parallel(n_jobs=1)]: Done   1 out of   1 | elapsed:    1.9s finished\n",
      "[Parallel(n_jobs=1)]: Using backend SequentialBackend with 1 concurrent workers.\n",
      "[Parallel(n_jobs=1)]: Done   1 out of   1 | elapsed:    1.9s finished\n",
      "[Parallel(n_jobs=1)]: Using backend SequentialBackend with 1 concurrent workers.\n",
      "[Parallel(n_jobs=1)]: Done   1 out of   1 | elapsed:    2.0s finished\n",
      "[Parallel(n_jobs=1)]: Using backend SequentialBackend with 1 concurrent workers.\n",
      "[Parallel(n_jobs=1)]: Done   1 out of   1 | elapsed:    1.8s finished\n",
      "[Parallel(n_jobs=1)]: Using backend SequentialBackend with 1 concurrent workers.\n",
      "[Parallel(n_jobs=1)]: Done   1 out of   1 | elapsed:    1.9s finished\n",
      "[Parallel(n_jobs=1)]: Using backend SequentialBackend with 1 concurrent workers.\n",
      "[Parallel(n_jobs=1)]: Done   1 out of   1 | elapsed:    1.8s finished\n",
      "[Parallel(n_jobs=1)]: Using backend SequentialBackend with 1 concurrent workers.\n",
      "[Parallel(n_jobs=1)]: Done   1 out of   1 | elapsed:    2.0s finished\n",
      "[Parallel(n_jobs=1)]: Using backend SequentialBackend with 1 concurrent workers.\n",
      "[Parallel(n_jobs=1)]: Done   1 out of   1 | elapsed:    1.7s finished\n",
      "[Parallel(n_jobs=1)]: Using backend SequentialBackend with 1 concurrent workers.\n",
      "[Parallel(n_jobs=1)]: Done   1 out of   1 | elapsed:   16.3s finished\n",
      "[Parallel(n_jobs=1)]: Using backend SequentialBackend with 1 concurrent workers.\n",
      "[Parallel(n_jobs=1)]: Done   1 out of   1 | elapsed:  1.4min finished\n",
      "[Parallel(n_jobs=1)]: Using backend SequentialBackend with 1 concurrent workers.\n",
      "[Parallel(n_jobs=1)]: Done   1 out of   1 | elapsed:  3.5min finished\n",
      "[Parallel(n_jobs=1)]: Using backend SequentialBackend with 1 concurrent workers.\n",
      "[Parallel(n_jobs=1)]: Done   1 out of   1 | elapsed:    2.8s finished\n",
      "[Parallel(n_jobs=1)]: Using backend SequentialBackend with 1 concurrent workers.\n",
      "[Parallel(n_jobs=1)]: Done   1 out of   1 | elapsed:    1.8s finished\n",
      "[Parallel(n_jobs=1)]: Using backend SequentialBackend with 1 concurrent workers.\n",
      "[Parallel(n_jobs=1)]: Done   1 out of   1 | elapsed:    1.9s finished\n",
      "[Parallel(n_jobs=1)]: Using backend SequentialBackend with 1 concurrent workers.\n",
      "[Parallel(n_jobs=1)]: Done   1 out of   1 | elapsed:    2.0s finished\n",
      "[Parallel(n_jobs=1)]: Using backend SequentialBackend with 1 concurrent workers.\n",
      "[Parallel(n_jobs=1)]: Done   1 out of   1 | elapsed:    1.5s finished\n",
      "[Parallel(n_jobs=1)]: Using backend SequentialBackend with 1 concurrent workers.\n",
      "[Parallel(n_jobs=1)]: Done   1 out of   1 | elapsed:    1.6s finished\n",
      "[Parallel(n_jobs=1)]: Using backend SequentialBackend with 1 concurrent workers.\n",
      "[Parallel(n_jobs=1)]: Done   1 out of   1 | elapsed:    1.6s finished\n",
      "[Parallel(n_jobs=1)]: Using backend SequentialBackend with 1 concurrent workers.\n",
      "[Parallel(n_jobs=1)]: Done   1 out of   1 | elapsed:    1.4s finished\n",
      "[Parallel(n_jobs=1)]: Using backend SequentialBackend with 1 concurrent workers.\n",
      "[Parallel(n_jobs=1)]: Done   1 out of   1 | elapsed:    1.5s finished\n",
      "[Parallel(n_jobs=1)]: Using backend SequentialBackend with 1 concurrent workers.\n",
      "[Parallel(n_jobs=1)]: Done   1 out of   1 | elapsed:    1.5s finished\n",
      "[Parallel(n_jobs=1)]: Using backend SequentialBackend with 1 concurrent workers.\n",
      "[Parallel(n_jobs=1)]: Done   1 out of   1 | elapsed:    1.5s finished\n",
      "[Parallel(n_jobs=1)]: Using backend SequentialBackend with 1 concurrent workers.\n",
      "[Parallel(n_jobs=1)]: Done   1 out of   1 | elapsed:    1.9s finished\n",
      "[Parallel(n_jobs=1)]: Using backend SequentialBackend with 1 concurrent workers.\n",
      "[Parallel(n_jobs=1)]: Done   1 out of   1 | elapsed:    1.8s finished\n",
      "[Parallel(n_jobs=1)]: Using backend SequentialBackend with 1 concurrent workers.\n",
      "[Parallel(n_jobs=1)]: Done   1 out of   1 | elapsed:    1.7s finished\n",
      "[Parallel(n_jobs=1)]: Using backend SequentialBackend with 1 concurrent workers.\n",
      "[Parallel(n_jobs=1)]: Done   1 out of   1 | elapsed:    1.8s finished\n",
      "[Parallel(n_jobs=1)]: Using backend SequentialBackend with 1 concurrent workers.\n",
      "[Parallel(n_jobs=1)]: Done   1 out of   1 | elapsed:    1.7s finished\n",
      "[Parallel(n_jobs=1)]: Using backend SequentialBackend with 1 concurrent workers.\n"
     ]
    },
    {
     "name": "stderr",
     "output_type": "stream",
     "text": [
      "[Parallel(n_jobs=1)]: Done   1 out of   1 | elapsed:    1.6s finished\n",
      "[Parallel(n_jobs=1)]: Using backend SequentialBackend with 1 concurrent workers.\n",
      "[Parallel(n_jobs=1)]: Done   1 out of   1 | elapsed:    1.5s finished\n",
      "[Parallel(n_jobs=1)]: Using backend SequentialBackend with 1 concurrent workers.\n",
      "[Parallel(n_jobs=1)]: Done   1 out of   1 | elapsed:    1.4s finished\n",
      "[Parallel(n_jobs=1)]: Using backend SequentialBackend with 1 concurrent workers.\n",
      "[Parallel(n_jobs=1)]: Done   1 out of   1 | elapsed:    1.4s finished\n",
      "[Parallel(n_jobs=1)]: Using backend SequentialBackend with 1 concurrent workers.\n",
      "[Parallel(n_jobs=1)]: Done   1 out of   1 | elapsed:    1.3s finished\n",
      "[Parallel(n_jobs=1)]: Using backend SequentialBackend with 1 concurrent workers.\n",
      "[Parallel(n_jobs=1)]: Done   1 out of   1 | elapsed:    1.3s finished\n",
      "[Parallel(n_jobs=1)]: Using backend SequentialBackend with 1 concurrent workers.\n",
      "[Parallel(n_jobs=1)]: Done   1 out of   1 | elapsed:    1.2s finished\n",
      "[Parallel(n_jobs=1)]: Using backend SequentialBackend with 1 concurrent workers.\n",
      "[Parallel(n_jobs=1)]: Done   1 out of   1 | elapsed:    1.3s finished\n",
      "[Parallel(n_jobs=1)]: Using backend SequentialBackend with 1 concurrent workers.\n",
      "[Parallel(n_jobs=1)]: Done   1 out of   1 | elapsed:    1.1s finished\n",
      "[Parallel(n_jobs=1)]: Using backend SequentialBackend with 1 concurrent workers.\n",
      "[Parallel(n_jobs=1)]: Done   1 out of   1 | elapsed:    1.3s finished\n",
      "[Parallel(n_jobs=1)]: Using backend SequentialBackend with 1 concurrent workers.\n",
      "[Parallel(n_jobs=1)]: Done   1 out of   1 | elapsed:    1.2s finished\n",
      "[Parallel(n_jobs=1)]: Using backend SequentialBackend with 1 concurrent workers.\n",
      "[Parallel(n_jobs=1)]: Done   1 out of   1 | elapsed:    1.2s finished\n",
      "[Parallel(n_jobs=1)]: Using backend SequentialBackend with 1 concurrent workers.\n",
      "[Parallel(n_jobs=1)]: Done   1 out of   1 | elapsed:    1.3s finished\n",
      "[Parallel(n_jobs=1)]: Using backend SequentialBackend with 1 concurrent workers.\n",
      "[Parallel(n_jobs=1)]: Done   1 out of   1 | elapsed:    1.2s finished\n",
      "[Parallel(n_jobs=1)]: Using backend SequentialBackend with 1 concurrent workers.\n",
      "[Parallel(n_jobs=1)]: Done   1 out of   1 | elapsed:    1.1s finished\n",
      "[Parallel(n_jobs=1)]: Using backend SequentialBackend with 1 concurrent workers.\n",
      "[Parallel(n_jobs=1)]: Done   1 out of   1 | elapsed:    1.2s finished\n",
      "[Parallel(n_jobs=1)]: Using backend SequentialBackend with 1 concurrent workers.\n",
      "[Parallel(n_jobs=1)]: Done   1 out of   1 | elapsed:    1.1s finished\n",
      "[Parallel(n_jobs=1)]: Using backend SequentialBackend with 1 concurrent workers.\n",
      "[Parallel(n_jobs=1)]: Done   1 out of   1 | elapsed:    1.3s finished\n",
      "[Parallel(n_jobs=1)]: Using backend SequentialBackend with 1 concurrent workers.\n",
      "[Parallel(n_jobs=1)]: Done   1 out of   1 | elapsed:    1.2s finished\n",
      "[Parallel(n_jobs=1)]: Using backend SequentialBackend with 1 concurrent workers.\n",
      "[Parallel(n_jobs=1)]: Done   1 out of   1 | elapsed:    1.1s finished\n",
      "[Parallel(n_jobs=1)]: Using backend SequentialBackend with 1 concurrent workers.\n",
      "[Parallel(n_jobs=1)]: Done   1 out of   1 | elapsed:    1.1s finished\n",
      "[Parallel(n_jobs=1)]: Using backend SequentialBackend with 1 concurrent workers.\n",
      "[Parallel(n_jobs=1)]: Done   1 out of   1 | elapsed:    1.2s finished\n",
      "[Parallel(n_jobs=1)]: Using backend SequentialBackend with 1 concurrent workers.\n",
      "[Parallel(n_jobs=1)]: Done   1 out of   1 | elapsed:    1.1s finished\n",
      "[Parallel(n_jobs=1)]: Using backend SequentialBackend with 1 concurrent workers.\n",
      "[Parallel(n_jobs=1)]: Done   1 out of   1 | elapsed:    1.5s finished\n",
      "[Parallel(n_jobs=1)]: Using backend SequentialBackend with 1 concurrent workers.\n",
      "[Parallel(n_jobs=1)]: Done   1 out of   1 | elapsed:    1.3s finished\n",
      "[Parallel(n_jobs=1)]: Using backend SequentialBackend with 1 concurrent workers.\n",
      "[Parallel(n_jobs=1)]: Done   1 out of   1 | elapsed:    1.1s finished\n",
      "[Parallel(n_jobs=1)]: Using backend SequentialBackend with 1 concurrent workers.\n",
      "[Parallel(n_jobs=1)]: Done   1 out of   1 | elapsed:    1.1s finished\n",
      "[Parallel(n_jobs=1)]: Using backend SequentialBackend with 1 concurrent workers.\n",
      "[Parallel(n_jobs=1)]: Done   1 out of   1 | elapsed:    1.1s finished\n",
      "[Parallel(n_jobs=1)]: Using backend SequentialBackend with 1 concurrent workers.\n",
      "[Parallel(n_jobs=1)]: Done   1 out of   1 | elapsed:    1.0s finished\n",
      "[Parallel(n_jobs=1)]: Using backend SequentialBackend with 1 concurrent workers.\n",
      "[Parallel(n_jobs=1)]: Done   1 out of   1 | elapsed:    0.9s finished\n",
      "[Parallel(n_jobs=1)]: Using backend SequentialBackend with 1 concurrent workers.\n",
      "[Parallel(n_jobs=1)]: Done   1 out of   1 | elapsed:    0.8s finished\n",
      "[Parallel(n_jobs=1)]: Using backend SequentialBackend with 1 concurrent workers.\n",
      "[Parallel(n_jobs=1)]: Done   1 out of   1 | elapsed:    1.0s finished\n",
      "[Parallel(n_jobs=1)]: Using backend SequentialBackend with 1 concurrent workers.\n",
      "[Parallel(n_jobs=1)]: Done   1 out of   1 | elapsed:    0.9s finished\n",
      "[Parallel(n_jobs=1)]: Using backend SequentialBackend with 1 concurrent workers.\n",
      "[Parallel(n_jobs=1)]: Done   1 out of   1 | elapsed:    0.8s finished\n",
      "[Parallel(n_jobs=1)]: Using backend SequentialBackend with 1 concurrent workers.\n",
      "[Parallel(n_jobs=1)]: Done   1 out of   1 | elapsed:    0.9s finished\n",
      "[Parallel(n_jobs=1)]: Using backend SequentialBackend with 1 concurrent workers.\n",
      "[Parallel(n_jobs=1)]: Done   1 out of   1 | elapsed:    0.9s finished\n",
      "[Parallel(n_jobs=1)]: Using backend SequentialBackend with 1 concurrent workers.\n",
      "[Parallel(n_jobs=1)]: Done   1 out of   1 | elapsed:    0.8s finished\n",
      "[Parallel(n_jobs=1)]: Using backend SequentialBackend with 1 concurrent workers.\n",
      "[Parallel(n_jobs=1)]: Done   1 out of   1 | elapsed:    1.2s finished\n",
      "[Parallel(n_jobs=1)]: Using backend SequentialBackend with 1 concurrent workers.\n",
      "[Parallel(n_jobs=1)]: Done   1 out of   1 | elapsed:    1.1s finished\n",
      "[Parallel(n_jobs=1)]: Using backend SequentialBackend with 1 concurrent workers.\n",
      "[Parallel(n_jobs=1)]: Done   1 out of   1 | elapsed:    1.2s finished\n",
      "[Parallel(n_jobs=1)]: Using backend SequentialBackend with 1 concurrent workers.\n",
      "[Parallel(n_jobs=1)]: Done   1 out of   1 | elapsed:    0.8s finished\n",
      "[Parallel(n_jobs=1)]: Using backend SequentialBackend with 1 concurrent workers.\n",
      "[Parallel(n_jobs=1)]: Done   1 out of   1 | elapsed:    0.8s finished\n",
      "[Parallel(n_jobs=1)]: Using backend SequentialBackend with 1 concurrent workers.\n",
      "[Parallel(n_jobs=1)]: Done   1 out of   1 | elapsed:    0.7s finished\n",
      "[Parallel(n_jobs=1)]: Using backend SequentialBackend with 1 concurrent workers.\n",
      "[Parallel(n_jobs=1)]: Done   1 out of   1 | elapsed:    0.7s finished\n",
      "[Parallel(n_jobs=1)]: Using backend SequentialBackend with 1 concurrent workers.\n",
      "[Parallel(n_jobs=1)]: Done   1 out of   1 | elapsed:    0.6s finished\n",
      "[Parallel(n_jobs=1)]: Using backend SequentialBackend with 1 concurrent workers.\n",
      "[Parallel(n_jobs=1)]: Done   1 out of   1 | elapsed:    0.5s finished\n",
      "[Parallel(n_jobs=1)]: Using backend SequentialBackend with 1 concurrent workers.\n",
      "[Parallel(n_jobs=1)]: Done   1 out of   1 | elapsed:    0.6s finished\n",
      "[Parallel(n_jobs=1)]: Using backend SequentialBackend with 1 concurrent workers.\n",
      "[Parallel(n_jobs=1)]: Done   1 out of   1 | elapsed:    0.4s finished\n",
      "[Parallel(n_jobs=1)]: Using backend SequentialBackend with 1 concurrent workers.\n",
      "[Parallel(n_jobs=1)]: Done   1 out of   1 | elapsed:    0.4s finished\n",
      "[Parallel(n_jobs=1)]: Using backend SequentialBackend with 1 concurrent workers.\n",
      "[Parallel(n_jobs=1)]: Done   1 out of   1 | elapsed:    0.5s finished\n",
      "[Parallel(n_jobs=1)]: Using backend SequentialBackend with 1 concurrent workers.\n",
      "[Parallel(n_jobs=1)]: Done   1 out of   1 | elapsed:    0.3s finished\n",
      "[Parallel(n_jobs=1)]: Using backend SequentialBackend with 1 concurrent workers.\n",
      "[Parallel(n_jobs=1)]: Done   1 out of   1 | elapsed:    0.3s finished\n",
      "[Parallel(n_jobs=1)]: Using backend SequentialBackend with 1 concurrent workers.\n",
      "[Parallel(n_jobs=1)]: Done   1 out of   1 | elapsed:    0.2s finished\n",
      "[Parallel(n_jobs=1)]: Using backend SequentialBackend with 1 concurrent workers.\n",
      "[Parallel(n_jobs=1)]: Done   1 out of   1 | elapsed:    0.2s finished\n",
      "[Parallel(n_jobs=1)]: Using backend SequentialBackend with 1 concurrent workers.\n",
      "[Parallel(n_jobs=1)]: Done   1 out of   1 | elapsed:    0.1s finished\n",
      "[Parallel(n_jobs=1)]: Using backend SequentialBackend with 1 concurrent workers.\n",
      "[Parallel(n_jobs=1)]: Done   1 out of   1 | elapsed:    0.1s finished\n"
     ]
    }
   ],
   "source": [
    "#get feature importance\n",
    "predictors = X_train\n",
    "selector = RFE(logmodel, n_features_to_select = 1)\n",
    "selector = selector.fit(predictors, y_train)"
   ]
  },
  {
   "cell_type": "code",
   "execution_count": 13,
   "metadata": {
    "ExecuteTime": {
     "end_time": "2020-03-18T01:08:30.511969Z",
     "start_time": "2020-03-18T01:08:30.504952Z"
    }
   },
   "outputs": [
    {
     "data": {
      "text/plain": [
       "array([ 48,  52,  79,  73,  10,  89,   1,  90, 110,   6,  51,  27,  17,\n",
       "        24,  43,  74,  12,  16,  39,  40,  71,  78,  36,  49,   3,  76,\n",
       "        37,  67,  42,  23,   7,  83,  26,   8,  33, 109,  11,   9,  44,\n",
       "        45,  38,   5,  25,  66,  53,  34,  46,   4,  92,  14,  47,  62,\n",
       "        97,  82,  91,  61,  35,  28,  84,  93,  65,  29,  95,  69, 104,\n",
       "        22,  86,  31,  87,  30,  64,  15, 106,  21,  41,  50,  32,  80,\n",
       "        20,  77,  63,  18, 107,  13,  59,  75,  94,  19,  68,  58,  70,\n",
       "        96,  60,  85, 102,  72,  98, 103,  88,  55, 108,  54,  99, 101,\n",
       "       100,  56, 105,  81,  57,   2])"
      ]
     },
     "execution_count": 13,
     "metadata": {},
     "output_type": "execute_result"
    }
   ],
   "source": [
    "#look at the ranking\n",
    "order = selector.ranking_\n",
    "order"
   ]
  },
  {
   "cell_type": "code",
   "execution_count": 14,
   "metadata": {
    "ExecuteTime": {
     "end_time": "2020-03-18T01:08:30.683138Z",
     "start_time": "2020-03-18T01:08:30.514801Z"
    }
   },
   "outputs": [],
   "source": [
    "cols = [c for c in df.columns if c not in ['NoShow', 'PatientId', 'AppointmentID']]"
   ]
  },
  {
   "cell_type": "code",
   "execution_count": 15,
   "metadata": {
    "ExecuteTime": {
     "end_time": "2020-03-18T01:08:30.799716Z",
     "start_time": "2020-03-18T01:08:30.688329Z"
    },
    "code_folding": []
   },
   "outputs": [
    {
     "name": "stdout",
     "output_type": "stream",
     "text": [
      "1 SameDayAppointment\n",
      "2 NoShowSum\n",
      "3 Neighborhood_COMDUSA\n",
      "4 Neighborhood_ILHAS OCEANICAS DE TRINDADE\n",
      "5 Neighborhood_HORTO\n",
      "6 Age Group_Toddler/baby\n",
      "7 Neighborhood_DO CABRAL\n",
      "8 Neighborhood_ENSEADA DO SUA\n",
      "9 Neighborhood_FRADINHOS\n",
      "10 Handicap\n",
      "11 Neighborhood_FORTE SAO JOAO\n",
      "12 Neighborhood_ARIOVALDO FAVALESSA\n",
      "13 Neighborhood_SANTOS DUMONT\n",
      "14 Neighborhood_ITARARE\n",
      "15 Neighborhood_REPUBLICA\n",
      "16 Neighborhood_BARRO VERMELHO\n",
      "17 Age Group_Elderly\n",
      "18 Neighborhood_SANTO ANDRE\n",
      "19 Neighborhood_SAO JOSE\n",
      "20 Neighborhood_SANTA LUIZA\n",
      "21 Neighborhood_ROMAO\n",
      "22 Neighborhood_PARQUE MOSCOSO\n",
      "23 Neighborhood_DE LOURDES\n",
      "24 Neighborhood_AEROPORTO\n",
      "25 Neighborhood_ILHA DAS CAIEIRAS\n",
      "26 Neighborhood_DO QUADRO\n",
      "27 Age Group_Adult\n",
      "28 Neighborhood_MARIO CYPRESTE\n",
      "29 Neighborhood_MORADA DE CAMBURI\n",
      "30 Neighborhood_PRAIA DO SUA\n",
      "31 Neighborhood_PONTAL DE CAMBURI\n",
      "32 Neighborhood_SANTA HELENA\n",
      "33 Neighborhood_ESTRELINHA\n",
      "34 Neighborhood_ILHA DO FRADE\n",
      "35 Neighborhood_MARIA ORTIZ\n",
      "36 Neighborhood_CARATOIRA\n",
      "37 Neighborhood_CONSOLACAO\n",
      "38 Neighborhood_GURIGICA\n",
      "39 Neighborhood_BELA VISTA\n",
      "40 Neighborhood_BENTO FERREIRA\n",
      "41 Neighborhood_SANTA CECILIA\n",
      "42 Neighborhood_DA PENHA\n",
      "43 Neighborhood_ANDORINHAS\n",
      "44 Neighborhood_GOIABEIRAS\n",
      "45 Neighborhood_GRANDE VITORIA\n",
      "46 Neighborhood_ILHA DO PRINCIPE\n",
      "47 Neighborhood_JABOUR\n",
      "48 Scholarship\n",
      "49 Neighborhood_CENTRO\n",
      "50 Neighborhood_SANTA CLARA\n",
      "51 Age Group_Child\n",
      "52 Hypertension\n",
      "53 Neighborhood_ILHA DO BOI\n",
      "54 ScheduledTimeOfDay_Evening\n",
      "55 AppointmentDayOfWeek_Wednesday\n",
      "56 RainClassification_3\n",
      "57 NormalVersusActualTempAverage_same\n",
      "58 Neighborhood_SEGURANCA DO LAR\n",
      "59 Neighborhood_SANTOS REIS\n",
      "60 Neighborhood_UNIVERSITARIO\n",
      "61 Neighborhood_JUCUTUQUARA\n",
      "62 Neighborhood_JARDIM CAMBURI\n",
      "63 Neighborhood_SANTA TEREZA\n",
      "64 Neighborhood_REDENCAO\n",
      "65 Neighborhood_MONTE BELO\n",
      "66 Neighborhood_ILHA DE SANTA MARIA\n",
      "67 Neighborhood_CRUZAMENTO\n",
      "68 Neighborhood_SAO PEDRO\n",
      "69 Neighborhood_NOVA PALESTINA\n",
      "70 Neighborhood_SOLON BORGES\n",
      "71 Neighborhood_BOA VISTA\n",
      "72 AppointmentDayOfWeek_Monday\n",
      "73 Alcoholism\n",
      "74 Neighborhood_ANTONIO HONORIO\n",
      "75 Neighborhood_SAO BENEDITO\n",
      "76 Neighborhood_CONQUISTA\n",
      "77 Neighborhood_SANTA MARTHA\n",
      "78 Neighborhood_BONFIM\n",
      "79 Diabetes\n",
      "80 Neighborhood_SANTA LUCIA\n",
      "81 NormalVersusActualTempAverage_below\n",
      "82 Neighborhood_JESUS DE NAZARETH\n",
      "83 Neighborhood_DO MOSCOSO\n",
      "84 Neighborhood_MARUIPE\n",
      "85 Neighborhood_VILA RUBIM\n",
      "86 Neighborhood_PIEDADE\n",
      "87 Neighborhood_PRAIA DO CANTO\n",
      "88 AppointmentDayOfWeek_Tuesday\n",
      "89 SMSReceived\n",
      "90 Gender_F\n",
      "91 Neighborhood_JOANA DARC\n",
      "92 Neighborhood_INHANGUETA\n",
      "93 Neighborhood_MATA DA PRAIA\n",
      "94 Neighborhood_SAO CRISTOVAO\n",
      "95 Neighborhood_NAZARETH\n",
      "96 Neighborhood_TABUAZEIRO\n",
      "97 Neighborhood_JARDIM DA PENHA\n",
      "98 AppointmentDayOfWeek_Saturday\n",
      "99 ScheduledTimeOfDay_Morning\n",
      "100 RainClassification_2\n",
      "101 RainClassification_1\n",
      "102 AppointmentDayOfWeek_Friday\n",
      "103 AppointmentDayOfWeek_Thursday\n",
      "104 Neighborhood_PARQUE INDUSTRIAL\n",
      "105 NormalVersusActualTempAverage_above\n",
      "106 Neighborhood_RESISTENCIA\n",
      "107 Neighborhood_SANTO ANTONIO\n",
      "108 ScheduledTimeOfDay_Afternoon\n",
      "109 Neighborhood_FONTE GRANDE\n",
      "110 Gender_M\n"
     ]
    }
   ],
   "source": [
    "#get the detail(name of column) behind the rank\n",
    "feature_rank = dict(zip(order,cols))\n",
    "for f in sorted(feature_rank):\n",
    "    print(f,feature_rank[f])\n"
   ]
  },
  {
   "cell_type": "code",
   "execution_count": 16,
   "metadata": {
    "ExecuteTime": {
     "end_time": "2020-03-18T01:08:30.852719Z",
     "start_time": "2020-03-18T01:08:30.803006Z"
    }
   },
   "outputs": [
    {
     "name": "stdout",
     "output_type": "stream",
     "text": [
      "[0.19940231 0.62682739 1.        ]\n"
     ]
    }
   ],
   "source": [
    "# show AUC\n",
    "metrics.roc_auc_score(y_test, y_pred)\n",
    "\n",
    "# calculate precision-recall curve\n",
    "precision, recall, thresholds = metrics.precision_recall_curve(y_test, y_pred)\n",
    "\n",
    "print(precision)"
   ]
  },
  {
   "cell_type": "code",
   "execution_count": 17,
   "metadata": {
    "ExecuteTime": {
     "end_time": "2020-03-18T01:08:30.917627Z",
     "start_time": "2020-03-18T01:08:30.856357Z"
    }
   },
   "outputs": [
    {
     "name": "stdout",
     "output_type": "stream",
     "text": [
      "[1.        0.3360374 0.       ]\n"
     ]
    }
   ],
   "source": [
    "print(recall)"
   ]
  },
  {
   "cell_type": "code",
   "execution_count": 18,
   "metadata": {
    "ExecuteTime": {
     "end_time": "2020-03-18T01:08:30.994447Z",
     "start_time": "2020-03-18T01:08:30.921511Z"
    }
   },
   "outputs": [
    {
     "name": "stdout",
     "output_type": "stream",
     "text": [
      "[0 1]\n"
     ]
    }
   ],
   "source": [
    "print(thresholds)"
   ]
  },
  {
   "cell_type": "code",
   "execution_count": 19,
   "metadata": {
    "ExecuteTime": {
     "end_time": "2020-03-18T01:08:31.134639Z",
     "start_time": "2020-03-18T01:08:30.998408Z"
    }
   },
   "outputs": [
    {
     "data": {
      "text/plain": [
       "0.34303312516990847"
      ]
     },
     "execution_count": 19,
     "metadata": {},
     "output_type": "execute_result"
    }
   ],
   "source": [
    "metrics.average_precision_score(y_test, y_pred)"
   ]
  },
  {
   "cell_type": "markdown",
   "metadata": {
    "ExecuteTime": {
     "end_time": "2020-03-17T02:28:13.774891Z",
     "start_time": "2020-03-17T02:28:13.762068Z"
    }
   },
   "source": [
    "# Decision Tree"
   ]
  },
  {
   "cell_type": "code",
   "execution_count": 20,
   "metadata": {
    "ExecuteTime": {
     "end_time": "2020-03-18T01:08:32.007322Z",
     "start_time": "2020-03-18T01:08:31.138259Z"
    }
   },
   "outputs": [
    {
     "data": {
      "text/plain": [
       "84.99"
      ]
     },
     "execution_count": 20,
     "metadata": {},
     "output_type": "execute_result"
    }
   ],
   "source": [
    "# Decision Tree\n",
    "#########\n",
    "from sklearn.tree import DecisionTreeClassifier\n",
    "dtree = DecisionTreeClassifier()\n",
    "dtree.fit(X_train, y_train)\n",
    "\n",
    "#Use model to predict\n",
    "y_pred = dtree.predict(X_test)\n",
    "\n",
    "#Evaluate accuracy of the model\n",
    "acc_dtree = round(dtree.score(X_test, y_test) * 100, 2)\n",
    "acc_dtree"
   ]
  },
  {
   "cell_type": "code",
   "execution_count": 21,
   "metadata": {
    "ExecuteTime": {
     "end_time": "2020-03-18T01:08:32.064839Z",
     "start_time": "2020-03-18T01:08:32.009511Z"
    }
   },
   "outputs": [
    {
     "name": "stdout",
     "output_type": "stream",
     "text": [
      "Accuracy: 0.8499479080989197\n",
      "Precision: 0.6270827449872918\n",
      "Recall: 0.6106146019524268\n"
     ]
    }
   ],
   "source": [
    "# Model Accuracy, how often is the classifier correct?\n",
    "print(\"Accuracy:\",metrics.accuracy_score(y_test, y_pred))\n",
    "print(\"Precision:\",metrics.precision_score(y_test, y_pred))\n",
    "print(\"Recall:\",metrics.recall_score(y_test, y_pred))"
   ]
  },
  {
   "cell_type": "code",
   "execution_count": 22,
   "metadata": {
    "ExecuteTime": {
     "end_time": "2020-03-18T01:08:32.110246Z",
     "start_time": "2020-03-18T01:08:32.066828Z"
    }
   },
   "outputs": [],
   "source": [
    "name = 'Decision Tree'\n",
    "accuracy = metrics.accuracy_score(y_test, y_pred)\n",
    "precision = metrics.precision_score(y_test, y_pred)\n",
    "recall = metrics.recall_score(y_test, y_pred)\n",
    "msqe = metrics.mean_squared_error(y_test, y_pred)"
   ]
  },
  {
   "cell_type": "code",
   "execution_count": 23,
   "metadata": {
    "ExecuteTime": {
     "end_time": "2020-03-18T01:08:32.142236Z",
     "start_time": "2020-03-18T01:08:32.116971Z"
    }
   },
   "outputs": [],
   "source": [
    "model_info = model_info.append(\n",
    "    {\n",
    "        'ModelName': name,\n",
    "        'Accuracy': accuracy,\n",
    "        'Precision': precision,\n",
    "        'Recall': recall,\n",
    "        'Mean Squared Error': msqe\n",
    "    },\n",
    "    ignore_index=True)"
   ]
  },
  {
   "cell_type": "markdown",
   "metadata": {},
   "source": [
    "# Random Forest"
   ]
  },
  {
   "cell_type": "code",
   "execution_count": 24,
   "metadata": {
    "ExecuteTime": {
     "end_time": "2020-03-18T01:08:41.081838Z",
     "start_time": "2020-03-18T01:08:32.146346Z"
    }
   },
   "outputs": [],
   "source": [
    "# Random Forest\n",
    "#########\n",
    "from sklearn.ensemble import RandomForestClassifier\n",
    "rfc = RandomForestClassifier(n_estimators=200, random_state=101, n_jobs=-1)\n",
    "rfc.fit(X_train, y_train)\n",
    "\n",
    "#Use model to predict\n",
    "y_pred = rfc.predict(X_test)\n"
   ]
  },
  {
   "cell_type": "code",
   "execution_count": 25,
   "metadata": {
    "ExecuteTime": {
     "end_time": "2020-03-18T01:08:41.178575Z",
     "start_time": "2020-03-18T01:08:41.086092Z"
    }
   },
   "outputs": [
    {
     "name": "stdout",
     "output_type": "stream",
     "text": [
      "Accuracy: 0.8649997258320996\n",
      "Precision: 0.6452330901446767\n",
      "Recall: 0.7174480956964114\n"
     ]
    }
   ],
   "source": [
    "print(\"Accuracy:\",metrics.accuracy_score(y_test, y_pred))\n",
    "print(\"Precision:\",metrics.precision_score(y_test, y_pred))\n",
    "print(\"Recall:\",metrics.recall_score(y_test, y_pred))"
   ]
  },
  {
   "cell_type": "code",
   "execution_count": 26,
   "metadata": {
    "ExecuteTime": {
     "end_time": "2020-03-18T01:08:41.247604Z",
     "start_time": "2020-03-18T01:08:41.181508Z"
    }
   },
   "outputs": [],
   "source": [
    "name = 'Random Forest'\n",
    "accuracy = metrics.accuracy_score(y_test, y_pred)\n",
    "precision = metrics.precision_score(y_test, y_pred)\n",
    "recall = metrics.recall_score(y_test, y_pred)\n",
    "msqe = metrics.mean_squared_error(y_test, y_pred)\n",
    "model_info = model_info.append(\n",
    "    {\n",
    "        'ModelName': name,\n",
    "        'Accuracy': accuracy,\n",
    "        'Precision': precision,\n",
    "        'Recall': recall,\n",
    "        'Mean Squared Error': msqe\n",
    "    },\n",
    "    ignore_index=True)"
   ]
  },
  {
   "cell_type": "code",
   "execution_count": 27,
   "metadata": {
    "ExecuteTime": {
     "end_time": "2020-03-18T01:08:42.792244Z",
     "start_time": "2020-03-18T01:08:41.250157Z"
    }
   },
   "outputs": [
    {
     "data": {
      "image/png": "[encoded data removed]",
      "text/plain": [
       "<Figure size 1440x864 with 1 Axes>"
      ]
     },
     "metadata": {
      "needs_background": "light"
     },
     "output_type": "display_data"
    }
   ],
   "source": [
    "#Evaluate feature importance\n",
    "importances = rfc.feature_importances_\n",
    "std = np.std([importances for tree in rfc.estimators_], axis=0)\n",
    "indices = np.argsort(importances)[::-1]\n",
    "\n",
    "feature_importances = pd.DataFrame(rfc.feature_importances_, index = X_train.columns, columns=['importance']).sort_values('importance', ascending=False)\n",
    "feature_importances.sort_values('importance', ascending=False)\n",
    "\n",
    "plt.figure(figsize=(20,12))\n",
    "plt.title(\"Feature importances\")\n",
    "plt.bar(range(X_train.shape[1]), importances[indices], yerr=std[indices], align=\"center\")\n",
    "plt.xticks(range(X_train.shape[1]), indices)\n",
    "plt.xlim([-1, X_train.shape[1]])\n",
    "plt.show()"
   ]
  },
  {
   "cell_type": "markdown",
   "metadata": {},
   "source": [
    "# Light GBM"
   ]
  },
  {
   "cell_type": "code",
   "execution_count": 28,
   "metadata": {
    "ExecuteTime": {
     "end_time": "2020-03-18T01:08:43.497945Z",
     "start_time": "2020-03-18T01:08:42.794690Z"
    }
   },
   "outputs": [
    {
     "name": "stdout",
     "output_type": "stream",
     "text": [
      "[1]\tvalid_0's rmse: 0.389463\tvalid_0's l1: 0.313532\tvalid_0's l2: 0.151682\n",
      "Training until validation scores don't improve for 5 rounds\n",
      "[2]\tvalid_0's rmse: 0.38021\tvalid_0's l1: 0.305939\tvalid_0's l2: 0.14456\n",
      "[3]\tvalid_0's rmse: 0.373273\tvalid_0's l1: 0.300038\tvalid_0's l2: 0.139332\n",
      "[4]\tvalid_0's rmse: 0.365338\tvalid_0's l1: 0.293129\tvalid_0's l2: 0.133472\n",
      "[5]\tvalid_0's rmse: 0.358041\tvalid_0's l1: 0.286558\tvalid_0's l2: 0.128194\n",
      "[6]\tvalid_0's rmse: 0.35133\tvalid_0's l1: 0.280318\tvalid_0's l2: 0.123433\n",
      "[7]\tvalid_0's rmse: 0.345176\tvalid_0's l1: 0.274382\tvalid_0's l2: 0.119146\n",
      "[8]\tvalid_0's rmse: 0.339551\tvalid_0's l1: 0.268751\tvalid_0's l2: 0.115295\n",
      "[9]\tvalid_0's rmse: 0.3344\tvalid_0's l1: 0.263395\tvalid_0's l2: 0.111823\n",
      "[10]\tvalid_0's rmse: 0.3297\tvalid_0's l1: 0.258309\tvalid_0's l2: 0.108702\n",
      "[11]\tvalid_0's rmse: 0.325351\tvalid_0's l1: 0.253461\tvalid_0's l2: 0.105854\n",
      "[12]\tvalid_0's rmse: 0.321381\tvalid_0's l1: 0.248848\tvalid_0's l2: 0.103286\n",
      "[13]\tvalid_0's rmse: 0.317765\tvalid_0's l1: 0.244465\tvalid_0's l2: 0.100975\n",
      "[14]\tvalid_0's rmse: 0.316845\tvalid_0's l1: 0.243312\tvalid_0's l2: 0.100391\n",
      "[15]\tvalid_0's rmse: 0.313642\tvalid_0's l1: 0.239208\tvalid_0's l2: 0.0983714\n",
      "[16]\tvalid_0's rmse: 0.310733\tvalid_0's l1: 0.2353\tvalid_0's l2: 0.0965548\n",
      "[17]\tvalid_0's rmse: 0.308078\tvalid_0's l1: 0.231582\tvalid_0's l2: 0.094912\n",
      "[18]\tvalid_0's rmse: 0.305679\tvalid_0's l1: 0.228058\tvalid_0's l2: 0.0934396\n",
      "[19]\tvalid_0's rmse: 0.303488\tvalid_0's l1: 0.224704\tvalid_0's l2: 0.0921047\n",
      "[20]\tvalid_0's rmse: 0.301717\tvalid_0's l1: 0.221881\tvalid_0's l2: 0.0910334\n",
      "Did not meet early stopping. Best iteration is:\n",
      "[20]\tvalid_0's rmse: 0.301717\tvalid_0's l1: 0.221881\tvalid_0's l2: 0.0910334\n"
     ]
    }
   ],
   "source": [
    "#########\n",
    "# lightGBM (LGBM)\n",
    "#########\n",
    "import lightgbm as lgb\n",
    "#create dataset for lightgbm\n",
    "lgb_train = lgb.Dataset(X_train, y_train)\n",
    "lgb_eval = lgb.Dataset(X_test, y_test, reference=lgb_train)\n",
    "\n",
    "#specify your configurations as a dict\n",
    "params = {\n",
    "    'boosting_type': 'gbdt',\n",
    "    'objective': 'binary',\n",
    "    'metric': {'l2', 'l1', 'rmse'},\n",
    "    'num_leaves': 31,\n",
    "    'learning_rate': 0.05,\n",
    "    'feature_fraction': 0.9,\n",
    "    'bagging_fraction': 0.8,\n",
    "    'bagging_freq': 5,\n",
    "    'verbose': 0\n",
    "}\n",
    "\n",
    "#train\n",
    "gbm = lgb.train(params,\n",
    "                lgb_train,\n",
    "                num_boost_round=20,\n",
    "                valid_sets=lgb_eval,\n",
    "                early_stopping_rounds=5)\n",
    "\n",
    "#save model to file\n",
    "gbm.save_model('model.txt')\n",
    "\n",
    "#predict\n",
    "y_pred = gbm.predict(X_test, num_iteration=gbm.best_iteration)\n",
    "\n"
   ]
  },
  {
   "cell_type": "code",
   "execution_count": 29,
   "metadata": {
    "ExecuteTime": {
     "end_time": "2020-03-18T01:08:43.508741Z",
     "start_time": "2020-03-18T01:08:43.500746Z"
    }
   },
   "outputs": [
    {
     "data": {
      "text/plain": [
       "array([ 12,  16,   2,   6,   5,   5,  18,  18,  10,  17,  25,  12,   8,\n",
       "         0,   3,   0,   1,   0,   8,   0,   0,   6,   0,   3,  11,   1,\n",
       "         2,   1,   7,   2,   7,   0,   0,   0,   0,   0,  12,   0,   0,\n",
       "         2,  10,   0,  10,   1,   0,   0,   6,   0,   0,  18,   0,   1,\n",
       "         1,  15,   1,   2,   8,   0,   0,   1,   0,   0,   0,   1,   0,\n",
       "         2,   0,   0,   1,   0,   1,   1,   4,   7,   2,   0,   0,   0,\n",
       "         2,   1,   0,   6,   1,  21,   0,   0,   0,   6,  17,   0,   1,\n",
       "         0,   0,   1,  21,   7,   0,   3,  11,   8,   8,  12,   6,   5,\n",
       "         2,   1,   4,  17,   6, 120], dtype=int32)"
      ]
     },
     "execution_count": 29,
     "metadata": {},
     "output_type": "execute_result"
    }
   ],
   "source": [
    "gbm.feature_importance()"
   ]
  },
  {
   "cell_type": "code",
   "execution_count": 30,
   "metadata": {
    "ExecuteTime": {
     "end_time": "2020-03-18T01:08:43.813321Z",
     "start_time": "2020-03-18T01:08:43.514520Z"
    }
   },
   "outputs": [
    {
     "name": "stdout",
     "output_type": "stream",
     "text": [
      "Accuracy: 0.8186927674507869\n",
      "Precision: 0.7496217851739788\n",
      "Recall: 0.13625739034786197\n"
     ]
    }
   ],
   "source": [
    "predictions = [round(value) for value in y_pred]\n",
    "print(\"Accuracy:\",metrics.accuracy_score(y_test, predictions))\n",
    "print(\"Precision:\",metrics.precision_score(y_test, predictions))\n",
    "print(\"Recall:\",metrics.recall_score(y_test, predictions))"
   ]
  },
  {
   "cell_type": "code",
   "execution_count": 31,
   "metadata": {
    "ExecuteTime": {
     "end_time": "2020-03-18T01:08:43.926761Z",
     "start_time": "2020-03-18T01:08:43.815842Z"
    }
   },
   "outputs": [],
   "source": [
    "name = 'Light GBM'\n",
    "accuracy = metrics.accuracy_score(y_test, predictions)\n",
    "precision = metrics.precision_score(y_test, predictions)\n",
    "recall = metrics.recall_score(y_test, predictions)\n",
    "msqe = metrics.mean_squared_error(y_test, y_pred)\n",
    "model_info = model_info.append(\n",
    "    {\n",
    "        'ModelName': name,\n",
    "        'Accuracy': accuracy,\n",
    "        'Precision': precision,\n",
    "        'Recall': recall,\n",
    "        'Mean Squared Error': msqe\n",
    "    },\n",
    "    ignore_index=True)"
   ]
  },
  {
   "cell_type": "markdown",
   "metadata": {},
   "source": [
    "# XGBOOST"
   ]
  },
  {
   "cell_type": "code",
   "execution_count": 32,
   "metadata": {
    "ExecuteTime": {
     "end_time": "2020-03-18T01:09:19.131799Z",
     "start_time": "2020-03-18T01:08:43.929327Z"
    }
   },
   "outputs": [],
   "source": [
    "#########\n",
    "# XGBoost\n",
    "#########\n",
    "import xgboost as xgb\n",
    "\n",
    "xg_log = xgb.XGBClassifier(objective ='binary:logistic', colsample_bytree = 0.3, learning_rate = 0.1,\n",
    "                max_depth = 5, alpha = 10, n_estimators = 1000)\n",
    "\n",
    "xg_log.fit(X_train,y_train)\n",
    "\n",
    "preds = xg_log.predict(X_test)"
   ]
  },
  {
   "cell_type": "code",
   "execution_count": 33,
   "metadata": {
    "ExecuteTime": {
     "end_time": "2020-03-18T01:09:19.403798Z",
     "start_time": "2020-03-18T01:09:19.134612Z"
    }
   },
   "outputs": [
    {
     "name": "stdout",
     "output_type": "stream",
     "text": [
      "Accuracy: 0.8747875198771727\n",
      "Precision: 0.6273291925465838\n",
      "Recall: 0.9165406297263853\n",
      "RMSE: 0.353854\n"
     ]
    }
   ],
   "source": [
    "rmse = np.sqrt(metrics.mean_squared_error(y_test, preds))\n",
    "predictions = [round(value) for value in preds]\n",
    "\n",
    "print(\"Accuracy:\",metrics.accuracy_score(y_test, predictions))\n",
    "print(\"Precision:\",metrics.precision_score(y_test, predictions))\n",
    "print(\"Recall:\",metrics.recall_score(y_test, predictions))\n",
    "print(\"RMSE: %f\" % (rmse))"
   ]
  },
  {
   "cell_type": "code",
   "execution_count": 34,
   "metadata": {
    "ExecuteTime": {
     "end_time": "2020-03-18T01:09:19.524814Z",
     "start_time": "2020-03-18T01:09:19.406184Z"
    }
   },
   "outputs": [],
   "source": [
    "name = 'XgBoost'\n",
    "accuracy = metrics.accuracy_score(y_test, predictions)\n",
    "precision = metrics.precision_score(y_test, predictions)\n",
    "recall = metrics.recall_score(y_test, predictions)\n",
    "msqe = metrics.mean_squared_error(y_test, predictions)\n",
    "model_info = model_info.append(\n",
    "    {\n",
    "        'ModelName': name,\n",
    "        'Accuracy': accuracy,\n",
    "        'Precision': precision,\n",
    "        'Recall': recall,\n",
    "        'Mean Squared Error': msqe\n",
    "    },\n",
    "    ignore_index=True)"
   ]
  },
  {
   "cell_type": "markdown",
   "metadata": {},
   "source": [
    "# XGBOOST Cross Validation"
   ]
  },
  {
   "cell_type": "code",
   "execution_count": 35,
   "metadata": {
    "ExecuteTime": {
     "end_time": "2020-03-18T01:09:36.247774Z",
     "start_time": "2020-03-18T01:09:19.527169Z"
    }
   },
   "outputs": [
    {
     "data": {
      "text/html": [
       "<div>\n",
       "<style scoped>\n",
       "    .dataframe tbody tr th:only-of-type {\n",
       "        vertical-align: middle;\n",
       "    }\n",
       "\n",
       "    .dataframe tbody tr th {\n",
       "        vertical-align: top;\n",
       "    }\n",
       "\n",
       "    .dataframe thead th {\n",
       "        text-align: right;\n",
       "    }\n",
       "</style>\n",
       "<table border=\"1\" class=\"dataframe\">\n",
       "  <thead>\n",
       "    <tr style=\"text-align: right;\">\n",
       "      <th></th>\n",
       "      <th>train-rmse-mean</th>\n",
       "      <th>train-rmse-std</th>\n",
       "      <th>test-rmse-mean</th>\n",
       "      <th>test-rmse-std</th>\n",
       "    </tr>\n",
       "  </thead>\n",
       "  <tbody>\n",
       "    <tr>\n",
       "      <th>0</th>\n",
       "      <td>0.482813</td>\n",
       "      <td>0.000053</td>\n",
       "      <td>0.482814</td>\n",
       "      <td>0.000090</td>\n",
       "    </tr>\n",
       "    <tr>\n",
       "      <th>1</th>\n",
       "      <td>0.465056</td>\n",
       "      <td>0.006393</td>\n",
       "      <td>0.465051</td>\n",
       "      <td>0.006600</td>\n",
       "    </tr>\n",
       "    <tr>\n",
       "      <th>2</th>\n",
       "      <td>0.452213</td>\n",
       "      <td>0.006342</td>\n",
       "      <td>0.452216</td>\n",
       "      <td>0.006621</td>\n",
       "    </tr>\n",
       "    <tr>\n",
       "      <th>3</th>\n",
       "      <td>0.439412</td>\n",
       "      <td>0.007375</td>\n",
       "      <td>0.439421</td>\n",
       "      <td>0.007483</td>\n",
       "    </tr>\n",
       "    <tr>\n",
       "      <th>4</th>\n",
       "      <td>0.427709</td>\n",
       "      <td>0.011871</td>\n",
       "      <td>0.427701</td>\n",
       "      <td>0.012191</td>\n",
       "    </tr>\n",
       "  </tbody>\n",
       "</table>\n",
       "</div>"
      ],
      "text/plain": [
       "   train-rmse-mean  train-rmse-std  test-rmse-mean  test-rmse-std\n",
       "0         0.482813        0.000053        0.482814       0.000090\n",
       "1         0.465056        0.006393        0.465051       0.006600\n",
       "2         0.452213        0.006342        0.452216       0.006621\n",
       "3         0.439412        0.007375        0.439421       0.007483\n",
       "4         0.427709        0.011871        0.427701       0.012191"
      ]
     },
     "execution_count": 35,
     "metadata": {},
     "output_type": "execute_result"
    }
   ],
   "source": [
    "data_dmatrix = xgb.DMatrix(data=X, label=y)\n",
    "\n",
    "params = {\n",
    "    \"objective\": \"binary:logistic\",\n",
    "    'colsample_bytree': 0.3,\n",
    "    'learning_rate': 0.1,\n",
    "    'max_depth': 5,\n",
    "    'alpha': 10\n",
    "}\n",
    "\n",
    "cv_results = xgb.cv(dtrain=data_dmatrix,\n",
    "                    params=params,\n",
    "                    nfold=5,\n",
    "                    num_boost_round=50,\n",
    "                    early_stopping_rounds=10,\n",
    "                    metrics=\"rmse\",\n",
    "                    as_pandas=True,\n",
    "                    seed=123)\n",
    "\n",
    "cv_results.head()"
   ]
  },
  {
   "cell_type": "code",
   "execution_count": 36,
   "metadata": {
    "ExecuteTime": {
     "end_time": "2020-03-18T01:09:36.412280Z",
     "start_time": "2020-03-18T01:09:36.250906Z"
    }
   },
   "outputs": [
    {
     "data": {
      "text/html": [
       "<div>\n",
       "<style scoped>\n",
       "    .dataframe tbody tr th:only-of-type {\n",
       "        vertical-align: middle;\n",
       "    }\n",
       "\n",
       "    .dataframe tbody tr th {\n",
       "        vertical-align: top;\n",
       "    }\n",
       "\n",
       "    .dataframe thead th {\n",
       "        text-align: right;\n",
       "    }\n",
       "</style>\n",
       "<table border=\"1\" class=\"dataframe\">\n",
       "  <thead>\n",
       "    <tr style=\"text-align: right;\">\n",
       "      <th></th>\n",
       "      <th>ModelName</th>\n",
       "      <th>Accuracy</th>\n",
       "      <th>Precision</th>\n",
       "      <th>Recall</th>\n",
       "      <th>Mean Squared Error</th>\n",
       "    </tr>\n",
       "  </thead>\n",
       "  <tbody>\n",
       "    <tr>\n",
       "      <th>0</th>\n",
       "      <td>Logistic</td>\n",
       "      <td>0.827713</td>\n",
       "      <td>0.626827</td>\n",
       "      <td>0.336037</td>\n",
       "      <td>0.172287</td>\n",
       "    </tr>\n",
       "    <tr>\n",
       "      <th>1</th>\n",
       "      <td>Decision Tree</td>\n",
       "      <td>0.849948</td>\n",
       "      <td>0.627083</td>\n",
       "      <td>0.610615</td>\n",
       "      <td>0.150052</td>\n",
       "    </tr>\n",
       "    <tr>\n",
       "      <th>2</th>\n",
       "      <td>Random Forest</td>\n",
       "      <td>0.865000</td>\n",
       "      <td>0.645233</td>\n",
       "      <td>0.717448</td>\n",
       "      <td>0.135000</td>\n",
       "    </tr>\n",
       "    <tr>\n",
       "      <th>3</th>\n",
       "      <td>Light GBM</td>\n",
       "      <td>0.818693</td>\n",
       "      <td>0.749622</td>\n",
       "      <td>0.136257</td>\n",
       "      <td>0.091033</td>\n",
       "    </tr>\n",
       "    <tr>\n",
       "      <th>4</th>\n",
       "      <td>XgBoost</td>\n",
       "      <td>0.874788</td>\n",
       "      <td>0.627329</td>\n",
       "      <td>0.916541</td>\n",
       "      <td>0.125212</td>\n",
       "    </tr>\n",
       "    <tr>\n",
       "      <th>5</th>\n",
       "      <td>XgBoost With CrossValidation</td>\n",
       "      <td>0.874788</td>\n",
       "      <td>0.627329</td>\n",
       "      <td>0.916541</td>\n",
       "      <td>0.125212</td>\n",
       "    </tr>\n",
       "  </tbody>\n",
       "</table>\n",
       "</div>"
      ],
      "text/plain": [
       "                      ModelName  Accuracy  Precision    Recall  \\\n",
       "0                      Logistic  0.827713   0.626827  0.336037   \n",
       "1                 Decision Tree  0.849948   0.627083  0.610615   \n",
       "2                 Random Forest  0.865000   0.645233  0.717448   \n",
       "3                     Light GBM  0.818693   0.749622  0.136257   \n",
       "4                       XgBoost  0.874788   0.627329  0.916541   \n",
       "5  XgBoost With CrossValidation  0.874788   0.627329  0.916541   \n",
       "\n",
       "   Mean Squared Error  \n",
       "0            0.172287  \n",
       "1            0.150052  \n",
       "2            0.135000  \n",
       "3            0.091033  \n",
       "4            0.125212  \n",
       "5            0.125212  "
      ]
     },
     "execution_count": 36,
     "metadata": {},
     "output_type": "execute_result"
    }
   ],
   "source": [
    "name = 'XgBoost With CrossValidation'\n",
    "accuracy = metrics.accuracy_score(y_test, predictions)\n",
    "precision = metrics.precision_score(y_test, predictions)\n",
    "msqe = metrics.mean_squared_error(y_test, predictions)\n",
    "recall = metrics.recall_score(y_test, predictions)\n",
    "model_info = model_info.append(\n",
    "    {\n",
    "        'ModelName': name,\n",
    "        'Accuracy': accuracy,\n",
    "        'Precision': precision,\n",
    "        'Recall': recall,\n",
    "        'Mean Squared Error': msqe\n",
    "    },\n",
    "    ignore_index=True)\n",
    "model_info"
   ]
  },
  {
   "cell_type": "code",
   "execution_count": 37,
   "metadata": {
    "ExecuteTime": {
     "end_time": "2020-03-18T01:09:36.424752Z",
     "start_time": "2020-03-18T01:09:36.415810Z"
    }
   },
   "outputs": [
    {
     "name": "stdout",
     "output_type": "stream",
     "text": [
      "49    0.295225\n",
      "Name: test-rmse-mean, dtype: float64\n"
     ]
    }
   ],
   "source": [
    "print((cv_results[\"test-rmse-mean\"]).tail(1))"
   ]
  },
  {
   "cell_type": "markdown",
   "metadata": {},
   "source": [
    "# XGBOOST Feature Importance"
   ]
  },
  {
   "cell_type": "code",
   "execution_count": 38,
   "metadata": {
    "ExecuteTime": {
     "end_time": "2020-03-18T01:09:38.770235Z",
     "start_time": "2020-03-18T01:09:36.491741Z"
    }
   },
   "outputs": [
    {
     "data": {
      "image/png": "[encoded data removed]",
      "text/plain": [
       "<Figure size 432x288 with 1 Axes>"
      ]
     },
     "metadata": {
      "needs_background": "light"
     },
     "output_type": "display_data"
    }
   ],
   "source": [
    "xg_log = xgb.train(params=params, dtrain=data_dmatrix, num_boost_round=10)\n",
    "xgb.plot_importance(xg_log)\n",
    "plt.rcParams['figure.figsize'] = [40, 12]\n",
    "plt.show()\n"
   ]
  },
  {
   "cell_type": "markdown",
   "metadata": {},
   "source": [
    "# TensorFlow"
   ]
  },
  {
   "cell_type": "code",
   "execution_count": 39,
   "metadata": {
    "ExecuteTime": {
     "end_time": "2020-03-18T01:09:42.235258Z",
     "start_time": "2020-03-18T01:09:38.772326Z"
    }
   },
   "outputs": [],
   "source": [
    "import tensorflow\n",
    "from tensorflow.keras.models import Sequential\n",
    "from tensorflow.keras.layers import Dense, Activation,Dropout\n",
    "from tensorflow.keras.callbacks import EarlyStopping\n",
    "from sklearn.model_selection import train_test_split\n",
    "from sklearn.preprocessing import MinMaxScaler"
   ]
  },
  {
   "cell_type": "code",
   "execution_count": 40,
   "metadata": {
    "ExecuteTime": {
     "end_time": "2020-03-18T01:09:43.039663Z",
     "start_time": "2020-03-18T01:09:42.236793Z"
    }
   },
   "outputs": [],
   "source": [
    "X = df.drop('NoShow',axis=1).values\n",
    "y = df['NoShow'].values\n",
    "X_train, X_test, y_train, y_test = train_test_split(X,y,test_size=0.25,random_state=101)"
   ]
  },
  {
   "cell_type": "code",
   "execution_count": 41,
   "metadata": {
    "ExecuteTime": {
     "end_time": "2020-03-18T01:09:43.047011Z",
     "start_time": "2020-03-18T01:09:43.042691Z"
    }
   },
   "outputs": [],
   "source": [
    "scaler = MinMaxScaler()"
   ]
  },
  {
   "cell_type": "code",
   "execution_count": 42,
   "metadata": {
    "ExecuteTime": {
     "end_time": "2020-03-18T01:09:43.139654Z",
     "start_time": "2020-03-18T01:09:43.050599Z"
    }
   },
   "outputs": [
    {
     "data": {
      "text/plain": [
       "MinMaxScaler(copy=True, feature_range=(0, 1))"
      ]
     },
     "execution_count": 42,
     "metadata": {},
     "output_type": "execute_result"
    }
   ],
   "source": [
    "scaler.fit(X_train)"
   ]
  },
  {
   "cell_type": "code",
   "execution_count": 43,
   "metadata": {
    "ExecuteTime": {
     "end_time": "2020-03-18T01:09:43.296570Z",
     "start_time": "2020-03-18T01:09:43.141836Z"
    }
   },
   "outputs": [],
   "source": [
    "X_train = scaler.transform(X_train)\n",
    "X_test = scaler.transform(X_test)"
   ]
  },
  {
   "cell_type": "code",
   "execution_count": 44,
   "metadata": {
    "ExecuteTime": {
     "end_time": "2020-03-18T01:09:43.314221Z",
     "start_time": "2020-03-18T01:09:43.298641Z"
    }
   },
   "outputs": [],
   "source": [
    "model = Sequential()\n",
    "\n",
    "# https://stats.stackexchange.com/questions/181/how-to-choose-the-number-of-hidden-layers-and-nodes-in-a-feedforward-neural-netw\n",
    "\n",
    "model.add(Dense(units=110,activation='relu'))\n",
    "model.add(Dropout(0.5))\n",
    "model.add(Dense(units=50,activation='relu'))\n",
    "model.add(Dropout(0.5))\n",
    "model.add(Dense(units=25,activation='relu'))\n",
    "model.add(Dropout(0.5))\n",
    "model.add(Dense(units=1,activation='sigmoid'))\n",
    "\n",
    "# For a binary classification problem\n",
    "model.compile(loss='binary_crossentropy', optimizer='adam')"
   ]
  },
  {
   "cell_type": "code",
   "execution_count": 45,
   "metadata": {
    "ExecuteTime": {
     "end_time": "2020-03-18T01:09:43.378029Z",
     "start_time": "2020-03-18T01:09:43.316990Z"
    }
   },
   "outputs": [],
   "source": [
    "early_stop = EarlyStopping(monitor='val_loss', mode='min', verbose=1, patience=25)"
   ]
  },
  {
   "cell_type": "code",
   "execution_count": 46,
   "metadata": {
    "ExecuteTime": {
     "end_time": "2020-03-18T01:18:08.516916Z",
     "start_time": "2020-03-18T01:09:43.380548Z"
    }
   },
   "outputs": [
    {
     "name": "stdout",
     "output_type": "stream",
     "text": [
      "Train on 82894 samples, validate on 27632 samples\n",
      "Epoch 1/600\n",
      "82894/82894 [==============================] - 6s 68us/sample - loss: 0.4230 - val_loss: 0.2749\n",
      "Epoch 2/600\n",
      "82894/82894 [==============================] - 5s 56us/sample - loss: 0.2692 - val_loss: 0.2376\n",
      "Epoch 3/600\n",
      "82894/82894 [==============================] - 5s 55us/sample - loss: 0.2474 - val_loss: 0.2376\n",
      "Epoch 4/600\n",
      "82894/82894 [==============================] - 6s 70us/sample - loss: 0.2435 - val_loss: 0.2337\n",
      "Epoch 5/600\n",
      "82894/82894 [==============================] - 6s 70us/sample - loss: 0.2427 - val_loss: 0.2334\n",
      "Epoch 6/600\n",
      "82894/82894 [==============================] - 6s 66us/sample - loss: 0.2416 - val_loss: 0.2325\n",
      "Epoch 7/600\n",
      "82894/82894 [==============================] - 6s 68us/sample - loss: 0.2403 - val_loss: 0.2334\n",
      "Epoch 8/600\n",
      "82894/82894 [==============================] - 6s 68us/sample - loss: 0.2388 - val_loss: 0.2325\n",
      "Epoch 9/600\n",
      "82894/82894 [==============================] - 6s 68us/sample - loss: 0.2385 - val_loss: 0.2326\n",
      "Epoch 10/600\n",
      "82894/82894 [==============================] - 6s 67us/sample - loss: 0.2392 - val_loss: 0.2324\n",
      "Epoch 11/600\n",
      "82894/82894 [==============================] - 6s 67us/sample - loss: 0.2371 - val_loss: 0.2311\n",
      "Epoch 12/600\n",
      "82894/82894 [==============================] - 6s 69us/sample - loss: 0.2362 - val_loss: 0.2311\n",
      "Epoch 13/600\n",
      "82894/82894 [==============================] - 6s 68us/sample - loss: 0.2354 - val_loss: 0.2304\n",
      "Epoch 14/600\n",
      "82894/82894 [==============================] - 6s 72us/sample - loss: 0.2352 - val_loss: 0.2320\n",
      "Epoch 15/600\n",
      "82894/82894 [==============================] - 9s 106us/sample - loss: 0.2351 - val_loss: 0.2329\n",
      "Epoch 16/600\n",
      "82894/82894 [==============================] - 6s 76us/sample - loss: 0.2347 - val_loss: 0.2315\n",
      "Epoch 17/600\n",
      "82894/82894 [==============================] - 6s 69us/sample - loss: 0.2339 - val_loss: 0.2312\n",
      "Epoch 18/600\n",
      "82894/82894 [==============================] - 6s 72us/sample - loss: 0.2334 - val_loss: 0.2317\n",
      "Epoch 19/600\n",
      "82894/82894 [==============================] - 6s 69us/sample - loss: 0.2335 - val_loss: 0.2317\n",
      "Epoch 20/600\n",
      "82894/82894 [==============================] - 6s 68us/sample - loss: 0.2324 - val_loss: 0.2327\n",
      "Epoch 21/600\n",
      "82894/82894 [==============================] - 6s 69us/sample - loss: 0.2325 - val_loss: 0.2315\n",
      "Epoch 22/600\n",
      "82894/82894 [==============================] - 6s 73us/sample - loss: 0.2314 - val_loss: 0.2316\n",
      "Epoch 23/600\n",
      "82894/82894 [==============================] - 6s 68us/sample - loss: 0.2316 - val_loss: 0.2311\n",
      "Epoch 24/600\n",
      "82894/82894 [==============================] - 6s 76us/sample - loss: 0.2314 - val_loss: 0.2308\n",
      "Epoch 25/600\n",
      "82894/82894 [==============================] - 6s 69us/sample - loss: 0.2308 - val_loss: 0.2309\n",
      "Epoch 26/600\n",
      "82894/82894 [==============================] - 6s 72us/sample - loss: 0.2302 - val_loss: 0.2313\n",
      "Epoch 27/600\n",
      "82894/82894 [==============================] - 7s 82us/sample - loss: 0.2303 - val_loss: 0.2305\n",
      "Epoch 28/600\n",
      "82894/82894 [==============================] - 6s 75us/sample - loss: 0.2307 - val_loss: 0.2311\n",
      "Epoch 29/600\n",
      "82894/82894 [==============================] - 6s 68us/sample - loss: 0.2296 - val_loss: 0.2328\n",
      "Epoch 30/600\n",
      "82894/82894 [==============================] - 6s 72us/sample - loss: 0.2293 - val_loss: 0.2321\n",
      "Epoch 31/600\n",
      "82894/82894 [==============================] - 7s 90us/sample - loss: 0.2293 - val_loss: 0.2315\n",
      "Epoch 32/600\n",
      "82894/82894 [==============================] - 9s 107us/sample - loss: 0.2294 - val_loss: 0.2322\n",
      "Epoch 33/600\n",
      "82894/82894 [==============================] - 6s 69us/sample - loss: 0.2280 - val_loss: 0.2329\n",
      "Epoch 34/600\n",
      "82894/82894 [==============================] - 6s 70us/sample - loss: 0.2276 - val_loss: 0.2336\n",
      "Epoch 35/600\n",
      "82894/82894 [==============================] - 6s 72us/sample - loss: 0.2279 - val_loss: 0.2322\n",
      "Epoch 36/600\n",
      "82894/82894 [==============================] - 6s 70us/sample - loss: 0.2282 - val_loss: 0.2317\n",
      "Epoch 37/600\n",
      "82894/82894 [==============================] - 6s 71us/sample - loss: 0.2271 - val_loss: 0.2339\n",
      "Epoch 38/600\n",
      "82894/82894 [==============================] - 6s 73us/sample - loss: 0.2272 - val_loss: 0.2344\n",
      "Epoch 00038: early stopping\n"
     ]
    },
    {
     "data": {
      "text/plain": [
       "<tensorflow.python.keras.callbacks.History at 0x7fa031fa6a90>"
      ]
     },
     "execution_count": 46,
     "metadata": {},
     "output_type": "execute_result"
    }
   ],
   "source": [
    "model.fit(x=X_train, \n",
    "          y=y_train, \n",
    "          epochs=600,\n",
    "          validation_data=(X_test, y_test), verbose=1,\n",
    "          callbacks=[early_stop]\n",
    "          )"
   ]
  },
  {
   "cell_type": "code",
   "execution_count": 47,
   "metadata": {
    "ExecuteTime": {
     "end_time": "2020-03-18T01:18:08.952146Z",
     "start_time": "2020-03-18T01:18:08.518836Z"
    }
   },
   "outputs": [
    {
     "data": {
      "text/plain": [
       "<matplotlib.axes._subplots.AxesSubplot at 0x7f9fb08c26d0>"
      ]
     },
     "execution_count": 47,
     "metadata": {},
     "output_type": "execute_result"
    },
    {
     "data": {
      "image/png": "[encoded data removed]",
      "text/plain": [
       "<Figure size 2880x864 with 1 Axes>"
      ]
     },
     "metadata": {
      "needs_background": "light"
     },
     "output_type": "display_data"
    }
   ],
   "source": [
    "model_loss = pd.DataFrame(model.history.history)\n",
    "model_loss.plot()"
   ]
  },
  {
   "cell_type": "code",
   "execution_count": 48,
   "metadata": {
    "ExecuteTime": {
     "end_time": "2020-03-18T01:18:09.775044Z",
     "start_time": "2020-03-18T01:18:08.954732Z"
    }
   },
   "outputs": [],
   "source": [
    "predictions = model.predict_classes(X_test)"
   ]
  },
  {
   "cell_type": "code",
   "execution_count": 49,
   "metadata": {
    "ExecuteTime": {
     "end_time": "2020-03-18T01:18:09.779708Z",
     "start_time": "2020-03-18T01:18:09.776688Z"
    }
   },
   "outputs": [],
   "source": [
    "from sklearn.metrics import classification_report,confusion_matrix"
   ]
  },
  {
   "cell_type": "code",
   "execution_count": 50,
   "metadata": {
    "ExecuteTime": {
     "end_time": "2020-03-18T01:18:09.868691Z",
     "start_time": "2020-03-18T01:18:09.782492Z"
    }
   },
   "outputs": [
    {
     "name": "stdout",
     "output_type": "stream",
     "text": [
      "[[19270  2901]\n",
      " [  558  4903]]\n"
     ]
    }
   ],
   "source": [
    "print(confusion_matrix(y_test,predictions))"
   ]
  },
  {
   "cell_type": "code",
   "execution_count": 51,
   "metadata": {
    "ExecuteTime": {
     "end_time": "2020-03-18T01:18:09.963453Z",
     "start_time": "2020-03-18T01:18:09.871121Z"
    }
   },
   "outputs": [
    {
     "name": "stdout",
     "output_type": "stream",
     "text": [
      "Accuracy: 0.8748190503763752\n",
      "Precision: 0.6282675550999487\n",
      "Recall: 0.8978209119208936\n"
     ]
    }
   ],
   "source": [
    "print(\"Accuracy:\",metrics.accuracy_score(y_test, predictions))\n",
    "print(\"Precision:\",metrics.precision_score(y_test, predictions))\n",
    "print(\"Recall:\",metrics.recall_score(y_test, predictions))"
   ]
  },
  {
   "cell_type": "code",
   "execution_count": 52,
   "metadata": {
    "ExecuteTime": {
     "end_time": "2020-03-18T01:18:10.016837Z",
     "start_time": "2020-03-18T01:18:09.966298Z"
    }
   },
   "outputs": [],
   "source": [
    "name = 'Artificial Neural Network (ANN)'\n",
    "accuracy = metrics.accuracy_score(y_test, predictions)\n",
    "precision = metrics.precision_score(y_test, predictions)\n",
    "recall = metrics.recall_score(y_test, predictions)\n",
    "msqe = metrics.mean_squared_error(y_test, predictions)\n",
    "model_info = model_info.append(\n",
    "    {\n",
    "        'ModelName': name,\n",
    "        'Accuracy': accuracy,\n",
    "        'Precision': precision,\n",
    "        'Recall': recall,\n",
    "        'Mean Squared Error': msqe        \n",
    "    },\n",
    "    ignore_index=True)"
   ]
  },
  {
   "cell_type": "markdown",
   "metadata": {},
   "source": [
    "# Show Table Metrics"
   ]
  },
  {
   "cell_type": "code",
   "execution_count": 1,
   "metadata": {
    "ExecuteTime": {
     "end_time": "2020-03-18T12:59:29.003327Z",
     "start_time": "2020-03-18T12:59:28.878602Z"
    }
   },
   "outputs": [
    {
     "ename": "NameError",
     "evalue": "name 'model_info' is not defined",
     "output_type": "error",
     "traceback": [
      "\u001b[0;31m---------------------------------------------------------------------------\u001b[0m",
      "\u001b[0;31mNameError\u001b[0m                                 Traceback (most recent call last)",
      "\u001b[0;32m<ipython-input-1-3fbec23cf3a6>\u001b[0m in \u001b[0;36m<module>\u001b[0;34m\u001b[0m\n\u001b[0;32m----> 1\u001b[0;31m \u001b[0mmodel_info\u001b[0m\u001b[0;34m\u001b[0m\u001b[0;34m\u001b[0m\u001b[0m\n\u001b[0m",
      "\u001b[0;31mNameError\u001b[0m: name 'model_info' is not defined"
     ]
    }
   ],
   "source": [
    "model_info"
   ]
  },
  {
   "cell_type": "markdown",
   "metadata": {},
   "source": [
    "# Auto-ML"
   ]
  },
  {
   "cell_type": "code",
   "execution_count": 65,
   "metadata": {
    "ExecuteTime": {
     "end_time": "2020-03-18T01:27:05.531004Z",
     "start_time": "2020-03-18T01:26:57.239017Z"
    }
   },
   "outputs": [],
   "source": [
    "# prepare files for Auto-ML\n",
    "\n",
    "#divide dataframe into test and train\n",
    "test_perc = .33\n",
    "test = int(df.shape[0] * test_perc)\n",
    "train = df.shape[0] - test\n",
    "\n",
    "#fail if length doesn't equal test + train\n",
    "assert df.shape[0] == test + train\n",
    "\n",
    "#create file paths for test and train files\n",
    "filePathTrain = os.path.join('Data','Stage','Appointment_Cleaned_train.csv')\n",
    "filePathTest = os.path.join('Data','Stage','Appointment_Cleaned_test.csv')\n",
    "\n",
    "#add files to Stage Folder\n",
    "df[:train].to_csv(filePathTrain,index=False)\n",
    "df[:test].to_csv(filePathTest,index=False)"
   ]
  },
  {
   "cell_type": "code",
   "execution_count": 66,
   "metadata": {
    "ExecuteTime": {
     "end_time": "2020-03-18T01:27:18.043324Z",
     "start_time": "2020-03-18T01:27:06.883695Z"
    }
   },
   "outputs": [
    {
     "name": "stdout",
     "output_type": "stream",
     "text": [
      "Checking whether there is an H2O instance running at http://localhost:54321 ..... not found.\n",
      "Attempting to start a local H2O server...\n",
      "  Java Version: openjdk version \"11.0.4\" 2019-07-16; OpenJDK Runtime Environment (build 11.0.4+11-post-Ubuntu-1ubuntu218.04.3); OpenJDK 64-Bit Server VM (build 11.0.4+11-post-Ubuntu-1ubuntu218.04.3, mixed mode, sharing)\n",
      "  Starting server from /home/narquette/anaconda3/envs/capstone/lib/python3.7/site-packages/h2o/backend/bin/h2o.jar\n",
      "  Ice root: /tmp/tmptm4z3tho\n",
      "  JVM stdout: /tmp/tmptm4z3tho/h2o_narquette_started_from_python.out\n",
      "  JVM stderr: /tmp/tmptm4z3tho/h2o_narquette_started_from_python.err\n",
      "  Server is running at http://127.0.0.1:54321\n",
      "Connecting to H2O server at http://127.0.0.1:54321 ... successful.\n"
     ]
    },
    {
     "data": {
      "text/html": [
       "<div style=\"overflow:auto\"><table style=\"width:50%\"><tr><td>H2O cluster uptime:</td>\n",
       "<td>02 secs</td></tr>\n",
       "<tr><td>H2O cluster timezone:</td>\n",
       "<td>Etc/GMT</td></tr>\n",
       "<tr><td>H2O data parsing timezone:</td>\n",
       "<td>UTC</td></tr>\n",
       "<tr><td>H2O cluster version:</td>\n",
       "<td>3.28.0.3</td></tr>\n",
       "<tr><td>H2O cluster version age:</td>\n",
       "<td>1 month and 12 days </td></tr>\n",
       "<tr><td>H2O cluster name:</td>\n",
       "<td>H2O_from_python_narquette_0ng4x2</td></tr>\n",
       "<tr><td>H2O cluster total nodes:</td>\n",
       "<td>1</td></tr>\n",
       "<tr><td>H2O cluster free memory:</td>\n",
       "<td>7.971 Gb</td></tr>\n",
       "<tr><td>H2O cluster total cores:</td>\n",
       "<td>8</td></tr>\n",
       "<tr><td>H2O cluster allowed cores:</td>\n",
       "<td>1</td></tr>\n",
       "<tr><td>H2O cluster status:</td>\n",
       "<td>accepting new members, healthy</td></tr>\n",
       "<tr><td>H2O connection url:</td>\n",
       "<td>http://127.0.0.1:54321</td></tr>\n",
       "<tr><td>H2O connection proxy:</td>\n",
       "<td>{'http': None, 'https': None}</td></tr>\n",
       "<tr><td>H2O internal security:</td>\n",
       "<td>False</td></tr>\n",
       "<tr><td>H2O API Extensions:</td>\n",
       "<td>Amazon S3, XGBoost, Algos, AutoML, Core V3, TargetEncoder, Core V4</td></tr>\n",
       "<tr><td>Python version:</td>\n",
       "<td>3.7.5 final</td></tr></table></div>"
      ],
      "text/plain": [
       "--------------------------  ------------------------------------------------------------------\n",
       "H2O cluster uptime:         02 secs\n",
       "H2O cluster timezone:       Etc/GMT\n",
       "H2O data parsing timezone:  UTC\n",
       "H2O cluster version:        3.28.0.3\n",
       "H2O cluster version age:    1 month and 12 days\n",
       "H2O cluster name:           H2O_from_python_narquette_0ng4x2\n",
       "H2O cluster total nodes:    1\n",
       "H2O cluster free memory:    7.971 Gb\n",
       "H2O cluster total cores:    8\n",
       "H2O cluster allowed cores:  1\n",
       "H2O cluster status:         accepting new members, healthy\n",
       "H2O connection url:         http://127.0.0.1:54321\n",
       "H2O connection proxy:       {'http': None, 'https': None}\n",
       "H2O internal security:      False\n",
       "H2O API Extensions:         Amazon S3, XGBoost, Algos, AutoML, Core V3, TargetEncoder, Core V4\n",
       "Python version:             3.7.5 final\n",
       "--------------------------  ------------------------------------------------------------------"
      ]
     },
     "metadata": {},
     "output_type": "display_data"
    }
   ],
   "source": [
    "import h2o\n",
    "from h2o.automl import H2OAutoML, get_leaderboard\n",
    "\n",
    "h2o.init()"
   ]
  },
  {
   "cell_type": "code",
   "execution_count": 67,
   "metadata": {
    "ExecuteTime": {
     "end_time": "2020-03-18T01:32:23.833227Z",
     "start_time": "2020-03-18T01:32:21.159939Z"
    }
   },
   "outputs": [
    {
     "name": "stdout",
     "output_type": "stream",
     "text": [
      "Parse progress: |█████████████████████████████████████████████████████████| 100%\n",
      "Parse progress: |█████████████████████████████████████████████████████████| 100%\n"
     ]
    }
   ],
   "source": [
    "# Import a sample binary outcome train/test set into H2O\n",
    "train = h2o.import_file(filePathTrain)\n",
    "test = h2o.import_file(filePathTest)"
   ]
  },
  {
   "cell_type": "code",
   "execution_count": 72,
   "metadata": {
    "ExecuteTime": {
     "end_time": "2020-03-18T01:33:26.466515Z",
     "start_time": "2020-03-18T01:33:26.459174Z"
    }
   },
   "outputs": [],
   "source": [
    "# Identify predictors and response\n",
    "x = [t for t in train.columns if t not in ['NoShow','AppointmentID','PatientId']]\n",
    "y = \"NoShow\"\n"
   ]
  },
  {
   "cell_type": "code",
   "execution_count": 73,
   "metadata": {
    "ExecuteTime": {
     "end_time": "2020-03-18T02:19:09.000770Z",
     "start_time": "2020-03-18T01:33:48.795565Z"
    }
   },
   "outputs": [
    {
     "name": "stdout",
     "output_type": "stream",
     "text": [
      "AutoML progress: |████████████████████████████████████████████████████████| 100%\n",
      "stackedensemble prediction progress: |████████████████████████████████████| 100%\n",
      "stackedensemble prediction progress: |████████████████████████████████████| 100%\n"
     ]
    }
   ],
   "source": [
    "# For binary classification, response should be a factor\n",
    "train[y] = train[y].asfactor()\n",
    "test[y] = test[y].asfactor()\n",
    "\n",
    "# Run AutoML for 20 base models (limited to 1 hour max runtime by default)\n",
    "aml = H2OAutoML(max_models=20, seed=1)\n",
    "aml.train(x=x, y=y, training_frame=train)\n",
    "\n",
    "# AutoML Leaderboard\n",
    "lb = aml.leaderboard\n",
    "\n",
    "# Optionally edd extra model information to the leaderboard\n",
    "lb = get_leaderboard(aml, extra_columns='ALL')\n",
    "\n",
    "# Print all rows (instead of default 10 rows)\n",
    "lb.head(rows=lb.nrows)\n",
    "\n",
    "# model_id                                                  auc    logloss     aucpr    mean_per_class_error      rmse       mse    training_time_ms    predict_time_per_row_ms\n",
    "# ---------------------------------------------------  --------  ---------  --------  ----------------------  --------  --------  ------------------  -------------------------\n",
    "# StackedEnsemble_AllModels_AutoML_20191213_174603     0.789844   0.551067  0.804672                0.314665  0.432045  0.186663                 924                   0.05695\n",
    "# StackedEnsemble_BestOfFamily_AutoML_20191213_174603  0.789768   0.550906  0.805696                0.313059  0.431977  0.186604                 639                   0.024567\n",
    "# XGBoost_grid__1_AutoML_20191213_174603_model_4       0.784698   0.55681   0.80312                 0.323143  0.434743  0.189002                3092                   0.002083\n",
    "# XGBoost_3_AutoML_20191213_174603                     0.784232   0.557749  0.802341                0.317933  0.434976  0.189204                2878                   0.002173\n",
    "# XGBoost_2_AutoML_20191213_174603                     0.783533   0.555997  0.803189                0.32475   0.434678  0.188945                4635                   0.003292\n",
    "# XGBoost_grid__1_AutoML_20191213_174603_model_3       0.782582   0.560218  0.800749                0.34334   0.435944  0.190047                2695                   0.002269\n",
    "# GBM_5_AutoML_20191213_174603                         0.78219    0.558353  0.800234                0.319658  0.435512  0.18967                  768                   0.004318\n",
    "# XGBoost_1_AutoML_20191213_174603                     0.781901   0.557944  0.801237                0.325446  0.435519  0.189676                4428                   0.003039\n",
    "# XGBoost_grid__1_AutoML_20191213_174603_model_1       0.781648   0.561112  0.799203                0.312015  0.436434  0.190474                5430                   0.002557\n",
    "# GBM_2_AutoML_20191213_174603                         0.777673   0.562514  0.796181                0.334056  0.437583  0.191479                 655                   0.003772\n",
    "# GBM_1_AutoML_20191213_174603                         0.777294   0.562744  0.798244                0.356261  0.437727  0.191605                 700                   0.003571\n",
    "# GBM_3_AutoML_20191213_174603                         0.775488   0.564794  0.793585                0.327971  0.438722  0.192477                 635                   0.003748\n",
    "# XGBoost_grid__1_AutoML_20191213_174603_model_2       0.773621   0.578141  0.791949                0.341118  0.443963  0.197104                9722                   0.003896\n",
    "# GBM_grid__1_AutoML_20191213_174603_model_1           0.772656   0.568314  0.79164                 0.332175  0.440049  0.193643                 647                   0.004546\n",
    "# GBM_4_AutoML_20191213_174603                         0.77248    0.569483  0.791078                0.336913  0.440873  0.194369                 800                   0.004142\n",
    "# DRF_1_AutoML_20191213_174603                         0.764975   0.5801    0.781588                0.336001  0.445222  0.198222                1399                   0.007475\n",
    "# XRT_1_AutoML_20191213_174603                         0.759957   0.585158  0.776857                0.338976  0.447598  0.200344                1426                   0.00495\n",
    "# GBM_grid__1_AutoML_20191213_174603_model_2           0.748007   0.632981  0.758833                0.375308  0.462237  0.213663                 588                   0.003119\n",
    "# DeepLearning_grid__2_AutoML_20191213_174603_model_1  0.739884   0.600688  0.747948                0.359883  0.455205  0.207212               40408                   0.010939\n",
    "# DeepLearning_1_AutoML_20191213_174603                0.700406   0.63169   0.70199                 0.395333  0.469084  0.22004                  445                   0.002288\n",
    "# DeepLearning_grid__1_AutoML_20191213_174603_model_1  0.692235   0.671512  0.691883                0.409836  0.478393  0.22886                32546                   0.003623\n",
    "# GLM_1_AutoML_20191213_174603                         0.682648   0.63852   0.680344                0.397234  0.472683  0.223429                 195                   0.001312\n",
    "#\n",
    "# [22 rows x 9 columns]\n",
    "\n",
    "\n",
    "# The leader model is stored here\n",
    "aml.leader\n",
    "\n",
    "# If you need to generate predictions on a test set, you can make\n",
    "# predictions directly on the `\"H2OAutoML\"` object, or on the leader\n",
    "# model object directly\n",
    "\n",
    "preds = aml.predict(test)\n",
    "\n",
    "# or:\n",
    "preds = aml.leader.predict(test)"
   ]
  },
  {
   "cell_type": "code",
   "execution_count": 74,
   "metadata": {
    "ExecuteTime": {
     "end_time": "2020-03-18T02:19:09.093660Z",
     "start_time": "2020-03-18T02:19:09.004162Z"
    }
   },
   "outputs": [
    {
     "data": {
      "text/html": [
       "<table>\n",
       "<thead>\n",
       "<tr><th style=\"text-align: right;\">  predict</th><th style=\"text-align: right;\">      p0</th><th style=\"text-align: right;\">       p1</th></tr>\n",
       "</thead>\n",
       "<tbody>\n",
       "<tr><td style=\"text-align: right;\">        0</td><td style=\"text-align: right;\">0.986814</td><td style=\"text-align: right;\">0.0131859</td></tr>\n",
       "<tr><td style=\"text-align: right;\">        0</td><td style=\"text-align: right;\">0.986671</td><td style=\"text-align: right;\">0.0133286</td></tr>\n",
       "<tr><td style=\"text-align: right;\">        0</td><td style=\"text-align: right;\">0.986973</td><td style=\"text-align: right;\">0.0130267</td></tr>\n",
       "<tr><td style=\"text-align: right;\">        0</td><td style=\"text-align: right;\">0.96679 </td><td style=\"text-align: right;\">0.0332095</td></tr>\n",
       "<tr><td style=\"text-align: right;\">        0</td><td style=\"text-align: right;\">0.986628</td><td style=\"text-align: right;\">0.0133715</td></tr>\n",
       "<tr><td style=\"text-align: right;\">        0</td><td style=\"text-align: right;\">0.986532</td><td style=\"text-align: right;\">0.0134684</td></tr>\n",
       "<tr><td style=\"text-align: right;\">        1</td><td style=\"text-align: right;\">0.365983</td><td style=\"text-align: right;\">0.634017 </td></tr>\n",
       "<tr><td style=\"text-align: right;\">        1</td><td style=\"text-align: right;\">0.335653</td><td style=\"text-align: right;\">0.664347 </td></tr>\n",
       "<tr><td style=\"text-align: right;\">        0</td><td style=\"text-align: right;\">0.986979</td><td style=\"text-align: right;\">0.013021 </td></tr>\n",
       "<tr><td style=\"text-align: right;\">        0</td><td style=\"text-align: right;\">0.985452</td><td style=\"text-align: right;\">0.0145477</td></tr>\n",
       "</tbody>\n",
       "</table>"
      ]
     },
     "metadata": {},
     "output_type": "display_data"
    },
    {
     "data": {
      "text/plain": []
     },
     "execution_count": 74,
     "metadata": {},
     "output_type": "execute_result"
    }
   ],
   "source": [
    "preds"
   ]
  },
  {
   "cell_type": "code",
   "execution_count": 75,
   "metadata": {
    "ExecuteTime": {
     "end_time": "2020-03-18T02:19:09.201545Z",
     "start_time": "2020-03-18T02:19:09.097373Z"
    }
   },
   "outputs": [
    {
     "data": {
      "text/html": [
       "<table>\n",
       "<thead>\n",
       "<tr><th>model_id                                           </th><th style=\"text-align: right;\">     auc</th><th style=\"text-align: right;\">  logloss</th><th style=\"text-align: right;\">   aucpr</th><th style=\"text-align: right;\">  mean_per_class_error</th><th style=\"text-align: right;\">    rmse</th><th style=\"text-align: right;\">      mse</th><th style=\"text-align: right;\">  training_time_ms</th><th style=\"text-align: right;\">  predict_time_per_row_ms</th></tr>\n",
       "</thead>\n",
       "<tbody>\n",
       "<tr><td>StackedEnsemble_BestOfFamily_AutoML_20200318_013348</td><td style=\"text-align: right;\">0.934304</td><td style=\"text-align: right;\"> 0.252437</td><td style=\"text-align: right;\">0.708158</td><td style=\"text-align: right;\">              0.105185</td><td style=\"text-align: right;\">0.287698</td><td style=\"text-align: right;\">0.0827702</td><td style=\"text-align: right;\">              6523</td><td style=\"text-align: right;\">                 0.066158</td></tr>\n",
       "<tr><td>StackedEnsemble_AllModels_AutoML_20200318_013348   </td><td style=\"text-align: right;\">0.93421 </td><td style=\"text-align: right;\"> 0.25135 </td><td style=\"text-align: right;\">0.707546</td><td style=\"text-align: right;\">              0.104197</td><td style=\"text-align: right;\">0.28737 </td><td style=\"text-align: right;\">0.0825818</td><td style=\"text-align: right;\">             22900</td><td style=\"text-align: right;\">                 0.288313</td></tr>\n",
       "<tr><td>XGBoost_grid__1_AutoML_20200318_013348_model_2     </td><td style=\"text-align: right;\">0.933415</td><td style=\"text-align: right;\"> 0.247808</td><td style=\"text-align: right;\">0.704661</td><td style=\"text-align: right;\">              0.111232</td><td style=\"text-align: right;\">0.290655</td><td style=\"text-align: right;\">0.0844802</td><td style=\"text-align: right;\">             35782</td><td style=\"text-align: right;\">                 0.00899 </td></tr>\n",
       "<tr><td>GBM_3_AutoML_20200318_013348                       </td><td style=\"text-align: right;\">0.933161</td><td style=\"text-align: right;\"> 0.238261</td><td style=\"text-align: right;\">0.702369</td><td style=\"text-align: right;\">              0.106052</td><td style=\"text-align: right;\">0.285788</td><td style=\"text-align: right;\">0.0816748</td><td style=\"text-align: right;\">             12176</td><td style=\"text-align: right;\">                 0.027504</td></tr>\n",
       "<tr><td>GBM_4_AutoML_20200318_013348                       </td><td style=\"text-align: right;\">0.933111</td><td style=\"text-align: right;\"> 0.238253</td><td style=\"text-align: right;\">0.701603</td><td style=\"text-align: right;\">              0.105474</td><td style=\"text-align: right;\">0.285764</td><td style=\"text-align: right;\">0.0816613</td><td style=\"text-align: right;\">             16073</td><td style=\"text-align: right;\">                 0.027815</td></tr>\n",
       "<tr><td>GBM_grid__1_AutoML_20200318_013348_model_1         </td><td style=\"text-align: right;\">0.932811</td><td style=\"text-align: right;\"> 0.238814</td><td style=\"text-align: right;\">0.699405</td><td style=\"text-align: right;\">              0.103918</td><td style=\"text-align: right;\">0.285907</td><td style=\"text-align: right;\">0.0817429</td><td style=\"text-align: right;\">             15451</td><td style=\"text-align: right;\">                 0.049964</td></tr>\n",
       "<tr><td>GBM_2_AutoML_20200318_013348                       </td><td style=\"text-align: right;\">0.932387</td><td style=\"text-align: right;\"> 0.238638</td><td style=\"text-align: right;\">0.698604</td><td style=\"text-align: right;\">              0.104405</td><td style=\"text-align: right;\">0.286083</td><td style=\"text-align: right;\">0.0818433</td><td style=\"text-align: right;\">             12370</td><td style=\"text-align: right;\">                 0.027854</td></tr>\n",
       "<tr><td>XGBoost_1_AutoML_20200318_013348                   </td><td style=\"text-align: right;\">0.932378</td><td style=\"text-align: right;\"> 0.238721</td><td style=\"text-align: right;\">0.699501</td><td style=\"text-align: right;\">              0.105331</td><td style=\"text-align: right;\">0.286296</td><td style=\"text-align: right;\">0.0819653</td><td style=\"text-align: right;\">             17168</td><td style=\"text-align: right;\">                 0.004124</td></tr>\n",
       "<tr><td>GBM_1_AutoML_20200318_013348                       </td><td style=\"text-align: right;\">0.932109</td><td style=\"text-align: right;\"> 0.239138</td><td style=\"text-align: right;\">0.69658 </td><td style=\"text-align: right;\">              0.105433</td><td style=\"text-align: right;\">0.286318</td><td style=\"text-align: right;\">0.0819778</td><td style=\"text-align: right;\">             10487</td><td style=\"text-align: right;\">                 0.026855</td></tr>\n",
       "<tr><td>XGBoost_2_AutoML_20200318_013348                   </td><td style=\"text-align: right;\">0.931842</td><td style=\"text-align: right;\"> 0.240156</td><td style=\"text-align: right;\">0.695655</td><td style=\"text-align: right;\">              0.105858</td><td style=\"text-align: right;\">0.28729 </td><td style=\"text-align: right;\">0.0825356</td><td style=\"text-align: right;\">             22159</td><td style=\"text-align: right;\">                 0.006276</td></tr>\n",
       "<tr><td>DRF_1_AutoML_20200318_013348                       </td><td style=\"text-align: right;\">0.931225</td><td style=\"text-align: right;\"> 0.257775</td><td style=\"text-align: right;\">0.692827</td><td style=\"text-align: right;\">              0.105367</td><td style=\"text-align: right;\">0.289833</td><td style=\"text-align: right;\">0.0840029</td><td style=\"text-align: right;\">              8972</td><td style=\"text-align: right;\">                 0.016747</td></tr>\n",
       "<tr><td>GBM_5_AutoML_20200318_013348                       </td><td style=\"text-align: right;\">0.931197</td><td style=\"text-align: right;\"> 0.240307</td><td style=\"text-align: right;\">0.691818</td><td style=\"text-align: right;\">              0.10561 </td><td style=\"text-align: right;\">0.287381</td><td style=\"text-align: right;\">0.082588 </td><td style=\"text-align: right;\">             21511</td><td style=\"text-align: right;\">                 0.028496</td></tr>\n",
       "<tr><td>XGBoost_grid__1_AutoML_20200318_013348_model_1     </td><td style=\"text-align: right;\">0.930448</td><td style=\"text-align: right;\"> 0.240633</td><td style=\"text-align: right;\">0.688309</td><td style=\"text-align: right;\">              0.106196</td><td style=\"text-align: right;\">0.287613</td><td style=\"text-align: right;\">0.0827214</td><td style=\"text-align: right;\">             23987</td><td style=\"text-align: right;\">                 0.003483</td></tr>\n",
       "<tr><td>XGBoost_3_AutoML_20200318_013348                   </td><td style=\"text-align: right;\">0.930377</td><td style=\"text-align: right;\"> 0.240533</td><td style=\"text-align: right;\">0.688196</td><td style=\"text-align: right;\">              0.105868</td><td style=\"text-align: right;\">0.287544</td><td style=\"text-align: right;\">0.0826814</td><td style=\"text-align: right;\">             11306</td><td style=\"text-align: right;\">                 0.003136</td></tr>\n",
       "<tr><td>XGBoost_grid__1_AutoML_20200318_013348_model_4     </td><td style=\"text-align: right;\">0.930114</td><td style=\"text-align: right;\"> 0.24065 </td><td style=\"text-align: right;\">0.686493</td><td style=\"text-align: right;\">              0.105967</td><td style=\"text-align: right;\">0.287722</td><td style=\"text-align: right;\">0.0827839</td><td style=\"text-align: right;\">              9516</td><td style=\"text-align: right;\">                 0.002684</td></tr>\n",
       "<tr><td>XGBoost_grid__1_AutoML_20200318_013348_model_3     </td><td style=\"text-align: right;\">0.929753</td><td style=\"text-align: right;\"> 0.241274</td><td style=\"text-align: right;\">0.685057</td><td style=\"text-align: right;\">              0.105471</td><td style=\"text-align: right;\">0.288037</td><td style=\"text-align: right;\">0.0829653</td><td style=\"text-align: right;\">             10833</td><td style=\"text-align: right;\">                 0.003071</td></tr>\n",
       "<tr><td>GBM_grid__1_AutoML_20200318_013348_model_2         </td><td style=\"text-align: right;\">0.928531</td><td style=\"text-align: right;\"> 0.243378</td><td style=\"text-align: right;\">0.67892 </td><td style=\"text-align: right;\">              0.10557 </td><td style=\"text-align: right;\">0.288689</td><td style=\"text-align: right;\">0.0833415</td><td style=\"text-align: right;\">              3177</td><td style=\"text-align: right;\">                 0.011612</td></tr>\n",
       "<tr><td>DeepLearning_1_AutoML_20200318_013348              </td><td style=\"text-align: right;\">0.924897</td><td style=\"text-align: right;\"> 0.253762</td><td style=\"text-align: right;\">0.657525</td><td style=\"text-align: right;\">              0.114377</td><td style=\"text-align: right;\">0.293806</td><td style=\"text-align: right;\">0.0863222</td><td style=\"text-align: right;\">              5815</td><td style=\"text-align: right;\">                 0.002769</td></tr>\n",
       "<tr><td>XRT_1_AutoML_20200318_013348                       </td><td style=\"text-align: right;\">0.921002</td><td style=\"text-align: right;\"> 0.300103</td><td style=\"text-align: right;\">0.685616</td><td style=\"text-align: right;\">              0.104225</td><td style=\"text-align: right;\">0.302504</td><td style=\"text-align: right;\">0.0915085</td><td style=\"text-align: right;\">              8060</td><td style=\"text-align: right;\">                 0.014379</td></tr>\n",
       "<tr><td>DeepLearning_grid__1_AutoML_20200318_013348_model_1</td><td style=\"text-align: right;\">0.920927</td><td style=\"text-align: right;\"> 0.273655</td><td style=\"text-align: right;\">0.644198</td><td style=\"text-align: right;\">              0.114472</td><td style=\"text-align: right;\">0.303647</td><td style=\"text-align: right;\">0.0922018</td><td style=\"text-align: right;\">             53908</td><td style=\"text-align: right;\">                 0.010039</td></tr>\n",
       "<tr><td>DeepLearning_grid__2_AutoML_20200318_013348_model_1</td><td style=\"text-align: right;\">0.919133</td><td style=\"text-align: right;\"> 0.261926</td><td style=\"text-align: right;\">0.637998</td><td style=\"text-align: right;\">              0.116087</td><td style=\"text-align: right;\">0.297784</td><td style=\"text-align: right;\">0.0886753</td><td style=\"text-align: right;\">             88197</td><td style=\"text-align: right;\">                 0.023932</td></tr>\n",
       "<tr><td>GLM_1_AutoML_20200318_013348                       </td><td style=\"text-align: right;\">0.89652 </td><td style=\"text-align: right;\"> 0.357405</td><td style=\"text-align: right;\">0.611368</td><td style=\"text-align: right;\">              0.116748</td><td style=\"text-align: right;\">0.332862</td><td style=\"text-align: right;\">0.110797 </td><td style=\"text-align: right;\">              1433</td><td style=\"text-align: right;\">                 0.00082 </td></tr>\n",
       "</tbody>\n",
       "</table>"
      ]
     },
     "metadata": {},
     "output_type": "display_data"
    },
    {
     "data": {
      "text/plain": []
     },
     "execution_count": 75,
     "metadata": {},
     "output_type": "execute_result"
    }
   ],
   "source": [
    "lb.head(rows=lb.nrows)"
   ]
  },
  {
   "cell_type": "code",
   "execution_count": null,
   "metadata": {},
   "outputs": [],
   "source": []
  }
 ],
 "metadata": {
  "kernelspec": {
   "display_name": "Python (captstone)",
   "language": "python",
   "name": "capstone"
  },
  "language_info": {
   "codemirror_mode": {
    "name": "ipython",
    "version": 3
   },
   "file_extension": ".py",
   "mimetype": "text/x-python",
   "name": "python",
   "nbconvert_exporter": "python",
   "pygments_lexer": "ipython3",
   "version": "3.7.5"
  },
  "toc": {
   "base_numbering": 1,
   "nav_menu": {},
   "number_sections": true,
   "sideBar": true,
   "skip_h1_title": false,
   "title_cell": "Table of Contents",
   "title_sidebar": "Contents",
   "toc_cell": false,
   "toc_position": {
    "height": "calc(100% - 180px)",
    "left": "10px",
    "top": "150px",
    "width": "369px"
   },
   "toc_section_display": true,
   "toc_window_display": true
  }
 },
 "nbformat": 4,
 "nbformat_minor": 2
}
