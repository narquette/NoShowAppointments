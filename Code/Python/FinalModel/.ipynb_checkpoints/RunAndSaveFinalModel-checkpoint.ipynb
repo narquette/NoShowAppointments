{
 "cells": [
  {
   "cell_type": "markdown",
   "metadata": {},
   "source": [
    "# Import Modules"
   ]
  },
  {
   "cell_type": "code",
   "execution_count": 1,
   "metadata": {
    "ExecuteTime": {
     "end_time": "2020-04-03T02:44:40.534682Z",
     "start_time": "2020-04-03T02:44:38.763848Z"
    }
   },
   "outputs": [],
   "source": [
    "import pandas as pd\n",
    "import numpy as np\n",
    "import collections\n",
    "import seaborn as sns\n",
    "import os\n",
    "from sklearn import metrics\n",
    "from sklearn.model_selection import train_test_split\n",
    "from sklearn.feature_selection import RFE\n",
    "import matplotlib.pyplot as plt\n",
    "from sklearn import svm"
   ]
  },
  {
   "cell_type": "markdown",
   "metadata": {},
   "source": [
    "# Store Model Information"
   ]
  },
  {
   "cell_type": "code",
   "execution_count": 2,
   "metadata": {
    "ExecuteTime": {
     "end_time": "2020-04-03T02:44:40.545330Z",
     "start_time": "2020-04-03T02:44:40.537066Z"
    }
   },
   "outputs": [],
   "source": [
    "model_cols = ['ModelName','Accuracy','Precision','Recall','Mean Squared Error']\n",
    "model_info = pd.DataFrame(columns=model_cols)"
   ]
  },
  {
   "cell_type": "markdown",
   "metadata": {},
   "source": [
    "# Load Cleaned Data"
   ]
  },
  {
   "cell_type": "code",
   "execution_count": 3,
   "metadata": {
    "ExecuteTime": {
     "end_time": "2020-04-03T02:44:42.421348Z",
     "start_time": "2020-04-03T02:44:40.548720Z"
    }
   },
   "outputs": [],
   "source": [
    "filePath = os.path.join('../','../','../','Data','Stage','NoShowAppointments_cleaned.csv')\n",
    "df = pd.read_csv(filePath,low_memory=False)"
   ]
  },
  {
   "cell_type": "markdown",
   "metadata": {},
   "source": [
    "# Build data to model"
   ]
  },
  {
   "cell_type": "code",
   "execution_count": 4,
   "metadata": {
    "ExecuteTime": {
     "end_time": "2020-04-03T02:44:42.687210Z",
     "start_time": "2020-04-03T02:44:42.422949Z"
    }
   },
   "outputs": [],
   "source": [
    "X = df.drop(['NoShow','AppointmentID','PatientId'], axis=1)\n",
    "y = df['NoShow']\n",
    "X_train, X_test, y_train, y_test = train_test_split(X, y, test_size=0.33, random_state=42)"
   ]
  },
  {
   "cell_type": "markdown",
   "metadata": {},
   "source": [
    "# TensorFlow"
   ]
  },
  {
   "cell_type": "code",
   "execution_count": 5,
   "metadata": {
    "ExecuteTime": {
     "end_time": "2020-04-03T02:44:45.903913Z",
     "start_time": "2020-04-03T02:44:42.689082Z"
    }
   },
   "outputs": [],
   "source": [
    "import tensorflow\n",
    "from tensorflow.keras.models import Sequential\n",
    "from tensorflow.keras.layers import Dense, Activation,Dropout\n",
    "from tensorflow.keras.callbacks import EarlyStopping\n",
    "from sklearn.model_selection import train_test_split\n",
    "from sklearn.preprocessing import MinMaxScaler"
   ]
  },
  {
   "cell_type": "code",
   "execution_count": 6,
   "metadata": {
    "ExecuteTime": {
     "end_time": "2020-04-03T02:44:46.627569Z",
     "start_time": "2020-04-03T02:44:45.907625Z"
    }
   },
   "outputs": [],
   "source": [
    "X = df.drop(['NoShow','AppointmentID','PatientId'],axis=1).values\n",
    "y = df['NoShow'].values\n",
    "X_train, X_test, y_train, y_test = train_test_split(X,y,test_size=0.25,random_state=101)"
   ]
  },
  {
   "cell_type": "code",
   "execution_count": 7,
   "metadata": {
    "ExecuteTime": {
     "end_time": "2020-04-03T02:44:46.635570Z",
     "start_time": "2020-04-03T02:44:46.630700Z"
    }
   },
   "outputs": [],
   "source": [
    "scaler = MinMaxScaler()"
   ]
  },
  {
   "cell_type": "code",
   "execution_count": 8,
   "metadata": {
    "ExecuteTime": {
     "end_time": "2020-04-03T02:44:46.917189Z",
     "start_time": "2020-04-03T02:44:46.639433Z"
    }
   },
   "outputs": [
    {
     "data": {
      "text/plain": [
       "MinMaxScaler(copy=True, feature_range=(0, 1))"
      ]
     },
     "execution_count": 8,
     "metadata": {},
     "output_type": "execute_result"
    }
   ],
   "source": [
    "scaler.fit(X_train)"
   ]
  },
  {
   "cell_type": "code",
   "execution_count": 9,
   "metadata": {
    "ExecuteTime": {
     "end_time": "2020-04-03T02:44:47.152919Z",
     "start_time": "2020-04-03T02:44:46.920749Z"
    }
   },
   "outputs": [],
   "source": [
    "X_train = scaler.transform(X_train)\n",
    "X_test = scaler.transform(X_test)"
   ]
  },
  {
   "cell_type": "code",
   "execution_count": 10,
   "metadata": {
    "ExecuteTime": {
     "end_time": "2020-04-03T02:44:47.176588Z",
     "start_time": "2020-04-03T02:44:47.155480Z"
    }
   },
   "outputs": [],
   "source": [
    "model = Sequential()\n",
    "\n",
    "# https://stats.stackexchange.com/questions/181/how-to-choose-the-number-of-hidden-layers-and-nodes-in-a-feedforward-neural-netw\n",
    "\n",
    "model.add(Dense(units=110,activation='relu'))\n",
    "model.add(Dropout(0.5))\n",
    "model.add(Dense(units=50,activation='relu'))\n",
    "model.add(Dropout(0.5))\n",
    "model.add(Dense(units=25,activation='relu'))\n",
    "model.add(Dropout(0.5))\n",
    "model.add(Dense(units=1,activation='sigmoid'))\n",
    "\n",
    "# For a binary classification problem\n",
    "model.compile(loss='binary_crossentropy', optimizer='adam')"
   ]
  },
  {
   "cell_type": "code",
   "execution_count": 11,
   "metadata": {
    "ExecuteTime": {
     "end_time": "2020-04-03T02:44:47.245112Z",
     "start_time": "2020-04-03T02:44:47.179005Z"
    }
   },
   "outputs": [],
   "source": [
    "early_stop = EarlyStopping(monitor='val_loss', mode='min', verbose=1, patience=25)"
   ]
  },
  {
   "cell_type": "code",
   "execution_count": 12,
   "metadata": {
    "ExecuteTime": {
     "end_time": "2020-04-03T02:52:34.683404Z",
     "start_time": "2020-04-03T02:44:47.249040Z"
    }
   },
   "outputs": [
    {
     "name": "stdout",
     "output_type": "stream",
     "text": [
      "Train on 82894 samples, validate on 27632 samples\n",
      "Epoch 1/600\n",
      "82894/82894 [==============================] - 8s 91us/sample - loss: 0.4208 - val_loss: 0.2710\n",
      "Epoch 2/600\n",
      "82894/82894 [==============================] - 7s 82us/sample - loss: 0.2676 - val_loss: 0.2366\n",
      "Epoch 3/600\n",
      "82894/82894 [==============================] - 7s 79us/sample - loss: 0.2471 - val_loss: 0.2338\n",
      "Epoch 4/600\n",
      "82894/82894 [==============================] - 7s 80us/sample - loss: 0.2440 - val_loss: 0.2347\n",
      "Epoch 5/600\n",
      "82894/82894 [==============================] - 7s 86us/sample - loss: 0.2426 - val_loss: 0.2339\n",
      "Epoch 6/600\n",
      "82894/82894 [==============================] - 7s 81us/sample - loss: 0.2414 - val_loss: 0.2325\n",
      "Epoch 7/600\n",
      "82894/82894 [==============================] - 7s 79us/sample - loss: 0.2404 - val_loss: 0.2326\n",
      "Epoch 8/600\n",
      "82894/82894 [==============================] - 7s 80us/sample - loss: 0.2396 - val_loss: 0.2321\n",
      "Epoch 9/600\n",
      "82894/82894 [==============================] - 7s 80us/sample - loss: 0.2385 - val_loss: 0.2328\n",
      "Epoch 10/600\n",
      "82894/82894 [==============================] - 7s 80us/sample - loss: 0.2384 - val_loss: 0.2328\n",
      "Epoch 11/600\n",
      "82894/82894 [==============================] - 7s 80us/sample - loss: 0.2366 - val_loss: 0.2320\n",
      "Epoch 12/600\n",
      "82894/82894 [==============================] - 7s 80us/sample - loss: 0.2366 - val_loss: 0.2317\n",
      "Epoch 13/600\n",
      "82894/82894 [==============================] - 7s 82us/sample - loss: 0.2361 - val_loss: 0.2318\n",
      "Epoch 14/600\n",
      "82894/82894 [==============================] - 7s 81us/sample - loss: 0.2353 - val_loss: 0.2317\n",
      "Epoch 15/600\n",
      "82894/82894 [==============================] - 202s 2ms/sample - loss: 0.2351 - val_loss: 0.2320\n",
      "Epoch 16/600\n",
      "82894/82894 [==============================] - 7s 79us/sample - loss: 0.2349 - val_loss: 0.2318\n",
      "Epoch 17/600\n",
      "82894/82894 [==============================] - 6s 68us/sample - loss: 0.2347 - val_loss: 0.2314\n",
      "Epoch 18/600\n",
      "82894/82894 [==============================] - 6s 69us/sample - loss: 0.2339 - val_loss: 0.2318\n",
      "Epoch 19/600\n",
      "82894/82894 [==============================] - 6s 75us/sample - loss: 0.2338 - val_loss: 0.2321\n",
      "Epoch 20/600\n",
      "82894/82894 [==============================] - 6s 76us/sample - loss: 0.2340 - val_loss: 0.2319\n",
      "Epoch 21/600\n",
      "82894/82894 [==============================] - 6s 71us/sample - loss: 0.2327 - val_loss: 0.2321\n",
      "Epoch 22/600\n",
      "82894/82894 [==============================] - 6s 75us/sample - loss: 0.2334 - val_loss: 0.2318\n",
      "Epoch 23/600\n",
      "82894/82894 [==============================] - 7s 79us/sample - loss: 0.2334 - val_loss: 0.2321\n",
      "Epoch 24/600\n",
      "82894/82894 [==============================] - 6s 75us/sample - loss: 0.2321 - val_loss: 0.2328\n",
      "Epoch 25/600\n",
      "82894/82894 [==============================] - 7s 85us/sample - loss: 0.2315 - val_loss: 0.2322\n",
      "Epoch 26/600\n",
      "82894/82894 [==============================] - 7s 89us/sample - loss: 0.2325 - val_loss: 0.2322\n",
      "Epoch 27/600\n",
      "82894/82894 [==============================] - 7s 88us/sample - loss: 0.2311 - val_loss: 0.2329\n",
      "Epoch 28/600\n",
      "82894/82894 [==============================] - 7s 89us/sample - loss: 0.2314 - val_loss: 0.2320\n",
      "Epoch 29/600\n",
      "82894/82894 [==============================] - 8s 92us/sample - loss: 0.2312 - val_loss: 0.2322\n",
      "Epoch 30/600\n",
      "82894/82894 [==============================] - 6s 74us/sample - loss: 0.2311 - val_loss: 0.2314\n",
      "Epoch 31/600\n",
      "82894/82894 [==============================] - 6s 73us/sample - loss: 0.2302 - val_loss: 0.2322\n",
      "Epoch 32/600\n",
      "82894/82894 [==============================] - 6s 68us/sample - loss: 0.2293 - val_loss: 0.2322\n",
      "Epoch 33/600\n",
      "82894/82894 [==============================] - 5s 64us/sample - loss: 0.2299 - val_loss: 0.2325\n",
      "Epoch 34/600\n",
      "82894/82894 [==============================] - 6s 76us/sample - loss: 0.2297 - val_loss: 0.2327\n",
      "Epoch 35/600\n",
      "82894/82894 [==============================] - 6s 76us/sample - loss: 0.2294 - val_loss: 0.2332\n",
      "Epoch 36/600\n",
      "82894/82894 [==============================] - 6s 73us/sample - loss: 0.2291 - val_loss: 0.2343\n",
      "Epoch 37/600\n",
      "82894/82894 [==============================] - 7s 79us/sample - loss: 0.2290 - val_loss: 0.2329\n",
      "Epoch 38/600\n",
      "82894/82894 [==============================] - 7s 82us/sample - loss: 0.2292 - val_loss: 0.2333\n",
      "Epoch 39/600\n",
      "82894/82894 [==============================] - 6s 71us/sample - loss: 0.2287 - val_loss: 0.2322\n",
      "Epoch 40/600\n",
      "82894/82894 [==============================] - 6s 69us/sample - loss: 0.2287 - val_loss: 0.2334\n",
      "Epoch 41/600\n",
      "82894/82894 [==============================] - 6s 70us/sample - loss: 0.2283 - val_loss: 0.2333\n",
      "Epoch 42/600\n",
      "82894/82894 [==============================] - 6s 71us/sample - loss: 0.2280 - val_loss: 0.2329\n",
      "Epoch 00042: early stopping\n"
     ]
    },
    {
     "data": {
      "text/plain": [
       "<tensorflow.python.keras.callbacks.History at 0x7f6a634e5b50>"
      ]
     },
     "execution_count": 12,
     "metadata": {},
     "output_type": "execute_result"
    }
   ],
   "source": [
    "model.fit(x=X_train, \n",
    "          y=y_train, \n",
    "          epochs=600,\n",
    "          validation_data=(X_test, y_test), verbose=1,\n",
    "          callbacks=[early_stop]\n",
    "          )"
   ]
  },
  {
   "cell_type": "code",
   "execution_count": 13,
   "metadata": {
    "ExecuteTime": {
     "end_time": "2020-04-03T02:52:34.941801Z",
     "start_time": "2020-04-03T02:52:34.686022Z"
    }
   },
   "outputs": [
    {
     "data": {
      "text/plain": [
       "<matplotlib.axes._subplots.AxesSubplot at 0x7f6a57064b90>"
      ]
     },
     "execution_count": 13,
     "metadata": {},
     "output_type": "execute_result"
    },
    {
     "data": {
      "image/png": "[encoded data removed]",
      "text/plain": [
       "<Figure size 432x288 with 1 Axes>"
      ]
     },
     "metadata": {
      "needs_background": "light"
     },
     "output_type": "display_data"
    }
   ],
   "source": [
    "model_loss = pd.DataFrame(model.history.history)\n",
    "model_loss.plot()"
   ]
  },
  {
   "cell_type": "code",
   "execution_count": 14,
   "metadata": {
    "ExecuteTime": {
     "end_time": "2020-04-03T02:52:35.804428Z",
     "start_time": "2020-04-03T02:52:34.944766Z"
    }
   },
   "outputs": [],
   "source": [
    "predictions = model.predict_classes(X_test)"
   ]
  },
  {
   "cell_type": "code",
   "execution_count": 15,
   "metadata": {
    "ExecuteTime": {
     "end_time": "2020-04-03T02:52:35.808993Z",
     "start_time": "2020-04-03T02:52:35.806100Z"
    }
   },
   "outputs": [],
   "source": [
    "from sklearn.metrics import classification_report,confusion_matrix"
   ]
  },
  {
   "cell_type": "code",
   "execution_count": 16,
   "metadata": {
    "ExecuteTime": {
     "end_time": "2020-04-03T02:52:35.890809Z",
     "start_time": "2020-04-03T02:52:35.812393Z"
    }
   },
   "outputs": [
    {
     "name": "stdout",
     "output_type": "stream",
     "text": [
      "[[19182  2989]\n",
      " [  464  4997]]\n"
     ]
    }
   ],
   "source": [
    "print(confusion_matrix(y_test,predictions))"
   ]
  },
  {
   "cell_type": "code",
   "execution_count": 17,
   "metadata": {
    "ExecuteTime": {
     "end_time": "2020-04-03T02:52:35.963342Z",
     "start_time": "2020-04-03T02:52:35.893358Z"
    }
   },
   "outputs": [
    {
     "name": "stdout",
     "output_type": "stream",
     "text": [
      "Accuracy: 0.875036189924725\n",
      "Precision: 0.6257200100175306\n",
      "Recall: 0.9150338765793811\n"
     ]
    }
   ],
   "source": [
    "print(\"Accuracy:\",metrics.accuracy_score(y_test, predictions))\n",
    "print(\"Precision:\",metrics.precision_score(y_test, predictions))\n",
    "print(\"Recall:\",metrics.recall_score(y_test, predictions))"
   ]
  },
  {
   "cell_type": "code",
   "execution_count": 18,
   "metadata": {
    "ExecuteTime": {
     "end_time": "2020-04-03T02:52:36.014537Z",
     "start_time": "2020-04-03T02:52:35.967321Z"
    }
   },
   "outputs": [],
   "source": [
    "name = 'Artificial Neural Network (ANN)'\n",
    "accuracy = metrics.accuracy_score(y_test, predictions)\n",
    "precision = metrics.precision_score(y_test, predictions)\n",
    "recall = metrics.recall_score(y_test, predictions)\n",
    "msqe = metrics.mean_squared_error(y_test, predictions)\n",
    "model_info = model_info.append(\n",
    "    {\n",
    "        'ModelName': name,\n",
    "        'Accuracy': accuracy,\n",
    "        'Precision': precision,\n",
    "        'Recall': recall,\n",
    "        'Mean Squared Error': msqe        \n",
    "    },\n",
    "    ignore_index=True)"
   ]
  },
  {
   "cell_type": "code",
   "execution_count": 19,
   "metadata": {
    "ExecuteTime": {
     "end_time": "2020-04-03T02:52:36.117387Z",
     "start_time": "2020-04-03T02:52:36.017935Z"
    }
   },
   "outputs": [],
   "source": [
    "#save model\n",
    "model.save('final_apptnoshow_model.h5')"
   ]
  },
  {
   "cell_type": "markdown",
   "metadata": {},
   "source": [
    "# Show Table Metrics"
   ]
  },
  {
   "cell_type": "code",
   "execution_count": 20,
   "metadata": {
    "ExecuteTime": {
     "end_time": "2020-04-03T02:52:36.166374Z",
     "start_time": "2020-04-03T02:52:36.120703Z"
    }
   },
   "outputs": [
    {
     "data": {
      "text/html": [
       "<div>\n",
       "<style scoped>\n",
       "    .dataframe tbody tr th:only-of-type {\n",
       "        vertical-align: middle;\n",
       "    }\n",
       "\n",
       "    .dataframe tbody tr th {\n",
       "        vertical-align: top;\n",
       "    }\n",
       "\n",
       "    .dataframe thead th {\n",
       "        text-align: right;\n",
       "    }\n",
       "</style>\n",
       "<table border=\"1\" class=\"dataframe\">\n",
       "  <thead>\n",
       "    <tr style=\"text-align: right;\">\n",
       "      <th></th>\n",
       "      <th>ModelName</th>\n",
       "      <th>Accuracy</th>\n",
       "      <th>Precision</th>\n",
       "      <th>Recall</th>\n",
       "      <th>Mean Squared Error</th>\n",
       "    </tr>\n",
       "  </thead>\n",
       "  <tbody>\n",
       "    <tr>\n",
       "      <th>0</th>\n",
       "      <td>Artificial Neural Network (ANN)</td>\n",
       "      <td>0.875036</td>\n",
       "      <td>0.62572</td>\n",
       "      <td>0.915034</td>\n",
       "      <td>0.124964</td>\n",
       "    </tr>\n",
       "  </tbody>\n",
       "</table>\n",
       "</div>"
      ],
      "text/plain": [
       "                         ModelName  Accuracy  Precision    Recall  \\\n",
       "0  Artificial Neural Network (ANN)  0.875036    0.62572  0.915034   \n",
       "\n",
       "   Mean Squared Error  \n",
       "0            0.124964  "
      ]
     },
     "execution_count": 20,
     "metadata": {},
     "output_type": "execute_result"
    }
   ],
   "source": [
    "model_info"
   ]
  },
  {
   "cell_type": "markdown",
   "metadata": {},
   "source": [
    "# Save Scaler"
   ]
  },
  {
   "cell_type": "code",
   "execution_count": 21,
   "metadata": {
    "ExecuteTime": {
     "end_time": "2020-04-03T02:52:36.195916Z",
     "start_time": "2020-04-03T02:52:36.169811Z"
    }
   },
   "outputs": [],
   "source": [
    "import joblib"
   ]
  },
  {
   "cell_type": "code",
   "execution_count": 22,
   "metadata": {
    "ExecuteTime": {
     "end_time": "2020-04-03T02:52:36.302093Z",
     "start_time": "2020-04-03T02:52:36.199245Z"
    }
   },
   "outputs": [
    {
     "data": {
      "text/plain": [
       "['apptnoshow_scaler.pkl']"
      ]
     },
     "execution_count": 22,
     "metadata": {},
     "output_type": "execute_result"
    }
   ],
   "source": [
    "joblib.dump(scaler,'apptnoshow_scaler.pkl')"
   ]
  }
 ],
 "metadata": {
  "kernelspec": {
   "display_name": "Python (captstone)",
   "language": "python",
   "name": "capstone"
  },
  "language_info": {
   "codemirror_mode": {
    "name": "ipython",
    "version": 3
   },
   "file_extension": ".py",
   "mimetype": "text/x-python",
   "name": "python",
   "nbconvert_exporter": "python",
   "pygments_lexer": "ipython3",
   "version": "3.7.5"
  },
  "toc": {
   "base_numbering": 1,
   "nav_menu": {},
   "number_sections": true,
   "sideBar": true,
   "skip_h1_title": false,
   "title_cell": "Table of Contents",
   "title_sidebar": "Contents",
   "toc_cell": false,
   "toc_position": {
    "height": "829px",
    "left": "55px",
    "top": "110px",
    "width": "369px"
   },
   "toc_section_display": true,
   "toc_window_display": true
  }
 },
 "nbformat": 4,
 "nbformat_minor": 2
}
