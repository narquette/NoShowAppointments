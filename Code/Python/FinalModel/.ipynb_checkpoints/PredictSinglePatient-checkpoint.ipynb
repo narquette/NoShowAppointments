{
 "cells": [
  {
   "cell_type": "markdown",
   "metadata": {},
   "source": [
    "# Import Modules"
   ]
  },
  {
   "cell_type": "code",
   "execution_count": 2,
   "metadata": {
    "ExecuteTime": {
     "end_time": "2020-03-19T19:54:02.820837Z",
     "start_time": "2020-03-19T19:54:02.817163Z"
    }
   },
   "outputs": [],
   "source": [
    "import pandas as pd\n",
    "import numpy as np\n",
    "import os\n",
    "from tensorflow.keras.models import load_model\n",
    "import matplotlib.pyplot as plt\n",
    "import joblib"
   ]
  },
  {
   "cell_type": "markdown",
   "metadata": {},
   "source": [
    "# Load Cleaned Data"
   ]
  },
  {
   "cell_type": "code",
   "execution_count": 3,
   "metadata": {
    "ExecuteTime": {
     "end_time": "2020-03-19T19:54:07.275374Z",
     "start_time": "2020-03-19T19:54:05.379499Z"
    }
   },
   "outputs": [],
   "source": [
    "filePath = os.path.join('../','../','../','Data','Stage','NoShowAppointments_cleaned.csv')\n",
    "df = pd.read_csv(filePath,low_memory=False)"
   ]
  },
  {
   "cell_type": "markdown",
   "metadata": {},
   "source": [
    "# Predicting a Single No Show Appointment"
   ]
  },
  {
   "cell_type": "code",
   "execution_count": 4,
   "metadata": {
    "ExecuteTime": {
     "end_time": "2020-03-19T19:54:44.461134Z",
     "start_time": "2020-03-19T19:54:44.080884Z"
    }
   },
   "outputs": [
    {
     "name": "stdout",
     "output_type": "stream",
     "text": [
      "WARNING:tensorflow:Sequential models without an `input_shape` passed to the first layer cannot reload their optimizer state. As a result, your model isstarting with a freshly initialized optimizer.\n"
     ]
    }
   ],
   "source": [
    "# load model and scaler\n",
    "appt_model = load_model(os.path.join('../','FinalModel','final_apptnoshow_model.h5'))\n",
    "appt_scaler = joblib.load(os.path.join('../','FinalModel','apptnoshow_scaler.pkl'))"
   ]
  },
  {
   "cell_type": "code",
   "execution_count": 5,
   "metadata": {
    "ExecuteTime": {
     "end_time": "2020-03-19T19:55:25.552455Z",
     "start_time": "2020-03-19T19:55:25.546535Z"
    }
   },
   "outputs": [],
   "source": [
    "# generate one sample to run through function\n",
    "# index six has a value of 1 (predict no show)\n",
    "# index one has a value of 0 (predict showing up for appointment)\n",
    "cols = [c for c in df.columns if c not in ['NoShow','PatientId','AppointmentID']]\n",
    "sample_data = df.iloc[6][3:]\n",
    "sample_data = sample_data.astype(int)\n",
    "sample_dict = dict(zip(cols,sample_data))\n",
    "sample_values = [list(sample_dict.values())]\n"
   ]
  },
  {
   "cell_type": "code",
   "execution_count": 6,
   "metadata": {
    "ExecuteTime": {
     "end_time": "2020-03-19T19:55:25.741462Z",
     "start_time": "2020-03-19T19:55:25.736351Z"
    }
   },
   "outputs": [],
   "source": [
    "def return_prediction(model,scaler,sample_json):\n",
    "    \n",
    "    # For larger data features, you should probably write a for loop\n",
    "    # That builds out this array for you\n",
    "    \n",
    "    sample_values = list(sample_json.values())\n",
    "        \n",
    "    appt = [sample_values]\n",
    "    \n",
    "    appt = scaler.transform(appt)\n",
    "    \n",
    "    classes = np.array([0,1])\n",
    "    \n",
    "    class_ind = model.predict_classes(appt)\n",
    "    \n",
    "    return int(classes[class_ind][0])\n",
    "  \n",
    "    "
   ]
  },
  {
   "cell_type": "code",
   "execution_count": 7,
   "metadata": {
    "ExecuteTime": {
     "end_time": "2020-03-19T19:55:26.186391Z",
     "start_time": "2020-03-19T19:55:25.921006Z"
    },
    "scrolled": false
   },
   "outputs": [
    {
     "data": {
      "text/plain": [
       "1"
      ]
     },
     "execution_count": 7,
     "metadata": {},
     "output_type": "execute_result"
    }
   ],
   "source": [
    "# run function to return prediction value\n",
    "return_prediction(appt_model,appt_scaler,sample_dict)"
   ]
  },
  {
   "cell_type": "code",
   "execution_count": null,
   "metadata": {},
   "outputs": [],
   "source": []
  }
 ],
 "metadata": {
  "kernelspec": {
   "display_name": "Python (captstone)",
   "language": "python",
   "name": "capstone"
  },
  "language_info": {
   "codemirror_mode": {
    "name": "ipython",
    "version": 3
   },
   "file_extension": ".py",
   "mimetype": "text/x-python",
   "name": "python",
   "nbconvert_exporter": "python",
   "pygments_lexer": "ipython3",
   "version": "3.7.5"
  },
  "toc": {
   "base_numbering": 1,
   "nav_menu": {},
   "number_sections": true,
   "sideBar": true,
   "skip_h1_title": false,
   "title_cell": "Table of Contents",
   "title_sidebar": "Contents",
   "toc_cell": false,
   "toc_position": {
    "height": "calc(100% - 180px)",
    "left": "10px",
    "top": "150px",
    "width": "369px"
   },
   "toc_section_display": true,
   "toc_window_display": true
  }
 },
 "nbformat": 4,
 "nbformat_minor": 2
}
