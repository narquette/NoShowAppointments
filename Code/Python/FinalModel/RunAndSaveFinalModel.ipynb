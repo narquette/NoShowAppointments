{
 "cells": [
  {
   "cell_type": "markdown",
   "metadata": {},
   "source": [
    "# Import Modules"
   ]
  },
  {
   "cell_type": "code",
   "execution_count": 1,
   "metadata": {
    "ExecuteTime": {
     "end_time": "2020-03-27T13:04:24.016155Z",
     "start_time": "2020-03-27T13:04:21.758975Z"
    }
   },
   "outputs": [],
   "source": [
    "import pandas as pd\n",
    "import numpy as np\n",
    "import collections\n",
    "import seaborn as sns\n",
    "import os\n",
    "from sklearn import metrics\n",
    "from sklearn.model_selection import train_test_split\n",
    "from sklearn.feature_selection import RFE\n",
    "import matplotlib.pyplot as plt\n",
    "from sklearn import svm"
   ]
  },
  {
   "cell_type": "markdown",
   "metadata": {},
   "source": [
    "# Store Model Information"
   ]
  },
  {
   "cell_type": "code",
   "execution_count": 2,
   "metadata": {
    "ExecuteTime": {
     "end_time": "2020-03-27T13:04:24.026314Z",
     "start_time": "2020-03-27T13:04:24.018316Z"
    }
   },
   "outputs": [],
   "source": [
    "model_cols = ['ModelName','Accuracy','Precision','Recall','Mean Squared Error']\n",
    "model_info = pd.DataFrame(columns=model_cols)"
   ]
  },
  {
   "cell_type": "markdown",
   "metadata": {},
   "source": [
    "# Load Cleaned Data"
   ]
  },
  {
   "cell_type": "code",
   "execution_count": 3,
   "metadata": {
    "ExecuteTime": {
     "end_time": "2020-03-27T13:04:25.852798Z",
     "start_time": "2020-03-27T13:04:24.030376Z"
    }
   },
   "outputs": [],
   "source": [
    "filePath = os.path.join('../','../','../','Data','Stage','NoShowAppointments_cleaned.csv')\n",
    "df = pd.read_csv(filePath,low_memory=False)"
   ]
  },
  {
   "cell_type": "markdown",
   "metadata": {},
   "source": [
    "# Build data to model"
   ]
  },
  {
   "cell_type": "code",
   "execution_count": 4,
   "metadata": {
    "ExecuteTime": {
     "end_time": "2020-03-27T13:04:26.131461Z",
     "start_time": "2020-03-27T13:04:25.854877Z"
    }
   },
   "outputs": [],
   "source": [
    "X = df.drop(['NoShow','AppointmentID','PatientId'], axis=1)\n",
    "y = df['NoShow']\n",
    "X_train, X_test, y_train, y_test = train_test_split(X, y, test_size=0.33, random_state=42)"
   ]
  },
  {
   "cell_type": "markdown",
   "metadata": {},
   "source": [
    "# TensorFlow"
   ]
  },
  {
   "cell_type": "code",
   "execution_count": 5,
   "metadata": {
    "ExecuteTime": {
     "end_time": "2020-03-27T13:04:30.414025Z",
     "start_time": "2020-03-27T13:04:26.133344Z"
    }
   },
   "outputs": [],
   "source": [
    "import tensorflow\n",
    "from tensorflow.keras.models import Sequential\n",
    "from tensorflow.keras.layers import Dense, Activation,Dropout\n",
    "from tensorflow.keras.callbacks import EarlyStopping\n",
    "from sklearn.model_selection import train_test_split\n",
    "from sklearn.preprocessing import MinMaxScaler"
   ]
  },
  {
   "cell_type": "code",
   "execution_count": 6,
   "metadata": {
    "ExecuteTime": {
     "end_time": "2020-03-27T13:04:31.245414Z",
     "start_time": "2020-03-27T13:04:30.415821Z"
    }
   },
   "outputs": [],
   "source": [
    "X = df.drop(['NoShow','AppointmentID','PatientId'],axis=1).values\n",
    "y = df['NoShow'].values\n",
    "X_train, X_test, y_train, y_test = train_test_split(X,y,test_size=0.25,random_state=101)"
   ]
  },
  {
   "cell_type": "code",
   "execution_count": 7,
   "metadata": {
    "ExecuteTime": {
     "end_time": "2020-03-27T13:04:31.252728Z",
     "start_time": "2020-03-27T13:04:31.247862Z"
    }
   },
   "outputs": [],
   "source": [
    "scaler = MinMaxScaler()"
   ]
  },
  {
   "cell_type": "code",
   "execution_count": 8,
   "metadata": {
    "ExecuteTime": {
     "end_time": "2020-03-27T13:04:31.445512Z",
     "start_time": "2020-03-27T13:04:31.258099Z"
    }
   },
   "outputs": [
    {
     "data": {
      "text/plain": [
       "MinMaxScaler(copy=True, feature_range=(0, 1))"
      ]
     },
     "execution_count": 8,
     "metadata": {},
     "output_type": "execute_result"
    }
   ],
   "source": [
    "scaler.fit(X_train)"
   ]
  },
  {
   "cell_type": "code",
   "execution_count": 9,
   "metadata": {
    "ExecuteTime": {
     "end_time": "2020-03-27T13:04:31.591300Z",
     "start_time": "2020-03-27T13:04:31.448233Z"
    }
   },
   "outputs": [],
   "source": [
    "X_train = scaler.transform(X_train)\n",
    "X_test = scaler.transform(X_test)"
   ]
  },
  {
   "cell_type": "code",
   "execution_count": 10,
   "metadata": {
    "ExecuteTime": {
     "end_time": "2020-03-27T13:04:31.642893Z",
     "start_time": "2020-03-27T13:04:31.594442Z"
    }
   },
   "outputs": [],
   "source": [
    "model = Sequential()\n",
    "\n",
    "# https://stats.stackexchange.com/questions/181/how-to-choose-the-number-of-hidden-layers-and-nodes-in-a-feedforward-neural-netw\n",
    "\n",
    "model.add(Dense(units=110,activation='relu'))\n",
    "model.add(Dropout(0.5))\n",
    "model.add(Dense(units=50,activation='relu'))\n",
    "model.add(Dropout(0.5))\n",
    "model.add(Dense(units=25,activation='relu'))\n",
    "model.add(Dropout(0.5))\n",
    "model.add(Dense(units=1,activation='sigmoid'))\n",
    "\n",
    "# For a binary classification problem\n",
    "model.compile(loss='binary_crossentropy', optimizer='adam')"
   ]
  },
  {
   "cell_type": "code",
   "execution_count": 11,
   "metadata": {
    "ExecuteTime": {
     "end_time": "2020-03-27T13:04:31.677914Z",
     "start_time": "2020-03-27T13:04:31.645110Z"
    }
   },
   "outputs": [],
   "source": [
    "early_stop = EarlyStopping(monitor='val_loss', mode='min', verbose=1, patience=25)"
   ]
  },
  {
   "cell_type": "code",
   "execution_count": null,
   "metadata": {
    "ExecuteTime": {
     "start_time": "2020-03-27T13:04:21.790Z"
    }
   },
   "outputs": [
    {
     "name": "stdout",
     "output_type": "stream",
     "text": [
      "Train on 82894 samples, validate on 27632 samples\n",
      "Epoch 1/600\n",
      "82894/82894 [==============================] - 6s 74us/sample - loss: 0.4258 - val_loss: 0.2728\n",
      "Epoch 2/600\n",
      "82894/82894 [==============================] - 4s 53us/sample - loss: 0.2698 - val_loss: 0.2367\n",
      "Epoch 3/600\n",
      "82894/82894 [==============================] - 5s 55us/sample - loss: 0.2472 - val_loss: 0.2362\n",
      "Epoch 4/600\n",
      "82894/82894 [==============================] - 4s 53us/sample - loss: 0.2441 - val_loss: 0.2343\n",
      "Epoch 5/600\n",
      "82894/82894 [==============================] - 4s 53us/sample - loss: 0.2424 - val_loss: 0.2328\n",
      "Epoch 6/600\n",
      "82894/82894 [==============================] - 4s 53us/sample - loss: 0.2407 - val_loss: 0.2335\n",
      "Epoch 7/600\n",
      "82894/82894 [==============================] - 5s 55us/sample - loss: 0.2395 - val_loss: 0.2326\n",
      "Epoch 8/600\n",
      "82894/82894 [==============================] - 4s 53us/sample - loss: 0.2382 - val_loss: 0.2323\n",
      "Epoch 9/600\n",
      "82894/82894 [==============================] - 4s 52us/sample - loss: 0.2385 - val_loss: 0.2336\n",
      "Epoch 10/600\n",
      "82894/82894 [==============================] - 4s 52us/sample - loss: 0.2381 - val_loss: 0.2323\n",
      "Epoch 11/600\n",
      "82894/82894 [==============================] - 5s 60us/sample - loss: 0.2370 - val_loss: 0.2323\n",
      "Epoch 12/600\n",
      "82894/82894 [==============================] - 5s 59us/sample - loss: 0.2369 - val_loss: 0.2324\n",
      "Epoch 13/600\n",
      "82894/82894 [==============================] - 5s 64us/sample - loss: 0.2363 - val_loss: 0.2319\n",
      "Epoch 14/600\n",
      "82894/82894 [==============================] - 5s 58us/sample - loss: 0.2364 - val_loss: 0.2329\n",
      "Epoch 15/600\n",
      "82894/82894 [==============================] - 4s 53us/sample - loss: 0.2351 - val_loss: 0.2324\n",
      "Epoch 16/600\n",
      "82894/82894 [==============================] - 4s 53us/sample - loss: 0.2354 - val_loss: 0.2337\n",
      "Epoch 17/600\n",
      "82894/82894 [==============================] - 4s 53us/sample - loss: 0.2343 - val_loss: 0.2321\n",
      "Epoch 18/600\n",
      "82894/82894 [==============================] - 4s 53us/sample - loss: 0.2335 - val_loss: 0.2321\n",
      "Epoch 19/600\n",
      "82894/82894 [==============================] - 5s 55us/sample - loss: 0.2347 - val_loss: 0.2318\n",
      "Epoch 20/600\n",
      "82894/82894 [==============================] - 5s 57us/sample - loss: 0.2341 - val_loss: 0.2320\n",
      "Epoch 21/600\n",
      "82894/82894 [==============================] - 5s 58us/sample - loss: 0.2333 - val_loss: 0.2314\n",
      "Epoch 22/600\n",
      "82894/82894 [==============================] - 5s 54us/sample - loss: 0.2329 - val_loss: 0.2325\n",
      "Epoch 23/600\n",
      "82894/82894 [==============================] - 4s 53us/sample - loss: 0.2334 - val_loss: 0.2326\n",
      "Epoch 24/600\n",
      "82894/82894 [==============================] - 4s 53us/sample - loss: 0.2323 - val_loss: 0.2324\n",
      "Epoch 25/600\n",
      "82894/82894 [==============================] - 4s 53us/sample - loss: 0.2315 - val_loss: 0.2321\n",
      "Epoch 26/600\n",
      "82894/82894 [==============================] - 4s 54us/sample - loss: 0.2319 - val_loss: 0.2324\n",
      "Epoch 27/600\n",
      "82894/82894 [==============================] - 4s 53us/sample - loss: 0.2314 - val_loss: 0.2339\n",
      "Epoch 28/600\n",
      "82894/82894 [==============================] - 4s 54us/sample - loss: 0.2308 - val_loss: 0.2335\n",
      "Epoch 29/600\n",
      "82894/82894 [==============================] - 4s 53us/sample - loss: 0.2310 - val_loss: 0.2318\n",
      "Epoch 30/600\n",
      "82894/82894 [==============================] - 4s 53us/sample - loss: 0.2306 - val_loss: 0.2320\n",
      "Epoch 31/600\n",
      "82894/82894 [==============================] - 4s 53us/sample - loss: 0.2307 - val_loss: 0.2330\n",
      "Epoch 32/600\n",
      "82894/82894 [==============================] - 5s 56us/sample - loss: 0.2303 - val_loss: 0.2329\n",
      "Epoch 33/600\n",
      "82894/82894 [==============================] - 5s 57us/sample - loss: 0.2299 - val_loss: 0.2327\n",
      "Epoch 34/600\n",
      "82894/82894 [==============================] - 5s 57us/sample - loss: 0.2295 - val_loss: 0.2346\n",
      "Epoch 35/600\n",
      "82894/82894 [==============================] - 5s 55us/sample - loss: 0.2296 - val_loss: 0.2335\n",
      "Epoch 36/600\n",
      "82894/82894 [==============================] - 5s 54us/sample - loss: 0.2287 - val_loss: 0.2351\n",
      "Epoch 37/600\n",
      "82894/82894 [==============================] - 5s 56us/sample - loss: 0.2301 - val_loss: 0.2330\n",
      "Epoch 38/600\n",
      "82894/82894 [==============================] - 5s 55us/sample - loss: 0.2294 - val_loss: 0.2369\n",
      "Epoch 39/600\n",
      "82894/82894 [==============================] - 5s 59us/sample - loss: 0.2289 - val_loss: 0.2340\n",
      "Epoch 40/600\n",
      "82894/82894 [==============================] - 5s 55us/sample - loss: 0.2294 - val_loss: 0.2347\n",
      "Epoch 41/600\n",
      "82894/82894 [==============================] - 5s 59us/sample - loss: 0.2286 - val_loss: 0.2339\n",
      "Epoch 42/600\n",
      "82894/82894 [==============================] - 5s 55us/sample - loss: 0.2286 - val_loss: 0.2340\n",
      "Epoch 43/600\n",
      "82894/82894 [==============================] - 5s 61us/sample - loss: 0.2282 - val_loss: 0.2345\n",
      "Epoch 44/600\n",
      "82894/82894 [==============================] - 5s 55us/sample - loss: 0.2288 - val_loss: 0.2338\n",
      "Epoch 45/600\n",
      "82894/82894 [==============================] - 5s 58us/sample - loss: 0.2283 - val_loss: 0.2326\n",
      "Epoch 46/600\n",
      "55552/82894 [===================>..........] - ETA: 1s - loss: 0.2302"
     ]
    }
   ],
   "source": [
    "model.fit(x=X_train, \n",
    "          y=y_train, \n",
    "          epochs=600,\n",
    "          validation_data=(X_test, y_test), verbose=1,\n",
    "          callbacks=[early_stop]\n",
    "          )"
   ]
  },
  {
   "cell_type": "code",
   "execution_count": null,
   "metadata": {
    "ExecuteTime": {
     "start_time": "2020-03-27T13:04:21.793Z"
    }
   },
   "outputs": [],
   "source": [
    "model_loss = pd.DataFrame(model.history.history)\n",
    "model_loss.plot()"
   ]
  },
  {
   "cell_type": "code",
   "execution_count": null,
   "metadata": {
    "ExecuteTime": {
     "start_time": "2020-03-27T13:04:21.795Z"
    }
   },
   "outputs": [],
   "source": [
    "predictions = model.predict_classes(X_test)"
   ]
  },
  {
   "cell_type": "code",
   "execution_count": null,
   "metadata": {
    "ExecuteTime": {
     "start_time": "2020-03-27T13:04:21.798Z"
    }
   },
   "outputs": [],
   "source": [
    "from sklearn.metrics import classification_report,confusion_matrix"
   ]
  },
  {
   "cell_type": "code",
   "execution_count": null,
   "metadata": {
    "ExecuteTime": {
     "start_time": "2020-03-27T13:04:21.800Z"
    }
   },
   "outputs": [],
   "source": [
    "print(confusion_matrix(y_test,predictions))"
   ]
  },
  {
   "cell_type": "code",
   "execution_count": null,
   "metadata": {
    "ExecuteTime": {
     "start_time": "2020-03-27T13:04:21.803Z"
    }
   },
   "outputs": [],
   "source": [
    "print(\"Accuracy:\",metrics.accuracy_score(y_test, predictions))\n",
    "print(\"Precision:\",metrics.precision_score(y_test, predictions))\n",
    "print(\"Recall:\",metrics.recall_score(y_test, predictions))"
   ]
  },
  {
   "cell_type": "code",
   "execution_count": null,
   "metadata": {
    "ExecuteTime": {
     "start_time": "2020-03-27T13:04:21.805Z"
    }
   },
   "outputs": [],
   "source": [
    "name = 'Artificial Neural Network (ANN)'\n",
    "accuracy = metrics.accuracy_score(y_test, predictions)\n",
    "precision = metrics.precision_score(y_test, predictions)\n",
    "recall = metrics.recall_score(y_test, predictions)\n",
    "msqe = metrics.mean_squared_error(y_test, predictions)\n",
    "model_info = model_info.append(\n",
    "    {\n",
    "        'ModelName': name,\n",
    "        'Accuracy': accuracy,\n",
    "        'Precision': precision,\n",
    "        'Recall': recall,\n",
    "        'Mean Squared Error': msqe        \n",
    "    },\n",
    "    ignore_index=True)"
   ]
  },
  {
   "cell_type": "code",
   "execution_count": null,
   "metadata": {
    "ExecuteTime": {
     "start_time": "2020-03-27T13:04:21.807Z"
    }
   },
   "outputs": [],
   "source": [
    "#save model\n",
    "model.save('final_apptnoshow_model.h5')"
   ]
  },
  {
   "cell_type": "markdown",
   "metadata": {},
   "source": [
    "# Show Table Metrics"
   ]
  },
  {
   "cell_type": "code",
   "execution_count": null,
   "metadata": {
    "ExecuteTime": {
     "start_time": "2020-03-27T13:04:21.811Z"
    }
   },
   "outputs": [],
   "source": [
    "model_info"
   ]
  },
  {
   "cell_type": "markdown",
   "metadata": {},
   "source": [
    "# Save Scaler"
   ]
  },
  {
   "cell_type": "code",
   "execution_count": null,
   "metadata": {
    "ExecuteTime": {
     "start_time": "2020-03-27T13:04:21.813Z"
    }
   },
   "outputs": [],
   "source": [
    "import joblib"
   ]
  },
  {
   "cell_type": "code",
   "execution_count": null,
   "metadata": {
    "ExecuteTime": {
     "start_time": "2020-03-27T13:04:21.815Z"
    }
   },
   "outputs": [],
   "source": [
    "joblib.dump(scaler,'apptnoshow_scaler.pkl')"
   ]
  }
 ],
 "metadata": {
  "kernelspec": {
   "display_name": "Python (captstone)",
   "language": "python",
   "name": "capstone"
  },
  "language_info": {
   "codemirror_mode": {
    "name": "ipython",
    "version": 3
   },
   "file_extension": ".py",
   "mimetype": "text/x-python",
   "name": "python",
   "nbconvert_exporter": "python",
   "pygments_lexer": "ipython3",
   "version": "3.7.5"
  },
  "toc": {
   "base_numbering": 1,
   "nav_menu": {},
   "number_sections": true,
   "sideBar": true,
   "skip_h1_title": false,
   "title_cell": "Table of Contents",
   "title_sidebar": "Contents",
   "toc_cell": false,
   "toc_position": {
    "height": "calc(100% - 180px)",
    "left": "10px",
    "top": "150px",
    "width": "369px"
   },
   "toc_section_display": true,
   "toc_window_display": true
  }
 },
 "nbformat": 4,
 "nbformat_minor": 2
}
