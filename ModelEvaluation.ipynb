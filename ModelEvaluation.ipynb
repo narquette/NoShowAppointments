{
 "cells": [
  {
   "cell_type": "markdown",
   "metadata": {},
   "source": [
    "# Import Modules"
   ]
  },
  {
   "cell_type": "code",
   "execution_count": 1,
   "metadata": {
    "ExecuteTime": {
     "end_time": "2020-03-17T03:01:16.896253Z",
     "start_time": "2020-03-17T03:01:15.597994Z"
    }
   },
   "outputs": [],
   "source": [
    "import pandas as pd\n",
    "import numpy as np\n",
    "import os\n",
    "from sklearn.model_selection import train_test_split\n",
    "import matplotlib.pyplot as plt\n",
    "from sklearn import svm"
   ]
  },
  {
   "cell_type": "markdown",
   "metadata": {},
   "source": [
    "# Load Cleaned Data"
   ]
  },
  {
   "cell_type": "code",
   "execution_count": 2,
   "metadata": {
    "ExecuteTime": {
     "end_time": "2020-03-17T03:01:19.589741Z",
     "start_time": "2020-03-17T03:01:18.161718Z"
    }
   },
   "outputs": [],
   "source": [
    "filePath = os.path.join('Data','Stage','NoShowAppointments_cleaned.csv')\n",
    "df = pd.read_csv(filePath,low_memory=False)"
   ]
  },
  {
   "cell_type": "markdown",
   "metadata": {},
   "source": [
    "# Build data to model"
   ]
  },
  {
   "cell_type": "code",
   "execution_count": 3,
   "metadata": {
    "ExecuteTime": {
     "end_time": "2020-03-17T03:01:21.145301Z",
     "start_time": "2020-03-17T03:01:20.932984Z"
    }
   },
   "outputs": [],
   "source": [
    "X = df.drop('NoShow', axis=1)\n",
    "y = df['NoShow']\n",
    "X_train, X_test, y_train, y_test = train_test_split(X, y, test_size=0.33, random_state=42)"
   ]
  },
  {
   "cell_type": "markdown",
   "metadata": {},
   "source": [
    "# Logistic Regression"
   ]
  },
  {
   "cell_type": "code",
   "execution_count": 12,
   "metadata": {
    "ExecuteTime": {
     "end_time": "2020-03-17T02:46:19.231950Z",
     "start_time": "2020-03-17T02:46:18.711179Z"
    }
   },
   "outputs": [
    {
     "data": {
      "text/plain": [
       "80.06"
      ]
     },
     "execution_count": 12,
     "metadata": {},
     "output_type": "execute_result"
    }
   ],
   "source": [
    "from sklearn.linear_model import LogisticRegression\n",
    "logmodel = LogisticRegression()\n",
    "logmodel.fit(X_train,y_train)\n",
    "\n",
    "#Use model to predict\n",
    "y_pred = logmodel.predict(X_test)\n",
    "\n",
    "#Evaluate accuracy of the model\n",
    "acc_log = round(logmodel.score(X_test, y_test) * 100, 2)\n",
    "acc_log"
   ]
  },
  {
   "cell_type": "markdown",
   "metadata": {
    "ExecuteTime": {
     "end_time": "2020-03-17T02:28:13.774891Z",
     "start_time": "2020-03-17T02:28:13.762068Z"
    }
   },
   "source": [
    "# Decision Tree"
   ]
  },
  {
   "cell_type": "code",
   "execution_count": 7,
   "metadata": {
    "ExecuteTime": {
     "end_time": "2020-03-17T02:42:34.050715Z",
     "start_time": "2020-03-17T02:42:33.058686Z"
    }
   },
   "outputs": [
    {
     "data": {
      "text/plain": [
       "95.02"
      ]
     },
     "execution_count": 7,
     "metadata": {},
     "output_type": "execute_result"
    }
   ],
   "source": [
    "# Decision Tree\n",
    "#########\n",
    "from sklearn.tree import DecisionTreeClassifier\n",
    "dtree = DecisionTreeClassifier()\n",
    "dtree.fit(X_train, y_train)\n",
    "\n",
    "#Use model to predict\n",
    "y_pred = dtree.predict(X_test)\n",
    "\n",
    "#Evaluate accuracy of the model\n",
    "acc_dtree = round(dtree.score(X_test, y_test) * 100, 2)\n",
    "acc_dtree"
   ]
  },
  {
   "cell_type": "markdown",
   "metadata": {},
   "source": [
    "# Random Forest"
   ]
  },
  {
   "cell_type": "code",
   "execution_count": 14,
   "metadata": {
    "ExecuteTime": {
     "end_time": "2020-03-17T02:49:04.820051Z",
     "start_time": "2020-03-17T02:48:57.587233Z"
    }
   },
   "outputs": [
    {
     "name": "stderr",
     "output_type": "stream",
     "text": [
      "[Parallel(n_jobs=-1)]: Using backend ThreadingBackend with 8 concurrent workers.\n"
     ]
    },
    {
     "name": "stdout",
     "output_type": "stream",
     "text": [
      "building tree 1 of 200\n",
      "building tree 2 of 200\n",
      "building tree 3 of 200\n",
      "building tree 4 of 200\n",
      "building tree 5 of 200\n",
      "building tree 6 of 200\n",
      "building tree 7 of 200\n",
      "building tree 8 of 200\n",
      "building tree 9 of 200\n",
      "building tree 10 of 200\n",
      "building tree 11 of 200\n",
      "building tree 12 of 200\n",
      "building tree 13 of 200\n",
      "building tree 14 of 200\n",
      "building tree 15 of 200\n",
      "building tree 16 of 200\n",
      "building tree 17 of 200\n",
      "building tree 18 of 200\n",
      "building tree 19 of 200\n",
      "building tree 20 of 200\n",
      "building tree 21 of 200\n",
      "building tree 22 of 200\n",
      "building tree 23 of 200\n",
      "building tree 24 of 200\n",
      "building tree 25 of 200\n",
      "building tree 26 of 200\n",
      "building tree 27 of 200\n"
     ]
    },
    {
     "name": "stderr",
     "output_type": "stream",
     "text": [
      "[Parallel(n_jobs=-1)]: Done  16 tasks      | elapsed:    0.5s\n"
     ]
    },
    {
     "name": "stdout",
     "output_type": "stream",
     "text": [
      "building tree 28 of 200\n",
      "building tree 29 of 200\n",
      "building tree 30 of 200\n",
      "building tree 31 of 200\n",
      "building tree 32 of 200\n",
      "building tree 33 of 200\n",
      "building tree 34 of 200\n",
      "building tree 35 of 200\n",
      "building tree 36 of 200\n",
      "building tree 37 of 200\n",
      "building tree 38 of 200\n",
      "building tree 39 of 200\n",
      "building tree 40 of 200\n",
      "building tree 41 of 200\n",
      "building tree 42 of 200\n",
      "building tree 43 of 200\n",
      "building tree 44 of 200\n",
      "building tree 45 of 200\n",
      "building tree 46 of 200\n",
      "building tree 47 of 200\n",
      "building tree 48 of 200\n",
      "building tree 49 of 200\n",
      "building tree 50 of 200\n",
      "building tree 51 of 200\n",
      "building tree 52 of 200\n",
      "building tree 53 of 200\n",
      "building tree 54 of 200\n",
      "building tree 55 of 200\n",
      "building tree 56 of 200\n",
      "building tree 57 of 200\n",
      "building tree 58 of 200\n",
      "building tree 59 of 200\n",
      "building tree 60 of 200\n",
      "building tree 61 of 200\n",
      "building tree 62 of 200\n",
      "building tree 63 of 200\n",
      "building tree 64 of 200\n",
      "building tree 65 of 200\n",
      "building tree 66 of 200\n",
      "building tree 67 of 200\n",
      "building tree 68 of 200\n",
      "building tree 69 of 200\n",
      "building tree 70 of 200\n",
      "building tree 71 of 200\n",
      "building tree 72 of 200\n",
      "building tree 73 of 200\n",
      "building tree 74 of 200\n",
      "building tree 75 of 200\n",
      "building tree 76 of 200\n",
      "building tree 77 of 200\n",
      "building tree 78 of 200\n",
      "building tree 79 of 200\n",
      "building tree 80 of 200\n",
      "building tree 81 of 200\n",
      "building tree 82 of 200\n",
      "building tree 83 of 200\n",
      "building tree 84 of 200\n",
      "building tree 85 of 200\n",
      "building tree 86 of 200\n",
      "building tree 87 of 200\n",
      "building tree 88 of 200\n",
      "building tree 89 of 200\n",
      "building tree 90 of 200\n",
      "building tree 91 of 200\n",
      "building tree 92 of 200\n",
      "building tree 93 of 200\n",
      "building tree 94 of 200\n",
      "building tree 95 of 200\n",
      "building tree 96 of 200\n",
      "building tree 97 of 200\n",
      "building tree 98 of 200\n",
      "building tree 99 of 200building tree 100 of 200\n",
      "\n",
      "building tree 101 of 200\n",
      "building tree 102 of 200\n",
      "building tree 103 of 200\n",
      "building tree 104 of 200\n",
      "building tree 105 of 200\n",
      "building tree 106 of 200\n",
      "building tree 107 of 200\n",
      "building tree 108 of 200\n",
      "building tree 109 of 200\n",
      "building tree 110 of 200\n",
      "building tree 111 of 200\n",
      "building tree 112 of 200\n",
      "building tree 113 of 200\n",
      "building tree 114 of 200\n",
      "building tree 115 of 200\n",
      "building tree 116 of 200\n",
      "building tree 117 of 200\n",
      "building tree 118 of 200\n",
      "building tree 119 of 200\n",
      "building tree 120 of 200\n",
      "building tree 121 of 200\n",
      "building tree 122 of 200\n",
      "building tree 123 of 200\n",
      "building tree 124 of 200\n"
     ]
    },
    {
     "name": "stderr",
     "output_type": "stream",
     "text": [
      "[Parallel(n_jobs=-1)]: Done 112 tasks      | elapsed:    3.5s\n"
     ]
    },
    {
     "name": "stdout",
     "output_type": "stream",
     "text": [
      "building tree 125 of 200\n",
      "building tree 126 of 200\n",
      "building tree 127 of 200\n",
      "building tree 128 of 200\n",
      "building tree 129 of 200\n",
      "building tree 130 of 200\n",
      "building tree 131 of 200\n",
      "building tree 132 of 200\n",
      "building tree 133 of 200\n",
      "building tree 134 of 200\n",
      "building tree 135 of 200\n",
      "building tree 136 of 200\n",
      "building tree 137 of 200\n",
      "building tree 138 of 200\n",
      "building tree 139 of 200\n",
      "building tree 140 of 200\n",
      "building tree 141 of 200\n",
      "building tree 142 of 200building tree 143 of 200\n",
      "\n",
      "building tree 144 of 200\n",
      "building tree 145 of 200\n",
      "building tree 146 of 200\n",
      "building tree 147 of 200\n",
      "building tree 148 of 200\n",
      "building tree 149 of 200\n",
      "building tree 150 of 200\n",
      "building tree 151 of 200\n",
      "building tree 152 of 200\n",
      "building tree 153 of 200\n",
      "building tree 154 of 200\n",
      "building tree 155 of 200\n",
      "building tree 156 of 200\n",
      "building tree 157 of 200\n",
      "building tree 158 of 200\n",
      "building tree 159 of 200\n",
      "building tree 160 of 200\n",
      "building tree 161 of 200\n",
      "building tree 162 of 200\n",
      "building tree 163 of 200\n",
      "building tree 164 of 200\n",
      "building tree 165 of 200\n",
      "building tree 166 of 200\n",
      "building tree 167 of 200\n",
      "building tree 168 of 200\n",
      "building tree 169 of 200\n",
      "building tree 170 of 200\n",
      "building tree 171 of 200\n",
      "building tree 172 of 200building tree 173 of 200\n",
      "\n",
      "building tree 174 of 200\n",
      "building tree 175 of 200\n",
      "building tree 176 of 200\n",
      "building tree 177 of 200\n",
      "building tree 178 of 200\n",
      "building tree 179 of 200\n",
      "building tree 180 of 200\n",
      "building tree 181 of 200\n",
      "building tree 182 of 200\n",
      "building tree 183 of 200\n",
      "building tree 184 of 200\n",
      "building tree 185 of 200\n",
      "building tree 186 of 200\n",
      "building tree 187 of 200\n",
      "building tree 188 of 200\n",
      "building tree 189 of 200\n",
      "building tree 190 of 200\n",
      "building tree 191 of 200\n",
      "building tree 192 of 200\n",
      "building tree 193 of 200\n",
      "building tree 194 of 200\n",
      "building tree 195 of 200\n",
      "building tree 196 of 200\n",
      "building tree 197 of 200\n",
      "building tree 198 of 200\n",
      "building tree 199 of 200\n",
      "building tree 200 of 200\n"
     ]
    },
    {
     "name": "stderr",
     "output_type": "stream",
     "text": [
      "[Parallel(n_jobs=-1)]: Done 200 out of 200 | elapsed:    6.1s finished\n",
      "[Parallel(n_jobs=8)]: Using backend ThreadingBackend with 8 concurrent workers.\n",
      "[Parallel(n_jobs=8)]: Done  16 tasks      | elapsed:    0.1s\n",
      "[Parallel(n_jobs=8)]: Done 112 tasks      | elapsed:    0.3s\n",
      "[Parallel(n_jobs=8)]: Done 200 out of 200 | elapsed:    0.4s finished\n",
      "[Parallel(n_jobs=8)]: Using backend ThreadingBackend with 8 concurrent workers.\n",
      "[Parallel(n_jobs=8)]: Done  16 tasks      | elapsed:    0.0s\n",
      "[Parallel(n_jobs=8)]: Done 112 tasks      | elapsed:    0.2s\n",
      "[Parallel(n_jobs=8)]: Done 200 out of 200 | elapsed:    0.4s finished\n"
     ]
    },
    {
     "data": {
      "text/plain": [
       "87.64"
      ]
     },
     "execution_count": 14,
     "metadata": {},
     "output_type": "execute_result"
    }
   ],
   "source": [
    "# Random Forest\n",
    "#########\n",
    "from sklearn.ensemble import RandomForestClassifier\n",
    "rfc = RandomForestClassifier(n_estimators=200, random_state=101, n_jobs=-1, verbose=3)\n",
    "rfc.fit(X_train, y_train)\n",
    "\n",
    "#Use model to predict\n",
    "y_pred = rfc.predict(X_test)\n",
    "\n",
    "#Evaluate accuracy of the model\n",
    "acc_rf = round(rfc.score(X_test, y_test) * 100, 2)\n",
    "acc_rf"
   ]
  },
  {
   "cell_type": "code",
   "execution_count": 14,
   "metadata": {
    "ExecuteTime": {
     "end_time": "2020-03-17T02:32:52.656589Z",
     "start_time": "2020-03-17T02:32:51.179101Z"
    }
   },
   "outputs": [
    {
     "data": {
      "image/png": "[encoded data removed]",
      "text/plain": [
       "<Figure size 1440x864 with 1 Axes>"
      ]
     },
     "metadata": {
      "needs_background": "light"
     },
     "output_type": "display_data"
    }
   ],
   "source": [
    "#Evaluate feature importance\n",
    "importances = rfr.feature_importances_\n",
    "std = np.std([importances for tree in rfr.estimators_], axis=0)\n",
    "indices = np.argsort(importances)[::-1]\n",
    "\n",
    "feature_importances = pd.DataFrame(rfr.feature_importances_, index = X_train.columns, columns=['importance']).sort_values('importance', ascending=False)\n",
    "feature_importances.sort_values('importance', ascending=False)\n",
    "\n",
    "plt.figure(figsize=(20,12))\n",
    "plt.title(\"Feature importances\")\n",
    "plt.bar(range(X_train.shape[1]), importances[indices], yerr=std[indices], align=\"center\")\n",
    "plt.xticks(range(X_train.shape[1]), indices)\n",
    "plt.xlim([-1, X_train.shape[1]])\n",
    "plt.show()"
   ]
  },
  {
   "cell_type": "markdown",
   "metadata": {},
   "source": [
    "# Light GBM"
   ]
  },
  {
   "cell_type": "code",
   "execution_count": 15,
   "metadata": {
    "ExecuteTime": {
     "end_time": "2020-03-17T02:49:47.778563Z",
     "start_time": "2020-03-17T02:49:47.011756Z"
    }
   },
   "outputs": [
    {
     "name": "stdout",
     "output_type": "stream",
     "text": [
      "[1]\tvalid_0's l2: 0.151696\tvalid_0's l1: 0.313335\n",
      "Training until validation scores don't improve for 5 rounds\n",
      "[2]\tvalid_0's l2: 0.1445\tvalid_0's l1: 0.305512\n",
      "[3]\tvalid_0's l2: 0.138023\tvalid_0's l1: 0.298088\n",
      "[4]\tvalid_0's l2: 0.132178\tvalid_0's l1: 0.29105\n",
      "[5]\tvalid_0's l2: 0.126902\tvalid_0's l1: 0.284353\n",
      "[6]\tvalid_0's l2: 0.122157\tvalid_0's l1: 0.278016\n",
      "[7]\tvalid_0's l2: 0.117876\tvalid_0's l1: 0.271991\n",
      "[8]\tvalid_0's l2: 0.114012\tvalid_0's l1: 0.266262\n",
      "[9]\tvalid_0's l2: 0.110525\tvalid_0's l1: 0.260809\n",
      "[10]\tvalid_0's l2: 0.107379\tvalid_0's l1: 0.255641\n",
      "[11]\tvalid_0's l2: 0.104503\tvalid_0's l1: 0.250699\n",
      "[12]\tvalid_0's l2: 0.101907\tvalid_0's l1: 0.245995\n",
      "[13]\tvalid_0's l2: 0.0995555\tvalid_0's l1: 0.241509\n",
      "[14]\tvalid_0's l2: 0.0992671\tvalid_0's l1: 0.240972\n",
      "[15]\tvalid_0's l2: 0.0971875\tvalid_0's l1: 0.236759\n",
      "[16]\tvalid_0's l2: 0.0953493\tvalid_0's l1: 0.232799\n",
      "[17]\tvalid_0's l2: 0.0936701\tvalid_0's l1: 0.229008\n",
      "[18]\tvalid_0's l2: 0.0921494\tvalid_0's l1: 0.225405\n",
      "[19]\tvalid_0's l2: 0.0907788\tvalid_0's l1: 0.221967\n",
      "[20]\tvalid_0's l2: 0.0895439\tvalid_0's l1: 0.218698\n",
      "Did not meet early stopping. Best iteration is:\n",
      "[20]\tvalid_0's l2: 0.0895439\tvalid_0's l1: 0.218698\n"
     ]
    }
   ],
   "source": [
    "#########\n",
    "# lightGBM (LGBM)\n",
    "#########\n",
    "import lightgbm as lgb\n",
    "#create dataset for lightgbm\n",
    "lgb_train = lgb.Dataset(X_train, y_train)\n",
    "lgb_eval = lgb.Dataset(X_test, y_test, reference=lgb_train)\n",
    "\n",
    "#specify your configurations as a dict\n",
    "params = {\n",
    "    'boosting_type': 'gbdt',\n",
    "    'objective': 'regression',\n",
    "    'metric': {'l2', 'l1'},\n",
    "    'num_leaves': 31,\n",
    "    'learning_rate': 0.05,\n",
    "    'feature_fraction': 0.9,\n",
    "    'bagging_fraction': 0.8,\n",
    "    'bagging_freq': 5,\n",
    "    'verbose': 0\n",
    "}\n",
    "\n",
    "#train\n",
    "gbm = lgb.train(params,\n",
    "                lgb_train,\n",
    "                num_boost_round=20,\n",
    "                valid_sets=lgb_eval,\n",
    "                early_stopping_rounds=5)\n",
    "\n",
    "#save model to file\n",
    "gbm.save_model('model.txt')\n",
    "\n",
    "#predict\n",
    "y_pred = gbm.predict(X_test, num_iteration=gbm.best_iteration)"
   ]
  },
  {
   "cell_type": "markdown",
   "metadata": {},
   "source": [
    "# XGBOOST"
   ]
  },
  {
   "cell_type": "code",
   "execution_count": 16,
   "metadata": {
    "ExecuteTime": {
     "end_time": "2020-03-17T03:00:11.000816Z",
     "start_time": "2020-03-17T02:53:31.191634Z"
    }
   },
   "outputs": [
    {
     "data": {
      "text/plain": [
       "0.8770082798705927"
      ]
     },
     "execution_count": 16,
     "metadata": {},
     "output_type": "execute_result"
    }
   ],
   "source": [
    "#########\n",
    "# XGBoost\n",
    "#########\n",
    "import xgboost as xgb\n",
    "\n",
    "model = xgb.XGBClassifier(random_state=1, n_estimators=1000, learning_rate=0.01, n_jobs=-1) #for the best model, high number of estimators, low learning rate\n",
    "model.fit(X_train, y_train)\n",
    "model.score(X_test,y_test)\n"
   ]
  },
  {
   "cell_type": "markdown",
   "metadata": {},
   "source": [
    "# Auto-ML"
   ]
  },
  {
   "cell_type": "code",
   "execution_count": 28,
   "metadata": {
    "ExecuteTime": {
     "end_time": "2020-03-17T03:24:31.560905Z",
     "start_time": "2020-03-17T03:24:22.782050Z"
    }
   },
   "outputs": [],
   "source": [
    "# prepare files for Auto-ML\n",
    "\n",
    "#divide dataframe into test and train\n",
    "test_perc = .33\n",
    "test = int(df.shape[0] * test_perc)\n",
    "train = df.shape[0] - test\n",
    "\n",
    "#fail if length doesn't equal test + train\n",
    "assert df.shape[0] == test + train\n",
    "\n",
    "#create file paths for test and train files\n",
    "filePathTrain = os.path.join('Data','Stage','Appointment_Cleaned_train.csv')\n",
    "filePathTest = os.path.join('Data','Stage','Appointment_Cleaned_test.csv')\n",
    "\n",
    "#add files to Stage Folder\n",
    "df[:train].to_csv(filePathTrain,index=False)\n",
    "df[:test].to_csv(filePathTest,index=False)"
   ]
  },
  {
   "cell_type": "code",
   "execution_count": 11,
   "metadata": {
    "ExecuteTime": {
     "end_time": "2020-03-17T03:15:12.982146Z",
     "start_time": "2020-03-17T03:15:02.518147Z"
    }
   },
   "outputs": [
    {
     "name": "stdout",
     "output_type": "stream",
     "text": [
      "Checking whether there is an H2O instance running at http://localhost:54321 ..... not found.\n",
      "Attempting to start a local H2O server...\n",
      "  Java Version: openjdk version \"11.0.4\" 2019-07-16; OpenJDK Runtime Environment (build 11.0.4+11-post-Ubuntu-1ubuntu218.04.3); OpenJDK 64-Bit Server VM (build 11.0.4+11-post-Ubuntu-1ubuntu218.04.3, mixed mode, sharing)\n",
      "  Starting server from /home/narquette/anaconda3/envs/capstone/lib/python3.7/site-packages/h2o/backend/bin/h2o.jar\n",
      "  Ice root: /tmp/tmph0f1wl56\n",
      "  JVM stdout: /tmp/tmph0f1wl56/h2o_narquette_started_from_python.out\n",
      "  JVM stderr: /tmp/tmph0f1wl56/h2o_narquette_started_from_python.err\n",
      "  Server is running at http://127.0.0.1:54347\n",
      "Connecting to H2O server at http://127.0.0.1:54347 ... successful.\n"
     ]
    },
    {
     "data": {
      "text/html": [
       "<div style=\"overflow:auto\"><table style=\"width:50%\"><tr><td>H2O cluster uptime:</td>\n",
       "<td>02 secs</td></tr>\n",
       "<tr><td>H2O cluster timezone:</td>\n",
       "<td>Etc/GMT</td></tr>\n",
       "<tr><td>H2O data parsing timezone:</td>\n",
       "<td>UTC</td></tr>\n",
       "<tr><td>H2O cluster version:</td>\n",
       "<td>3.28.0.3</td></tr>\n",
       "<tr><td>H2O cluster version age:</td>\n",
       "<td>1 month and 11 days </td></tr>\n",
       "<tr><td>H2O cluster name:</td>\n",
       "<td>H2O_from_python_narquette_p0rtyl</td></tr>\n",
       "<tr><td>H2O cluster total nodes:</td>\n",
       "<td>1</td></tr>\n",
       "<tr><td>H2O cluster free memory:</td>\n",
       "<td>7.971 Gb</td></tr>\n",
       "<tr><td>H2O cluster total cores:</td>\n",
       "<td>8</td></tr>\n",
       "<tr><td>H2O cluster allowed cores:</td>\n",
       "<td>1</td></tr>\n",
       "<tr><td>H2O cluster status:</td>\n",
       "<td>accepting new members, healthy</td></tr>\n",
       "<tr><td>H2O connection url:</td>\n",
       "<td>http://127.0.0.1:54347</td></tr>\n",
       "<tr><td>H2O connection proxy:</td>\n",
       "<td>{'http': None, 'https': None}</td></tr>\n",
       "<tr><td>H2O internal security:</td>\n",
       "<td>False</td></tr>\n",
       "<tr><td>H2O API Extensions:</td>\n",
       "<td>Amazon S3, XGBoost, Algos, AutoML, Core V3, TargetEncoder, Core V4</td></tr>\n",
       "<tr><td>Python version:</td>\n",
       "<td>3.7.5 final</td></tr></table></div>"
      ],
      "text/plain": [
       "--------------------------  ------------------------------------------------------------------\n",
       "H2O cluster uptime:         02 secs\n",
       "H2O cluster timezone:       Etc/GMT\n",
       "H2O data parsing timezone:  UTC\n",
       "H2O cluster version:        3.28.0.3\n",
       "H2O cluster version age:    1 month and 11 days\n",
       "H2O cluster name:           H2O_from_python_narquette_p0rtyl\n",
       "H2O cluster total nodes:    1\n",
       "H2O cluster free memory:    7.971 Gb\n",
       "H2O cluster total cores:    8\n",
       "H2O cluster allowed cores:  1\n",
       "H2O cluster status:         accepting new members, healthy\n",
       "H2O connection url:         http://127.0.0.1:54347\n",
       "H2O connection proxy:       {'http': None, 'https': None}\n",
       "H2O internal security:      False\n",
       "H2O API Extensions:         Amazon S3, XGBoost, Algos, AutoML, Core V3, TargetEncoder, Core V4\n",
       "Python version:             3.7.5 final\n",
       "--------------------------  ------------------------------------------------------------------"
      ]
     },
     "metadata": {},
     "output_type": "display_data"
    }
   ],
   "source": [
    "import h2o\n",
    "from h2o.automl import H2OAutoML, get_leaderboard\n",
    "\n",
    "h2o.init()"
   ]
  },
  {
   "cell_type": "code",
   "execution_count": 29,
   "metadata": {
    "ExecuteTime": {
     "end_time": "2020-03-17T03:24:42.527790Z",
     "start_time": "2020-03-17T03:24:40.847168Z"
    }
   },
   "outputs": [
    {
     "name": "stdout",
     "output_type": "stream",
     "text": [
      "Parse progress: |█████████████████████████████████████████████████████████| 100%\n",
      "Parse progress: |█████████████████████████████████████████████████████████| 100%\n"
     ]
    }
   ],
   "source": [
    "# Import a sample binary outcome train/test set into H2O\n",
    "train = h2o.import_file(filePathTrain)\n",
    "test = h2o.import_file(filePathTest)"
   ]
  },
  {
   "cell_type": "code",
   "execution_count": 30,
   "metadata": {
    "ExecuteTime": {
     "end_time": "2020-03-17T04:16:52.350351Z",
     "start_time": "2020-03-17T03:24:55.347798Z"
    }
   },
   "outputs": [
    {
     "name": "stdout",
     "output_type": "stream",
     "text": [
      "AutoML progress: |████████████████████████████████████████████████████████| 100%\n",
      "stackedensemble prediction progress: |████████████████████████████████████| 100%\n",
      "stackedensemble prediction progress: |████████████████████████████████████| 100%\n"
     ]
    }
   ],
   "source": [
    "# Identify predictors and response\n",
    "x = train.columns\n",
    "y = \"NoShow\"\n",
    "x.remove(y)\n",
    "\n",
    "# For binary classification, response should be a factor\n",
    "train[y] = train[y].asfactor()\n",
    "test[y] = test[y].asfactor()\n",
    "\n",
    "# Run AutoML for 20 base models (limited to 1 hour max runtime by default)\n",
    "aml = H2OAutoML(max_models=20, seed=1)\n",
    "aml.train(x=x, y=y, training_frame=train)\n",
    "\n",
    "# AutoML Leaderboard\n",
    "lb = aml.leaderboard\n",
    "\n",
    "# Optionally edd extra model information to the leaderboard\n",
    "lb = get_leaderboard(aml, extra_columns='ALL')\n",
    "\n",
    "# Print all rows (instead of default 10 rows)\n",
    "lb.head(rows=lb.nrows)\n",
    "\n",
    "# model_id                                                  auc    logloss     aucpr    mean_per_class_error      rmse       mse    training_time_ms    predict_time_per_row_ms\n",
    "# ---------------------------------------------------  --------  ---------  --------  ----------------------  --------  --------  ------------------  -------------------------\n",
    "# StackedEnsemble_AllModels_AutoML_20191213_174603     0.789844   0.551067  0.804672                0.314665  0.432045  0.186663                 924                   0.05695\n",
    "# StackedEnsemble_BestOfFamily_AutoML_20191213_174603  0.789768   0.550906  0.805696                0.313059  0.431977  0.186604                 639                   0.024567\n",
    "# XGBoost_grid__1_AutoML_20191213_174603_model_4       0.784698   0.55681   0.80312                 0.323143  0.434743  0.189002                3092                   0.002083\n",
    "# XGBoost_3_AutoML_20191213_174603                     0.784232   0.557749  0.802341                0.317933  0.434976  0.189204                2878                   0.002173\n",
    "# XGBoost_2_AutoML_20191213_174603                     0.783533   0.555997  0.803189                0.32475   0.434678  0.188945                4635                   0.003292\n",
    "# XGBoost_grid__1_AutoML_20191213_174603_model_3       0.782582   0.560218  0.800749                0.34334   0.435944  0.190047                2695                   0.002269\n",
    "# GBM_5_AutoML_20191213_174603                         0.78219    0.558353  0.800234                0.319658  0.435512  0.18967                  768                   0.004318\n",
    "# XGBoost_1_AutoML_20191213_174603                     0.781901   0.557944  0.801237                0.325446  0.435519  0.189676                4428                   0.003039\n",
    "# XGBoost_grid__1_AutoML_20191213_174603_model_1       0.781648   0.561112  0.799203                0.312015  0.436434  0.190474                5430                   0.002557\n",
    "# GBM_2_AutoML_20191213_174603                         0.777673   0.562514  0.796181                0.334056  0.437583  0.191479                 655                   0.003772\n",
    "# GBM_1_AutoML_20191213_174603                         0.777294   0.562744  0.798244                0.356261  0.437727  0.191605                 700                   0.003571\n",
    "# GBM_3_AutoML_20191213_174603                         0.775488   0.564794  0.793585                0.327971  0.438722  0.192477                 635                   0.003748\n",
    "# XGBoost_grid__1_AutoML_20191213_174603_model_2       0.773621   0.578141  0.791949                0.341118  0.443963  0.197104                9722                   0.003896\n",
    "# GBM_grid__1_AutoML_20191213_174603_model_1           0.772656   0.568314  0.79164                 0.332175  0.440049  0.193643                 647                   0.004546\n",
    "# GBM_4_AutoML_20191213_174603                         0.77248    0.569483  0.791078                0.336913  0.440873  0.194369                 800                   0.004142\n",
    "# DRF_1_AutoML_20191213_174603                         0.764975   0.5801    0.781588                0.336001  0.445222  0.198222                1399                   0.007475\n",
    "# XRT_1_AutoML_20191213_174603                         0.759957   0.585158  0.776857                0.338976  0.447598  0.200344                1426                   0.00495\n",
    "# GBM_grid__1_AutoML_20191213_174603_model_2           0.748007   0.632981  0.758833                0.375308  0.462237  0.213663                 588                   0.003119\n",
    "# DeepLearning_grid__2_AutoML_20191213_174603_model_1  0.739884   0.600688  0.747948                0.359883  0.455205  0.207212               40408                   0.010939\n",
    "# DeepLearning_1_AutoML_20191213_174603                0.700406   0.63169   0.70199                 0.395333  0.469084  0.22004                  445                   0.002288\n",
    "# DeepLearning_grid__1_AutoML_20191213_174603_model_1  0.692235   0.671512  0.691883                0.409836  0.478393  0.22886                32546                   0.003623\n",
    "# GLM_1_AutoML_20191213_174603                         0.682648   0.63852   0.680344                0.397234  0.472683  0.223429                 195                   0.001312\n",
    "#\n",
    "# [22 rows x 9 columns]\n",
    "\n",
    "\n",
    "# The leader model is stored here\n",
    "aml.leader\n",
    "\n",
    "# If you need to generate predictions on a test set, you can make\n",
    "# predictions directly on the `\"H2OAutoML\"` object, or on the leader\n",
    "# model object directly\n",
    "\n",
    "preds = aml.predict(test)\n",
    "\n",
    "# or:\n",
    "preds = aml.leader.predict(test)"
   ]
  },
  {
   "cell_type": "code",
   "execution_count": 31,
   "metadata": {
    "ExecuteTime": {
     "end_time": "2020-03-17T08:22:00.276457Z",
     "start_time": "2020-03-17T08:22:00.227494Z"
    }
   },
   "outputs": [
    {
     "data": {
      "text/html": [
       "<table>\n",
       "<thead>\n",
       "<tr><th style=\"text-align: right;\">  predict</th><th style=\"text-align: right;\">      p0</th><th style=\"text-align: right;\">       p1</th></tr>\n",
       "</thead>\n",
       "<tbody>\n",
       "<tr><td style=\"text-align: right;\">        0</td><td style=\"text-align: right;\">0.985297</td><td style=\"text-align: right;\">0.0147028</td></tr>\n",
       "<tr><td style=\"text-align: right;\">        0</td><td style=\"text-align: right;\">0.985385</td><td style=\"text-align: right;\">0.0146155</td></tr>\n",
       "<tr><td style=\"text-align: right;\">        0</td><td style=\"text-align: right;\">0.98525 </td><td style=\"text-align: right;\">0.0147501</td></tr>\n",
       "<tr><td style=\"text-align: right;\">        0</td><td style=\"text-align: right;\">0.968508</td><td style=\"text-align: right;\">0.0314922</td></tr>\n",
       "<tr><td style=\"text-align: right;\">        0</td><td style=\"text-align: right;\">0.985297</td><td style=\"text-align: right;\">0.0147028</td></tr>\n",
       "<tr><td style=\"text-align: right;\">        0</td><td style=\"text-align: right;\">0.985038</td><td style=\"text-align: right;\">0.0149619</td></tr>\n",
       "<tr><td style=\"text-align: right;\">        1</td><td style=\"text-align: right;\">0.248297</td><td style=\"text-align: right;\">0.751703 </td></tr>\n",
       "<tr><td style=\"text-align: right;\">        1</td><td style=\"text-align: right;\">0.206862</td><td style=\"text-align: right;\">0.793138 </td></tr>\n",
       "<tr><td style=\"text-align: right;\">        0</td><td style=\"text-align: right;\">0.985172</td><td style=\"text-align: right;\">0.0148283</td></tr>\n",
       "<tr><td style=\"text-align: right;\">        0</td><td style=\"text-align: right;\">0.984654</td><td style=\"text-align: right;\">0.0153457</td></tr>\n",
       "</tbody>\n",
       "</table>"
      ]
     },
     "metadata": {},
     "output_type": "display_data"
    },
    {
     "data": {
      "text/plain": []
     },
     "execution_count": 31,
     "metadata": {},
     "output_type": "execute_result"
    }
   ],
   "source": [
    "preds"
   ]
  },
  {
   "cell_type": "code",
   "execution_count": 32,
   "metadata": {
    "ExecuteTime": {
     "end_time": "2020-03-17T08:22:56.158803Z",
     "start_time": "2020-03-17T08:22:56.141826Z"
    }
   },
   "outputs": [
    {
     "data": {
      "text/html": [
       "<table>\n",
       "<thead>\n",
       "<tr><th>model_id                                           </th><th style=\"text-align: right;\">     auc</th><th style=\"text-align: right;\">  logloss</th><th style=\"text-align: right;\">   aucpr</th><th style=\"text-align: right;\">  mean_per_class_error</th><th style=\"text-align: right;\">    rmse</th><th style=\"text-align: right;\">      mse</th><th style=\"text-align: right;\">  training_time_ms</th><th style=\"text-align: right;\">  predict_time_per_row_ms</th></tr>\n",
       "</thead>\n",
       "<tbody>\n",
       "<tr><td>StackedEnsemble_BestOfFamily_AutoML_20200317_032455</td><td style=\"text-align: right;\">0.943297</td><td style=\"text-align: right;\"> 0.245454</td><td style=\"text-align: right;\">0.758808</td><td style=\"text-align: right;\">              0.108607</td><td style=\"text-align: right;\">0.281634</td><td style=\"text-align: right;\">0.0793177</td><td style=\"text-align: right;\">              7140</td><td style=\"text-align: right;\">                 0.078132</td></tr>\n",
       "<tr><td>XGBoost_grid__1_AutoML_20200317_032455_model_2     </td><td style=\"text-align: right;\">0.94313 </td><td style=\"text-align: right;\"> 0.235525</td><td style=\"text-align: right;\">0.758046</td><td style=\"text-align: right;\">              0.107381</td><td style=\"text-align: right;\">0.281361</td><td style=\"text-align: right;\">0.0791638</td><td style=\"text-align: right;\">             47143</td><td style=\"text-align: right;\">                 0.011772</td></tr>\n",
       "<tr><td>StackedEnsemble_AllModels_AutoML_20200317_032455   </td><td style=\"text-align: right;\">0.943014</td><td style=\"text-align: right;\"> 0.244461</td><td style=\"text-align: right;\">0.758509</td><td style=\"text-align: right;\">              0.104405</td><td style=\"text-align: right;\">0.281549</td><td style=\"text-align: right;\">0.0792696</td><td style=\"text-align: right;\">             24738</td><td style=\"text-align: right;\">                 0.31064 </td></tr>\n",
       "<tr><td>GBM_4_AutoML_20200317_032455                       </td><td style=\"text-align: right;\">0.94157 </td><td style=\"text-align: right;\"> 0.230725</td><td style=\"text-align: right;\">0.749575</td><td style=\"text-align: right;\">              0.110835</td><td style=\"text-align: right;\">0.280157</td><td style=\"text-align: right;\">0.0784881</td><td style=\"text-align: right;\">             21474</td><td style=\"text-align: right;\">                 0.031396</td></tr>\n",
       "<tr><td>XGBoost_1_AutoML_20200317_032455                   </td><td style=\"text-align: right;\">0.940666</td><td style=\"text-align: right;\"> 0.23162 </td><td style=\"text-align: right;\">0.745705</td><td style=\"text-align: right;\">              0.103897</td><td style=\"text-align: right;\">0.280845</td><td style=\"text-align: right;\">0.078874 </td><td style=\"text-align: right;\">             19534</td><td style=\"text-align: right;\">                 0.004995</td></tr>\n",
       "<tr><td>XGBoost_2_AutoML_20200317_032455                   </td><td style=\"text-align: right;\">0.94031 </td><td style=\"text-align: right;\"> 0.233002</td><td style=\"text-align: right;\">0.742554</td><td style=\"text-align: right;\">              0.10991 </td><td style=\"text-align: right;\">0.281705</td><td style=\"text-align: right;\">0.0793574</td><td style=\"text-align: right;\">             27184</td><td style=\"text-align: right;\">                 0.007121</td></tr>\n",
       "<tr><td>GBM_3_AutoML_20200317_032455                       </td><td style=\"text-align: right;\">0.940233</td><td style=\"text-align: right;\"> 0.232192</td><td style=\"text-align: right;\">0.744067</td><td style=\"text-align: right;\">              0.105896</td><td style=\"text-align: right;\">0.281174</td><td style=\"text-align: right;\">0.0790587</td><td style=\"text-align: right;\">             20265</td><td style=\"text-align: right;\">                 0.030576</td></tr>\n",
       "<tr><td>GBM_grid__1_AutoML_20200317_032455_model_1         </td><td style=\"text-align: right;\">0.940049</td><td style=\"text-align: right;\"> 0.232702</td><td style=\"text-align: right;\">0.744058</td><td style=\"text-align: right;\">              0.104688</td><td style=\"text-align: right;\">0.281285</td><td style=\"text-align: right;\">0.0791211</td><td style=\"text-align: right;\">             17286</td><td style=\"text-align: right;\">                 0.052838</td></tr>\n",
       "<tr><td>GBM_5_AutoML_20200317_032455                       </td><td style=\"text-align: right;\">0.939442</td><td style=\"text-align: right;\"> 0.233594</td><td style=\"text-align: right;\">0.740423</td><td style=\"text-align: right;\">              0.107083</td><td style=\"text-align: right;\">0.282254</td><td style=\"text-align: right;\">0.0796675</td><td style=\"text-align: right;\">             24563</td><td style=\"text-align: right;\">                 0.031579</td></tr>\n",
       "<tr><td>DRF_1_AutoML_20200317_032455                       </td><td style=\"text-align: right;\">0.939355</td><td style=\"text-align: right;\"> 0.253382</td><td style=\"text-align: right;\">0.743092</td><td style=\"text-align: right;\">              0.104143</td><td style=\"text-align: right;\">0.285449</td><td style=\"text-align: right;\">0.0814809</td><td style=\"text-align: right;\">             10302</td><td style=\"text-align: right;\">                 0.017074</td></tr>\n",
       "<tr><td>GBM_2_AutoML_20200317_032455                       </td><td style=\"text-align: right;\">0.939255</td><td style=\"text-align: right;\"> 0.23332 </td><td style=\"text-align: right;\">0.740807</td><td style=\"text-align: right;\">              0.105651</td><td style=\"text-align: right;\">0.282025</td><td style=\"text-align: right;\">0.0795383</td><td style=\"text-align: right;\">             15203</td><td style=\"text-align: right;\">                 0.030898</td></tr>\n",
       "<tr><td>GBM_1_AutoML_20200317_032455                       </td><td style=\"text-align: right;\">0.939098</td><td style=\"text-align: right;\"> 0.233678</td><td style=\"text-align: right;\">0.741001</td><td style=\"text-align: right;\">              0.105732</td><td style=\"text-align: right;\">0.282133</td><td style=\"text-align: right;\">0.0795991</td><td style=\"text-align: right;\">             13241</td><td style=\"text-align: right;\">                 0.028392</td></tr>\n",
       "<tr><td>XGBoost_3_AutoML_20200317_032455                   </td><td style=\"text-align: right;\">0.937712</td><td style=\"text-align: right;\"> 0.23509 </td><td style=\"text-align: right;\">0.732106</td><td style=\"text-align: right;\">              0.10476 </td><td style=\"text-align: right;\">0.283414</td><td style=\"text-align: right;\">0.0803235</td><td style=\"text-align: right;\">             13907</td><td style=\"text-align: right;\">                 0.003649</td></tr>\n",
       "<tr><td>XGBoost_grid__1_AutoML_20200317_032455_model_4     </td><td style=\"text-align: right;\">0.937632</td><td style=\"text-align: right;\"> 0.235241</td><td style=\"text-align: right;\">0.730836</td><td style=\"text-align: right;\">              0.105441</td><td style=\"text-align: right;\">0.283561</td><td style=\"text-align: right;\">0.0804068</td><td style=\"text-align: right;\">             10726</td><td style=\"text-align: right;\">                 0.002914</td></tr>\n",
       "<tr><td>XGBoost_grid__1_AutoML_20200317_032455_model_1     </td><td style=\"text-align: right;\">0.937555</td><td style=\"text-align: right;\"> 0.235241</td><td style=\"text-align: right;\">0.732047</td><td style=\"text-align: right;\">              0.105057</td><td style=\"text-align: right;\">0.283548</td><td style=\"text-align: right;\">0.0803995</td><td style=\"text-align: right;\">             28341</td><td style=\"text-align: right;\">                 0.004263</td></tr>\n",
       "<tr><td>XGBoost_grid__1_AutoML_20200317_032455_model_3     </td><td style=\"text-align: right;\">0.937066</td><td style=\"text-align: right;\"> 0.236114</td><td style=\"text-align: right;\">0.729892</td><td style=\"text-align: right;\">              0.105742</td><td style=\"text-align: right;\">0.284089</td><td style=\"text-align: right;\">0.0807066</td><td style=\"text-align: right;\">             11782</td><td style=\"text-align: right;\">                 0.003354</td></tr>\n",
       "<tr><td>GBM_grid__1_AutoML_20200317_032455_model_2         </td><td style=\"text-align: right;\">0.93689 </td><td style=\"text-align: right;\"> 0.238089</td><td style=\"text-align: right;\">0.726895</td><td style=\"text-align: right;\">              0.105662</td><td style=\"text-align: right;\">0.28458 </td><td style=\"text-align: right;\">0.0809858</td><td style=\"text-align: right;\">              3524</td><td style=\"text-align: right;\">                 0.012033</td></tr>\n",
       "<tr><td>XRT_1_AutoML_20200317_032455                       </td><td style=\"text-align: right;\">0.93044 </td><td style=\"text-align: right;\"> 0.295933</td><td style=\"text-align: right;\">0.731408</td><td style=\"text-align: right;\">              0.104309</td><td style=\"text-align: right;\">0.299447</td><td style=\"text-align: right;\">0.0896684</td><td style=\"text-align: right;\">             11364</td><td style=\"text-align: right;\">                 0.017905</td></tr>\n",
       "<tr><td>DeepLearning_1_AutoML_20200317_032455              </td><td style=\"text-align: right;\">0.928752</td><td style=\"text-align: right;\"> 0.254008</td><td style=\"text-align: right;\">0.683745</td><td style=\"text-align: right;\">              0.1157  </td><td style=\"text-align: right;\">0.291932</td><td style=\"text-align: right;\">0.0852241</td><td style=\"text-align: right;\">              5704</td><td style=\"text-align: right;\">                 0.002965</td></tr>\n",
       "<tr><td>DeepLearning_grid__1_AutoML_20200317_032455_model_1</td><td style=\"text-align: right;\">0.926264</td><td style=\"text-align: right;\"> 0.268529</td><td style=\"text-align: right;\">0.664372</td><td style=\"text-align: right;\">              0.111366</td><td style=\"text-align: right;\">0.299003</td><td style=\"text-align: right;\">0.089403 </td><td style=\"text-align: right;\">             40293</td><td style=\"text-align: right;\">                 0.010001</td></tr>\n",
       "<tr><td>DeepLearning_grid__2_AutoML_20200317_032455_model_1</td><td style=\"text-align: right;\">0.925983</td><td style=\"text-align: right;\"> 0.260549</td><td style=\"text-align: right;\">0.676621</td><td style=\"text-align: right;\">              0.120745</td><td style=\"text-align: right;\">0.297253</td><td style=\"text-align: right;\">0.0883593</td><td style=\"text-align: right;\">             65737</td><td style=\"text-align: right;\">                 0.022865</td></tr>\n",
       "<tr><td>GLM_1_AutoML_20200317_032455                       </td><td style=\"text-align: right;\">0.898475</td><td style=\"text-align: right;\"> 0.355041</td><td style=\"text-align: right;\">0.618739</td><td style=\"text-align: right;\">              0.126849</td><td style=\"text-align: right;\">0.331287</td><td style=\"text-align: right;\">0.109751 </td><td style=\"text-align: right;\">              1973</td><td style=\"text-align: right;\">                 0.000893</td></tr>\n",
       "</tbody>\n",
       "</table>"
      ]
     },
     "metadata": {},
     "output_type": "display_data"
    },
    {
     "data": {
      "text/plain": []
     },
     "execution_count": 32,
     "metadata": {},
     "output_type": "execute_result"
    }
   ],
   "source": [
    "lb.head(rows=lb.nrows)\n"
   ]
  },
  {
   "cell_type": "code",
   "execution_count": null,
   "metadata": {},
   "outputs": [],
   "source": []
  }
 ],
 "metadata": {
  "kernelspec": {
   "display_name": "Python (captstone)",
   "language": "python",
   "name": "capstone"
  },
  "language_info": {
   "codemirror_mode": {
    "name": "ipython",
    "version": 3
   },
   "file_extension": ".py",
   "mimetype": "text/x-python",
   "name": "python",
   "nbconvert_exporter": "python",
   "pygments_lexer": "ipython3",
   "version": "3.7.5"
  },
  "toc": {
   "base_numbering": 1,
   "nav_menu": {},
   "number_sections": true,
   "sideBar": true,
   "skip_h1_title": false,
   "title_cell": "Table of Contents",
   "title_sidebar": "Contents",
   "toc_cell": false,
   "toc_position": {},
   "toc_section_display": true,
   "toc_window_display": true
  }
 },
 "nbformat": 4,
 "nbformat_minor": 2
}
